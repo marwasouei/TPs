{
 "cells": [
  {
   "cell_type": "code",
   "execution_count": 1,
   "metadata": {},
   "outputs": [],
   "source": [
    "import time"
   ]
  },
  {
   "cell_type": "code",
   "execution_count": 2,
   "metadata": {},
   "outputs": [],
   "source": [
    "from selenium import webdriver\n",
    "import bs4 as bs \n",
    "import pandas as pd\n",
    "import urllib\n",
    "import urllib.request"
   ]
  },
  {
   "cell_type": "code",
   "execution_count": 3,
   "metadata": {},
   "outputs": [],
   "source": [
    "url='https://www.mosaiquefm.net/fr/actualites/actualite-musique-tunisie-monde/9'"
   ]
  },
  {
   "cell_type": "code",
   "execution_count": 4,
   "metadata": {},
   "outputs": [],
   "source": [
    "page=urllib.request.urlopen(url)"
   ]
  },
  {
   "cell_type": "code",
   "execution_count": 5,
   "metadata": {},
   "outputs": [],
   "source": [
    "soup=bs.BeautifulSoup(page,'html.parser')"
   ]
  },
  {
   "cell_type": "code",
   "execution_count": 6,
   "metadata": {},
   "outputs": [],
   "source": [
    "urls=[]\n",
    "for i in range(1,12):\n",
    "    urls.append('https://www.mosaiquefm.net/fr/actualites/actualite-musique-tunisie-monde/9/'+str(i))\n"
   ]
  },
  {
   "cell_type": "code",
   "execution_count": 7,
   "metadata": {},
   "outputs": [
    {
     "data": {
      "text/plain": [
       "['https://www.mosaiquefm.net/fr/actualites/actualite-musique-tunisie-monde/9/1',\n",
       " 'https://www.mosaiquefm.net/fr/actualites/actualite-musique-tunisie-monde/9/2',\n",
       " 'https://www.mosaiquefm.net/fr/actualites/actualite-musique-tunisie-monde/9/3',\n",
       " 'https://www.mosaiquefm.net/fr/actualites/actualite-musique-tunisie-monde/9/4',\n",
       " 'https://www.mosaiquefm.net/fr/actualites/actualite-musique-tunisie-monde/9/5',\n",
       " 'https://www.mosaiquefm.net/fr/actualites/actualite-musique-tunisie-monde/9/6',\n",
       " 'https://www.mosaiquefm.net/fr/actualites/actualite-musique-tunisie-monde/9/7',\n",
       " 'https://www.mosaiquefm.net/fr/actualites/actualite-musique-tunisie-monde/9/8',\n",
       " 'https://www.mosaiquefm.net/fr/actualites/actualite-musique-tunisie-monde/9/9',\n",
       " 'https://www.mosaiquefm.net/fr/actualites/actualite-musique-tunisie-monde/9/10',\n",
       " 'https://www.mosaiquefm.net/fr/actualites/actualite-musique-tunisie-monde/9/11']"
      ]
     },
     "execution_count": 7,
     "metadata": {},
     "output_type": "execute_result"
    }
   ],
   "source": [
    "urls"
   ]
  },
  {
   "cell_type": "code",
   "execution_count": 8,
   "metadata": {},
   "outputs": [
    {
     "name": "stdout",
     "output_type": "stream",
     "text": [
      "https://www.mosaiquefm.net/fr/actualites/actualite-musique-tunisie-monde/9/1\n",
      "/fr/actualite-musique-tunisie-monde/663802/mariah-carey-numero-1-de-la-musique-sur-quatre-decennies-differentes\n",
      "/fr/actualite-musique-tunisie-monde/663802/mariah-carey-numero-1-de-la-musique-sur-quatre-decennies-differentes\n",
      "/fr/actualite-musique-tunisie-monde/658948/mehdi-ayachi-remporte-la-5e-edition-de-the-voice\n",
      "/fr/actualite-musique-tunisie-monde/658948/mehdi-ayachi-remporte-la-5e-edition-de-the-voice\n",
      "/fr/actualite-musique-tunisie-monde/658118/mehdi-ayachi-a-milite-pour-chanter-tunisien-a-la-finale-de-the-voice\n",
      "/fr/actualite-musique-tunisie-monde/658118/mehdi-ayachi-a-milite-pour-chanter-tunisien-a-la-finale-de-the-voice\n",
      "/fr/actualite-musique-tunisie-monde/655348/decouvrez-alech-de-balti-et-hammouda\n",
      "/fr/actualite-musique-tunisie-monde/655348/decouvrez-alech-de-balti-et-hammouda\n",
      "/fr/actualite-musique-tunisie-monde/654113/youtube-interdit-les-attaques-personnelles-et-le-harcelement\n",
      "/fr/actualite-musique-tunisie-monde/654113/youtube-interdit-les-attaques-personnelles-et-le-harcelement\n",
      "/fr/actualite-musique-tunisie-monde/650253/le-catalogue-de-jay-z-de-retour-sur-spotify-pour-ses-50-ans\n",
      "/fr/actualite-musique-tunisie-monde/650253/le-catalogue-de-jay-z-de-retour-sur-spotify-pour-ses-50-ans\n",
      "/fr/actualite-musique-tunisie-monde/648813/drame-de-amdoun-le-responsable-civil-du-bus-place-en-garde-a-vue\n",
      "/fr/actualite-musique-tunisie-monde/648813/drame-de-amdoun-le-responsable-civil-du-bus-place-en-garde-a-vue\n",
      "/fr/actualite-musique-tunisie-monde/641934/les-principales-nominations-pour-les-grammys-2020\n",
      "/fr/actualite-musique-tunisie-monde/641934/les-principales-nominations-pour-les-grammys-2020\n",
      "/fr/actualite-musique-tunisie-monde/640224/plus-de-5-mille-touristes-participent-aux-dunes-electroniques\n",
      "/fr/actualite-musique-tunisie-monde/640224/plus-de-5-mille-touristes-participent-aux-dunes-electroniques\n",
      "/fr/actualite-musique-tunisie-monde/637189/la-billetterie-bat-son-plein-pour-les-dunes-electroniques\n",
      "/fr/actualite-musique-tunisie-monde/637189/la-billetterie-bat-son-plein-pour-les-dunes-electroniques\n",
      "https://www.mosaiquefm.net/fr/actualites/actualite-musique-tunisie-monde/9/2\n",
      "/fr/actualite-musique-tunisie-monde/634064/le-clip-ensey-de-saad-lemjard-et-mohamed-ramadan-retire-de-youtube\n",
      "/fr/actualite-musique-tunisie-monde/634064/le-clip-ensey-de-saad-lemjard-et-mohamed-ramadan-retire-de-youtube\n",
      "/fr/actualite-musique-tunisie-monde/620309/les-billets-pour-celine-dion-aux-vieilles-charrues-vendus-en-9-minutes\n",
      "/fr/actualite-musique-tunisie-monde/620309/les-billets-pour-celine-dion-aux-vieilles-charrues-vendus-en-9-minutes\n",
      "/fr/actualite-musique-tunisie-monde/615089/adele-et-beyonce-dans-un-titre-de-onerepublic\n",
      "/fr/actualite-musique-tunisie-monde/615089/adele-et-beyonce-dans-un-titre-de-onerepublic\n",
      "/fr/actualite-musique-tunisie-monde/595069/le-compositeur-de-l-ombre-de-david-guetta-fred-rister-n-est-plus\n",
      "/fr/actualite-musique-tunisie-monde/595069/le-compositeur-de-l-ombre-de-david-guetta-fred-rister-n-est-plus\n",
      "/fr/actualite-musique-tunisie-monde/593404/fic-tout-sur-les-deux-concerts-de-nassif-zeitoun\n",
      "/fr/actualite-musique-tunisie-monde/593404/fic-tout-sur-les-deux-concerts-de-nassif-zeitoun\n",
      "/fr/actualite-musique-tunisie-monde/591889/tabarka-le-concert-de-saber-rebai-interrompu-a-cause-des-intemperies\n",
      "/fr/actualite-musique-tunisie-monde/591889/tabarka-le-concert-de-saber-rebai-interrompu-a-cause-des-intemperies\n",
      "/fr/actualite-musique-tunisie-monde/590859/carole-samaha-illumine-l-amphitheatre-de-carthage\n",
      "/fr/actualite-musique-tunisie-monde/590859/carole-samaha-illumine-l-amphitheatre-de-carthage\n",
      "/fr/actualite-musique-tunisie-monde/589664/carole-samaha-devoile-les-grandes-lignes-de-son-spectacle-a-carthage\n",
      "/fr/actualite-musique-tunisie-monde/589664/carole-samaha-devoile-les-grandes-lignes-de-son-spectacle-a-carthage\n",
      "/fr/actualite-musique-tunisie-monde/585814/nouveau-programme-du-festival-international-de-hammamet\n",
      "/fr/actualite-musique-tunisie-monde/585814/nouveau-programme-du-festival-international-de-hammamet\n",
      "/fr/actualite-musique-tunisie-monde/585774/musique-des-stars-se-mobilisent-contre-la-pauvrete\n",
      "/fr/actualite-musique-tunisie-monde/585774/musique-des-stars-se-mobilisent-contre-la-pauvrete\n",
      "https://www.mosaiquefm.net/fr/actualites/actualite-musique-tunisie-monde/9/3\n",
      "/fr/actualite-musique-tunisie-monde/583364/tenue-d-une-reunion-sur-l-organisation-des-funerailles-de-bce\n",
      "/fr/actualite-musique-tunisie-monde/583364/tenue-d-une-reunion-sur-l-organisation-des-funerailles-de-bce\n",
      "/fr/actualite-musique-tunisie-monde/581984/nassif-zeitoun-dans-corniche-ce-jeudi\n",
      "/fr/actualite-musique-tunisie-monde/581984/nassif-zeitoun-dans-corniche-ce-jeudi\n",
      "/fr/actualite-musique-tunisie-monde/576674/elyssa-et-houcine-eddik-au-festival-international-de-monastir\n",
      "/fr/actualite-musique-tunisie-monde/576674/elyssa-et-houcine-eddik-au-festival-international-de-monastir\n",
      "/fr/actualite-musique-tunisie-monde/574009/stevie-wonder-annonce-en-plein-concert-qu-il-subira-une-greffe-de-rein\n",
      "/fr/actualite-musique-tunisie-monde/574009/stevie-wonder-annonce-en-plein-concert-qu-il-subira-une-greffe-de-rein\n",
      "/fr/actualite-musique-tunisie-monde/572079/mira-sort-son-premier-album\n",
      "/fr/actualite-musique-tunisie-monde/572079/mira-sort-son-premier-album\n",
      "/fr/actualite-musique-tunisie-monde/565206/fete-de-la-musique-a-la-marsa\n",
      "/fr/actualite-musique-tunisie-monde/565206/fete-de-la-musique-a-la-marsa\n",
      "/fr/actualite-musique-tunisie-monde/565001/les-dunes-electroniques-sont-de-retour\n",
      "/fr/actualite-musique-tunisie-monde/565001/les-dunes-electroniques-sont-de-retour\n",
      "/fr/actualite-musique-tunisie-monde/559271/lancement-de-l-inscription-en-ligne-aux-centres-de-formation\n",
      "/fr/actualite-musique-tunisie-monde/559271/lancement-de-l-inscription-en-ligne-aux-centres-de-formation\n",
      "/fr/actualite-musique-tunisie-monde/556091/bye-bye-la-nouvelle-chanson-de-saber-rebai\n",
      "/fr/actualite-musique-tunisie-monde/556091/bye-bye-la-nouvelle-chanson-de-saber-rebai\n",
      "/fr/actualite-musique-tunisie-monde/552166/soufiane-ben-farhat-presente-les-annees-folles-de-tunis\n",
      "/fr/actualite-musique-tunisie-monde/552166/soufiane-ben-farhat-presente-les-annees-folles-de-tunis\n",
      "https://www.mosaiquefm.net/fr/actualites/actualite-musique-tunisie-monde/9/4\n",
      "/fr/actualite-musique-tunisie-monde/552091/concert-de-solidarite-avec-l-artiste-ridha-diki\n",
      "/fr/actualite-musique-tunisie-monde/552091/concert-de-solidarite-avec-l-artiste-ridha-diki\n",
      "/fr/actualite-musique-tunisie-monde/549101/r-trabelsi-40-ans-apres-ils-sont-de-retour\n",
      "/fr/actualite-musique-tunisie-monde/549101/r-trabelsi-40-ans-apres-ils-sont-de-retour\n",
      "/fr/actualite-musique-tunisie-monde/541946/salah-el-farzit-et-hedi-habbouba-je-t-aime-moi-non-plus\n",
      "/fr/actualite-musique-tunisie-monde/541946/salah-el-farzit-et-hedi-habbouba-je-t-aime-moi-non-plus\n",
      "/fr/actualite-musique-tunisie-monde/535501/decouvrez-la-nouvelle-chanson-de-george-wassouf\n",
      "/fr/actualite-musique-tunisie-monde/535501/decouvrez-la-nouvelle-chanson-de-george-wassouf\n",
      "/fr/actualite-musique-tunisie-monde/534246/le-chanteur-de-rock-dick-rivers-est-mort\n",
      "/fr/actualite-musique-tunisie-monde/534246/le-chanteur-de-rock-dick-rivers-est-mort\n",
      "/fr/actualite-musique-tunisie-monde/529876/jazz-in-tun-3-estelle-perrault-a-l-agora\n",
      "/fr/actualite-musique-tunisie-monde/529876/jazz-in-tun-3-estelle-perrault-a-l-agora\n",
      "/fr/actualite-musique-tunisie-monde/528186/decouvrez-le-nouvel-opus-de-yosra-mahnouch\n",
      "/fr/actualite-musique-tunisie-monde/528186/decouvrez-le-nouvel-opus-de-yosra-mahnouch\n",
      "/fr/actualite-musique-tunisie-monde/524996/the-voice-l-aventure-continue-pour-marouen\n",
      "/fr/actualite-musique-tunisie-monde/524996/the-voice-l-aventure-continue-pour-marouen\n",
      "/fr/actualite-musique-tunisie-monde/513201/sanremo-giovani-world-tour-en-premiere-en-tunisie\n",
      "/fr/actualite-musique-tunisie-monde/513201/sanremo-giovani-world-tour-en-premiere-en-tunisie\n",
      "/fr/actualite-musique-tunisie-monde/512541/alicia-keys-et-son-fiston-font-leur-show\n",
      "/fr/actualite-musique-tunisie-monde/512541/alicia-keys-et-son-fiston-font-leur-show\n",
      "https://www.mosaiquefm.net/fr/actualites/actualite-musique-tunisie-monde/9/5\n",
      "/fr/actualite-musique-tunisie-monde/510126/syndicat-des-musiciens-mohsen-cherif-sur-la-black-list\n",
      "/fr/actualite-musique-tunisie-monde/510126/syndicat-des-musiciens-mohsen-cherif-sur-la-black-list\n",
      "/fr/actualite-musique-tunisie-monde/510106/du-tango-a-la-bonbonniere\n",
      "/fr/actualite-musique-tunisie-monde/510106/du-tango-a-la-bonbonniere\n",
      "/fr/actualite-musique-tunisie-monde/509366/qui-est-marouen-candidat-de-the-voice-8\n",
      "/fr/actualite-musique-tunisie-monde/509366/qui-est-marouen-candidat-de-the-voice-8\n",
      "/fr/actualite-musique-tunisie-monde/500379/l-epoustouflante-prestation-de-pink-au-brit-awards\n",
      "/fr/actualite-musique-tunisie-monde/500379/l-epoustouflante-prestation-de-pink-au-brit-awards\n",
      "/fr/actualite-musique-tunisie-monde/499747/bonne-nouvelle-pour-les-fans-de-guns-n-roses\n",
      "/fr/actualite-musique-tunisie-monde/499747/bonne-nouvelle-pour-les-fans-de-guns-n-roses\n",
      "/fr/actualite-musique-tunisie-monde/497403/damso-au-public-tunisien-ecoutez-mes-albums-j-arrive-bientot\n",
      "/fr/actualite-musique-tunisie-monde/497403/damso-au-public-tunisien-ecoutez-mes-albums-j-arrive-bientot\n",
      "/fr/actualite-musique-tunisie-monde/488983/le-rap-fete-ses-40-ans\n",
      "/fr/actualite-musique-tunisie-monde/488983/le-rap-fete-ses-40-ans\n",
      "/fr/actualite-musique-tunisie-monde/488478/dima-zahi-de-kafon-depasse-le-million-de-vues\n",
      "/fr/actualite-musique-tunisie-monde/488478/dima-zahi-de-kafon-depasse-le-million-de-vues\n",
      "/fr/actualite-musique-tunisie-monde/476036/un-nouveau-duo-entre-mc-gaza-et-klay-bbj\n",
      "/fr/actualite-musique-tunisie-monde/476036/un-nouveau-duo-entre-mc-gaza-et-klay-bbj\n",
      "/fr/actualite-musique-tunisie-monde/458606/chirine-lajmi-on-a-mal-interprete-mon-clip\n",
      "/fr/actualite-musique-tunisie-monde/458606/chirine-lajmi-on-a-mal-interprete-mon-clip\n",
      "https://www.mosaiquefm.net/fr/actualites/actualite-musique-tunisie-monde/9/6\n"
     ]
    },
    {
     "name": "stdout",
     "output_type": "stream",
     "text": [
      "/fr/actualite-musique-tunisie-monde/457166/la-video-d-ariana-grande-thank-u-next-enchaine-les-records\n",
      "/fr/actualite-musique-tunisie-monde/457166/la-video-d-ariana-grande-thank-u-next-enchaine-les-records\n",
      "/fr/actualite-musique-tunisie-monde/444187/que-vas-tu-faire-le-nouveau-single-de-lotfi-bouchnak-et-mc-gaza\n",
      "/fr/actualite-musique-tunisie-monde/444187/que-vas-tu-faire-le-nouveau-single-de-lotfi-bouchnak-et-mc-gaza\n",
      "/fr/actualite-musique-tunisie-monde/432864/noujoum-hassen-zargouni-presente-rouhanyet-mystic-fest\n",
      "/fr/actualite-musique-tunisie-monde/432864/noujoum-hassen-zargouni-presente-rouhanyet-mystic-fest\n",
      "/fr/actualite-musique-tunisie-monde/409649/les-jmc-2018-rendront-hommage-a-hssan-dahmani\n",
      "/fr/actualite-musique-tunisie-monde/409649/les-jmc-2018-rendront-hommage-a-hssan-dahmani\n",
      "/fr/actualite-musique-tunisie-monde/407150/algerie-deces-a-paris-du-chanteur-kabyle-djamel-allam\n",
      "/fr/actualite-musique-tunisie-monde/407150/algerie-deces-a-paris-du-chanteur-kabyle-djamel-allam\n",
      "/fr/actualite-musique-tunisie-monde/405209/master-sina-free-samara\n",
      "/fr/actualite-musique-tunisie-monde/405209/master-sina-free-samara\n",
      "/fr/actualite-musique-tunisie-monde/404510/alo-sabny-le-nouveau-titre-de-haifa-wahbee\n",
      "/fr/actualite-musique-tunisie-monde/404510/alo-sabny-le-nouveau-titre-de-haifa-wahbee\n",
      "/fr/actualite-musique-tunisie-monde/399685/buika-annule-son-concert-au-festival-du-jazz-a-tabarka\n",
      "/fr/actualite-musique-tunisie-monde/399685/buika-annule-son-concert-au-festival-du-jazz-a-tabarka\n",
      "/fr/actualite-musique-tunisie-monde/394745/disque-le-plus-vendu-les-eagles-repassent-devant-michael-jackson\n",
      "/fr/actualite-musique-tunisie-monde/394745/disque-le-plus-vendu-les-eagles-repassent-devant-michael-jackson\n",
      "/fr/actualite-musique-tunisie-monde/392500/sherine-abdel-wahab-collaborera-avec-son-mari-pour-son-nouvel-album\n",
      "/fr/actualite-musique-tunisie-monde/392500/sherine-abdel-wahab-collaborera-avec-son-mari-pour-son-nouvel-album\n",
      "https://www.mosaiquefm.net/fr/actualites/actualite-musique-tunisie-monde/9/7\n",
      "/fr/actualite-musique-tunisie-monde/391652/cheb-khaled-s-est-produit-a-djerba-apres-une-absence-de-22-ans\n",
      "/fr/actualite-musique-tunisie-monde/391652/cheb-khaled-s-est-produit-a-djerba-apres-une-absence-de-22-ans\n",
      "/fr/actualite-musique-tunisie-monde/386614/forbes-feyrouz-la-plus-grande-star-arabe-de-tous-les-temps\n",
      "/fr/actualite-musique-tunisie-monde/386614/forbes-feyrouz-la-plus-grande-star-arabe-de-tous-les-temps\n",
      "/fr/actualite-musique-tunisie-monde/386120/les-policiers-n-assureront-pas-la-securite-lors-du-concert-de-klay-bbj\n",
      "/fr/actualite-musique-tunisie-monde/386120/les-policiers-n-assureront-pas-la-securite-lors-du-concert-de-klay-bbj\n",
      "/fr/actualite-musique-tunisie-monde/383806/willy-william-une-soiree-au-rythme-endiable\n",
      "/fr/actualite-musique-tunisie-monde/383806/willy-william-une-soiree-au-rythme-endiable\n",
      "/fr/actualite-musique-tunisie-monde/383736/mashrou-leila-en-tunisie-le-28-juillet\n",
      "/fr/actualite-musique-tunisie-monde/383736/mashrou-leila-en-tunisie-le-28-juillet\n",
      "/fr/actualite-musique-tunisie-monde/382674/les-spice-girls-de-retour\n",
      "/fr/actualite-musique-tunisie-monde/382674/les-spice-girls-de-retour\n",
      "/fr/actualite-musique-tunisie-monde/381844/la-jeune-chanteuse-nour-arjoun-presente-sa-chanson-i-can\n",
      "/fr/actualite-musique-tunisie-monde/381844/la-jeune-chanteuse-nour-arjoun-presente-sa-chanson-i-can\n",
      "/fr/actualite-musique-tunisie-monde/379755/un-nouveau-clip-de-yosra-mahnouch-pour-promouvoir-le-tourisme\n",
      "/fr/actualite-musique-tunisie-monde/379755/un-nouveau-clip-de-yosra-mahnouch-pour-promouvoir-le-tourisme\n",
      "/fr/actualite-musique-tunisie-monde/377812/hamouda-interdit-de-monter-sur-scene-avec-balti-la-reaction\n",
      "/fr/actualite-musique-tunisie-monde/377812/hamouda-interdit-de-monter-sur-scene-avec-balti-la-reaction\n",
      "/fr/actualite-musique-tunisie-monde/376084/amina-fakhet-partagera-la-scene-de-carthage-avec-sa-fille\n",
      "/fr/actualite-musique-tunisie-monde/376084/amina-fakhet-partagera-la-scene-de-carthage-avec-sa-fille\n",
      "https://www.mosaiquefm.net/fr/actualites/actualite-musique-tunisie-monde/9/8\n",
      "/fr/actualite-musique-tunisie-monde/375939/hatem-karoui-presente-my-name-is-putin\n",
      "/fr/actualite-musique-tunisie-monde/375939/hatem-karoui-presente-my-name-is-putin\n",
      "/fr/actualite-musique-tunisie-monde/375894/record-d-ecoutes-en-streaming-pour-l-album-scorpion-de-drake\n",
      "/fr/actualite-musique-tunisie-monde/375894/record-d-ecoutes-en-streaming-pour-l-album-scorpion-de-drake\n",
      "/fr/actualite-musique-tunisie-monde/370049/les-noms-des-stars-presentes-au-festival-international-de-carthage\n",
      "/fr/actualite-musique-tunisie-monde/370049/les-noms-des-stars-presentes-au-festival-international-de-carthage\n",
      "/fr/actualite-musique-tunisie-monde/369277/michael-jackson-fait-une-reapparition-posthume-sur-l-album-de-drake\n",
      "/fr/actualite-musique-tunisie-monde/369277/michael-jackson-fait-une-reapparition-posthume-sur-l-album-de-drake\n",
      "/fr/actualite-musique-tunisie-monde/361054/touensa-jew-la-reprise-de-bella-ciao-qui-fait-le-tour-du-web\n",
      "/fr/actualite-musique-tunisie-monde/361054/touensa-jew-la-reprise-de-bella-ciao-qui-fait-le-tour-du-web\n",
      "/fr/actualite-musique-tunisie-monde/359089/le-mystere-sur-la-mort-de-dj-avicii-persiste\n",
      "/fr/actualite-musique-tunisie-monde/359089/le-mystere-sur-la-mort-de-dj-avicii-persiste\n",
      "/fr/actualite-musique-tunisie-monde/358579/orchestre-symphonique-tunisien-hafedh-makni-jette-l-eponge\n",
      "/fr/actualite-musique-tunisie-monde/358579/orchestre-symphonique-tunisien-hafedh-makni-jette-l-eponge\n",
      "/fr/actualite-musique-tunisie-monde/352884/le-groupe-attarab-met-la-musique-orientale-a-l-honneur-a-dar-hussein\n",
      "/fr/actualite-musique-tunisie-monde/352884/le-groupe-attarab-met-la-musique-orientale-a-l-honneur-a-dar-hussein\n",
      "/fr/actualite-musique-tunisie-monde/348624/haica-al-insen-tv-ecope-d-une-amende-de-20-mille-dinars\n",
      "/fr/actualite-musique-tunisie-monde/348624/haica-al-insen-tv-ecope-d-une-amende-de-20-mille-dinars\n",
      "/fr/actualite-musique-tunisie-monde/342661/the-voice-le-vote-n-a-pas-permis-a-hela-melki-de-gagner\n",
      "/fr/actualite-musique-tunisie-monde/342661/the-voice-le-vote-n-a-pas-permis-a-hela-melki-de-gagner\n",
      "https://www.mosaiquefm.net/fr/actualites/actualite-musique-tunisie-monde/9/9\n",
      "/fr/actualite-musique-tunisie-monde/340691/l-arfaoui-recoit-le-prix-de-la-meilleure-chanteuse-au-moyen-orient\n",
      "/fr/actualite-musique-tunisie-monde/340691/l-arfaoui-recoit-le-prix-de-la-meilleure-chanteuse-au-moyen-orient\n",
      "/fr/actualite-musique-tunisie-monde/337581/decouvrez-la-nouvelle-chanson-de-celine-dion\n",
      "/fr/actualite-musique-tunisie-monde/337581/decouvrez-la-nouvelle-chanson-de-celine-dion\n",
      "/fr/actualite-musique-tunisie-monde/332769/abba-le-legendaire-groupe-pop-suedois-reuni-pour-deux-nouveaux-titres\n",
      "/fr/actualite-musique-tunisie-monde/332769/abba-le-legendaire-groupe-pop-suedois-reuni-pour-deux-nouveaux-titres\n",
      "/fr/actualite-musique-tunisie-monde/329679/nothing-compares-2-u-la-version-originale-chantee-par-prince-devoilee\n",
      "/fr/actualite-musique-tunisie-monde/329679/nothing-compares-2-u-la-version-originale-chantee-par-prince-devoilee\n",
      "/fr/actualite-musique-tunisie-monde/327014/hanini-alik-nouvelle-chanson-de-si-lemhaf\n",
      "/fr/actualite-musique-tunisie-monde/327014/hanini-alik-nouvelle-chanson-de-si-lemhaf\n",
      "/fr/actualite-musique-tunisie-monde/309836/sicca-jazz-une-2eme-soiree-reussie-malgre-les-intemperies\n",
      "/fr/actualite-musique-tunisie-monde/309836/sicca-jazz-une-2eme-soiree-reussie-malgre-les-intemperies\n",
      "/fr/actualite-musique-tunisie-monde/303418/balti-dans-un-duo-avec-le-chanteur-de-mi-gna\n",
      "/fr/actualite-musique-tunisie-monde/303418/balti-dans-un-duo-avec-le-chanteur-de-mi-gna\n",
      "/fr/actualite-musique-tunisie-monde/303013/folla-el-djazairia-arrete-la-chanson\n",
      "/fr/actualite-musique-tunisie-monde/303013/folla-el-djazairia-arrete-la-chanson\n",
      "/fr/actualite-musique-tunisie-monde/299813/apres-la-version-libanaise-ya-lili-dans-une-version-armenienne\n",
      "/fr/actualite-musique-tunisie-monde/299813/apres-la-version-libanaise-ya-lili-dans-une-version-armenienne\n",
      "/fr/actualite-musique-tunisie-monde/299183/sicca-jazz-2018-du-15-au-21-mars\n",
      "/fr/actualite-musique-tunisie-monde/299183/sicca-jazz-2018-du-15-au-21-mars\n",
      "https://www.mosaiquefm.net/fr/actualites/actualite-musique-tunisie-monde/9/10\n",
      "/fr/actualite-musique-tunisie-monde/298543/sherine-condamnee-a-6-mois-de-prison-pour-s-etre-moque-du-nil\n",
      "/fr/actualite-musique-tunisie-monde/298543/sherine-condamnee-a-6-mois-de-prison-pour-s-etre-moque-du-nil\n",
      "/fr/actualite-musique-tunisie-monde/297788/la-tunisienne-safa-saad-a-la-conquete-de-the-voice\n",
      "/fr/actualite-musique-tunisie-monde/297788/la-tunisienne-safa-saad-a-la-conquete-de-the-voice\n",
      "/fr/actualite-musique-tunisie-monde/296248/des-dons-et-de-la-musique-au-profit-des-familles-de-rahma-et-sourour\n",
      "/fr/actualite-musique-tunisie-monde/296248/des-dons-et-de-la-musique-au-profit-des-familles-de-rahma-et-sourour\n",
      "/fr/actualite-musique-tunisie-monde/296108/decouvrez-un-extrait-de-la-derniere-chanson-de-hassen-doss\n",
      "/fr/actualite-musique-tunisie-monde/296108/decouvrez-un-extrait-de-la-derniere-chanson-de-hassen-doss\n",
      "/fr/actualite-musique-tunisie-monde/292798/drake-distribue-1-million-de-dollars-durant-le-tournage-de-son-clip\n",
      "/fr/actualite-musique-tunisie-monde/292798/drake-distribue-1-million-de-dollars-durant-le-tournage-de-son-clip\n",
      "/fr/actualite-musique-tunisie-monde/287428/the-voice-mennel-se-retire-de-la-competition\n",
      "/fr/actualite-musique-tunisie-monde/287428/the-voice-mennel-se-retire-de-la-competition\n",
      "/fr/actualite-musique-tunisie-monde/286703/michael-jackson-accuse-de-plagiat-et-de-vol-de-chansons\n",
      "/fr/actualite-musique-tunisie-monde/286703/michael-jackson-accuse-de-plagiat-et-de-vol-de-chansons\n",
      "/fr/actualite-musique-tunisie-monde/285943/le-passage-d-une-candidate-a-the-voice-cree-la-polemique\n",
      "/fr/actualite-musique-tunisie-monde/285943/le-passage-d-une-candidate-a-the-voice-cree-la-polemique\n",
      "/fr/actualite-musique-tunisie-monde/284383/the-voice-performance-magique-d-une-participante-d-origine-syrienne\n",
      "/fr/actualite-musique-tunisie-monde/284383/the-voice-performance-magique-d-une-participante-d-origine-syrienne\n",
      "/fr/actualite-musique-tunisie-monde/283988/concert-d-elissa-a-dubai-la-cause-d-un-malaise\n",
      "/fr/actualite-musique-tunisie-monde/283988/concert-d-elissa-a-dubai-la-cause-d-un-malaise\n",
      "https://www.mosaiquefm.net/fr/actualites/actualite-musique-tunisie-monde/9/11\n"
     ]
    },
    {
     "name": "stdout",
     "output_type": "stream",
     "text": [
      "/fr/actualite-musique-tunisie-monde/283783/elissa-s-est-effondree-sur-scene-lors-d-un-concert-a-dubai\n",
      "/fr/actualite-musique-tunisie-monde/283783/elissa-s-est-effondree-sur-scene-lors-d-un-concert-a-dubai\n",
      "/fr/actualite-musique-tunisie-monde/281218/grammy-awards-2018-le-palmares\n",
      "/fr/actualite-musique-tunisie-monde/281218/grammy-awards-2018-le-palmares\n",
      "/fr/actualite-musique-tunisie-monde/280003/les-causes-de-la-mort-de-dolores-o-riordan-de-the-cranberries\n",
      "/fr/actualite-musique-tunisie-monde/280003/les-causes-de-la-mort-de-dolores-o-riordan-de-the-cranberries\n",
      "/fr/actualite-musique-tunisie-monde/276143/maitre-gims-sort-une-reprise-de-mi-gna\n",
      "/fr/actualite-musique-tunisie-monde/276143/maitre-gims-sort-une-reprise-de-mi-gna\n",
      "/fr/actualite-musique-tunisie-monde/273698/dolores-etait-sur-le-point-d-enregistrer-une-reprise-de-zombie\n",
      "/fr/actualite-musique-tunisie-monde/273698/dolores-etait-sur-le-point-d-enregistrer-une-reprise-de-zombie\n",
      "/fr/actualite-musique-tunisie-monde/271888/dalloula-de-kafon-et-ines-sur-mosaiquefm\n",
      "/fr/actualite-musique-tunisie-monde/271888/dalloula-de-kafon-et-ines-sur-mosaiquefm\n",
      "/fr/actualite-musique-tunisie-monde/266623/les-vrais-benefices-de-ya-lili\n",
      "/fr/actualite-musique-tunisie-monde/266623/les-vrais-benefices-de-ya-lili\n",
      "/fr/actualite-musique-tunisie-monde/266608/ghali-le-rappeur-tunisien-s-adresse-a-ses-fans\n",
      "/fr/actualite-musique-tunisie-monde/266608/ghali-le-rappeur-tunisien-s-adresse-a-ses-fans\n",
      "/fr/actualite-musique-tunisie-monde/264538/man-of-the-woods-nouvel-album-de-justin-timberlake\n",
      "/fr/actualite-musique-tunisie-monde/264538/man-of-the-woods-nouvel-album-de-justin-timberlake\n",
      "/fr/actualite-musique-tunisie-monde/263228/cheb-khaled-brandit-le-drapeau-tunisien-aux-emirats\n",
      "/fr/actualite-musique-tunisie-monde/263228/cheb-khaled-brandit-le-drapeau-tunisien-aux-emirats\n"
     ]
    }
   ],
   "source": [
    "docs_url=[]\n",
    "for d in urls:\n",
    "    print(d)\n",
    "    page=urllib.request.urlopen(d)\n",
    "    soup=bs.BeautifulSoup(page,'html.parser')\n",
    "    for cat in soup.findAll('a',href=True):\n",
    "        if 'fr/actualite-musique-tunisie-monde' in cat['href']:\n",
    "            docs_url.append(cat['href'])\n",
    "            print(cat['href'])"
   ]
  },
  {
   "cell_type": "code",
   "execution_count": 9,
   "metadata": {},
   "outputs": [],
   "source": [
    "docs_url=list(set(docs_url))"
   ]
  },
  {
   "cell_type": "code",
   "execution_count": 10,
   "metadata": {},
   "outputs": [
    {
     "data": {
      "text/plain": [
       "110"
      ]
     },
     "execution_count": 10,
     "metadata": {},
     "output_type": "execute_result"
    }
   ],
   "source": [
    "len(docs_url)"
   ]
  },
  {
   "cell_type": "code",
   "execution_count": 16,
   "metadata": {},
   "outputs": [],
   "source": [
    "for i in range(len(docs_url)):\n",
    "    docs_url[i]=\"https://www.mosaiquefm.net\"+docs_url[i]"
   ]
  },
  {
   "cell_type": "code",
   "execution_count": 17,
   "metadata": {},
   "outputs": [
    {
     "data": {
      "text/plain": [
       "['https://www.mosaiquefm.net/fr/actualite-musique-tunisie-monde/512541/alicia-keys-et-son-fiston-font-leur-show',\n",
       " 'https://www.mosaiquefm.net/fr/actualite-musique-tunisie-monde/574009/stevie-wonder-annonce-en-plein-concert-qu-il-subira-une-greffe-de-rein',\n",
       " 'https://www.mosaiquefm.net/fr/actualite-musique-tunisie-monde/497403/damso-au-public-tunisien-ecoutez-mes-albums-j-arrive-bientot',\n",
       " 'https://www.mosaiquefm.net/fr/actualite-musique-tunisie-monde/285943/le-passage-d-une-candidate-a-the-voice-cree-la-polemique',\n",
       " 'https://www.mosaiquefm.net/fr/actualite-musique-tunisie-monde/590859/carole-samaha-illumine-l-amphitheatre-de-carthage',\n",
       " 'https://www.mosaiquefm.net/fr/actualite-musique-tunisie-monde/309836/sicca-jazz-une-2eme-soiree-reussie-malgre-les-intemperies',\n",
       " 'https://www.mosaiquefm.net/fr/actualite-musique-tunisie-monde/641934/les-principales-nominations-pour-les-grammys-2020',\n",
       " 'https://www.mosaiquefm.net/fr/actualite-musique-tunisie-monde/524996/the-voice-l-aventure-continue-pour-marouen',\n",
       " 'https://www.mosaiquefm.net/fr/actualite-musique-tunisie-monde/286703/michael-jackson-accuse-de-plagiat-et-de-vol-de-chansons',\n",
       " 'https://www.mosaiquefm.net/fr/actualite-musique-tunisie-monde/299183/sicca-jazz-2018-du-15-au-21-mars',\n",
       " 'https://www.mosaiquefm.net/fr/actualite-musique-tunisie-monde/499747/bonne-nouvelle-pour-les-fans-de-guns-n-roses',\n",
       " 'https://www.mosaiquefm.net/fr/actualite-musique-tunisie-monde/273698/dolores-etait-sur-le-point-d-enregistrer-une-reprise-de-zombie',\n",
       " 'https://www.mosaiquefm.net/fr/actualite-musique-tunisie-monde/284383/the-voice-performance-magique-d-une-participante-d-origine-syrienne',\n",
       " 'https://www.mosaiquefm.net/fr/actualite-musique-tunisie-monde/559271/lancement-de-l-inscription-en-ligne-aux-centres-de-formation',\n",
       " 'https://www.mosaiquefm.net/fr/actualite-musique-tunisie-monde/296108/decouvrez-un-extrait-de-la-derniere-chanson-de-hassen-doss',\n",
       " 'https://www.mosaiquefm.net/fr/actualite-musique-tunisie-monde/329679/nothing-compares-2-u-la-version-originale-chantee-par-prince-devoilee',\n",
       " 'https://www.mosaiquefm.net/fr/actualite-musique-tunisie-monde/287428/the-voice-mennel-se-retire-de-la-competition',\n",
       " 'https://www.mosaiquefm.net/fr/actualite-musique-tunisie-monde/383736/mashrou-leila-en-tunisie-le-28-juillet',\n",
       " 'https://www.mosaiquefm.net/fr/actualite-musique-tunisie-monde/375894/record-d-ecoutes-en-streaming-pour-l-album-scorpion-de-drake',\n",
       " 'https://www.mosaiquefm.net/fr/actualite-musique-tunisie-monde/663802/mariah-carey-numero-1-de-la-musique-sur-quatre-decennies-differentes',\n",
       " 'https://www.mosaiquefm.net/fr/actualite-musique-tunisie-monde/655348/decouvrez-alech-de-balti-et-hammouda',\n",
       " 'https://www.mosaiquefm.net/fr/actualite-musique-tunisie-monde/510106/du-tango-a-la-bonbonniere',\n",
       " 'https://www.mosaiquefm.net/fr/actualite-musique-tunisie-monde/529876/jazz-in-tun-3-estelle-perrault-a-l-agora',\n",
       " 'https://www.mosaiquefm.net/fr/actualite-musique-tunisie-monde/377812/hamouda-interdit-de-monter-sur-scene-avec-balti-la-reaction',\n",
       " 'https://www.mosaiquefm.net/fr/actualite-musique-tunisie-monde/407150/algerie-deces-a-paris-du-chanteur-kabyle-djamel-allam',\n",
       " 'https://www.mosaiquefm.net/fr/actualite-musique-tunisie-monde/528186/decouvrez-le-nouvel-opus-de-yosra-mahnouch',\n",
       " 'https://www.mosaiquefm.net/fr/actualite-musique-tunisie-monde/299813/apres-la-version-libanaise-ya-lili-dans-une-version-armenienne',\n",
       " 'https://www.mosaiquefm.net/fr/actualite-musique-tunisie-monde/658118/mehdi-ayachi-a-milite-pour-chanter-tunisien-a-la-finale-de-the-voice',\n",
       " 'https://www.mosaiquefm.net/fr/actualite-musique-tunisie-monde/650253/le-catalogue-de-jay-z-de-retour-sur-spotify-pour-ses-50-ans',\n",
       " 'https://www.mosaiquefm.net/fr/actualite-musique-tunisie-monde/281218/grammy-awards-2018-le-palmares',\n",
       " 'https://www.mosaiquefm.net/fr/actualite-musique-tunisie-monde/488478/dima-zahi-de-kafon-depasse-le-million-de-vues',\n",
       " 'https://www.mosaiquefm.net/fr/actualite-musique-tunisie-monde/381844/la-jeune-chanteuse-nour-arjoun-presente-sa-chanson-i-can',\n",
       " 'https://www.mosaiquefm.net/fr/actualite-musique-tunisie-monde/593404/fic-tout-sur-les-deux-concerts-de-nassif-zeitoun',\n",
       " 'https://www.mosaiquefm.net/fr/actualite-musique-tunisie-monde/358579/orchestre-symphonique-tunisien-hafedh-makni-jette-l-eponge',\n",
       " 'https://www.mosaiquefm.net/fr/actualite-musique-tunisie-monde/271888/dalloula-de-kafon-et-ines-sur-mosaiquefm',\n",
       " 'https://www.mosaiquefm.net/fr/actualite-musique-tunisie-monde/565001/les-dunes-electroniques-sont-de-retour',\n",
       " 'https://www.mosaiquefm.net/fr/actualite-musique-tunisie-monde/264538/man-of-the-woods-nouvel-album-de-justin-timberlake',\n",
       " 'https://www.mosaiquefm.net/fr/actualite-musique-tunisie-monde/370049/les-noms-des-stars-presentes-au-festival-international-de-carthage',\n",
       " 'https://www.mosaiquefm.net/fr/actualite-musique-tunisie-monde/392500/sherine-abdel-wahab-collaborera-avec-son-mari-pour-son-nouvel-album',\n",
       " 'https://www.mosaiquefm.net/fr/actualite-musique-tunisie-monde/637189/la-billetterie-bat-son-plein-pour-les-dunes-electroniques',\n",
       " 'https://www.mosaiquefm.net/fr/actualite-musique-tunisie-monde/298543/sherine-condamnee-a-6-mois-de-prison-pour-s-etre-moque-du-nil',\n",
       " 'https://www.mosaiquefm.net/fr/actualite-musique-tunisie-monde/405209/master-sina-free-samara',\n",
       " 'https://www.mosaiquefm.net/fr/actualite-musique-tunisie-monde/376084/amina-fakhet-partagera-la-scene-de-carthage-avec-sa-fille',\n",
       " 'https://www.mosaiquefm.net/fr/actualite-musique-tunisie-monde/458606/chirine-lajmi-on-a-mal-interprete-mon-clip',\n",
       " 'https://www.mosaiquefm.net/fr/actualite-musique-tunisie-monde/576674/elyssa-et-houcine-eddik-au-festival-international-de-monastir',\n",
       " 'https://www.mosaiquefm.net/fr/actualite-musique-tunisie-monde/457166/la-video-d-ariana-grande-thank-u-next-enchaine-les-records',\n",
       " 'https://www.mosaiquefm.net/fr/actualite-musique-tunisie-monde/394745/disque-le-plus-vendu-les-eagles-repassent-devant-michael-jackson',\n",
       " 'https://www.mosaiquefm.net/fr/actualite-musique-tunisie-monde/541946/salah-el-farzit-et-hedi-habbouba-je-t-aime-moi-non-plus',\n",
       " 'https://www.mosaiquefm.net/fr/actualite-musique-tunisie-monde/488983/le-rap-fete-ses-40-ans',\n",
       " 'https://www.mosaiquefm.net/fr/actualite-musique-tunisie-monde/634064/le-clip-ensey-de-saad-lemjard-et-mohamed-ramadan-retire-de-youtube',\n",
       " 'https://www.mosaiquefm.net/fr/actualite-musique-tunisie-monde/280003/les-causes-de-la-mort-de-dolores-o-riordan-de-the-cranberries',\n",
       " 'https://www.mosaiquefm.net/fr/actualite-musique-tunisie-monde/399685/buika-annule-son-concert-au-festival-du-jazz-a-tabarka',\n",
       " 'https://www.mosaiquefm.net/fr/actualite-musique-tunisie-monde/589664/carole-samaha-devoile-les-grandes-lignes-de-son-spectacle-a-carthage',\n",
       " 'https://www.mosaiquefm.net/fr/actualite-musique-tunisie-monde/292798/drake-distribue-1-million-de-dollars-durant-le-tournage-de-son-clip',\n",
       " 'https://www.mosaiquefm.net/fr/actualite-musique-tunisie-monde/552091/concert-de-solidarite-avec-l-artiste-ridha-diki',\n",
       " 'https://www.mosaiquefm.net/fr/actualite-musique-tunisie-monde/359089/le-mystere-sur-la-mort-de-dj-avicii-persiste',\n",
       " 'https://www.mosaiquefm.net/fr/actualite-musique-tunisie-monde/266623/les-vrais-benefices-de-ya-lili',\n",
       " 'https://www.mosaiquefm.net/fr/actualite-musique-tunisie-monde/404510/alo-sabny-le-nouveau-titre-de-haifa-wahbee',\n",
       " 'https://www.mosaiquefm.net/fr/actualite-musique-tunisie-monde/640224/plus-de-5-mille-touristes-participent-aux-dunes-electroniques',\n",
       " 'https://www.mosaiquefm.net/fr/actualite-musique-tunisie-monde/332769/abba-le-legendaire-groupe-pop-suedois-reuni-pour-deux-nouveaux-titres',\n",
       " 'https://www.mosaiquefm.net/fr/actualite-musique-tunisie-monde/409649/les-jmc-2018-rendront-hommage-a-hssan-dahmani',\n",
       " 'https://www.mosaiquefm.net/fr/actualite-musique-tunisie-monde/556091/bye-bye-la-nouvelle-chanson-de-saber-rebai',\n",
       " 'https://www.mosaiquefm.net/fr/actualite-musique-tunisie-monde/549101/r-trabelsi-40-ans-apres-ils-sont-de-retour',\n",
       " 'https://www.mosaiquefm.net/fr/actualite-musique-tunisie-monde/565206/fete-de-la-musique-a-la-marsa',\n",
       " 'https://www.mosaiquefm.net/fr/actualite-musique-tunisie-monde/595069/le-compositeur-de-l-ombre-de-david-guetta-fred-rister-n-est-plus',\n",
       " 'https://www.mosaiquefm.net/fr/actualite-musique-tunisie-monde/297788/la-tunisienne-safa-saad-a-la-conquete-de-the-voice',\n",
       " 'https://www.mosaiquefm.net/fr/actualite-musique-tunisie-monde/658948/mehdi-ayachi-remporte-la-5e-edition-de-the-voice',\n",
       " 'https://www.mosaiquefm.net/fr/actualite-musique-tunisie-monde/296248/des-dons-et-de-la-musique-au-profit-des-familles-de-rahma-et-sourour',\n",
       " 'https://www.mosaiquefm.net/fr/actualite-musique-tunisie-monde/361054/touensa-jew-la-reprise-de-bella-ciao-qui-fait-le-tour-du-web',\n",
       " 'https://www.mosaiquefm.net/fr/actualite-musique-tunisie-monde/513201/sanremo-giovani-world-tour-en-premiere-en-tunisie',\n",
       " 'https://www.mosaiquefm.net/fr/actualite-musique-tunisie-monde/591889/tabarka-le-concert-de-saber-rebai-interrompu-a-cause-des-intemperies',\n",
       " 'https://www.mosaiquefm.net/fr/actualite-musique-tunisie-monde/534246/le-chanteur-de-rock-dick-rivers-est-mort',\n",
       " 'https://www.mosaiquefm.net/fr/actualite-musique-tunisie-monde/337581/decouvrez-la-nouvelle-chanson-de-celine-dion',\n",
       " 'https://www.mosaiquefm.net/fr/actualite-musique-tunisie-monde/369277/michael-jackson-fait-une-reapparition-posthume-sur-l-album-de-drake',\n",
       " 'https://www.mosaiquefm.net/fr/actualite-musique-tunisie-monde/476036/un-nouveau-duo-entre-mc-gaza-et-klay-bbj',\n",
       " 'https://www.mosaiquefm.net/fr/actualite-musique-tunisie-monde/585774/musique-des-stars-se-mobilisent-contre-la-pauvrete',\n",
       " 'https://www.mosaiquefm.net/fr/actualite-musique-tunisie-monde/342661/the-voice-le-vote-n-a-pas-permis-a-hela-melki-de-gagner',\n",
       " 'https://www.mosaiquefm.net/fr/actualite-musique-tunisie-monde/648813/drame-de-amdoun-le-responsable-civil-du-bus-place-en-garde-a-vue',\n",
       " 'https://www.mosaiquefm.net/fr/actualite-musique-tunisie-monde/444187/que-vas-tu-faire-le-nouveau-single-de-lotfi-bouchnak-et-mc-gaza',\n",
       " 'https://www.mosaiquefm.net/fr/actualite-musique-tunisie-monde/535501/decouvrez-la-nouvelle-chanson-de-george-wassouf',\n",
       " 'https://www.mosaiquefm.net/fr/actualite-musique-tunisie-monde/303013/folla-el-djazairia-arrete-la-chanson',\n",
       " 'https://www.mosaiquefm.net/fr/actualite-musique-tunisie-monde/375939/hatem-karoui-presente-my-name-is-putin',\n",
       " 'https://www.mosaiquefm.net/fr/actualite-musique-tunisie-monde/386614/forbes-feyrouz-la-plus-grande-star-arabe-de-tous-les-temps',\n",
       " 'https://www.mosaiquefm.net/fr/actualite-musique-tunisie-monde/283988/concert-d-elissa-a-dubai-la-cause-d-un-malaise',\n",
       " 'https://www.mosaiquefm.net/fr/actualite-musique-tunisie-monde/348624/haica-al-insen-tv-ecope-d-une-amende-de-20-mille-dinars',\n",
       " 'https://www.mosaiquefm.net/fr/actualite-musique-tunisie-monde/552166/soufiane-ben-farhat-presente-les-annees-folles-de-tunis',\n",
       " 'https://www.mosaiquefm.net/fr/actualite-musique-tunisie-monde/276143/maitre-gims-sort-une-reprise-de-mi-gna',\n",
       " 'https://www.mosaiquefm.net/fr/actualite-musique-tunisie-monde/352884/le-groupe-attarab-met-la-musique-orientale-a-l-honneur-a-dar-hussein',\n",
       " 'https://www.mosaiquefm.net/fr/actualite-musique-tunisie-monde/383806/willy-william-une-soiree-au-rythme-endiable',\n",
       " 'https://www.mosaiquefm.net/fr/actualite-musique-tunisie-monde/382674/les-spice-girls-de-retour',\n",
       " 'https://www.mosaiquefm.net/fr/actualite-musique-tunisie-monde/340691/l-arfaoui-recoit-le-prix-de-la-meilleure-chanteuse-au-moyen-orient',\n",
       " 'https://www.mosaiquefm.net/fr/actualite-musique-tunisie-monde/386120/les-policiers-n-assureront-pas-la-securite-lors-du-concert-de-klay-bbj',\n",
       " 'https://www.mosaiquefm.net/fr/actualite-musique-tunisie-monde/266608/ghali-le-rappeur-tunisien-s-adresse-a-ses-fans',\n",
       " 'https://www.mosaiquefm.net/fr/actualite-musique-tunisie-monde/500379/l-epoustouflante-prestation-de-pink-au-brit-awards',\n",
       " 'https://www.mosaiquefm.net/fr/actualite-musique-tunisie-monde/615089/adele-et-beyonce-dans-un-titre-de-onerepublic',\n",
       " 'https://www.mosaiquefm.net/fr/actualite-musique-tunisie-monde/379755/un-nouveau-clip-de-yosra-mahnouch-pour-promouvoir-le-tourisme',\n",
       " 'https://www.mosaiquefm.net/fr/actualite-musique-tunisie-monde/585814/nouveau-programme-du-festival-international-de-hammamet',\n",
       " 'https://www.mosaiquefm.net/fr/actualite-musique-tunisie-monde/283783/elissa-s-est-effondree-sur-scene-lors-d-un-concert-a-dubai',\n",
       " 'https://www.mosaiquefm.net/fr/actualite-musique-tunisie-monde/509366/qui-est-marouen-candidat-de-the-voice-8',\n",
       " 'https://www.mosaiquefm.net/fr/actualite-musique-tunisie-monde/620309/les-billets-pour-celine-dion-aux-vieilles-charrues-vendus-en-9-minutes',\n",
       " 'https://www.mosaiquefm.net/fr/actualite-musique-tunisie-monde/572079/mira-sort-son-premier-album',\n",
       " 'https://www.mosaiquefm.net/fr/actualite-musique-tunisie-monde/510126/syndicat-des-musiciens-mohsen-cherif-sur-la-black-list',\n",
       " 'https://www.mosaiquefm.net/fr/actualite-musique-tunisie-monde/654113/youtube-interdit-les-attaques-personnelles-et-le-harcelement',\n",
       " 'https://www.mosaiquefm.net/fr/actualite-musique-tunisie-monde/581984/nassif-zeitoun-dans-corniche-ce-jeudi',\n",
       " 'https://www.mosaiquefm.net/fr/actualite-musique-tunisie-monde/583364/tenue-d-une-reunion-sur-l-organisation-des-funerailles-de-bce',\n",
       " 'https://www.mosaiquefm.net/fr/actualite-musique-tunisie-monde/303418/balti-dans-un-duo-avec-le-chanteur-de-mi-gna',\n",
       " 'https://www.mosaiquefm.net/fr/actualite-musique-tunisie-monde/263228/cheb-khaled-brandit-le-drapeau-tunisien-aux-emirats',\n",
       " 'https://www.mosaiquefm.net/fr/actualite-musique-tunisie-monde/391652/cheb-khaled-s-est-produit-a-djerba-apres-une-absence-de-22-ans',\n",
       " 'https://www.mosaiquefm.net/fr/actualite-musique-tunisie-monde/327014/hanini-alik-nouvelle-chanson-de-si-lemhaf',\n",
       " 'https://www.mosaiquefm.net/fr/actualite-musique-tunisie-monde/432864/noujoum-hassen-zargouni-presente-rouhanyet-mystic-fest']"
      ]
     },
     "execution_count": 17,
     "metadata": {},
     "output_type": "execute_result"
    }
   ],
   "source": [
    "docs_url"
   ]
  },
  {
   "cell_type": "code",
   "execution_count": null,
   "metadata": {},
   "outputs": [],
   "source": [
    "articls=[]\n",
    "s=0;\n",
    "for doc in l:\n",
    "    page=urllib.request.urlopen(doc)\n",
    "    soup=bs.BeautifulSoup(page,'html.parser')\n",
    "    s=s+1\n",
    "    print(s)\n",
    "    time.sleep(50)\n",
    "    for cat in soup.findAll('div',{'class':'desc descp__content'}):\n",
    "        print(cat.text)\n",
    "        articls.append(cat.text)"
   ]
  },
  {
   "cell_type": "code",
   "execution_count": 33,
   "metadata": {},
   "outputs": [],
   "source": [
    "import pandas as pd\n",
    "import csv\n",
    "articles_df=pd.DataFrame(articls)"
   ]
  },
  {
   "cell_type": "code",
   "execution_count": 40,
   "metadata": {},
   "outputs": [],
   "source": [
    "articles_df=pd.read_csv('articls.csv')"
   ]
  },
  {
   "cell_type": "code",
   "execution_count": 46,
   "metadata": {},
   "outputs": [],
   "source": [
    "articles_df.columns=['articles']"
   ]
  },
  {
   "cell_type": "code",
   "execution_count": 47,
   "metadata": {},
   "outputs": [],
   "source": [
    "for i in range (articles_df.shape[0]):\n",
    "    articles_df.iloc[i,:]=str(articles_df.iloc[i,:].values).replace(\"\\\\xa0\",\"\").replace(\"\\\\\",\"\").replace(\"\\n\",\" \").replace(\"\\r\",\" \").replace(\"[\",\"\").replace(\"]\",\" \").replace(\"     \",\"\")"
   ]
  },
  {
   "cell_type": "code",
   "execution_count": 48,
   "metadata": {},
   "outputs": [
    {
     "data": {
      "text/plain": [
       "'\"«Touensa jew» (les tunisiens sont arrivés) est le titre de la reprise de Bella ciao qui commence à faire le tour des réseaux sociaux.   Le message choisi par la jeune Samar Toumi, l’interprète de la chanson est simple : encourager la sélection qui entame à partir du lundi 18 juin 2018 son aventure à la coupe du monde Russie 2018 sans oublier la touche d\\'humour en évoquant ses adversaires au premier tour.\" '"
      ]
     },
     "execution_count": 48,
     "metadata": {},
     "output_type": "execute_result"
    }
   ],
   "source": [
    "articles_df.loc[0,'articles']"
   ]
  },
  {
   "cell_type": "code",
   "execution_count": 49,
   "metadata": {},
   "outputs": [
    {
     "data": {
      "text/plain": [
       "0    \"«Touensa jew» (les tunisiens sont arrivés) es...\n",
       "1    'Créé en 1951, \"Sanremo Giovani\" est un concou...\n",
       "2    \"Après avoir chanté durant plus d'une heure, S...\n",
       "3    'Le chanteur de rock français Dick Rivers est ...\n",
       "4    'Après 12 mois de problèmes de santé, Céline D...\n",
       "Name: articles, dtype: object"
      ]
     },
     "execution_count": 49,
     "metadata": {},
     "output_type": "execute_result"
    }
   ],
   "source": [
    "articles_df['articles'].head()"
   ]
  },
  {
   "cell_type": "code",
   "execution_count": 50,
   "metadata": {},
   "outputs": [],
   "source": [
    "articles_df.to_csv('articles.csv')"
   ]
  },
  {
   "cell_type": "code",
   "execution_count": null,
   "metadata": {},
   "outputs": [],
   "source": []
  }
 ],
 "metadata": {
  "kernelspec": {
   "display_name": "Python 3",
   "language": "python",
   "name": "python3"
  },
  "language_info": {
   "codemirror_mode": {
    "name": "ipython",
    "version": 3
   },
   "file_extension": ".py",
   "mimetype": "text/x-python",
   "name": "python",
   "nbconvert_exporter": "python",
   "pygments_lexer": "ipython3",
   "version": "3.6.8"
  }
 },
 "nbformat": 4,
 "nbformat_minor": 2
}
