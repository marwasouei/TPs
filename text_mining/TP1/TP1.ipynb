{
 "cells": [
  {
   "cell_type": "markdown",
   "metadata": {},
   "source": [
    "# TP1\n",
    "References:\n",
    "\n",
    "https://scikit-learn.org/stable/tutorial/text_analytics/working_with_text_data.html\n",
    "\n",
    "https://github.com/makcedward/nlp/blob/master/sample/nlp-bag_of_words.ipynb\n",
    "\n",
    "\n"
   ]
  },
  {
   "cell_type": "code",
   "execution_count": null,
   "metadata": {},
   "outputs": [],
   "source": [
    "import pandas as pd\n",
    "import numpy as np\n",
    "from sklearn.feature_extraction.text import CountVectorizer, TfidfVectorizer"
   ]
  },
  {
   "cell_type": "code",
   "execution_count": null,
   "metadata": {},
   "outputs": [],
   "source": [
    "import matplotlib.pyplot as plt"
   ]
  },
  {
   "cell_type": "markdown",
   "metadata": {},
   "source": [
    "## Load Data"
   ]
  },
  {
   "cell_type": "code",
   "execution_count": null,
   "metadata": {},
   "outputs": [],
   "source": [
    "import pickle\n",
    "with open('newsgroups_data.pickle', 'rb') as f:\n",
    "    newsgroups_data_df = pickle.load(f)\n",
    "newsgroups_data_df.shape"
   ]
  },
  {
   "cell_type": "code",
   "execution_count": null,
   "metadata": {},
   "outputs": [],
   "source": [
    "newsgroups_data_df.head()"
   ]
  },
  {
   "cell_type": "code",
   "execution_count": null,
   "metadata": {},
   "outputs": [],
   "source": [
    "newsgroups_data_df.group_label.value_counts()"
   ]
  },
  {
   "cell_type": "markdown",
   "metadata": {},
   "source": [
    "******"
   ]
  },
  {
   "cell_type": "markdown",
   "metadata": {},
   "source": [
    "## Vector representation of documents using simple BOW\n",
    "\n",
    "We will do this using the CountVectorizer class from the `sklearn` library."
   ]
  },
  {
   "cell_type": "markdown",
   "metadata": {},
   "source": [
    "**Questions - part 1**\n",
    "\n",
    "Execute the cells below, then answer the following questions based on the output of these cells. You do not need to write new code.\n",
    "\n",
    "1. What is the size of the document-term matrix `dtm1`, and what is the fraction of non-zero values in it?\n",
    "2. What is the maximum value in `dtm1`, and what does this value mean?\n",
    "3. How many words does the vocabulary contain?\n",
    "4. Give the words that correspond to the first 10 columns of `dtm1`.\n",
    "5. Are the words in `vocab1` ordered arbitrarily or in some specific order?\n",
    "6. Read the documentation of the `CountVectorizer` class using the command `?CountVectorizer`. Without writing any code, what will happen if we modify the parameter `binary = True` ?\n",
    "7. Repeat the previous question by modifying the parameter `lowercase = False`."
   ]
  },
  {
   "cell_type": "code",
   "execution_count": null,
   "metadata": {},
   "outputs": [],
   "source": [
    "## Read documentation of the CountVectorizer class's constructor.\n",
    "# Notice the default values of its parameters.\n",
    "?CountVectorizer"
   ]
  },
  {
   "cell_type": "code",
   "execution_count": null,
   "metadata": {},
   "outputs": [],
   "source": [
    "### Set values of control parameters of the Vectorizer classes that we will use\n",
    "\n",
    "max_features = 5000\n",
    "max_df = 0.9\n",
    "min_df = 3"
   ]
  },
  {
   "cell_type": "code",
   "execution_count": null,
   "metadata": {},
   "outputs": [],
   "source": [
    "# create an instance of the class with the desired parameter values.\n",
    "vect1 = CountVectorizer(max_df=max_df, min_df=min_df, max_features=max_features, stop_words='english', binary = False)\n",
    "\n",
    "# create vocabulary based on given corpus by calling the fit() method.\n",
    "vect1.fit(newsgroups_data_df.message)"
   ]
  },
  {
   "cell_type": "code",
   "execution_count": null,
   "metadata": {},
   "outputs": [],
   "source": [
    "# create the document-term matrix (DTM) of a given corpus by calling the transform() method\n",
    "dtm1 = vect1.transform(newsgroups_data_df.message)\n",
    "dtm1.shape"
   ]
  },
  {
   "cell_type": "code",
   "execution_count": null,
   "metadata": {},
   "outputs": [],
   "source": [
    "# what is the data type of this matrix?\n",
    "#  dtm is stored in a special data structure (class) called 'scipy.sparse.csr.csr_matrix'\n",
    "type(dtm1)"
   ]
  },
  {
   "cell_type": "code",
   "execution_count": null,
   "metadata": {},
   "outputs": [],
   "source": [
    "# what is the number of non-zero values in this matrix?\n",
    "dtm1.nnz"
   ]
  },
  {
   "cell_type": "code",
   "execution_count": null,
   "metadata": {},
   "outputs": [],
   "source": [
    "# the minimum and maximum values\n",
    "dtm1.min(),dtm1.max()"
   ]
  },
  {
   "cell_type": "code",
   "execution_count": null,
   "metadata": {},
   "outputs": [],
   "source": [
    "## let's store the vocabulary in a list for convenience\n",
    "# the first element of vocab corresponds to the first column of dtm\n",
    "# the second element of vocab corresponds to the first column of dtm\n",
    "# etc.\n",
    "vocab1 = vect1.get_feature_names()"
   ]
  },
  {
   "cell_type": "code",
   "execution_count": null,
   "metadata": {},
   "outputs": [],
   "source": [
    "print(type(vocab1))\n",
    "print(len(vocab1))"
   ]
  },
  {
   "cell_type": "code",
   "execution_count": null,
   "metadata": {},
   "outputs": [],
   "source": [
    "# The first 50 words of the vocabulary\n",
    "print(vocab1[0:50])"
   ]
  },
  {
   "cell_type": "code",
   "execution_count": null,
   "metadata": {},
   "outputs": [],
   "source": [
    "# The last 50 words of the vocabulary\n",
    "print(vocab1[-50:])"
   ]
  },
  {
   "cell_type": "code",
   "execution_count": null,
   "metadata": {},
   "outputs": [],
   "source": [
    "# Your answers\n"
   ]
  },
  {
   "cell_type": "code",
   "execution_count": null,
   "metadata": {},
   "outputs": [],
   "source": []
  },
  {
   "cell_type": "code",
   "execution_count": null,
   "metadata": {},
   "outputs": [],
   "source": []
  },
  {
   "cell_type": "code",
   "execution_count": null,
   "metadata": {},
   "outputs": [],
   "source": []
  },
  {
   "cell_type": "code",
   "execution_count": null,
   "metadata": {},
   "outputs": [],
   "source": []
  },
  {
   "cell_type": "markdown",
   "metadata": {},
   "source": [
    "**Questions - part 2**\n",
    "\n",
    "In each of the following questions, you need to re-build the vocabulary and the DTM matrix. You can copy the code above and modify it as desired.\n",
    "\n",
    "1. Change the `token_pattern` parameter of the original call to `CountVectorizer()` so that only words that contain the letters 'a' to 'z' and the '-' character are accepted in the vocabulary. How many words does the new vocabulary contain and what are the first 10 words of this vocabulary?\n",
    "\n",
    "2. Add the following parameter to the original call to `CountVectorizer()`: ngram_range=(1,2). Determine the number of words of the new vocabulary, and give 10 words in this vocabulary that are not in `vocab1`.\n",
    "\n",
    "3. Change the parameters of the original call to `CountVectorizer()` using the new values below, but modify each parameter separately (not simulateneously). For each modification, explain how and why the vocabulary and DTM have changed compared to `vocab1` and `dtm1`.\n",
    "\n",
    "       stop_words = None\n",
    "       max_df = 0.7\n",
    "       min_df = 1\n",
    "       max_features = 2000"
   ]
  },
  {
   "cell_type": "code",
   "execution_count": null,
   "metadata": {},
   "outputs": [],
   "source": [
    "## Q1\n",
    "\n"
   ]
  },
  {
   "cell_type": "code",
   "execution_count": null,
   "metadata": {},
   "outputs": [],
   "source": [
    "## Q2\n",
    "\n"
   ]
  },
  {
   "cell_type": "code",
   "execution_count": null,
   "metadata": {},
   "outputs": [],
   "source": [
    "## Q3\n",
    "\n"
   ]
  },
  {
   "cell_type": "code",
   "execution_count": null,
   "metadata": {},
   "outputs": [],
   "source": [
    "# lowercase = False\n"
   ]
  },
  {
   "cell_type": "code",
   "execution_count": null,
   "metadata": {},
   "outputs": [],
   "source": [
    "# max_df = 0.7\n"
   ]
  },
  {
   "cell_type": "code",
   "execution_count": null,
   "metadata": {},
   "outputs": [],
   "source": [
    "# min_df = 1\n"
   ]
  },
  {
   "cell_type": "code",
   "execution_count": null,
   "metadata": {},
   "outputs": [],
   "source": [
    "# max_features = 2000\n"
   ]
  },
  {
   "cell_type": "code",
   "execution_count": null,
   "metadata": {},
   "outputs": [],
   "source": [
    "# stop_words = None\n",
    "\n"
   ]
  },
  {
   "cell_type": "markdown",
   "metadata": {},
   "source": [
    "****"
   ]
  },
  {
   "cell_type": "markdown",
   "metadata": {},
   "source": [
    "## Vector representation of documents using tfidf BOW\n",
    "\n",
    "We will do this using the TfidfVectorizer class from the `sklearn` library."
   ]
  },
  {
   "cell_type": "markdown",
   "metadata": {},
   "source": [
    "**Questions**\n",
    "\n",
    "1. Read the documentation of the`TfidfVectorizer` class.\n",
    "2. Call the constructor of this class using the following parameter values: `max_df=max_df, min_df=min_df, max_features=max_features, stop_words='english'`. Put the result in a variable called `vect2`.\n",
    "3. Call the `fit_transform` in order to create the vocabulary and the DTM matrix in one step using the text documents in `newsgroups_data_df.message`. Put the result in a variable called `dtm2`.\n",
    "4. Determine the minimum and maximum values of `dtm2`.\n",
    "5. Is the vocabulary of vect2 different than `vocab1`? You can use set operations for this."
   ]
  },
  {
   "cell_type": "code",
   "execution_count": null,
   "metadata": {},
   "outputs": [],
   "source": [
    "# Read documentation of the TfidfVectorizer class\n",
    "?TfidfVectorizer"
   ]
  },
  {
   "cell_type": "code",
   "execution_count": null,
   "metadata": {},
   "outputs": [],
   "source": []
  },
  {
   "cell_type": "code",
   "execution_count": null,
   "metadata": {},
   "outputs": [],
   "source": []
  },
  {
   "cell_type": "code",
   "execution_count": null,
   "metadata": {},
   "outputs": [],
   "source": []
  },
  {
   "cell_type": "code",
   "execution_count": null,
   "metadata": {},
   "outputs": [],
   "source": []
  },
  {
   "cell_type": "code",
   "execution_count": null,
   "metadata": {},
   "outputs": [],
   "source": []
  },
  {
   "cell_type": "code",
   "execution_count": null,
   "metadata": {},
   "outputs": [],
   "source": []
  },
  {
   "cell_type": "markdown",
   "metadata": {},
   "source": [
    "******"
   ]
  },
  {
   "cell_type": "markdown",
   "metadata": {},
   "source": [
    "## Document Classification"
   ]
  },
  {
   "cell_type": "markdown",
   "metadata": {},
   "source": [
    "**Questions**\n",
    "\n",
    "1. Copy `dtm1` into a new variable called `X` and copy `df.group_label` into a new variable called `y`\n",
    "2. split `X` and `y` into train and test sets with test set size of 30%.\n",
    "3. Build a logistic regression model using the training set and calculate its accuracy on the test set\n",
    "4. Repeat the first 3 questions with `dtm2` instead of `dtm1`. Is the accuracy better or worse than with `dtm1`?"
   ]
  },
  {
   "cell_type": "code",
   "execution_count": null,
   "metadata": {},
   "outputs": [],
   "source": []
  },
  {
   "cell_type": "code",
   "execution_count": null,
   "metadata": {},
   "outputs": [],
   "source": []
  },
  {
   "cell_type": "code",
   "execution_count": null,
   "metadata": {},
   "outputs": [],
   "source": []
  },
  {
   "cell_type": "code",
   "execution_count": null,
   "metadata": {},
   "outputs": [],
   "source": []
  },
  {
   "cell_type": "code",
   "execution_count": null,
   "metadata": {},
   "outputs": [],
   "source": []
  },
  {
   "cell_type": "code",
   "execution_count": null,
   "metadata": {},
   "outputs": [],
   "source": []
  },
  {
   "cell_type": "markdown",
   "metadata": {},
   "source": [
    "***"
   ]
  }
 ],
 "metadata": {
  "kernelspec": {
   "display_name": "Python 3",
   "language": "python",
   "name": "python3"
  },
  "language_info": {
   "codemirror_mode": {
    "name": "ipython",
    "version": 3
   },
   "file_extension": ".py",
   "mimetype": "text/x-python",
   "name": "python",
   "nbconvert_exporter": "python",
   "pygments_lexer": "ipython3",
   "version": "3.7.3"
  }
 },
 "nbformat": 4,
 "nbformat_minor": 2
}
