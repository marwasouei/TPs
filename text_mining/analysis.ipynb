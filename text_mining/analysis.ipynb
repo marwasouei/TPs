{
 "cells": [
  {
   "cell_type": "code",
   "execution_count": 5,
   "metadata": {},
   "outputs": [],
   "source": [
    "import os\n",
    "import pandas as pd\n",
    "import numpy as np"
   ]
  },
  {
   "cell_type": "code",
   "execution_count": 2,
   "metadata": {},
   "outputs": [],
   "source": [
    "from nltk.tokenize import word_tokenize, regexp_tokenize\n",
    "from nltk.tokenize import RegexpTokenizer\n",
    "from nltk.corpus import stopwords\n",
    "from nltk.stem import SnowballStemmer\n",
    "from nltk.stem.snowball import FrenchStemmer\n",
    "import langdetect"
   ]
  },
  {
   "cell_type": "code",
   "execution_count": 3,
   "metadata": {},
   "outputs": [],
   "source": [
    "from wordcloud import WordCloud, STOPWORDS, ImageColorGenerator\n",
    "\n",
    "import matplotlib.pyplot as plt"
   ]
  },
  {
   "cell_type": "code",
   "execution_count": 6,
   "metadata": {},
   "outputs": [],
   "source": [
    "dir_path =r'C:\\Users\\Lenovo\\Documents\\cours_dataminig\\newsgroups_data'\n",
    "def get_files(dir_path, filename):\n",
    "    return pd.read_csv(os.path.join(dir_path, filename), sep=';', header=None,engine='python')\n",
    "articles= get_files(dir_path=dir_path, filename='articles.csv')"
   ]
  },
  {
   "cell_type": "code",
   "execution_count": 7,
   "metadata": {},
   "outputs": [],
   "source": [
    "articles.columns=['articles']"
   ]
  },
  {
   "cell_type": "code",
   "execution_count": 8,
   "metadata": {},
   "outputs": [],
   "source": [
    "articles_df=articles.copy()"
   ]
  },
  {
   "cell_type": "code",
   "execution_count": 6,
   "metadata": {},
   "outputs": [
    {
     "data": {
      "text/plain": [
       "(121, 1)"
      ]
     },
     "execution_count": 6,
     "metadata": {},
     "output_type": "execute_result"
    }
   ],
   "source": [
    "articles_df.shape"
   ]
  },
  {
   "cell_type": "code",
   "execution_count": 7,
   "metadata": {},
   "outputs": [],
   "source": [
    "tokenize_regex = \"(\\w+)|(\\w+(-\\w+)+)\"\n",
    "tokenize_regex = \"\\w+|\\w+-\\w+\"\n",
    "\n",
    "french_stemmer1 = SnowballStemmer('french')\n",
    "french_stemmer2 = FrenchStemmer()\n",
    "stop_words_fr = stopwords.words('french')\n",
    "\n",
    "MIN_CLEAN_TOKENS = 4\n",
    "\n",
    "def preprocess_text(doc):\n",
    "   \n",
    "    \n",
    "\n",
    "    #  lowercasing\n",
    "    doc = doc.lower()\n",
    "\n",
    "    #  remove noise/unwanted characters; this is already accomplished by tokenization process.\n",
    "\n",
    "    ## tokenization\n",
    "    tokens = regexp_tokenize(doc,tokenize_regex)\n",
    "\n",
    "    ## post-tokenization document processing\n",
    "\n",
    "    #   remove stopwords and one-letter words\n",
    "    tokens = [tok for tok in tokens if (tok not in stop_words_fr and len(tok)>5)]\n",
    "\n",
    "    #   stemming\n",
    "    tokens = [french_stemmer1.stem(tok) if len(tok)>=7 else tok for tok in tokens]\n",
    "\n",
    "    #   word ngrams instead of 1grams\n",
    "\n",
    "    #   remove documents that are too short  (return [])\n",
    "    if len(doc) < MIN_CLEAN_TOKENS:\n",
    "        return []\n",
    "\n",
    "    return tokens\n",
    "\n"
   ]
  },
  {
   "cell_type": "code",
   "execution_count": 8,
   "metadata": {},
   "outputs": [
    {
     "data": {
      "text/html": [
       "<div>\n",
       "<style scoped>\n",
       "    .dataframe tbody tr th:only-of-type {\n",
       "        vertical-align: middle;\n",
       "    }\n",
       "\n",
       "    .dataframe tbody tr th {\n",
       "        vertical-align: top;\n",
       "    }\n",
       "\n",
       "    .dataframe thead th {\n",
       "        text-align: right;\n",
       "    }\n",
       "</style>\n",
       "<table border=\"1\" class=\"dataframe\">\n",
       "  <thead>\n",
       "    <tr style=\"text-align: right;\">\n",
       "      <th></th>\n",
       "      <th>articles</th>\n",
       "      <th>articles_</th>\n",
       "    </tr>\n",
       "  </thead>\n",
       "  <tbody>\n",
       "    <tr>\n",
       "      <th>0</th>\n",
       "      <td>\"«Touensa jew» (les tunisiens sont arrivés) es...</td>\n",
       "      <td>[touens, tunisien, arriv, repris, commenc, rés...</td>\n",
       "    </tr>\n",
       "    <tr>\n",
       "      <th>1</th>\n",
       "      <td>'Créé en 1951, \"Sanremo Giovani\" est un concou...</td>\n",
       "      <td>[sanremo, giovan, concour, musical, italien, c...</td>\n",
       "    </tr>\n",
       "    <tr>\n",
       "      <th>2</th>\n",
       "      <td>\"Après avoir chanté durant plus d'une heure, S...</td>\n",
       "      <td>[chanté, durant, obligé, arrêt, concert, intem...</td>\n",
       "    </tr>\n",
       "    <tr>\n",
       "      <th>3</th>\n",
       "      <td>'Le chanteur de rock français Dick Rivers est ...</td>\n",
       "      <td>[chanteur, franc, rivers, décédé, mercred, ann...</td>\n",
       "    </tr>\n",
       "    <tr>\n",
       "      <th>4</th>\n",
       "      <td>'Après 12 mois de problèmes de santé, Céline D...</td>\n",
       "      <td>[problem, céline, annonc, import, compte, inst...</td>\n",
       "    </tr>\n",
       "  </tbody>\n",
       "</table>\n",
       "</div>"
      ],
      "text/plain": [
       "                                            articles  \\\n",
       "0  \"«Touensa jew» (les tunisiens sont arrivés) es...   \n",
       "1  'Créé en 1951, \"Sanremo Giovani\" est un concou...   \n",
       "2  \"Après avoir chanté durant plus d'une heure, S...   \n",
       "3  'Le chanteur de rock français Dick Rivers est ...   \n",
       "4  'Après 12 mois de problèmes de santé, Céline D...   \n",
       "\n",
       "                                           articles_  \n",
       "0  [touens, tunisien, arriv, repris, commenc, rés...  \n",
       "1  [sanremo, giovan, concour, musical, italien, c...  \n",
       "2  [chanté, durant, obligé, arrêt, concert, intem...  \n",
       "3  [chanteur, franc, rivers, décédé, mercred, ann...  \n",
       "4  [problem, céline, annonc, import, compte, inst...  "
      ]
     },
     "execution_count": 8,
     "metadata": {},
     "output_type": "execute_result"
    }
   ],
   "source": [
    "articles_df['articles_'] = articles_df['articles'].map(preprocess_text)\n",
    "articles_df.head()"
   ]
  },
  {
   "cell_type": "code",
   "execution_count": 9,
   "metadata": {},
   "outputs": [
    {
     "name": "stdout",
     "output_type": "stream",
     "text": [
      "Number of dropped rows: 4\n"
     ]
    },
    {
     "data": {
      "text/plain": [
       "(117, 2)"
      ]
     },
     "execution_count": 9,
     "metadata": {},
     "output_type": "execute_result"
    }
   ],
   "source": [
    "\n",
    "idx = articles_df['articles_'].map(lambda doc: doc==[])\n",
    "print(\"Number of dropped rows:\", idx.sum())\n",
    "articles_df.drop(labels=articles_df.index[idx], axis=0,inplace=True)\n",
    "articles_df.shape"
   ]
  },
  {
   "cell_type": "markdown",
   "metadata": {},
   "source": [
    "### Key Word Extraction Using gensim"
   ]
  },
  {
   "cell_type": "code",
   "execution_count": 10,
   "metadata": {},
   "outputs": [],
   "source": [
    "from gensim.corpora.dictionary import Dictionary\n",
    "from gensim.models.tfidfmodel import TfidfModel\n",
    "from gensim.models import LsiModel, LdaModel, CoherenceModel\n",
    "from gensim.models.word2vec import Word2Vec\n",
    "from gensim import similarities"
   ]
  },
  {
   "cell_type": "code",
   "execution_count": 11,
   "metadata": {},
   "outputs": [
    {
     "data": {
      "text/plain": [
       "2251"
      ]
     },
     "execution_count": 11,
     "metadata": {},
     "output_type": "execute_result"
    }
   ],
   "source": [
    "dictionary = Dictionary(articles_df['articles_'].tolist())\n",
    "len(dictionary)"
   ]
  },
  {
   "cell_type": "code",
   "execution_count": 12,
   "metadata": {},
   "outputs": [
    {
     "name": "stdout",
     "output_type": "stream",
     "text": [
      "Number of rare words: 2065\n"
     ]
    },
    {
     "data": {
      "text/plain": [
       "186"
      ]
     },
     "execution_count": 12,
     "metadata": {},
     "output_type": "execute_result"
    }
   ],
   "source": [
    "from six import iteritems\n",
    "MIN_TOKEN_DOC_FREQ = 5\n",
    "\n",
    "idx = [tokenid for tokenid, docfreq in iteritems(dictionary.dfs) if docfreq < MIN_TOKEN_DOC_FREQ]\n",
    "print(\"Number of rare words:\", len(idx))\n",
    "dictionary.filter_tokens(idx) # remove stop words and words that appear only once\n",
    "dictionary.compactify() # remove gaps in id sequence after words that were removed\n",
    "len(dictionary)"
   ]
  },
  {
   "cell_type": "code",
   "execution_count": 13,
   "metadata": {},
   "outputs": [],
   "source": [
    "vocab_list = list(dictionary.token2id.keys())\n"
   ]
  },
  {
   "cell_type": "code",
   "execution_count": 14,
   "metadata": {},
   "outputs": [],
   "source": [
    "corpus_tokenized = articles_df['articles_'].tolist()\n",
    "corpus_bow = [dictionary.doc2bow(doc) for doc in corpus_tokenized]"
   ]
  },
  {
   "cell_type": "code",
   "execution_count": 15,
   "metadata": {},
   "outputs": [
    {
     "data": {
      "text/plain": [
       "(list, 117)"
      ]
     },
     "execution_count": 15,
     "metadata": {},
     "output_type": "execute_result"
    }
   ],
   "source": [
    "type(corpus_bow),len(corpus_bow)"
   ]
  },
  {
   "cell_type": "code",
   "execution_count": 16,
   "metadata": {},
   "outputs": [],
   "source": [
    "def calcul_freq_indice(ind):\n",
    "    s=0\n",
    "    for i in range(0,len(corpus_bow)):\n",
    "        for j in corpus_bow[i]:\n",
    "            if j[0]==ind:\n",
    "                s=s+j[1]\n",
    "    return (s)"
   ]
  },
  {
   "cell_type": "code",
   "execution_count": 17,
   "metadata": {},
   "outputs": [
    {
     "name": "stdout",
     "output_type": "stream",
     "text": [
      "chanson 76\n",
      "artist 58\n",
      "chanteux 50\n",
      "tunisien 47\n",
      "concert 47\n",
      "nouvel 45\n",
      "festival 44\n",
      "musiqu 42\n",
      "chanteur 40\n",
      "groupe 36\n",
      "derni 34\n",
      "musical 32\n",
      "public 32\n",
      "annonc 28\n",
      "depuis 26\n",
      "programm 26\n",
      "premi 24\n",
      "rappeur 24\n",
      "international 23\n",
      "spectacl 23\n",
      "meilleur 23\n",
      "plusieur 22\n"
     ]
    }
   ],
   "source": [
    "dicti={}\n",
    "for i in range(len(dictionary)):\n",
    "    dicti[i]=calcul_freq_indice(i)\n",
    "    \n",
    "\n",
    "dict_sorted={k: v for k, v in sorted(dicti.items(), key=lambda item: item[1],reverse=True)}\n",
    "j=0\n",
    "most_vocab=\"\"\n",
    "for i in dict_sorted.items():\n",
    "        j=j+1\n",
    "        if j<=22:\n",
    "            print(vocab_list[i[0]],i[1])\n",
    "            most_vocab=most_vocab+vocab_list[i[0]]+\" \"\n",
    "        else :\n",
    "            break"
   ]
  },
  {
   "cell_type": "code",
   "execution_count": 18,
   "metadata": {},
   "outputs": [
    {
     "data": {
      "text/plain": [
       "'chanson artist chanteux tunisien concert nouvel festival musiqu chanteur groupe derni musical public annonc depuis programm premi rappeur international spectacl meilleur plusieur '"
      ]
     },
     "execution_count": 18,
     "metadata": {},
     "output_type": "execute_result"
    }
   ],
   "source": [
    "most_vocab"
   ]
  },
  {
   "cell_type": "markdown",
   "metadata": {},
   "source": [
    "wordcloud = WordCloud(max_font_size=50, max_words=100, background_color=\"white\").generate(most_vocab)\n",
    "plt.figure()\n",
    "plt.imshow(wordcloud, interpolation=\"bilinear\")\n",
    "plt.axis(\"off\")\n",
    "plt.show()"
   ]
  },
  {
   "cell_type": "markdown",
   "metadata": {},
   "source": [
    "### Key Word Extraction Using SPACY"
   ]
  },
  {
   "cell_type": "code",
   "execution_count": 1,
   "metadata": {},
   "outputs": [],
   "source": [
    "import spacy\n",
    "from nltk.corpus import stopwords\n",
    "from nltk.stem.snowball import SnowballStemmer\n"
   ]
  },
  {
   "cell_type": "code",
   "execution_count": 9,
   "metadata": {},
   "outputs": [],
   "source": [
    "articles_df2=articles.copy()"
   ]
  },
  {
   "cell_type": "code",
   "execution_count": 14,
   "metadata": {},
   "outputs": [],
   "source": [
    "tokenize_regex = \"(\\w+)|(\\w+(-\\w+)+)\"\n",
    "tokenize_regex = \"\\w+|\\w+-\\w+\"\n",
    "\n",
    "french_stemmer1 = SnowballStemmer('french')\n",
    "french_stemmer2 = FrenchStemmer()\n",
    "stop_words_fr = stopwords.words('french')\n",
    "\n",
    "MIN_CLEAN_TOKENS = 3\n",
    "sp = spacy.load(\"fr_core_news_sm\")\n",
    "tokens=[]\n",
    "def preprocess_text(doc):\n",
    "    tokens=[]\n",
    "    if langdetect.detect(doc)!='fr': return []\n",
    "\n",
    "    doc = doc.lower()\n",
    "\n",
    "   \n",
    "    sentence = sp(doc)\n",
    "    for word in sentence:\n",
    "        tokens.append(word.text)\n",
    "      \n",
    "    \n",
    "\n",
    "    tokens = [tok for tok in tokens if (tok not in stop_words_fr and len(tok)>3)]\n",
    "\n",
    " \n",
    "    tokens = [french_stemmer1.stem(tok) if len(tok)>=7 else tok for tok in tokens]\n",
    "\n",
    "    if len(doc) < MIN_CLEAN_TOKENS:\n",
    "        return []\n",
    "\n",
    "    return tokens\n",
    "articles_df2['articles_'] = articles_df2['articles'].map(preprocess_text)"
   ]
  },
  {
   "cell_type": "code",
   "execution_count": 15,
   "metadata": {},
   "outputs": [
    {
     "data": {
      "text/plain": [
       "0    [touens, tunisien, arriv, titre, repris, bella...\n",
       "1    [créé, 1951, sanremo, giovan, concour, musical...\n",
       "2    [après, avoir, chanté, durant, plus, heure, sa...\n",
       "3    [chanteur, rock, franc, dick, rivers, décédé, ...\n",
       "4    [après, mois, problem, santé, céline, dion, fa...\n",
       "Name: articles_, dtype: object"
      ]
     },
     "execution_count": 15,
     "metadata": {},
     "output_type": "execute_result"
    }
   ],
   "source": [
    "articles_df2['articles_'] .head()"
   ]
  },
  {
   "cell_type": "code",
   "execution_count": 26,
   "metadata": {},
   "outputs": [],
   "source": [
    "s=''\n",
    "for i in range(articles_df2.shape[0]):\n",
    "    s=s+' '.join(articles_df2.loc[i,'articles_'])"
   ]
  },
  {
   "cell_type": "code",
   "execution_count": 22,
   "metadata": {},
   "outputs": [],
   "source": [
    "\n",
    "import spacy\n",
    "from spacy.matcher import Matcher\n",
    "import math\n",
    "import re\n",
    "from collections import Counter"
   ]
  },
  {
   "cell_type": "code",
   "execution_count": 25,
   "metadata": {},
   "outputs": [],
   "source": [
    "nlp = spacy.load(\"fr_core_news_sm\")\n",
    "phrases = []\n",
    "\n",
    "def collect_sents(matcher, doc, i, matches):\n",
    "    id_, k, l = matches[i]\n",
    "    s = doc[k : l]\n",
    "    phrases.append(s.lemma_)\n",
    "    \n",
    "patterns = [[{'POS': 'NOUN', 'IS_ALPHA': True, 'IS_STOP': False, 'OP': '+'}]]\n",
    "matcher = Matcher(nlp.vocab)\n",
    "for p in patterns:\n",
    "    matcher.add('keyword', collect_sents, p)\n",
    "\n",
    "def extract_keywords(text,num_keywords):\n",
    "    global phrases\n",
    "    \n",
    "    pagenlp = nlp(text)\n",
    "    phrases = []\n",
    "    matches = matcher(pagenlp)\n",
    "    keywords = dict(Counter(phrases).most_common(100))\n",
    "    d = {}\n",
    "    \n",
    "    for keyword in sorted(keywords.keys()):\n",
    "        terms = list(filter(lambda t: t != keyword and re.match('\\\\b%s\\\\b' % keyword, t), keywords.keys()))\n",
    "        d[keyword] = keywords[keyword]\n",
    "        \n",
    "        \n",
    "        for pt in terms:\n",
    "            d[keyword] -= float(keywords[pt])/float(len(terms))\n",
    "        d[keyword] *= 1 + math.log(len(keyword.split()), 2)\n",
    "    best_keywords = []\n",
    "    \n",
    "    \n",
    "    for keyword in sorted(d, key=d.get, reverse=True)[:num_keywords]:\n",
    "        best_keywords.append([keyword, d[keyword]])\n",
    "    return best_keywords\n",
    "\n"
   ]
  },
  {
   "cell_type": "code",
   "execution_count": 42,
   "metadata": {},
   "outputs": [],
   "source": [
    "\n",
    "best_keywords=extract_keywords(s,20)\n"
   ]
  },
  {
   "cell_type": "code",
   "execution_count": 43,
   "metadata": {},
   "outputs": [
    {
     "data": {
      "text/plain": [
       "'chanson groupe concert août scène année titre tunisien lieu artist mars chanteur plusieur succès million musicien soirée jour juillet rappeur samedi indiqu mois projet soir mardi fois voix heure juin chanson groupe concert août scène année titre tunisien lieu artist mars chanteur plusieur succès million musicien soirée jour juillet rappeur samedi indiqu mois projet soir mardi fois voix heure juin chanson groupe concert août scène année titre tunisien lieu artist mars chanteur plusieur succès million musicien soirée jour juillet rappeur '"
      ]
     },
     "execution_count": 43,
     "metadata": {},
     "output_type": "execute_result"
    }
   ],
   "source": [
    "for i in range(len(best_keywords)):\n",
    "    l=l+best_keywords[i][0]+\" \"\n",
    "l"
   ]
  },
  {
   "cell_type": "code",
   "execution_count": 44,
   "metadata": {},
   "outputs": [
    {
     "data": {
      "image/png": "[encoded data removed]",
      "text/plain": [
       "<Figure size 432x288 with 1 Axes>"
      ]
     },
     "metadata": {
      "needs_background": "light"
     },
     "output_type": "display_data"
    }
   ],
   "source": [
    "wordcloud = WordCloud(max_font_size=50, max_words=100, background_color=\"white\").generate(l)\n",
    "plt.figure()\n",
    "plt.imshow(wordcloud, interpolation=\"bilinear\")\n",
    "plt.axis(\"off\")\n",
    "plt.show()"
   ]
  },
  {
   "cell_type": "code",
   "execution_count": null,
   "metadata": {},
   "outputs": [],
   "source": []
  }
 ],
 "metadata": {
  "kernelspec": {
   "display_name": "Python 3",
   "language": "python",
   "name": "python3"
  },
  "language_info": {
   "codemirror_mode": {
    "name": "ipython",
    "version": 3
   },
   "file_extension": ".py",
   "mimetype": "text/x-python",
   "name": "python",
   "nbconvert_exporter": "python",
   "pygments_lexer": "ipython3",
   "version": "3.6.8"
  }
 },
 "nbformat": 4,
 "nbformat_minor": 2
}
