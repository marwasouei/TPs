{
 "cells": [
  {
   "cell_type": "markdown",
   "metadata": {},
   "source": [
    "# Introduction\n",
    "\n",
    "- The purpose of this TP is to learn how to **extract keywords** from a document or corpus of documents.\n",
    "\n",
    "- **Keywords** are words (or sometimes phrases) that describe/characterize the main **topics** expressed in a document or corpus of documents.\n",
    "\n",
    "- We will use a simple **keyword extraction method** which is based on the **tfidf-BOW** vector representation of documents.\n",
    "\n",
    "- We will use the `scikit-learn` library to obtain the vector representation (and not the `gensim` library as we did in TP3)."
   ]
  },
  {
   "cell_type": "code",
   "execution_count": 1,
   "metadata": {},
   "outputs": [],
   "source": [
    "import pandas as pd\n",
    "from matplotlib import pyplot as plt\n",
    "#import re\n",
    "from sklearn.feature_extraction.text import CountVectorizer, TfidfVectorizer"
   ]
  },
  {
   "cell_type": "markdown",
   "metadata": {},
   "source": [
    "## Read clean corpus from file\n",
    "\n",
    "We will read data from file `news_corpus_clean.pickle` which contains the **preprocessed** (cleaned) corpus of news articles that we worked with in TP3. \n",
    "\n",
    "So notice that each document consists of lowercase stemmed words. Also, stopwords have been removed."
   ]
  },
  {
   "cell_type": "code",
   "execution_count": 189,
   "metadata": {},
   "outputs": [
    {
     "data": {
      "text/plain": [
       "692"
      ]
     },
     "execution_count": 189,
     "metadata": {},
     "output_type": "execute_result"
    }
   ],
   "source": [
    "import pickle\n",
    "with open('./news_corpus_clean.pickle', 'rb') as f:\n",
    "    docs = pickle.load(f)\n",
    "len(docs)"
   ]
  },
  {
   "cell_type": "code",
   "execution_count": 3,
   "metadata": {},
   "outputs": [
    {
     "data": {
      "text/plain": [
       "['réveillon saied chahed fourat avenue habib bourguib cp président gouvern cadre suivi situat sécuritair occas fête fin année président',\n",
       " 'kais saied 2020 année concrétis revend peuple kais saied vidéo diffus président républ président républ kaïs saïed présent mardi 31',\n",
       " 'bct suspect placé garde vue affair détourn md banque central tunis banque central tunis indiqu mardi 31 décembr mission audit intern ordon cour décembr 2019 dévoil',\n",
       " 'réveillon 97 tonnes produit alimentair impropr consomm détruit équip contrôl sanitair relev minister santé effectu jusqu 30 décembr 2019 plus 10870 visit inspect',\n",
       " 'final tunisien gouvern avant 2020 habib jemli non annonc composit nouveau gouvern lieu avant 2020 comme annonc chargé commun']"
      ]
     },
     "execution_count": 3,
     "metadata": {},
     "output_type": "execute_result"
    }
   ],
   "source": [
    "# The first 5 news articles in this corpus. Notice that they have been already PREPROCESSED.\n",
    "docs[0:5]"
   ]
  },
  {
   "cell_type": "markdown",
   "metadata": {},
   "source": [
    "## Generate count-BOW vectors using  `CountVectorizer` class"
   ]
  },
  {
   "cell_type": "code",
   "execution_count": 4,
   "metadata": {},
   "outputs": [
    {
     "data": {
      "text/plain": [
       "(list, 484)"
      ]
     },
     "execution_count": 4,
     "metadata": {},
     "output_type": "execute_result"
    }
   ],
   "source": [
    "from sklearn.feature_extraction.text import CountVectorizer\n",
    "\n",
    "## first create the vocabulary (or dictionary) of words from our corpus of documents\n",
    "\n",
    "MIN_DOC_FREQ = 5\n",
    "count_bow_model = CountVectorizer(min_df=MIN_DOC_FREQ)  # words that have document frequency less than 5 are removed from vocabulary\n",
    "count_bow_model.fit(docs)\n",
    "vocab_list = count_bow_model.get_feature_names()\n",
    "#same thing\n",
    "#vocab_list = list(count_bow_model.vocabulary_.keys())\n",
    "\n",
    "type(vocab_list), len(vocab_list)"
   ]
  },
  {
   "cell_type": "markdown",
   "metadata": {},
   "source": [
    "Let's look at the vocabulary. Notice that the words are arbitrarily ordered in ASCII order."
   ]
  },
  {
   "cell_type": "code",
   "execution_count": 53,
   "metadata": {},
   "outputs": [
    {
     "name": "stdout",
     "output_type": "stream",
     "text": [
      "['10', '12', '13', '14', '16', '1er', '2018', '2019', '2020', '30', '31', '40', '9alb', 'abbou', 'abdel', 'abir', 'accident', 'accord', 'accès', 'affair', 'affirm', 'agence', 'agricultur', 'ainsi', 'al', 'ali', 'ambassadeur', 'ancien', 'annonc', 'annuel', 'annul', 'année', 'ans', 'appel', 'appelé', 'apport', 'après', 'ariana', 'armes', 'armée', 'arp', 'assembl', 'associ', 'assur', 'assuré', 'attayar', 'attendu', 'attent', 'aucun', 'audit', 'augment', 'aujourd', 'auprès', 'avant', 'avoir', 'ayadi', 'bct', 'ben', 'berlin', 'biograph', 'bloc', 'blocs', 'brouillard', 'bureau', 'cabinet', 'cadre', 'candidat', 'carthag', 'central', 'certain', 'cet', 'cette', 'chahed', 'chang', 'chaouach', 'charg', 'chargé', 'chef', 'choix', 'choura', 'coalit', 'comme', 'comment', 'commerc', 'commiss', 'commun', 'communiqu', 'compos', 'composit', 'compte', 'compétent', 'concern', 'concert', 'condamn', 'confianc', 'confirm', 'conférent', 'consacr', 'conseil', 'conseiller', 'constitu', 'consult', 'contre', 'convent', 'cooper', 'coordin', 'corrupt', 'cour', 'cours', 'cp', 'crise', 'critiqu', 'culturel', 'dar', 'date', 'demand', 'depuis', 'derni', 'derouich', 'destourien', 'deux', 'devant', 'devis', 'dhiafa', 'différent', 'dilou', 'dimanch', 'dinars', 'diplomat', 'direct', 'directeur', 'dirig', 'doit', 'don', 'dont', 'dossi', 'droit', 'droits', 'durant', 'décembr', 'décidé', 'décis', 'déclar', 'défens', 'dément', 'démocrat', 'dénonc', 'déput', 'député', 'désign', 'dévoil', 'effectu', 'el', 'encore', 'enfanc', 'ennahdh', 'ennaif', 'ennaïf', 'enregistr', 'enseign', 'ensembl', 'entre', 'entretenu', 'entretien', 'environ', 'envoi', 'erdogan', 'estim', 'estime', 'estimé', 'etat', 'exclus', 'expliqu', 'face', 'facebook', 'faire', 'fait', 'famill', 'femme', 'femmes', 'fethi', 'fin', 'final', 'financ', 'financi', 'fm', 'fois', 'font', 'format', 'former', 'formé', 'front', 'fronti', 'garde', 'gestion', 'ghannouch', 'ghazi', 'gouvern', 'gouvernemental', 'gouverneur', 'gouvernorat', 'grand', 'grève', 'général', 'habib', 'haddaou', 'haroun', 'hier', 'homme', 'hui', 'hédi', 'hôpital', 'imed', 'in', 'indiqu', 'industr', 'indépend', 'inform', 'inlucc', 'instanc', 'institut', 'international', 'intervent', 'intérieur', 'intérim', 'invité', 'islam', 'issue', 'jamli', 'janvi', 'jawhar', 'jemli', 'jeudi', 'jomli', 'jour', 'jours', 'justic', 'kais', 'karama', 'karoui', 'kasserin', 'kaïs', 'khaled', 'leader', 'lequel', 'libre', 'libye', 'libyen', 'lieu', 'liste', 'local', 'lors', 'lundi', 'lutte', 'maghzaou', 'magistrat', 'maha', 'makhlouf', 'mandat', 'mardi', 'maritim', 'marzouk', 'matin', 'mekki', 'membr', 'membre', 'mercred', 'micro', 'midi', 'militair', 'mille', 'million', 'minister', 'ministr', 'modif', 'mohamed', 'mohsen', 'moins', 'mois', 'mongi', 'moussi', 'mouv', 'municipal', 'médenin', 'médias', 'météo', 'météorolog', 'nabil', 'nasfi', 'national', 'nombre', 'nombreux', 'nomin', 'nommé', 'noms', 'non', 'nord', 'noureddin', 'nouveau', 'nouvel', 'nuageux', 'né', 'observ', 'officiel', 'onu', 'organis', 'où', 'page', 'palais', 'parl', 'parlementair', 'parole', 'part', 'parti', 'particip', 'partir', 'partis', 'passer', 'pays', 'pdl', 'person', 'peuple', 'photos', 'plan', 'pluies', 'plus', 'plusieur', 'pléni', 'point', 'polit', 'populair', 'port', 'porte', 'posit', 'possibl', 'post', 'poste', 'pourr', 'premi', 'prendr', 'presse', 'privée', 'prochain', 'propos', 'près', 'précis', 'présenc', 'présent', 'présid', 'président', 'présidentiel', 'prête', 'public', 'publiqu', 'publié', 'périod', 'qalb', 'quelqu', 'question', 'rached', 'rachid', 'radio', 'rahoui', 'rapport', 'recep', 'refus', 'rejet', 'relat', 'rencontr', 'rend', 'rendu', 'report', 'représent', 'respons', 'reste', 'retir', 'revenu', 'reçoit', 'reçu', 'rien', 'route', 'réform', 'réfugi', 'région', 'régional', 'républ', 'réserv', 'réuni', 'réunion', 'réunit', 'révis', 'révèle', 'révélé', 'said', 'saied', 'samedi', 'samir', 'santé', 'savoir', 'saïed', 'secrétair', 'seifeddin', 'sein', 'selon', 'semain', 'servic', 'shems', 'si', 'sit', 'site', 'situat', 'siège', 'slim', 'social', 'societ', 'soir', 'soirée', 'soulign', 'soupçon', 'sous', 'sports', 'station', 'suite', 'surpris', 'suspect', 'séance', 'sécur', 'sécuritair', 'taboub', 'tahya', 'tataouin', 'tayyip', 'temps', 'tenu', 'tenue', 'tn', 'toujour', 'tounes', 'tout', 'toute', 'toutes', 'train', 'transport', 'traver', 'trois', 'très', 'tunis', 'tunisien', 'tunisienumer', 'tuniso', 'turc', 'turqu', 'tête', 'ugtt', 'union', 'urgenc', 'urgent', 'va', 'vendred', 'vent', 'vers', 'veut', 'video', 'vidéo', 'vie', 'vient', 'ville', 'visite', 'voix', 'vote', 'voter', 'votera', 'vrai', 'youssef', 'zied', 'zouhair', 'écart', 'échec', 'économ', 'élect', 'équipe', 'état', 'étranger', 'être']\n"
     ]
    }
   ],
   "source": [
    "print(vocab_list)"
   ]
  },
  {
   "cell_type": "markdown",
   "metadata": {},
   "source": [
    "Create the feature vectors of all documents using count-based BOW representation."
   ]
  },
  {
   "cell_type": "code",
   "execution_count": 8,
   "metadata": {},
   "outputs": [],
   "source": [
    "count_bow_matrix = count_bow_model.transform(docs)"
   ]
  },
  {
   "cell_type": "code",
   "execution_count": 9,
   "metadata": {},
   "outputs": [
    {
     "data": {
      "text/plain": [
       "scipy.sparse.csr.csr_matrix"
      ]
     },
     "execution_count": 9,
     "metadata": {},
     "output_type": "execute_result"
    }
   ],
   "source": [
    "type(count_bow_matrix)"
   ]
  },
  {
   "cell_type": "code",
   "execution_count": 10,
   "metadata": {},
   "outputs": [
    {
     "data": {
      "text/plain": [
       "(692, 484)"
      ]
     },
     "execution_count": 10,
     "metadata": {},
     "output_type": "execute_result"
    }
   ],
   "source": [
    "count_bow_matrix.shape"
   ]
  },
  {
   "cell_type": "code",
   "execution_count": 11,
   "metadata": {},
   "outputs": [
    {
     "data": {
      "text/plain": [
       "(7583, 7583)"
      ]
     },
     "execution_count": 11,
     "metadata": {},
     "output_type": "execute_result"
    }
   ],
   "source": [
    "# the number of non zero values in this matrix\n",
    "count_bow_matrix.nnz,len(count_bow_matrix.data)"
   ]
  },
  {
   "cell_type": "code",
   "execution_count": 12,
   "metadata": {},
   "outputs": [
    {
     "data": {
      "text/plain": [
       "(1, 4)"
      ]
     },
     "execution_count": 12,
     "metadata": {},
     "output_type": "execute_result"
    }
   ],
   "source": [
    "# the min and max of the non zero values in this matrix\n",
    "count_bow_matrix.data.min(),count_bow_matrix.data.max()"
   ]
  },
  {
   "cell_type": "markdown",
   "metadata": {},
   "source": [
    "Let's get the column that corresponds to the word *'saied'*"
   ]
  },
  {
   "cell_type": "code",
   "execution_count": 13,
   "metadata": {},
   "outputs": [
    {
     "data": {
      "text/plain": [
       "394"
      ]
     },
     "execution_count": 13,
     "metadata": {},
     "output_type": "execute_result"
    }
   ],
   "source": [
    "# first let's get the index of the word 'saied' in the matrix\n",
    "token_id = count_bow_model.vocabulary_['saied']\n",
    "token_id"
   ]
  },
  {
   "cell_type": "code",
   "execution_count": 14,
   "metadata": {},
   "outputs": [
    {
     "data": {
      "text/plain": [
       "(numpy.ndarray, (692,))"
      ]
     },
     "execution_count": 14,
     "metadata": {},
     "output_type": "execute_result"
    }
   ],
   "source": [
    "column_vec = count_bow_matrix[:,token_id].A.ravel()\n",
    "type(column_vec),column_vec.shape"
   ]
  },
  {
   "cell_type": "code",
   "execution_count": 15,
   "metadata": {},
   "outputs": [
    {
     "data": {
      "text/plain": [
       "[<matplotlib.lines.Line2D at 0x7f3162d3b860>]"
      ]
     },
     "execution_count": 15,
     "metadata": {},
     "output_type": "execute_result"
    },
    {
     "data": {
      "image/png": "[encoded data removed]",
      "text/plain": [
       "<Figure size 432x288 with 1 Axes>"
      ]
     },
     "metadata": {
      "needs_background": "light"
     },
     "output_type": "display_data"
    }
   ],
   "source": [
    "plt.plot(column_vec)"
   ]
  },
  {
   "cell_type": "code",
   "execution_count": 16,
   "metadata": {},
   "outputs": [
    {
     "data": {
      "text/plain": [
       "(655, 37)"
      ]
     },
     "execution_count": 16,
     "metadata": {},
     "output_type": "execute_result"
    }
   ],
   "source": [
    "# number of zeros and the number of non-zero values in this vector\n",
    "(column_vec==0).sum(),(column_vec>0).sum()"
   ]
  },
  {
   "cell_type": "code",
   "execution_count": 17,
   "metadata": {},
   "outputs": [
    {
     "data": {
      "text/plain": [
       "3"
      ]
     },
     "execution_count": 17,
     "metadata": {},
     "output_type": "execute_result"
    }
   ],
   "source": [
    "column_vec.max()"
   ]
  },
  {
   "cell_type": "code",
   "execution_count": 18,
   "metadata": {},
   "outputs": [
    {
     "data": {
      "text/plain": [
       "52"
      ]
     },
     "execution_count": 18,
     "metadata": {},
     "output_type": "execute_result"
    }
   ],
   "source": [
    "column_vec.sum()"
   ]
  },
  {
   "cell_type": "markdown",
   "metadata": {},
   "source": [
    "**Questions**\n",
    "\n",
    "1. what do the values in `column_vec` correspond to?\n",
    "2. the maximum value in this vector is 3; what does this mean?\n",
    "3. the sum of values in this vector is 52; what does this mean?\n",
    "4. the number of zero values in this vector is 655; what does this mean?\n",
    "5. the number of non-zero values in this vector is 37; what does this mean?"
   ]
  },
  {
   "cell_type": "markdown",
   "metadata": {},
   "source": [
    "#q1.\n",
    "column \"column_vec\" corresponds to the vector that represents the word 'saied'"
   ]
  },
  {
   "cell_type": "markdown",
   "metadata": {},
   "source": [
    "#q2.\n",
    "la valeur 3 est la valeur maximale de frequence du mot saied dans un seul document "
   ]
  },
  {
   "cell_type": "markdown",
   "metadata": {},
   "source": [
    "#q3.\n",
    "la valeur 52 est la valeur totale d'occurence de  mot saied dans tous les documents"
   ]
  },
  {
   "cell_type": "markdown",
   "metadata": {},
   "source": [
    "#q4.\n",
    "Il y a 655 documents qui ne contient pas le mot saied"
   ]
  },
  {
   "cell_type": "markdown",
   "metadata": {},
   "source": [
    "#q5.\n",
    "Il y a 37 documents qui contient le mot saied"
   ]
  },
  {
   "cell_type": "markdown",
   "metadata": {},
   "source": [
    "Let's get the 7th row of the BOW matrix."
   ]
  },
  {
   "cell_type": "code",
   "execution_count": 22,
   "metadata": {},
   "outputs": [
    {
     "data": {
      "text/plain": [
       "(numpy.ndarray, (484,))"
      ]
     },
     "execution_count": 22,
     "metadata": {},
     "output_type": "execute_result"
    }
   ],
   "source": [
    "# the 7th row of the BOW matrix\n",
    "row_vec = count_bow_matrix[6,:].A.ravel()\n",
    "type(row_vec),row_vec.shape"
   ]
  },
  {
   "cell_type": "code",
   "execution_count": 23,
   "metadata": {},
   "outputs": [
    {
     "data": {
      "text/plain": [
       "[<matplotlib.lines.Line2D at 0x7f3162c4f9e8>]"
      ]
     },
     "execution_count": 23,
     "metadata": {},
     "output_type": "execute_result"
    },
    {
     "data": {
      "image/png": "[encoded data removed]",
      "text/plain": [
       "<Figure size 432x288 with 1 Axes>"
      ]
     },
     "metadata": {
      "needs_background": "light"
     },
     "output_type": "display_data"
    }
   ],
   "source": [
    "plt.plot(row_vec)"
   ]
  },
  {
   "cell_type": "code",
   "execution_count": 67,
   "metadata": {},
   "outputs": [
    {
     "data": {
      "text/plain": [
       "(475, 9)"
      ]
     },
     "execution_count": 67,
     "metadata": {},
     "output_type": "execute_result"
    }
   ],
   "source": [
    "# number of zeros and non-zeros in this vector\n",
    "(row_vec==0).sum(),(row_vec>0).sum()"
   ]
  },
  {
   "cell_type": "code",
   "execution_count": 68,
   "metadata": {},
   "outputs": [
    {
     "data": {
      "text/plain": [
       "2"
      ]
     },
     "execution_count": 68,
     "metadata": {},
     "output_type": "execute_result"
    }
   ],
   "source": [
    "row_vec.max()"
   ]
  },
  {
   "cell_type": "code",
   "execution_count": 69,
   "metadata": {},
   "outputs": [
    {
     "data": {
      "text/plain": [
       "10"
      ]
     },
     "execution_count": 69,
     "metadata": {},
     "output_type": "execute_result"
    }
   ],
   "source": [
    "row_vec.sum()"
   ]
  },
  {
   "cell_type": "markdown",
   "metadata": {},
   "source": [
    "**Questions**\n",
    "\n",
    "1. what do the values in `row_vec` correspond to?\n",
    "2. the maximum value in this vector is 2; what does this mean?\n",
    "3. the sum of values in this vector is 10; what does this mean?\n",
    "4. the number of zero values in this vector is 475; what does this mean?\n",
    "5. the number of non-zero values in this vector is 9; what does this mean?"
   ]
  },
  {
   "cell_type": "markdown",
   "metadata": {},
   "source": [
    "#q1.\n",
    "row_vec is the 7th document "
   ]
  },
  {
   "cell_type": "markdown",
   "metadata": {},
   "source": [
    "#q2.\n",
    "2 represent la frequence maximale par mot dans le 7eme document"
   ]
  },
  {
   "cell_type": "markdown",
   "metadata": {},
   "source": [
    "#q3.\n",
    "10 La somme totale des frequences des mots dans le 7eme document"
   ]
  },
  {
   "cell_type": "markdown",
   "metadata": {},
   "source": [
    "#q4.\n",
    "475 represnete le nombre des mots qui ne sont pas dans ce document"
   ]
  },
  {
   "cell_type": "markdown",
   "metadata": {},
   "source": [
    "#q5. Il y a 9 mots qui sont dans le document "
   ]
  },
  {
   "cell_type": "markdown",
   "metadata": {},
   "source": [
    "## Generate tfidf-BOW vectors using  `TfidfVectorizer` class"
   ]
  },
  {
   "cell_type": "code",
   "execution_count": 24,
   "metadata": {},
   "outputs": [],
   "source": [
    "?TfidfVectorizer"
   ]
  },
  {
   "cell_type": "code",
   "execution_count": 25,
   "metadata": {},
   "outputs": [],
   "source": [
    "from sklearn.feature_extraction.text import TfidfVectorizer\n",
    "\n",
    "tfidf_bow_model = TfidfVectorizer(min_df=MIN_DOC_FREQ, vocabulary=vocab_list, norm=None)\n",
    "tfidf_bow_model.fit(docs)\n",
    "assert vocab_list == tfidf_bow_model.get_feature_names()"
   ]
  },
  {
   "cell_type": "markdown",
   "metadata": {},
   "source": [
    "Let's have a look at the IDF values of all vocabulary words.\n",
    "\n",
    "**Remark**: the *IDF* of a word = *Inverse Document Frequency*; and the *Document Frequency* of a word = number of documents that contain that word."
   ]
  },
  {
   "cell_type": "code",
   "execution_count": 26,
   "metadata": {},
   "outputs": [
    {
     "data": {
      "text/plain": [
       "(numpy.ndarray, 484)"
      ]
     },
     "execution_count": 26,
     "metadata": {},
     "output_type": "execute_result"
    }
   ],
   "source": [
    "words_idf = tfidf_bow_model.idf_\n",
    "type(words_idf), len(words_idf)"
   ]
  },
  {
   "cell_type": "code",
   "execution_count": 27,
   "metadata": {},
   "outputs": [
    {
     "data": {
      "text/plain": [
       "array([5.05612335, 5.34380542, 4.90197267, 5.74927053, 5.74927053,\n",
       "       5.05612335, 5.34380542, 3.73436751, 2.65822808, 4.65065824])"
      ]
     },
     "execution_count": 27,
     "metadata": {},
     "output_type": "execute_result"
    }
   ],
   "source": [
    "words_idf[0:10]"
   ]
  },
  {
   "cell_type": "code",
   "execution_count": 28,
   "metadata": {},
   "outputs": [
    {
     "data": {
      "text/plain": [
       "(1.8439365126844987, 5.749270529961848)"
      ]
     },
     "execution_count": 28,
     "metadata": {},
     "output_type": "execute_result"
    }
   ],
   "source": [
    "words_idf.min(), words_idf.max()"
   ]
  },
  {
   "cell_type": "markdown",
   "metadata": {},
   "source": [
    "Let's determine the IDF value of the vocabulary word 'saied'."
   ]
  },
  {
   "cell_type": "code",
   "execution_count": 29,
   "metadata": {},
   "outputs": [
    {
     "data": {
      "text/plain": [
       "394"
      ]
     },
     "execution_count": 29,
     "metadata": {},
     "output_type": "execute_result"
    }
   ],
   "source": [
    "# first determine the index of the word in the vocabulary\n",
    "token_id = tfidf_bow_model.vocabulary_['saied']\n",
    "token_id"
   ]
  },
  {
   "cell_type": "code",
   "execution_count": 30,
   "metadata": {},
   "outputs": [
    {
     "data": {
      "text/plain": [
       "3.9034438394635176"
      ]
     },
     "execution_count": 30,
     "metadata": {},
     "output_type": "execute_result"
    }
   ],
   "source": [
    "# the idf of this word\n",
    "words_idf[token_id]"
   ]
  },
  {
   "cell_type": "markdown",
   "metadata": {},
   "source": [
    "**Questions**\n",
    "\n",
    "1. What is the IDF of the word 'jemli'?\n",
    "2. Deduce the document frequency of this word, i.e. the number of documents that contain this word.\n",
    "3. Is this word more frequent or less frequent than the word 'saied'? Explain.\n",
    "4. Which word in our vocabulary has the highest document frequency?  Hint: the `argmin` function from the `numpy` library might be helpful. Alternatively you can just use a simple *for* loop."
   ]
  },
  {
   "cell_type": "code",
   "execution_count": 31,
   "metadata": {},
   "outputs": [
    {
     "data": {
      "text/plain": [
       "2.3705460041517514"
      ]
     },
     "execution_count": 31,
     "metadata": {},
     "output_type": "execute_result"
    }
   ],
   "source": [
    "#q1.\n",
    "token_id1 = tfidf_bow_model.vocabulary_['jemli']\n",
    "words_idf[token_id1]"
   ]
  },
  {
   "cell_type": "code",
   "execution_count": 32,
   "metadata": {},
   "outputs": [
    {
     "data": {
      "text/plain": [
       "0.4218437432762788"
      ]
     },
     "execution_count": 32,
     "metadata": {},
     "output_type": "execute_result"
    }
   ],
   "source": [
    "#q2.the number of documents that contain this word.\n",
    "1/2.3705460041517514"
   ]
  },
  {
   "cell_type": "code",
   "execution_count": 33,
   "metadata": {},
   "outputs": [
    {
     "data": {
      "text/plain": [
       "0.25618403674470136"
      ]
     },
     "execution_count": 33,
     "metadata": {},
     "output_type": "execute_result"
    }
   ],
   "source": [
    "#q3. for the word saied\n",
    "1/3.9034438394635176"
   ]
  },
  {
   "cell_type": "markdown",
   "metadata": {},
   "source": [
    "so saied is less frequent than jemli"
   ]
  },
  {
   "cell_type": "code",
   "execution_count": 35,
   "metadata": {},
   "outputs": [
    {
     "data": {
      "text/plain": [
       "446"
      ]
     },
     "execution_count": 35,
     "metadata": {},
     "output_type": "execute_result"
    }
   ],
   "source": [
    "#q4. tunis has the highest document frequency\n",
    "import numpy as np\n",
    "np.argmin(words_idf,axis=0)"
   ]
  },
  {
   "cell_type": "code",
   "execution_count": 40,
   "metadata": {},
   "outputs": [
    {
     "data": {
      "text/plain": [
       "'tunis'"
      ]
     },
     "execution_count": 40,
     "metadata": {},
     "output_type": "execute_result"
    }
   ],
   "source": [
    "vocab_list[446]"
   ]
  },
  {
   "cell_type": "markdown",
   "metadata": {},
   "source": [
    "Create the feature vectors of all documents (tfidf-based BOW representation)"
   ]
  },
  {
   "cell_type": "code",
   "execution_count": 41,
   "metadata": {},
   "outputs": [
    {
     "data": {
      "text/plain": [
       "scipy.sparse.csr.csr_matrix"
      ]
     },
     "execution_count": 41,
     "metadata": {},
     "output_type": "execute_result"
    }
   ],
   "source": [
    "tfidf_bow_matrix = tfidf_bow_model.transform(docs)\n",
    "type(tfidf_bow_matrix)"
   ]
  },
  {
   "cell_type": "code",
   "execution_count": 42,
   "metadata": {},
   "outputs": [],
   "source": [
    "assert tfidf_bow_matrix.shape==count_bow_matrix.shape"
   ]
  },
  {
   "cell_type": "code",
   "execution_count": 43,
   "metadata": {},
   "outputs": [],
   "source": [
    "# the number of non zero values in this matrix must be the same as the previous matrix\n",
    "assert tfidf_bow_matrix.nnz==count_bow_matrix.nnz"
   ]
  },
  {
   "cell_type": "code",
   "execution_count": 44,
   "metadata": {},
   "outputs": [
    {
     "data": {
      "text/plain": [
       "(1.8439365126844987, 17.247811589885544)"
      ]
     },
     "execution_count": 44,
     "metadata": {},
     "output_type": "execute_result"
    }
   ],
   "source": [
    "# the min and max of the non zero values in this matrix\n",
    "tfidf_bow_matrix.data.min(), tfidf_bow_matrix.data.max()"
   ]
  },
  {
   "cell_type": "markdown",
   "metadata": {},
   "source": [
    "**Questions**\n",
    "\n",
    "1. Determine the 3 words that have the highest tfidf values in the 7th document (row number 6 in the matrix). Hint: you should first extract the row vector of this document from the matrix as we did in the previous part ...\n",
    "2. Determine the maximum tfidf value of the word `jemli`. Hint: first extract the column vector of this word from the matrix as we did in the previous part ..."
   ]
  },
  {
   "cell_type": "code",
   "execution_count": 147,
   "metadata": {},
   "outputs": [
    {
     "data": {
      "text/plain": [
       "(484,)"
      ]
     },
     "execution_count": 147,
     "metadata": {},
     "output_type": "execute_result"
    }
   ],
   "source": [
    "row_tfidf = tfidf_bow_matrix[6,:].A.ravel()\n",
    "row_tfidf.shape"
   ]
  },
  {
   "cell_type": "code",
   "execution_count": 153,
   "metadata": {},
   "outputs": [
    {
     "data": {
      "text/plain": [
       "environ      0.000000\n",
       "2019         3.734368\n",
       "décembr      3.930112\n",
       "mardi        3.957511\n",
       "minister     3.985682\n",
       "31           4.768441\n",
       "femme        5.143135\n",
       "enfanc       5.461588\n",
       "famill       5.749271\n",
       "don         10.923177\n",
       "dtype: float64"
      ]
     },
     "execution_count": 153,
     "metadata": {},
     "output_type": "execute_result"
    }
   ],
   "source": [
    "row_tfidf_df = pd.Series(row_tfidf, index=vocab_list)\n",
    "row_tfidf_df.head(30)\n",
    "row_tfidf_df.sort_values().tail(10)"
   ]
  },
  {
   "cell_type": "code",
   "execution_count": 123,
   "metadata": {},
   "outputs": [],
   "source": [
    "l=np.where(row_tfidf!=0)"
   ]
  },
  {
   "cell_type": "code",
   "execution_count": 125,
   "metadata": {},
   "outputs": [
    {
     "data": {
      "text/plain": [
       "[7, 10, 133, 139, 154, 177, 178, 259, 272]"
      ]
     },
     "execution_count": 125,
     "metadata": {},
     "output_type": "execute_result"
    }
   ],
   "source": [
    "l=l[0].tolist()\n",
    "l"
   ]
  },
  {
   "cell_type": "code",
   "execution_count": 126,
   "metadata": {},
   "outputs": [
    {
     "data": {
      "text/plain": [
       "{7: 3.7343675094195836,\n",
       " 10: 4.7684412769501225,\n",
       " 133: 10.923176915020134,\n",
       " 139: 3.930112086545679,\n",
       " 154: 5.461588457510067,\n",
       " 177: 5.749270529961848,\n",
       " 178: 5.143134726391533,\n",
       " 259: 3.9575110607337933,\n",
       " 272: 3.9856819377004897}"
      ]
     },
     "execution_count": 126,
     "metadata": {},
     "output_type": "execute_result"
    }
   ],
   "source": [
    "k={}\n",
    "for i in l:\n",
    "    \n",
    "    k[i]=row_tfidf[i]\n",
    "k"
   ]
  },
  {
   "cell_type": "code",
   "execution_count": 154,
   "metadata": {},
   "outputs": [
    {
     "name": "stdout",
     "output_type": "stream",
     "text": [
      "don\n",
      "famill\n",
      "enfanc\n"
     ]
    }
   ],
   "source": [
    "dicti={j: v for j, v in sorted(k.items(), key=lambda item: item[1],reverse=True)}\n",
    "list_keys=list(dicti.keys())\n",
    "list_keys=list_keys[0:3]\n",
    "for m in list_keys:\n",
    "    print(vocab_list[m])"
   ]
  },
  {
   "cell_type": "code",
   "execution_count": 142,
   "metadata": {},
   "outputs": [
    {
     "data": {
      "text/plain": [
       "231"
      ]
     },
     "execution_count": 142,
     "metadata": {},
     "output_type": "execute_result"
    }
   ],
   "source": [
    "token_id1"
   ]
  },
  {
   "cell_type": "code",
   "execution_count": 143,
   "metadata": {},
   "outputs": [
    {
     "data": {
      "text/plain": [
       "0.0"
      ]
     },
     "execution_count": 143,
     "metadata": {},
     "output_type": "execute_result"
    }
   ],
   "source": [
    "tfidf_jemli"
   ]
  },
  {
   "cell_type": "code",
   "execution_count": 144,
   "metadata": {},
   "outputs": [],
   "source": [
    "#q2.\n",
    "\n",
    "tfidf_column = tfidf_bow_matrix[:,token_id1].A.ravel()"
   ]
  },
  {
   "cell_type": "code",
   "execution_count": 146,
   "metadata": {},
   "outputs": [
    {
     "data": {
      "text/plain": [
       "98"
      ]
     },
     "execution_count": 146,
     "metadata": {},
     "output_type": "execute_result"
    }
   ],
   "source": [
    "np.argmax(tfidf_column,axis=0)"
   ]
  },
  {
   "cell_type": "markdown",
   "metadata": {},
   "source": [
    "## Extract keywords of each document using tfidf vectors\n",
    "\n",
    "**Questions**\n",
    "\n",
    "1. For each document, determine the list of 5 words that correspond to the largest nonzero tfidf values. *Note*: If a document has $n$ nonzero tfidf values and $n<5$, then the list should contain only $n$ words. Store the result for all documents in the corpus in a list of lists called `docs_keywords`.\n",
    "2. Print each document and its corresponding keywords on a separate line. Hint: you just need to iterate over the 2 lists `docs` and `docs_keywords` and print their elements.\n",
    "3. Do the keywords change if you use `ngram_range=2` in the creation of the `TfidfVectorizer` instance above? "
   ]
  },
  {
   "cell_type": "code",
   "execution_count": 183,
   "metadata": {},
   "outputs": [],
   "source": [
    "#q1.\n",
    "docs_keywords=[]\n",
    "for i in range(tfidf_bow_matrix.shape[0]):\n",
    "    row_tfidf = tfidf_bow_matrix[i,:].A.ravel()\n",
    "\n",
    "    row_tfidf_df = pd.Series(row_tfidf, index=vocab_list)\n",
    "    row_tfidf_df.head(30)\n",
    "    rr=row_tfidf_df.sort_values().tail(5)\n",
    "    m=rr>0.0\n",
    "    s=m[m.values==True].index\n",
    "    docs_keywords.append(list(s))\n",
    "    \n",
    "    "
   ]
  },
  {
   "cell_type": "code",
   "execution_count": 182,
   "metadata": {},
   "outputs": [
    {
     "data": {
      "text/plain": [
       "[['président', 'fin', 'sécuritair', 'cp', 'cadre'],\n",
       " ['président', 'vidéo', 'républ', 'saied', 'kais'],\n",
       " ['bct', 'suspect', 'audit', 'décembr', 'central'],\n",
       " ['minister', 'plus', '30', 'santé', 'effectu'],\n",
       " ['2020', 'lieu', 'final', 'annonc', 'avant'],\n",
       " ['gouverneur', 'devis', 'révèle', 'bct', 'audit'],\n",
       " ['31', 'femme', 'enfanc', 'famill', 'don'],\n",
       " ['soupçon', 'radio', 'shems', 'corrupt', 'inlucc'],\n",
       " ['critiqu', 'surpris', 'décis', 'urgenc', 'état'],\n",
       " ['sécur', 'intérieur', 'décidé', 'cadre', 'toute'],\n",
       " ['el', 'cours', 'dinars', 'mille', 'augment'],\n",
       " ['où', 'hier', 'issue', 'social', 'route'],\n",
       " ['observ', 'être', 'plusieur', 'grève', 'hôpital'],\n",
       " ['31', 'soirée', 'fois', 'expliqu', 'gouvern'],\n",
       " ['année', 'premi', 'né', 'nouveau', 'fm'],\n",
       " ['effectu', 'saïed', 'kaïs', 'visite', 'central'],\n",
       " ['youssef', 'gestion', 'saïed', 'chahed', 'central'],\n",
       " ['31', 'toutes', 'saïed', 'kaïs', 'tunisien'],\n",
       " ['nuageux', 'durant', 'ensembl', 'mercred', '1er'],\n",
       " ['chahed', 'instanc', 'inform', 'annuel', 'accès'],\n",
       " ['carthag', '31', 'midi', 'international', 'reçoit'],\n",
       " ['gouvernorat', 'derni', 'ben', 'enregistr', 'durant'],\n",
       " ['national', 'nouveau', 'directeur'],\n",
       " ['gouvern', 'habib', 'jamli', 'formé'],\n",
       " ['tunis', 'saïed', 'kaïs', 'reste'],\n",
       " ['affair', 'sécuritair'],\n",
       " ['garde', 'bct', 'suspect', 'devis'],\n",
       " [],\n",
       " ['gouvern', 'jamli', 'plus', 'année', 'prochain'],\n",
       " ['année', 'fin', 'route'],\n",
       " ['déput', 'corrupt', '10', 'près', 'suspect'],\n",
       " ['habib', 'jamli', 'quelqu', 'reste'],\n",
       " ['tunis', 'plus', 'femmes'],\n",
       " ['nouveau', 'général', 'directeur', 'nomin'],\n",
       " ['nouveau'],\n",
       " ['président', 'gouvern', 'indépend', 'va', 'vers'],\n",
       " ['saïed', 'tunisien', 'kaïs', 'rend'],\n",
       " ['derni', 'auprès', 'assur', 'publiqu'],\n",
       " ['habib', 'ennahdh', 'jamli', 'choix'],\n",
       " ['tunis', 'républ', 'nouvel'],\n",
       " ['tête', 'grand', 'choix', 'ayadi', 'national'],\n",
       " ['30', 'convent', 'financ', 'port', 'gestion'],\n",
       " ['2020', 'million', 'contre', 'ville'],\n",
       " ['convent', 'ariana', 'minister', 'agricultur', 'environ'],\n",
       " ['enfanc', 'minister', 'entre', 'convent', 'famill'],\n",
       " ['moins', 'droit', 'publiqu', 'vie', 'organis'],\n",
       " ['national', 'dirig', 'équipe', 'institut', 'site'],\n",
       " ['prête', 'station', 'différent', 'sécuritair', 'tataouin'],\n",
       " ['météo', 'vent', '40', 'pluies', 'nord'],\n",
       " ['2018', 'annuel', 'soupçon', 'don', 'corrupt'],\n",
       " ['avoir', 'agence', 'soulign', 'près', 'person'],\n",
       " ['météo', 'pluies', 'vent', 'nord', 'nuageux'],\n",
       " ['annuel', '2018', 'révélé', 'rapport', 'inlucc'],\n",
       " ['révélé', 'soupçon', 'financi', 'inlucc', 'corrupt'],\n",
       " ['minister', 'santé', 'effectu', 'commerc'],\n",
       " ['marzouk', 'recep', 'mohsen', 'tayyip', 'public'],\n",
       " ['jemli', 'année', 'cette', 'habib', 'avant'],\n",
       " ['rend', 'saïed', 'kaïs', 'visite', 'central'],\n",
       " ['video', 'vient', 'saïed', 'tunisien', 'kaïs'],\n",
       " ['cette', 'dar', 'dhiafa', 'attent', 'final'],\n",
       " ['fait', 'jemli', 'quelqu', 'habib', 'ennahdh'],\n",
       " ['annuel', 'accès', 'chahed', 'instanc', 'youssef'],\n",
       " ['faire', 'compétent', 'devant', 'rien', 'moins'],\n",
       " ['point', 'exclus', 'annonc', 'membr', 'liste'],\n",
       " ['concern', 'passer', 'reste', 'gouvern', 'nouveau'],\n",
       " ['nomin', 'partir', 'nommé', 'général', 'directeur'],\n",
       " ['porte', 'ugtt', 'révèle', 'suspect', 'nomin'],\n",
       " ['tunis', 'photos', 'kais', 'nouvel', 'républ'],\n",
       " ['union', 'taboub', 'ugtt', 'ennahdh', 'général'],\n",
       " ['dar', 'dhiafa', 'point', 'être', 'rien'],\n",
       " ['reçoit', 'siège', 'sit', 'in', 'el'],\n",
       " ['non', 'veut', 'tête', 'comment', 'ghannouch'],\n",
       " ['derni', '30', 'présidentiel', 'tunis', 'ambassadeur'],\n",
       " ['jours', 'être', 'trois', 'vrai', 'train'],\n",
       " ['al', 'facebook', 'estimé', 'annonc', 'report'],\n",
       " ['30', 'hôpital', 'parlementair', 'commiss', 'accident'],\n",
       " ['cet', 'relat', 'attendu', 'annul', 'conférent'],\n",
       " ['30', 'karama', 'coalit', 'makhlouf', 'seifeddin'],\n",
       " ['annonc', 'conférent', 'report', 'dar', 'dhiafa'],\n",
       " ['radio', 'pourr', 'urgent', 'train', 'ennahdh'],\n",
       " ['tout', 'saïed', 'kaïs', 'état', 'urgenc'],\n",
       " ['midi', 'cet', 'attendu', 'presse', 'conférent'],\n",
       " ['général', 'dimanch', 'estime', 'derni', 'élect'],\n",
       " ['facebook', 'post', 'ennahdh', 'député', 'format'],\n",
       " ['ennahdh', 'entre', 'conseil', 'bureau', 'choura'],\n",
       " ['prochain', 'relat', 'former', 'ghannouch', 'rached'],\n",
       " ['noureddin', 'cet', 'dar', 'ugtt', 'dhiafa'],\n",
       " ['plus', 'où', 'dar', 'dhiafa', 'grand'],\n",
       " ['candidat', 'minister', 'choura', 'enseign', 'slim'],\n",
       " ['indiqu', 'prochain', 'final', 'gouvern', 'composit'],\n",
       " ['nommé', 'direct', 'sécur', 'porte', 'parole'],\n",
       " ['près', 'font', 'suspect', 'déput', 'corrupt'],\n",
       " ['nouvel', 'jemli', 'va', 'savoir', 'passer'],\n",
       " ['non', 'cabinet', 'ghannouch', 'tunisien', 'saied'],\n",
       " ['très', 'ministr', 'national', 'défens', 'ayadi'],\n",
       " ['jemli', 'vient', 'gouvernemental', 'gouvern', 'ministr'],\n",
       " ['votera', 'samir', 'choura', 'ennahdh', 'dilou'],\n",
       " ['envoi', 'etat', 'parl', 'saied', 'kais'],\n",
       " ['habib', 'savoir', 'dar', 'dhiafa', 'jemli'],\n",
       " ['affirm', 'cp', 'droit', 'ben', 'jawhar'],\n",
       " ['indépend', 'compétent', 'votera', 'tounes', 'tahya'],\n",
       " ['directeur', 'khaled', 'confirm', 'societ', 'servic'],\n",
       " ['contre', 'décidé', 'jours', 'trois', 'grève'],\n",
       " ['international', 'augment', 'grand', 'réform', 'nouvel'],\n",
       " ['habib', 'vidéo', 'point', 'attendu', 'presse'],\n",
       " ['femme', 'femmes', 'part', 'prendr', '40'],\n",
       " ['cabinet', 'compétent', 'femme', 'point', '40'],\n",
       " ['conférent', 'vient', 'compétent', 'issue', 'entretien'],\n",
       " ['midi', 'vient', 'page', 'cet', 'urgent'],\n",
       " ['facebook', 'reçoit', 'ainsi', 'urgent', 'servic'],\n",
       " ['quelqu', 'habib', 'où', 'présidentiel', 'report'],\n",
       " ['tenu', 'front', 'populair', 'sit', 'in'],\n",
       " ['premi', 'front', 'populair', 'sit', 'in'],\n",
       " ['midi', 'fin', 'gouvern', 'saied', 'kais'],\n",
       " ['jemli', 'soir', 'vidéo', 'gouvern', 'annonc'],\n",
       " ['nord', '12', 'près', 'nuageux', 'vent'],\n",
       " ['représent', 'réunion', 'parl', 'samedi', 'bureau'],\n",
       " ['ministr', 'nouveau', 'commerc'],\n",
       " ['ministr', 'arp', 'chargé', 'relat'],\n",
       " ['nouveau', 'affair', 'haddaou', 'culturel', 'fethi'],\n",
       " ['1er', 'kasserin', 'ministr', 'etat', 'abdel'],\n",
       " ['encore', 'confirm', 'seifeddin', 'réuni', 'makhlouf'],\n",
       " ['former', 'khaled', 'décis', 'formé', 'indépend'],\n",
       " ['président', 'toujour', 'part', 'républ', 'reçu'],\n",
       " ['mois', 'partir', 'vrai', 'social', 'augment'],\n",
       " ['augment', 'partir', 'révis', 'poste', 'servic'],\n",
       " ['affair', 'chargé', 'biograph', 'économ', 'ali'],\n",
       " ['gouvern', 'jamli', 'font'],\n",
       " ['ministr', 'biograph', 'intérieur'],\n",
       " ['etat', 'biograph', 'charg', 'intérieur', 'commerc'],\n",
       " ['ministr', 'affair', 'biograph', 'étranger', 'khaled'],\n",
       " ['appel', 'jamli', 'pléni', 'parl', 'organis'],\n",
       " ['ministr', 'biograph', 'format'],\n",
       " ['saïed', 'affair', 'nouveau', 'biograph', 'social'],\n",
       " ['ministr', 'biograph', 'femme', 'enfanc', 'famill'],\n",
       " ['ministr', 'affair', 'biograph', 'rachid'],\n",
       " ['etat', 'biograph', 'ben', 'auprès', 'industr'],\n",
       " ['ministr', 'biograph', 'santé'],\n",
       " ['erdogan', 'transport', 'accident', 'régional', 'route'],\n",
       " ['entre', 'accident'],\n",
       " ['affair', 'nommé', 'haddaou', 'fethi', 'culturel'],\n",
       " ['organis', 'prochain', 'consacr', 'assembl', 'samedi'],\n",
       " ['ennahdh', 'tounes', 'entre', 'qalb', 'makhlouf'],\n",
       " ['justic', 'chef', 'cabinet', 'hédi', 'ancien'],\n",
       " ['militair', 'armée', 'envoi', 'libye', 'erdogan'],\n",
       " ['appelé', 'garde', 'prendr', 'brouillard', 'route'],\n",
       " ['avoir', 'jomli', 'dont', '14', 'gouvern'],\n",
       " ['réserv', 'noms', 'tounes', 'qalb', 'jomli'],\n",
       " ['ayadi', 'final', 'sports', 'jomli', 'femmes'],\n",
       " ['million', 'financ', 'sous', 'estim', 'environ'],\n",
       " ['soirée', 'tenu', 'séance', 'réunit', 'ensembl'],\n",
       " ['armée'],\n",
       " ['état', 'ancien', 'ministr', 'nommé', 'justic'],\n",
       " ['jomli', 'prochain', 'semain', 'lieu', 'nouveau'],\n",
       " ['étranger', 'nommé', 'person', 'diplomat', 'khaled'],\n",
       " ['derouich', 'ministr', 'défens', 'imed', 'magistrat'],\n",
       " ['état', 'magistrat', 'ministr', 'nouveau', 'intérieur'],\n",
       " ['dévoil', 'gouvernemental', 'noureddin', 'ancien', 'nouveau'],\n",
       " ['envoi', 'saïed', 'kaïs', 'liste', 'tenu'],\n",
       " ['lequel', 'confianc', 'tounes', 'voter', 'refus'],\n",
       " ['lequel', 'former', 'chaouach', 'post', 'ghazi'],\n",
       " ['tout', 'choix', 'secrétair', 'surpris', 'maha'],\n",
       " ['tenue', 'ghannouch', 'rached', 'samedi', 'date'],\n",
       " ['va', 'confirm', 'toute', 'fois', 'depuis'],\n",
       " ['nasfi', 'présid', 'national', 'bloc', 'réform'],\n",
       " ['tenue', 'fin', 'dar', 'dhiafa', 'vrai'],\n",
       " ['mongi', 'né', 'marzouk', 'ministr', 'industr'],\n",
       " ['liste', 'garde', 'transport', 'intérim', 'ministr'],\n",
       " ['équipe', 'conférent', 'jemli', 'vient', 'composit'],\n",
       " ['nabil', 'refus', 'réserv', 'tounes', '9alb'],\n",
       " ['micro', 'révis', 'train', 'ennahdh', 'dilou'],\n",
       " ['communiqu', 'kais', 'publié', 'liste', 'photos'],\n",
       " ['attendu', 'formé', 'saïed', 'kaïs', 'liste'],\n",
       " ['certain', 'droit', 'vote', 'ben', 'jawhar'],\n",
       " ['savoir', 'droit', 'jawhar', 'entre', 'ben'],\n",
       " ['habib', 'votera', 'confianc', 'tounes', 'tahya'],\n",
       " ['femme', 'femmes', 'vrai', '40', 'présent'],\n",
       " ['estimé', 'échec', 'annonc', 'maghzaou', 'zouhair'],\n",
       " ['critiqu', 'expliqu', 'chef', 'makhlouf', 'seifeddin'],\n",
       " ['parti', 'chargé', 'islam', 'vent', 'ennahdh'],\n",
       " ['soir', 'habib', 'lequel', 'lieu', 'ennahdh'],\n",
       " ['nouvel', 'santé', 'compétent', 'ainsi', 'maha'],\n",
       " ['cet', 'tunisienumer', 'exclus', 'membr', 'liste'],\n",
       " ['refus', 'cet', 'suite', 'tenu', 'point'],\n",
       " ['assuré', 'dévoil', 'président', 'point', 'rachid'],\n",
       " ['faire', 'report', 'tenu', 'surpris', 'attent'],\n",
       " ['propos', 'secrétair', 'etat', 'ayadi', 'sports'],\n",
       " ['député', 'conseil', 'dimanch', 'tounes', 'qalb'],\n",
       " ['représent', 'carthag', 'palais', 'soir', 'président'],\n",
       " ['ministr', 'poste', 'mongi', 'marzouk', 'industr'],\n",
       " ['final', 'gouvern', 'ministr', 'composit', 'présent'],\n",
       " ['local', 'financ', 'sous', 'estim', 'environ'],\n",
       " ['30', 'indiqu', 'enregistr', 'près', 'million'],\n",
       " ['minister', 'avoir', '31', 'enfanc', 'don'],\n",
       " ['instanc', 'youssef', 'inform', 'annuel', 'accès'],\n",
       " ['agence', 'gestion', 'soupçon', 'public', 'maritim'],\n",
       " ['cadre', 'lieu', 'convent', 'onu', 'ville'],\n",
       " ['soupçon', 'financi', 'trois', 'corrupt', 'économ'],\n",
       " ['nombre', 'compte', 'grand', 'environ', 'million'],\n",
       " ['rapport', 'international', 'union', 'soulign'],\n",
       " ['tunis', 'industr', '2019', 'compos'],\n",
       " ['saïed', 'kaïs', 'plus', 'constitu'],\n",
       " ['secrétair', 'etat', 'biograph', 'charg'],\n",
       " [],\n",
       " ['membr', 'jamli', 'qalb', 'équipe', 'aucun'],\n",
       " ['habib', 'membr', 'jamli', 'équipe', 'réunit'],\n",
       " ['ghannouch', 'saïed', 'kaïs', 'composit', 'rached'],\n",
       " ['etat', 'biograph', 'auprès', 'sports', 'fethi'],\n",
       " ['secrétair', 'etat', 'biograph', 'santé', 'maha'],\n",
       " ['etat', 'biograph', 'auprès', 'ayadi', 'sports'],\n",
       " ['jamli', 'non', 'femmes', 'compte', '40'],\n",
       " ['ministr', 'chargé', 'biograph', 'hédi', 'rend'],\n",
       " ['biograph', 'ben', 'mohamed', 'ali', 'agricultur'],\n",
       " ['secrétair', 'etat', 'biograph', 'auprès', 'enseign'],\n",
       " ['ministr', 'biograph', 'parl', 'charg', 'relat'],\n",
       " ['gouvern', 'jamli'],\n",
       " ['affair', 'secrétair', 'etat', 'biograph', 'local'],\n",
       " ['nouveau', 'secrétair', 'etat', 'biograph', 'mohamed'],\n",
       " ['gouvernorat', 'janvi', 'partir', 'enregistr', '2019'],\n",
       " ['après', 'vendred', 'général', 'région'],\n",
       " ['ministr', 'propos', 'agricultur'],\n",
       " ['ministr', 'propos', 'affair', 'social', 'said'],\n",
       " ['ministr', 'propos', 'financ'],\n",
       " ['ministr', 'propos', 'défens', 'imed', 'derouich'],\n",
       " ['ministr', 'propos', 'santé'],\n",
       " ['2020', 'institut', 'site', 'vendred', 'météorolog'],\n",
       " ['gouvern', 'jemli', 'propos', 'membr', 'réunit'],\n",
       " ['gouvern', 'après', 'tounes', 'qalb', 'consult'],\n",
       " ['suite', 'turc', 'être', 'public', 'pourr'],\n",
       " ['président', 'républ', 'propos', 'erdogan', 'dément'],\n",
       " ['annonc', 'mois', 'non', 'consult', 'plus'],\n",
       " ['saïed', 'prochain', 'chaouach', 'former', 'doit'],\n",
       " ['rencontr', 'dont', 'photos', 'gouvern', 'membr'],\n",
       " ['secrétair', 'etat', 'santé', 'auprès', 'maha'],\n",
       " ['affair', 'nommé', 'haddaou', 'fethi', 'culturel'],\n",
       " ['membre', 'mandat', 'onu', 'conseil', 'sécur'],\n",
       " ['10', 'janvi', 'date', 'réuni', 'arp'],\n",
       " ['face', 'devant', 'vie', 'font', 'candidat'],\n",
       " ['devant', 'siège', 'post', 'périod', 'coordin'],\n",
       " ['compos', 'revenu', 'conseiller', 'rachid', 'ennaïf'],\n",
       " ['premi', 'don', 'vers', 'mille', 'libye'],\n",
       " ['tunisien', 'depuis', 'avant', 'nombre', 'hôpital'],\n",
       " ['jemli', 'dénonc', 'critiqu', 'compos', 'al'],\n",
       " ['savoir', 'institut', '2019', 'année', 'ensembl'],\n",
       " ['pluies', 'institut', 'don', 'observ', 'brouillard'],\n",
       " ['minister', '2020', 'commerc', 'semain', '1er'],\n",
       " ['comme', 'jemli', 'partis', 'critiqu', 'al'],\n",
       " ['dément', 'financi', 'bct', 'associ', 'devis'],\n",
       " ['abdel', 'al', 'karama', 'votera', 'coalit'],\n",
       " ['janvi', '2020', 'dimanch', 'météo'],\n",
       " ['lieu'],\n",
       " ['arp', 'député', 'officiel', 'pdl'],\n",
       " ['consacr', 'ghannouch', 'confianc', 'date', 'choix'],\n",
       " ['derouich', 'décis', 'surpris', 'homme', 'défens'],\n",
       " ['confianc', 'arp', 'vote', 'janvi', '10'],\n",
       " ['garde', 'ans', 'candidat', 'soirée', '16'],\n",
       " ['premi', 'décidé', 'justic', 'nabil', 'report'],\n",
       " ['poste', 'garde', 'ariana', 'homme', 'mille'],\n",
       " ['commerc', 'précis', 'semain', 'minister', '1er'],\n",
       " ['équipe', 'gouvernemental', 'suite', 'très', 'attendu'],\n",
       " ['comme', 'né', 'ministr', 'propos', 'intérieur'],\n",
       " ['chef', 'désign', 'ministr', 'propos', 'poste'],\n",
       " ['jomli', 'ministr', 'propos', 'poste', 'agricultur'],\n",
       " ['minister', 'comme', 'tête', 'propos', 'format'],\n",
       " ['janvi', 'ministr', 'propos', 'poste'],\n",
       " ['né', 'candidat', 'ministr', 'poste', 'financ'],\n",
       " ['né', 'ministr', 'propos', 'affair', 'social'],\n",
       " ['hédi', 'rend', 'ministr', 'propos', 'chargé'],\n",
       " ['don', 'ministr', 'propos', 'poste', 'transport'],\n",
       " ['cour', 'kasserin', 'magistrat', 'conseiller', 'publiqu'],\n",
       " ['dévoil', 'dont', 'affair', 'haddaou', 'culturel'],\n",
       " ['poste', 'comme', 'né', 'ministr', 'propos'],\n",
       " ['propos', 'poste', 'choura', 'enseign', 'slim'],\n",
       " ['polit', 'cour', 'critiqu', 'estime', 'al'],\n",
       " ['ghannouch', 'rached', 'constitu', 'mongi', 'rahoui'],\n",
       " ['gouvern', 'habib', 'composit', 'jamli'],\n",
       " ['gouvern', 'composit', 'jamli', 'chang'],\n",
       " ['arp', 'siège'],\n",
       " ['gouvern', 'ennahdh', 'tunisien', 'haroun'],\n",
       " ['défens', 'imed', 'nomin', 'dénonc', 'tête'],\n",
       " ['2020', 'confianc', 'arp', 'vote', '10'],\n",
       " ['présent', 'pays', 'prête', 'plan', 'doit'],\n",
       " ['gouvern', 'ennahdh', 'taboub', 'respons', 'doit'],\n",
       " ['date'],\n",
       " ['minister', 'intérieur', 'noureddin', 'abbou', 'justic'],\n",
       " ['tenu', 'réserv', 'compte', 'noms', 'ennaïf'],\n",
       " ['ennahdh', 'tounes', 'qalb', 'zouhair', 'maghzaou'],\n",
       " ['gouvern', 'al', 'karama', 'votera', 'abdel'],\n",
       " ['suite', 'bct'],\n",
       " ['habib', 'jamli', 'samir', 'noureddin', 'taboub'],\n",
       " ['gouvern', 'contre'],\n",
       " ['transport', 'tunis', 'surpris', 'societ', 'grève'],\n",
       " ['cette', 'membre', 'issue', 'ennahdh', 'choura'],\n",
       " ['ennahdh', 'tounes', 'qalb', 'mongi', 'rahoui'],\n",
       " ['apport', 'modif', 'estim', 'liste', 'chang'],\n",
       " ['hier', 'ainsi', 'élect', 'tounes', 'ali'],\n",
       " ['don', 'veut', 'zouhair', 'ennahdh', 'maghzaou'],\n",
       " ['présenc', 'homme', 'défens', 'imed', 'derouich'],\n",
       " ['fm', 'chang', 'avant', 'shems', 'aucun'],\n",
       " ['voix', 'choix', 'arp', 'pléni', 'date'],\n",
       " ['tête', 'droits', 'choix', 'derouich', 'condamn'],\n",
       " ['traver', 'ghannouch', 'propos', 'mongi', 'rahoui'],\n",
       " ['facebook', 'traver', 'modif', 'chaouach', 'ghazi'],\n",
       " ['assuré', 'chang', 'va', 'possibl', 'ghannouch'],\n",
       " ['bureau', 'décidé', '10', 'tenue', 'date'],\n",
       " ['pléni', 'bureau', 'consacr', 'date', 'cours'],\n",
       " ['certain', 'dossi', 'nombre', 'justic', 'ennahdh'],\n",
       " ['plusieur', 'corrupt', 'dénonc', 'soulign', 'al'],\n",
       " ['décidé', 'zouhair', 'maghzaou', 'bloc', 'démocrat'],\n",
       " ['question', 'précis', 'leader', 'ennahdh', 'haroun'],\n",
       " ['rached', 'gouvern', 'comme', 'indépend', 'démocrat'],\n",
       " ['plus', 'avoir', 'jemli', 'habib', 'compétent'],\n",
       " ['video', 'fm', 'jawhar', 'rachid', 'dément'],\n",
       " ['hier', 'va', 'très', 'tout', 'comment'],\n",
       " ['candidat', 'révélé', 'privée', 'radio', 'micro'],\n",
       " ['al', 'organis', 'cour', 'sit', 'in'],\n",
       " ['tahya', 'particip', 'nombreux', 'national', 'compétent'],\n",
       " ['privée', 'radio', 'micro', 'al', 'karama'],\n",
       " ['indépend', 'compte', 'déput', 'démocrat', 'bloc'],\n",
       " ['dévoil', 'parlementair', 'intervent', 'bloc', 'al'],\n",
       " ['cour', 'posit', 'démocrat', 'votera', 'attayar'],\n",
       " ['déput', 'polit', 'lors', 'jemli', 'voter'],\n",
       " ['habib', 'femme', 'union', 'femmes', 'présenc'],\n",
       " ['membr', 'accord', 'lors', 'tunisienumer', 'estimé'],\n",
       " ['dont', 'nombre', 'voix', 'membre', 'ennahdh'],\n",
       " ['vendred', 'vidéo', 'tunisienumer', 'invité', 'tn'],\n",
       " ['youssef', 'cabinet', 'tahya', 'précis', 'ben'],\n",
       " ['jeudi', 'poste', 'financ', 'ministr', 'propos'],\n",
       " ['réunit', 'réuni', 'gouvern', 'après', 'membr'],\n",
       " ['face', 'lequel', 'parti', 'tounes', '9alb'],\n",
       " ['très', 'ministr', 'mongi', 'marzouk', 'industr'],\n",
       " ['cette', 'dinars', 'attendu', 'estim', 'mille'],\n",
       " ['fronti', 'cp', 'revenu', 'tout', 'ennaif'],\n",
       " ['décidé', 'grève', 'tataouin', '16', 'el'],\n",
       " ['auprès', 'ennaif', 'vrai', 'compte', 'port'],\n",
       " ['conférent', 'depuis', 'deux', 'mois', 'berlin'],\n",
       " ['pourr', 'médenin', 'si', 'urgenc', 'plan'],\n",
       " ['veut', 'said', 'entretenu', 'républ', 'président'],\n",
       " ['ennaif', 'berlin', 'républ', 'président', 'confirm'],\n",
       " ['plusieur', 'jomli', 'rejet', 'ministr', 'ennahdh'],\n",
       " ['modif', 'arp', 'après', 'composit', 'envoi'],\n",
       " ['reçu', 'conférent', 'rendu', 'berlin', 'public'],\n",
       " ['séance', 'vers', '14', 'confianc', 'vote'],\n",
       " ['réunion', 'qalb', 'jomli', 'karoui', 'nabil'],\n",
       " ['quelqu', 'face', 'jours', 'échec', 'si'],\n",
       " ['international', 'rachid', 'dossi', 'intervent', 'berlin'],\n",
       " ['9alb', 'leader', 'droit', 'expliqu', 'échec'],\n",
       " ['traver', 'saïed', 'président', 'marzouk', 'mohsen'],\n",
       " ['bureau', 'votera', 'lequel', 'issue', 'parti'],\n",
       " ['ugtt', 'entretenu', 'saïed', 'kaïs', 'noureddin'],\n",
       " ['issue', 'ghannouch', 'saïed', 'kaïs', 'rached'],\n",
       " ['passer', 'saïed', 'kaïs', 'rached', 'président'],\n",
       " ['intérieur', 'commiss', 'veut', 'défens', 'imed'],\n",
       " ['gouvern', 'député', 'déput', 'voter', 'élect'],\n",
       " ['premi', 'fm', '9alb', 'jawhar', 'micro'],\n",
       " ['tounes', 'qalb', 'karoui', 'nabil', 'rencontr'],\n",
       " ['dimanch', 'savoir', 'soupçon', 'traver', 'corrupt'],\n",
       " ['échec', 'ennahdh', 'mouv', 'samir', 'dilou'],\n",
       " ['gouvernorat', 'présent', '16', 'conseil', 'municipal'],\n",
       " ['noms', 'révis', 'ennahdh', 'demand', 'khaled'],\n",
       " ['matin', 'région', 'el', 'person', 'trois'],\n",
       " ['mekki', 'si', 'mouv', 'peuple', 'dirig'],\n",
       " ['voter', 'décidé', 'confianc', 'tounes', 'tahya'],\n",
       " ['certain', 'assur', 'confianc', 'al', 'coalit'],\n",
       " ['face', 'rejet', 'estim', 'karoui', 'nabil'],\n",
       " ['tenue', 'suite', 'jour', 'tounes', 'tahya'],\n",
       " ['maghzaou', 'zouhair', 'blocs', 'train', 'ennahdh'],\n",
       " ['suite', 'tenue', 'choura', 'haroun', 'ennahdh'],\n",
       " ['va', 'report', 'leader', 'tounes', '9alb'],\n",
       " ['tn', 'haroun', 'ennahdh', 'presse', 'conférent'],\n",
       " ['gouvernorat', 'derni', 'affirm', 'avoir', 'municipal'],\n",
       " ['rachid', 'auprès', 'conseiller', 'ennaif', 'républ'],\n",
       " ['partir', 'local', 'nuageux', 'brouillard', 'ensembl'],\n",
       " ['institut', 'moins', 'météorolog', 'local', 'brouillard'],\n",
       " ['derni', 'nombre', 'grand', 'militair', 'condamn'],\n",
       " ['said', 'républ', 'ghannouch', 'président', 'format'],\n",
       " ['slim', 'libye', 'situat', 'urgenc', 'plan'],\n",
       " ['2019'],\n",
       " ['local', 'observ', 'nuageux', 'brouillard', 'mardi'],\n",
       " ['reste', 'nombreux', 'grève', 'enseign', 'ariana'],\n",
       " ['destourien', 'intervent', 'présenc', 'posit', 'pdl'],\n",
       " ['hier', 'municipal', 'candidat', 'agence', 'élect'],\n",
       " ['rencontr', 'encore', 'réserv', 'compos', 'nombreux'],\n",
       " ['particip', 'berlin', 'pourr', 'ennaïf', 'rachid'],\n",
       " ['pays', 'diplomat', 'économ', 'armée', 'polit'],\n",
       " ['taboub', 'appel', 'ugtt', '14', 'général'],\n",
       " ['30', 'plusieur', 'moins', 'militair', 'condamn'],\n",
       " ['appel', 'crise', 'soirée', 'soulign', 'publiqu'],\n",
       " ['minister', 'général', 'enseign', '2020', 'direct'],\n",
       " ['entre', 'tuniso', 'vers', 'santé', 'cooper'],\n",
       " ['cet', 'diplomat', 'entretien', 'saied', 'kais'],\n",
       " ['entretenu', 'ghannouch', 'saied', 'carthag', 'palais'],\n",
       " ['lundi', 'gouvernorat', 'commerc', 'ariana', 'municipal'],\n",
       " ['destourien', 'présenc', 'pléni', 'pdl', 'tenue'],\n",
       " ['crise', 'dont', 'union', 'fronti', 'nombreux'],\n",
       " ['estime', 'après', 'parl', 'envoi', 'modif'],\n",
       " ['convent', 'societ', 'famill', 'minister', 'femme'],\n",
       " ['moins', 'révèle', 'minister', 'inform', 'accès'],\n",
       " ['toutes', 'confianc', 'tounes', 'votera', 'tahya'],\n",
       " ['constitu', 'attayar', 'zied'],\n",
       " ['chahed', 'youssef', 'porte', 'armes', 'jour'],\n",
       " ['chahed', 'karoui', 'youssef', 'nabil'],\n",
       " ['entre', 'rapport', 'karama', 'coalit'],\n",
       " ['saïed', 'kaïs', 'officiel', 'effectu', 'ennaïf'],\n",
       " ['présent', 'gouvernemental'],\n",
       " ['commun', 'ariana'],\n",
       " ['ghannouch', 'saïed', 'kaïs', 'rached', 'veut'],\n",
       " ['libyen', 'noureddin', 'taboub'],\n",
       " ['saïed', 'kaïs', 'marzouk', 'diplomat', 'mohsen'],\n",
       " ['nomin'],\n",
       " ['arp', 'libyen', 'défens', 'intérieur', 'dossi'],\n",
       " ['libye', 'réunion', 'situat', 'international', 'écart'],\n",
       " ['appel', 'jamli', 'dilou', 'concert', 'assur'],\n",
       " ['gouvern', 'tunisien', 'etat', 'mekki', 'très'],\n",
       " ['ennahdh', 'demand', 'haroun'],\n",
       " ['gouvern', 'confianc', 'jamli', 'parl'],\n",
       " ['midi', 'fm', 'samir', 'invité', 'dilou'],\n",
       " ['conférent', 'pays', 'organis', 'vidéo', 'ambassadeur'],\n",
       " ['station', 'font', 'fronti', 'fin', 'libye'],\n",
       " ['décidé', 'ensembl', 'républ', 'état', 'urgenc'],\n",
       " ['révélé', 'soupçon', 'minister', 'corrupt', 'agricultur'],\n",
       " ['appel', 'derni', 'rencontr', 'vidéo', 'ambassadeur'],\n",
       " ['ghannouch', 'propos', 'rached', 'annul'],\n",
       " ['votera', 'attayar', 'mohamed', 'aucun', 'abbou'],\n",
       " ['après', 'composit', 'contre', 'jamli', 'modif'],\n",
       " ['président'],\n",
       " ['rapport', 'rachid', 'toujour', 'ennaïf'],\n",
       " ['gouvern', 'polit'],\n",
       " ['confianc', 'peuple', 'polit', 'accord', 'taboub'],\n",
       " ['instanc', 'inform', 'imed', 'accès', 'cooper'],\n",
       " ['poste', 'chahed', 'youssef', 'concern', 'aucun'],\n",
       " ['chahed', 'organis', 'posit', 'karoui', 'rencontr'],\n",
       " ['saïed', 'kaïs', 'libye', 'appel', 'international'],\n",
       " [],\n",
       " ['libye', 'conseil', 'situat'],\n",
       " ['républ', 'tunisien', 'libye', 'erdogan', 'demand'],\n",
       " ['parole', 'khaled', 'tuniso', 'prête', 'sous'],\n",
       " ['posit', 'attayar', 'vers', 'mohamed', 'abbou'],\n",
       " ['communiqu', 'ans', 'enseign', 'partir', 'minister'],\n",
       " ['qalb', 'deux', 'blocs', 'tounes', 'tahya'],\n",
       " ['mercred', 'nouveau', 'jomli', 'indiqu', 'gouvern'],\n",
       " ['semain', 'régional', 'slim', 'plan', 'médenin'],\n",
       " ['jemli', 'cour', 'démocrat', 'chaouach', 'ghazi'],\n",
       " ['gouvern', 'composit', 'habib', 'chang', 'jomli'],\n",
       " ['parole', 'khaled', 'revenu', 'armes', 'médenin'],\n",
       " ['mekki', 'révélé', 'apport', 'ennahdh', 'composit'],\n",
       " ['cp', 'hôpital', 'slim', 'station', 'tn'],\n",
       " ['officiel', 'étranger', 'effectu', 'dossi', 'diplomat'],\n",
       " ['pourr', 'nombreux', 'si', 'libye', 'réfugi'],\n",
       " ['réunion', 'conseil', 'sécur', 'urgent', 'onu'],\n",
       " ['plus', 'non', 'mois', 'nombre', 'durant'],\n",
       " ['vient', 'agence', 'être', 'site', 'appel'],\n",
       " ['10', 'part', 'respons', 'societ', 'économ'],\n",
       " ['union', 'ugtt', 'noureddin', 'taboub', 'général'],\n",
       " ['premi', 'crise', 'état', 'hôpital', 'militair'],\n",
       " ['où', 'janvi', 'jours', 'soirée', 'mercred'],\n",
       " ['ville', 'micro', 'assur', 'ugtt', 'retir'],\n",
       " ['fois', 'mandat', 'poste', 'chahed', 'aucun'],\n",
       " ['militair', 'particip', 'présid', 'saïed', 'réunion'],\n",
       " ['météo', 'janvi', 'pluies', '2020', 'mercred'],\n",
       " ['tayyip', 'recep', 'maritim', 'tunisien', 'erdogan'],\n",
       " ['assur', 'convent', 'annul'],\n",
       " ['qalb', 'karoui', 'nabil', 'faire', 'attent'],\n",
       " ['devant', 'encore', 'médias', 'fois', 'reste'],\n",
       " ['mercred', 'mardi', 'ministr', 'ambassadeur', 'ancien'],\n",
       " ['fronti', 'shems', 'armes', 'devis', 'médenin'],\n",
       " ['retir', 'abbou', 'ennahdh', 'arp', 'déput'],\n",
       " ['tayyip', 'recep', 'semain', 'ministr', 'libyen'],\n",
       " ['recep', 'conseiller', 'erdogan', 'rachid', 'ennaif'],\n",
       " ['conseil', 'sécur', 'concert', 'particip', 'onu'],\n",
       " ['sécuritair', 'armes', 'annonc', 'chahed', 'youssef'],\n",
       " ['faire', 'tunisienumer', 'passer', 'chaouach', 'ghazi'],\n",
       " ['invité', 'direct', 'ghazi', 'chaouach', 'tn'],\n",
       " ['plusieur', 'quelqu', 'face', 'jours', 'échec'],\n",
       " ['état', 'conseiller', 'comment', 'composit', 'révis'],\n",
       " ['attayar', 'critiqu', 'zied', 'ennahdh', 'tunisien'],\n",
       " ['droits', 'homme', 'urgenc', 'apport', 'tunisien'],\n",
       " ['situat', 'concert', 'part', 'kais', 'said'],\n",
       " ['destourien', 'intervent', 'militair', 'public', 'pdl'],\n",
       " ['poste', 'présent', 'derni', 'depuis', '16'],\n",
       " ['jemli', 'karoui', 'habib', 'nabil', 'reçoit'],\n",
       " ['déclar', 'jeudi', 'gouvern', 'jemli', 'indépend'],\n",
       " ['seifeddin', 'pourr', 'confianc', 'vote', 'posit'],\n",
       " ['assur', 'révèle', 'saïed', 'kaïs', 'constitu'],\n",
       " ['habib', 'femmes', 'associ', 'déclar', 'dénonc'],\n",
       " ['respons', 'privée', 'radio', 'entretien', 'shems'],\n",
       " ['rendu', 'ville', 'saïed', 'kaïs', 'kasserin'],\n",
       " ['inform', 'tout', 'prête', 'ennahdh', 'dément'],\n",
       " ['rached', 'entre', 'candidat', 'exclus', 'ghannouch'],\n",
       " ['mandat', 'intérim', 'sports', 'ministr', 'ben'],\n",
       " ['plus', 'parlementair', 'observ', 'blocs', 'différent'],\n",
       " ['représent', 'reçu', 'annul', 'rached', 'ambassadeur'],\n",
       " ['dar', 'réunit', 'photos', 'gouvern', 'femmes'],\n",
       " ['gouverneur', 'saïed', 'nouveau', 'kais', 'présid'],\n",
       " ['séance', 'confianc', 'vote', 'pléni', 'confirm'],\n",
       " ['compétent', 'commiss', 'samir', 'dilou', 'abbou'],\n",
       " ['jemli', 'composit', 'chang', 'aucun', 'apport'],\n",
       " ['commiss', 'retir', 'ennahdh', 'arp', 'déput'],\n",
       " ['président', 'soulign', 'servic', 'saied', 'kais'],\n",
       " ['situat', 'rencontr', 'taboub', 'respons', 'tunis'],\n",
       " ['non', 'facebook', 'page', 'post', 'chahed'],\n",
       " ['député', 'publié', 'facebook', 'page', 'post'],\n",
       " ['chahed', 'nabil', '9alb', 'réunion', 'karoui'],\n",
       " ['national', 'kaïs', 'réunion', 'conseil', 'présid'],\n",
       " ['directeur', 'jours', 'avant', 'site', 'gouverneur'],\n",
       " ['faire', 'toute', 'passer', 'ennahdh', 'polit'],\n",
       " ['déclar', 'accord', 'assur', 'train', 'entretien'],\n",
       " ['dément', 'précis', 'médias', 'maritim', 'républ'],\n",
       " ['jemli', 'compétent', 'tunisienumer', 'indépend', 'mekki'],\n",
       " ['précis', 'tayyip', 'recep', 'républ', 'président'],\n",
       " ['tunisienumer', 'invité', 'direct', 'mekki', 'tn'],\n",
       " ['tunisienumer', 'passer', 'tout', 'chaouach', 'ghazi'],\n",
       " ['youssef', 'karoui', 'nabil', 'réunion', 'vent'],\n",
       " ['présent', 'dilou', 'samir', 'makhlouf'],\n",
       " ['gouvern', 'après', 'chaouach', 'ghazi'],\n",
       " ['indépend', 'magistrat', 'hédi'],\n",
       " ['tounes', 'polit', 'qalb', 'karama', 'el'],\n",
       " ['gouvern', 'habib', 'propos', 'fait', 'jamli'],\n",
       " ['habib', 'ennahdh', 'jamli', 'votera', 'réserv'],\n",
       " ['ennahdh', 'ghannouch', 'entre', 'chahed', 'karoui'],\n",
       " ['saïed', 'kaïs', 'temps', 'constitu', 'révis'],\n",
       " ['gouvern', 'habib', 'liste', 'jamli'],\n",
       " ['vote', 'al', 'karama', 'makhlouf', 'jour'],\n",
       " ['ennahdh', 'face', 'moussi', 'abir'],\n",
       " ['gouvern', 'ghannouch', 'mongi', 'voix', 'rahoui'],\n",
       " ['tunis', 'réfugi', 'rien'],\n",
       " ['entre', 'général', 'déput', 'commiss', 'abbou'],\n",
       " ['habib', 'jamli', 'équipe', 'réunit'],\n",
       " ['nouveau', 'el', 'mohsen', 'prête', 'gouverneur'],\n",
       " ['gouvern', 'jamli', 'qalb', 'tahya', 'tounes'],\n",
       " ['dément', 'précis', 'intervent', 'durant', 'météorolog'],\n",
       " ['kaïs', 'visite', 'effectu', 'kasserin', 'ville'],\n",
       " ['tuniso', 'toute', 'armée', 'fronti', 'toutes'],\n",
       " [],\n",
       " ['urgenc', 'plan', 'libye', 'tunisien', 'particip'],\n",
       " ['pluies', '2020', 'nuageux', 'jeudi', 'région'],\n",
       " ['tunisien', '1er', 'nord'],\n",
       " ['nouveau', 'prête', 'gouverneur'],\n",
       " ['armes'],\n",
       " ['ans', 'enseign'],\n",
       " ['palais', 'cour', 'reçoit', 'ambassadeur', 'question'],\n",
       " ['tuniso', 'réfugi', 'sous', 'coordin', 'intérim'],\n",
       " ['premi', 'cette', 'ans', 'person', 'associ'],\n",
       " ['relat', 'port', 'commiss', 'droits', 'homme'],\n",
       " ['charg', 'femme', 'enfanc', 'famill', 'publiqu'],\n",
       " ['gouvern', 'polit', 'pays', 'démocrat', 'où'],\n",
       " ['mercred', 'communiqu', 'traver', 'municipal', 'santé'],\n",
       " ['million', 'dinars', 'vie', 'municipal', 'cadre'],\n",
       " ['attent', 'intérim', 'minister', 'précis', 'santé'],\n",
       " ['el', 'agence', 'cadre', 'leader', 'servic'],\n",
       " ['hui', 'rapport', 'région', '2020', 'économ'],\n",
       " ['palais', 'crise', 'soirée', 'toutes', 'sécur'],\n",
       " ['2020', 'mardi', 'toutes', 'santé', 'minister'],\n",
       " ['sécur', 'cour', '1er', 'membre', 'onu'],\n",
       " ['ben', 'devant', 'hôpital'],\n",
       " ['fait', 'contre', 'différent', 'grève'],\n",
       " ['pays', 'depuis', 'très', 'accident', 'maha'],\n",
       " ['peuple', 'etat', 'premi', 'fois', 'grand'],\n",
       " ['2019', 'etat', 'mois', 'avant', 'trois'],\n",
       " ['janvi', 'vendred', 'gouvernorat', 'tataouin', 'enregistr'],\n",
       " ['31', 'inform', 'femme', 'enfanc', 'populair'],\n",
       " ['lundi', 'soir', 'région'],\n",
       " ['derni', 'dévoil', 'cours', 'rend', 'périod'],\n",
       " ['fin', 'abdel', 'ali', 'tunis', 'ambassadeur'],\n",
       " ['consacr', 'gouvernemental', 'certain', 'noms', 'jour'],\n",
       " ['gouvernemental', 'médias', 'justic', 'présenc', 'hédi'],\n",
       " ['corrupt', 'rendu', 'lutte', 'saïed', 'kasserin'],\n",
       " ['estimé', 'écart', 'moussi', 'abir', 'prendr'],\n",
       " ['front', 'vrai', 'voix', '14', 'rahoui'],\n",
       " ['compétent', 'cet', 'réunit', 'exclus', 'femmes'],\n",
       " ['derni', 'jemli', 'karoui', 'issue', 'moins'],\n",
       " ['encore', 'invité', 'berlin', 'revenu', 'ambassadeur'],\n",
       " ['sécuritair', 'différent', 'libyen', 'fronti', 'tuniso'],\n",
       " ['voter', 'gouvern', 'chef', 'jemli', 'désign'],\n",
       " ['face', 'grève', 'sit', 'in', 'el'],\n",
       " ['étranger', 'deux', 'rencontr', 'ministr', 'affair'],\n",
       " ['sein', 'depuis', 'mois', 'toujour'],\n",
       " ['sous', 'intérim', 'réunion', 'tuniso', 'coordin'],\n",
       " ['visite', 'gouvernorat', 'officiel', 'kasserin', 'cp'],\n",
       " ['hier', 'kasserin', 'soulign', 'saied', 'kais'],\n",
       " ['tahya', 'seifeddin', 'décis', 'tounes', 'makhlouf'],\n",
       " ['selon', 'pays', 'toujour', 'plus', 'nord'],\n",
       " ['refus', 'union', 'rejet', 'augment', 'enseign'],\n",
       " ['cooper', 'ministr', 'saïed', 'affair', 'étranger'],\n",
       " ['comment', 'erdogan', 'rencontr', 'abir', 'moussi'],\n",
       " ['former', 'partis', 'consult', 'said', 'kais'],\n",
       " ['réform', 'ennahdh', 'mouv', 'dirig', 'nasfi'],\n",
       " ['zied', 'ennahdh', 'dévoil', 'dilou', 'samir'],\n",
       " ['commiss', 'audit', 'arp', 'directeur', 'cabinet'],\n",
       " ['jemli', 'vidéo', 'culturel', 'haddaou', 'fethi'],\n",
       " ['rached', 'visite', 'samir', 'dilou', 'turqu'],\n",
       " ['exclus', 'attent', 'national', 'tounes', 'qalb'],\n",
       " ['enregistr', 'trois', 'régional', 'zied', 'élect'],\n",
       " ['dimanch', 'part', 'partir', '12', 'libye'],\n",
       " ['prochain', 'cadre', 'coordin', 'concern', 'attayar'],\n",
       " ['déput', 'comme', 'depuis', 'pdl', 'hier'],\n",
       " ['dimanch', 'situat', 'magistrat', 'prendr', 'associ'],\n",
       " ['jemli', 'habib', 'refus', 'privée', 'vie'],\n",
       " ['siège', 'al', 'grève', 'tataouin', 'sit'],\n",
       " ['saïed', 'kaïs', 'présidentiel', 'toujour', 'prendr'],\n",
       " ['lequel', 'post', 'droit', 'expliqu', 'rencontr'],\n",
       " ['président', 'rencontr', 'où', 'rendu', 'républ'],\n",
       " ['refus', 'écart', 'ennahdh', 'marzouk', 'mohsen'],\n",
       " ['abir', 'moussi', 'post', 'condamn', 'doit'],\n",
       " ['erdogan', 'non', 'turqu', 'fin', 'expliqu'],\n",
       " ['écart', 'front', 'ghannouch', 'avoir', 'islam'],\n",
       " ['cet', 'turc', 'agence', 'entretenu', 'erdogan'],\n",
       " ['midi', 'président', 'rend', 'saïed', 'kaïs'],\n",
       " ['islam', 'lequel', 'ennahdh', 'annonc', 'démocrat'],\n",
       " ['ennahdh', 'tunis', 'video', 'traver'],\n",
       " ['pdl', 'hier', 'libre', 'destourien', 'écart'],\n",
       " ['erdogan', 'rencontr', 'islam', 'ghannouch', 'rached'],\n",
       " ['où', 'rendu', 'présidentiel', 'ghannouch', 'carthag'],\n",
       " ['carthag', 'refus', 'suite', 'reçoit', 'saïed'],\n",
       " ['suite', 'refus', 'islam', 'formé', 'ennahdh'],\n",
       " ['tataouin', '12', 'semain', 'fois', 'armes'],\n",
       " ['jours', 'augment', 'dinars', 'million', 'devis'],\n",
       " ['nouvel', 'grève', 'commerc', 'toutes', 'décis'],\n",
       " ['périod', 'mille', '30', 'enregistr', 'environ'],\n",
       " ['partis', 'consult', 'doit', 'saied', 'kais'],\n",
       " ['samir', 'comment', 'ghannouch', 'turqu', 'dilou'],\n",
       " ['où', 'vers', 'saied', 'kais', 'premi'],\n",
       " ['mois', 'abdel', 'mekki', 'question', 'ennahdh'],\n",
       " ['mohsen', 'retir', 'présid', 'moussi', 'abir'],\n",
       " ['concert', 'parole', 'porte', 'parlementair', 'blocs'],\n",
       " ['effectu', 'cooper', 'ministr', 'affair', 'étranger'],\n",
       " ['dont', '16', 'maritim', 'person', 'durant'],\n",
       " ['sécuritair', '12', 'commun', 'transport', 'station'],\n",
       " ['commiss', 'refus', 'dénonc', 'cabinet', 'directeur'],\n",
       " ['commiss', 'présidentiel', 'audit', 'directeur', 'cabinet'],\n",
       " ['ali', 'régional', 'deux', 'person', 'port'],\n",
       " ['suite', 'nord', 'augment', 'tataouin', 'région'],\n",
       " ['tunis', 'après'],\n",
       " ['brouillard', 'météorolog', 'temps', 'pluies', 'nuageux'],\n",
       " ['temps', 'météo'],\n",
       " ['commun', 'sécuritair', 'transport', 'station'],\n",
       " ['nouveau', 'kais', 'présent'],\n",
       " ['institut', 'site', 'dimanch', '12', 'météorolog'],\n",
       " ['turqu', 'moussi', 'abir', 'être', 'rien'],\n",
       " ['tunis', 'libyen', 'crise', 'central'],\n",
       " ['présidentiel', 'concern', 'dossi', 'séance', 'audit'],\n",
       " ['gouvern', 'constitu'],\n",
       " ['port'],\n",
       " ['dilou', 'samir', 'zied'],\n",
       " ['présent', 'voter', 'relat', 'droits', 'être'],\n",
       " ['rached', 'faire', 'turqu', 'diplomat', 'économ'],\n",
       " ['ennahdh', 'déput', 'dirig', 'retir', 'nasfi'],\n",
       " ['ghannouch', 'rached', 'haddaou'],\n",
       " ['habib', 'jamli', 'privée', 'vie'],\n",
       " ['gouvern', 'format', 'concern', 'attayar', 'mohamed'],\n",
       " ['karoui', 'nabil', 'abdel', 'mekki', 'dénonc'],\n",
       " ['ennahdh', 'turqu', 'marzouk', 'mohsen', 'direct'],\n",
       " ['ennahdh', 'ghannouch', 'tête', 'mandat'],\n",
       " ['ghannouch', 'visite', 'turqu', 'diplomat'],\n",
       " ['tunis', 'ghannouch', 'appel', 'turc'],\n",
       " ['2018', '2019', 'municipal', 'augment', '14'],\n",
       " ['pléni', 'parl', 'erdogan', 'turqu', 'rejet'],\n",
       " ['près', 'financi', 'font', 'tunisien', 'mois'],\n",
       " ['effectu', 'cooper', 'ministr', 'affair', 'étranger'],\n",
       " ['libre', 'destourien', 'abir', 'moussi', 'blocs'],\n",
       " ['reçoit', 'former', 'rejet', 'saied', 'kais'],\n",
       " ['consult', 'saied', 'kais', 'polit', 'partis'],\n",
       " ['carthag', 'palais', 'saied', 'kais', 'président'],\n",
       " ['concert', 'savoir', 'front', 'zouhair', 'maghzaou'],\n",
       " ['toujour', 'économ', 'rejet', 'sous', 'voix'],\n",
       " ['prendr', 'parole', 'cours', 'près', 'assembl'],\n",
       " ['union', 'commerc', 'industr', 'arp', 'rejet'],\n",
       " ['après', 'avoir', 'équipe', 'gouvernemental', 'former'],\n",
       " ['consacr', 'soirée', 'séance', 'nombre', 'intervent'],\n",
       " ['après', 'tunis', 'deux', 'vient', 'ans'],\n",
       " ['13', 'coalit', 'former', 'partis', 'concert'],\n",
       " ['lundi', 'matin', 'encore', 'accident', 'route'],\n",
       " ['commun', 'plusieur', 'garde', 'fronti', 'maritim'],\n",
       " ['hui', 'aujourd', 'intérieur', 'confirm', 'kasserin'],\n",
       " ['rapport', 'fin', '2018', 'périod', 'dinars'],\n",
       " ['désign', 'national', 'nouveau', 'contre', 'jemli'],\n",
       " ['intervent', 'leader', 'parti', 'tounes', 'qalb'],\n",
       " ['voter', 'dont', 'devant', 'urgenc', 'possibl'],\n",
       " ['quelqu', 'jours', 'ali', 'mohamed', 'ben'],\n",
       " ['palais', 'étranger', 'vidéo', 'saïed', 'kaïs'],\n",
       " ['officiel', 'prendr', 'ans', 'enseign'],\n",
       " ['parti', 'tounes', 'jeudi', 'conseil', 'qalb'],\n",
       " ['médias', 'public', 'rien', 'républ', 'communiqu'],\n",
       " ['savoir', 'mandat', 'membr', 'conseil', 'sécur'],\n",
       " ['parole', 'populair', 'porte', 'front', 'revenu'],\n",
       " ['transport', 'financi', 'societ', 'contre', 'mandat'],\n",
       " ['écart', 'saïed', 'al', 'karama', 'abdel'],\n",
       " ['12', 'partis', 'national', 'réform', 'nasfi'],\n",
       " ['estimé', 'shems', 'formé', 'samir', 'dilou'],\n",
       " ['révélé', 'réform', 'révèle', 'parti', 'nasfi'],\n",
       " ['islam', 'voix', 'retir', 'associ', 'ghannouch'],\n",
       " ['jemli', 'soir', 'cette', '10', 'dont']]"
      ]
     },
     "execution_count": 182,
     "metadata": {},
     "output_type": "execute_result"
    }
   ],
   "source": [
    "#q2.\n",
    "docs_keywords"
   ]
  },
  {
   "cell_type": "code",
   "execution_count": 186,
   "metadata": {},
   "outputs": [
    {
     "name": "stdout",
     "output_type": "stream",
     "text": [
      "réveillon saied chahed fourat avenue habib bourguib cp président gouvern cadre suivi situat sécuritair occas fête fin année président ['président', 'fin', 'sécuritair', 'cp', 'cadre']\n",
      "kais saied 2020 année concrétis revend peuple kais saied vidéo diffus président républ président républ kaïs saïed présent mardi 31 ['président', 'vidéo', 'républ', 'saied', 'kais']\n",
      "bct suspect placé garde vue affair détourn md banque central tunis banque central tunis indiqu mardi 31 décembr mission audit intern ordon cour décembr 2019 dévoil ['bct', 'suspect', 'audit', 'décembr', 'central']\n",
      "réveillon 97 tonnes produit alimentair impropr consomm détruit équip contrôl sanitair relev minister santé effectu jusqu 30 décembr 2019 plus 10870 visit inspect ['minister', 'plus', '30', 'santé', 'effectu']\n",
      "final tunisien gouvern avant 2020 habib jemli non annonc composit nouveau gouvern lieu avant 2020 comme annonc chargé commun ['2020', 'lieu', 'final', 'annonc', 'avant']\n",
      "détourn erreur audit bct révèle manque avoirs devis audit financi périod effectu annuel banque central tunis ordre gouverneur bct révélé manque ['gouverneur', 'devis', 'révèle', 'bct', 'audit']\n",
      "don chinois profit centr petite enfanc don attribu mardi 31 décembr 2019 chine profit minister femme famill ['31', 'femme', 'enfanc', 'famill', 'don']\n",
      "inlucc enquêt dizain déput soupçon corrupt chawki tabib président instanc national lutte contre corrupt inlucc indiqu déclar accord radio shems fm ['soupçon', 'radio', 'shems', 'corrupt', 'inlucc']\n",
      "kais saied critiqu avoir prolong état urgenc observatoir droits libert exprim communiqu surpris devant décis présidentiel prolong état urgenc mois rappel ['critiqu', 'surpris', 'décis', 'urgenc', 'état']\n",
      "nouvel an niveau vigil élevé forces sécur minister intérieur décidé mainten niveau vigil élevé parer toute éventual cadre sécuris ['sécur', 'intérieur', 'décidé', 'cadre', 'toute']\n",
      "kef recet fiscal augment plus 100 recet fiscal municipal el kef augment mani signif cours cette année dépass 500 mille dinars jusqu ['el', 'cours', 'dinars', 'mille', 'augment']\n",
      "tunis après lait pêches olives jetées route photo issue réseau social scènes désol produit hier lundi 30 décembr gouvernorat sidi bouzid où agriculteur ['où', 'hier', 'issue', 'social', 'route']\n",
      "tataouin grève faim plusieur protestatair transfer hôpital plusieur protestatair observ grève faim sauvag siège gouvernorat tatatouin dû être transfer hôpital après détérior ['observ', 'être', 'plusieur', 'grève', 'hôpital']\n",
      "composit gouvern jemli expliqu nouvel fois habib jemli chef gouvern désign déclar discour prononc soirée 31 décembr 2019 liste membr gouvern désorm ['31', 'soirée', 'fois', 'expliqu', 'gouvern']\n",
      "mosaïqu fm accueil premi nouveau né 2020 comme accoutum mosaïqu fm rendez accueil nouveau nés nouvel année ['année', 'premi', 'né', 'nouveau', 'fm']\n",
      "visite inopin kaïs saïed central électr rades après visite salle oper central minister intérieur tourn avenue habib bourguib kaïs saïed président républ effectu visite inopin central product électr rades ['effectu', 'saïed', 'kaïs', 'visite', 'central']\n",
      "saïed chahed visitent salle oper central kaïs saïed président républ youssef chahed chef gouvern gestion affair rendus mardi soir salle oper central minister intérieur ['youssef', 'gestion', 'saïed', 'chahed', 'central']\n",
      "vœux kaïs saïed tunisien président républ kaïs saïed présent mardi 31 décembr 2019 vœux bonne année 2020 toutes tunisien tunisien ['31', 'toutes', 'saïed', 'kaïs', 'tunisien']\n",
      "météo mercred 1er janvi 2020 pluies résiduel prévoir mercred 1er janvi 2020 durant matin sud puis temps passager nuageux ensembl pays ['nuageux', 'durant', 'ensembl', 'mercred', '1er']\n",
      "rapport annuel instanc accès inform remis chahed instanc accès inform présent mardi 31 décembr 2019 premi rapport annuel chef gouvern chargé gestion affair cour youssef chahed déclar médias ['chahed', 'instanc', 'inform', 'annuel', 'accès']\n",
      "tunisair express reçoit deuxiem avion atr 72 600 deuxiem avion atr 72 600 compagn tunisair express karkouan atterr après midi mardi 31 décembr 2019 14h15mn terminal aéroport international tunis carthag deuxiem ['carthag', '31', 'midi', 'international', 'reçoit']\n",
      "quantit pluie enregistr durant derni 24h voici quantit pluie enregistr mm durant derni 24h gouvernorat tunis tunis carthag gouvernorat ben arous ben arous boumhel fouchan mornag mhamdi khelidi radès mégrin hammam lif 34 ['gouvernorat', 'derni', 'ben', 'enregistr', 'durant']\n",
      "nouveau directeur régie national tabacs allumet nouveau directeur régie national tabacs allumet ['national', 'nouveau', 'directeur']\n",
      "habib jamli gouvern formé ['gouvern', 'habib', 'jamli', 'formé']\n",
      "kaïs saïed tunis reste attach fond ['tunis', 'saïed', 'kaïs', 'reste']\n",
      "démarrag instruct judiciair affair appareil dit sécuritair ['affair', 'sécuritair']\n",
      "bct détourn md devis suspect garde vue ['garde', 'bct', 'suspect', 'devis']\n",
      "emrhod consulting fête vingtiem anniversair []\n",
      "gouvern jamli plus revien demain revien année prochain ['gouvern', 'jamli', 'plus', 'année', 'prochain']\n",
      "fêtes fin année police circul alerte usager route ['année', 'fin', 'route']\n",
      "chawki tabib près 10 déput suspect corrupt ['déput', 'corrupt', '10', 'près', 'suspect']\n",
      "habib jamli reste quelqu retouch ['habib', 'jamli', 'quelqu', 'reste']\n",
      "tunis femmes plus connect hommes ['tunis', 'plus', 'femmes']\n",
      "nomin nouveau directeur général apal ['nouveau', 'général', 'directeur', 'nomin']\n",
      "taoufik abbes nouveau pdg rnta ['nouveau']\n",
      "tahri gouvern indépend va vers gouvern président ['président', 'gouvern', 'indépend', 'va', 'vers']\n",
      "sondag emrhod 56 tunisien satisfait rend kaïs saïed ['saïed', 'tunisien', 'kaïs', 'rend']\n",
      "derni délai assur parc automobil institu publiqu auprès gat ['derni', 'auprès', 'assur', 'publiqu']\n",
      "néji jmal ennahdh peut assum choix habib jamli ['habib', 'ennahdh', 'jamli', 'choix']\n",
      "yosra souiden nouvel ambassadric tunis républ tchequ ['tunis', 'républ', 'nouvel']\n",
      "kamel ayadi grand commis etat tête défens national habib jemli premi ministr désign quête compétent national indépend gouvern embarr choix tant tunis ['tête', 'grand', 'choix', 'ayadi', 'national']\n",
      "tunis gestion fonds garant start up confi sotugar convent port gestion fonds garant start up signée lundi 30 décembr ministr financ ['30', 'convent', 'financ', 'port', 'gestion']\n",
      "raoued projet protect ville contre inond traval protect ville raoued contre inond devr démarr avril 2020 coût million ['2020', 'million', 'contre', 'ville']\n",
      "minister agricultur secour environ ariana convent cadre partenariat visant préserv environ signée lundi 30 décembr 2019 tunis entre minister agricultur ['convent', 'ariana', 'minister', 'agricultur', 'environ']\n",
      "convent entre minister famill conseil tunisien réfugi convent signée lundi 30 décembr tunis entre minister femme famill enfanc senior ['enfanc', 'minister', 'entre', 'convent', 'famill']\n",
      "concour watch secour transparent vie publiqu tunis concour destin étudi droit titulair moins licenc organis janvi 2020 initi organis ['moins', 'droit', 'publiqu', 'vie', 'organis']\n",
      "fouill site ksar essayd monast retrouv mosqu aghlabid équipe institut national patrimoin inp dirig archéologu chercheur fathi bahr poursuit fouill archéolog autour ksar essayd ['national', 'dirig', 'équipe', 'institut', 'site']\n",
      "tataouin armée prête faire face toute intrus partir fronti tuniso libyen source sécuritair source sécuritair respons gouvernorat tataouin affirm dimanch 29 décembr agence tap différent forces armées station ['prête', 'station', 'différent', 'sécuritair', 'tataouin']\n",
      "météo tunis pluies températur baisse persist temps froid favor pluies nord région vent secteur nord fort 40 60 km ['météo', 'vent', '40', 'pluies', 'nord']\n",
      "inlucc signal soupçon corrupt concern minister instanc national lutte contre corrupt publié samedi 28 décembr rapport annuel année 2018 comport don statist ['2018', 'annuel', 'soupçon', 'don', 'corrupt']\n",
      "peines substitu incarcer effac antécédent judiciair près 22 person bénéfici effac leurs antécédent judiciair après avoir accompl peine substitu soulign agence tap moez ['avoir', 'agence', 'soulign', 'près', 'person']\n",
      "météo tunis températur baisse temps froid parfois nuageux nord région côti pluies isol passag nuageux ailleur vent secteur nord ['météo', 'pluies', 'vent', 'nord', 'nuageux']\n",
      "cnrps mauvais gestion déficient contrôl rapport inlucc rapport annuel instanc national lutte contre corrupt inlucc année 2018 révélé déficient niveau ['annuel', '2018', 'révélé', 'rapport', 'inlucc']\n",
      "inlucc corrupt secteur educ rapport annuel instanc national lutte contre corrupt inlucc année 2018 révélé plusieur soupçon corrupt financi administr ['révélé', 'soupçon', 'financi', 'inlucc', 'corrupt']\n",
      "produit alimentair impropr consomm pâtisser viand volaill brigad contrôl sanitair relev minister santé effectu 731 visit inspect locaux commerc ['minister', 'santé', 'effectu', 'commerc']\n",
      "mohsen marzouk met garde contre déleg accompagn erodogan parti machrou3 tounes rendu public communiqu relat visite président turc recep tayyip erdogan tunis ['marzouk', 'recep', 'mohsen', 'tayyip', 'public']\n",
      "tunis video habib jemli faute kaïs saïed chef gouvern chargé habib jemli adress cette nuit peu avant minuit tunisien souhait joyeux année ['jemli', 'année', 'cette', 'habib', 'avant']\n",
      "tunis kaïs saïed rend visite inopin central électr rades président républ kaïs saïed rendu soir visite inopin central électr rades où ['rend', 'saïed', 'kaïs', 'visite', 'central']\n",
      "tunis video messag vœux kaïs saïed tunisien président républ kaïs saïed vient adress tunisien allocu télé diffus laquel présent ['video', 'vient', 'saïed', 'tunisien', 'kaïs']\n",
      "tunis gouvern habib jemli final çà cette année journal présent dar dhiafa attent annonc format nouveau gouvern comme cela promis plus ['cette', 'dar', 'dhiafa', 'attent', 'final']\n",
      "tunis ailes dures ennahdh essaient maîtris habib jemli chef gouvern chargé habib jemli fait cerner ailes radical ennahdh quelqu heures annonc ['fait', 'jemli', 'quelqu', 'habib', 'ennahdh']\n",
      "tunis youssef chahed reçoit rapport annuel instanc national accès inform chef gouvern sort youssef chahed reçu mardi palais gouvern kasbah imed hazgui président instanc ['annuel', 'accès', 'chahed', 'instanc', 'youssef']\n",
      "tunis gouvern jemli comprend moins deux compétent indépend nahdhaou 100 comme cela prévu habib jemli rien pu faire devant déferl colère dirig ennahdh ['faire', 'compétent', 'devant', 'rien', 'moins']\n",
      "tunis exclus liste membr gouvern va annonc jemli habib jemli selon sourc tunisienumer point annonc liste membr gouvern ['point', 'exclus', 'annonc', 'membr', 'liste']\n",
      "tunis habib jemli promet tunisien passer fêtes nouvel an nouveau gouvern chef gouvern désign habib jemli annonc mardi 31 décembr 2019 concern format nouveau gouvern reste ['concern', 'passer', 'reste', 'gouvern', 'nouveau']\n",
      "tunis nomin nouveau directeur général rnta tawfik abbas nommé partir 26 décembr 2019 directeur général régie national tabacs allumet rnta ['nomin', 'partir', 'nommé', 'général', 'directeur']\n",
      "tunis sami tahri révèle nomin délégu suspect extrem islam porte parole union général tunisien travail ugtt sami tahri dévoil mardi 31 décembr 2019 nomin délégu ['porte', 'ugtt', 'révèle', 'suspect', 'nomin']\n",
      "tunis photos kais saïed remet lettr créanc nouvel ambassadric tunis républ tchequ président républ kais saied remis lundi 30 décembr 2019 nouvel ambassadric tunis républ tchequ ['tunis', 'photos', 'kais', 'nouvel', 'républ']\n",
      "tunis dirig ennahdh accuse noureddin taboub avoir perturb format gouvern vice président conseil choura ennahdh mokhtar ghannouch accusé secrétair général union général tunisien travailleur ugtt ['union', 'taboub', 'ugtt', 'ennahdh', 'général']\n",
      "tunis nabil karoui roulé fond ennahdh sans rien obten selon derni indiscret issues dar dhiafa liste membr gouvern habib jemli point être ['dar', 'dhiafa', 'point', 'être', 'rien']\n",
      "tunis protestatair el kamour tarek hadded reçoit courri président républ suite sit in grève faim entam protestatair el kamour sein siège gouvernorat ['reçoit', 'siège', 'sit', 'in', 'el']\n",
      "tunis partisan gouvern comment ghannouch veut payer tête gens décid rached ghannouch fini éton tunisien non extrêm intelligent comme suppos plutôt ['non', 'veut', 'tête', 'comment', 'ghannouch']\n",
      "tunis ambassadeur tunis paris démis fonction selon arrêté présidentiel publié derni numéro jort lundi 30 décembr 2019 ambassadeur tunis paris abdelaziz ['derni', '30', 'présidentiel', 'tunis', 'ambassadeur']\n",
      "tunis ruptur entre ennahdh habib jemli trop beau être vrai discour train install depuis deux trois jours scène polit ['jours', 'être', 'trois', 'vrai', 'train']\n",
      "issam chebbi report maint repris annonc gouvern prouve ampleur difficult auxquel jemli confront statut facebook secrétair général parti al jomhour issam chebbi estimé report annonc composit ['al', 'facebook', 'estimé', 'annonc', 'report']\n",
      "tunis accident amdoun commiss enquêt parlementair visite hôpital béja rapporteur commiss parlementair enquêt accident amdoun mourad hamzaou présent lundi 30 décembr 2019 résultat ['30', 'hôpital', 'parlementair', 'commiss', 'accident']\n",
      "tunis habib jemli opte langag signes annul conférent attendu habib jemli tienne conférent presse relat format gouvern cet après midi selon annonc faite ['cet', 'relat', 'attendu', 'annul', 'conférent']\n",
      "tunis seifeddin makhlouf défend député appartenu troupe chemseddin bacha président bloc coalit al karama seifeddin makhlouf réagi lundi 30 décembr 2019 déclar artist ['30', 'karama', 'coalit', 'makhlouf', 'seifeddin']\n",
      "tunis dernier minute habib jemli quitte dar dhiafa annonc report conférent presse chef gouvern chargé habib jemli vient quitt dar dhiafa annonc passag report conférent ['annonc', 'conférent', 'report', 'dar', 'dhiafa']\n",
      "tunis ennahdh mécontent habib jemli pourr voter contre gouvern entête sourc proch ennahdh annonc radio express fm réunion urgent train déroul siège ['radio', 'pourr', 'urgent', 'train', 'ennahdh']\n",
      "tunis kaïs saïed proclam état urgenc président républ kaïs saïed décidé déclar état urgenc tout pays périod mois ['tout', 'saïed', 'kaïs', 'état', 'urgenc']\n",
      "tunis jemli tient conférent presse cet après midi attendu chef gouvern désign habib jemli tienne conférent presse lundi 30 décembr 2019 ['midi', 'cet', 'attendu', 'presse', 'conférent']\n",
      "tunis hamma hammam estime derni élect pires connu tunis hamma hammam secrétair général parti travailleur déclar dimanch 29 décembr 2019 derni élect pires ['général', 'dimanch', 'estime', 'derni', 'élect']\n",
      "tunis député ennahdh appel format gouvern président député mouv ennahdh neji jmal appelé post page facebook format gouvern polit ['facebook', 'post', 'ennahdh', 'député', 'format']\n",
      "tunis divorc consomm entre conseil choura bureau exécut ennahdh tension entre conseil choura parti islam ennahdh bureau exécut acquis cheikh rached ghannouch ['ennahdh', 'entre', 'conseil', 'bureau', 'choura']\n",
      "tunis phrase trop jemli fâché rached ghannouch relat entre cheikh rached ghannouch président ennahdh habib jemli pourt poulain chargé former prochain ['prochain', 'relat', 'former', 'ghannouch', 'rached']\n",
      "tunis video tabboub demand ennahdh laiss habib jemli travaill secrétair général ugtt noureddin tbboub fait déclar presse sortie dar dhiafa cet après ['noureddin', 'cet', 'dar', 'ugtt', 'dhiafa']\n",
      "tunis cafouillag monstr témoign grand malais dar dhiafa dirait choses vont plus bon sens dar dhiafa où signes extérieur grand cafouillag caractérisent ['plus', 'où', 'dar', 'dhiafa', 'grand']\n",
      "tunis slim choura candidat enseign supérieur connu proxim ennahdh slim choura propos poste minister enseign supérieur actuel directeur études technolog minister où occup ['candidat', 'minister', 'choura', 'enseign', 'slim']\n",
      "composit nouveau gouvern jemli impass contrair indiqu matin chef gouvern désign ennahdh habib jemli annonc final composit prochain gouvern ['indiqu', 'prochain', 'final', 'gouvern', 'composit']\n",
      "colonel tarek belaaz nouveau porte parole sécur présidentiel colonel tarek belaaz nommé aujourd hui mardi 31 décembr 2019 porte parole officiel direct général sécur président républ ['nommé', 'direct', 'sécur', 'porte', 'parole']\n",
      "chawki tabib déput suspect corrupt siègent assembl chawki tabib président instanc national lutte contre corrupt inlucc assuré près 10 déput élus législ octobr 2019 font objet ['près', 'font', 'suspect', 'déput', 'corrupt']\n",
      "jemli va passer veil nouvel an lire cv ministr futur gouvern habib jemli pass réveillon adon passion dévor savoir épluch lire examin cv plus passion hercul poirot sherlock holmes lectur ['nouvel', 'jemli', 'va', 'savoir', 'passer']\n",
      "sondag opinion 56 tunisien satisfait saied 69 insatisfait ghannouch cabinet emrhod consulting réalis sondag opinion satisfact non tunisien perform président républ kais saied rached ghannouch ['non', 'cabinet', 'ghannouch', 'tunisien', 'saied']\n",
      "profil kamel ayadi très probabl ministr défens national semble président kais saied parvenu accord habib jemli chef gouvern désign nommer kamel ayadi poste ministr défens national ['très', 'ministr', 'national', 'défens', 'ayadi']\n",
      "officiel ministr gouvern jemli chef gouvern désign habib jemli vient annonc composit équipe gouvernemental voici ministr nouveau gouvern ministr ['jemli', 'vient', 'gouvernemental', 'gouvern', 'ministr']\n",
      "ennahdh votera probabl gouvern jemli selon dilou dirig sein ennahdh samir dilou déclar conseil choura réun samedi détermin posit décid ['votera', 'samir', 'choura', 'ennahdh', 'dilou']\n",
      "format gouvern kais saied adress correspond parl kais saied chef etat kais saied vient envoi correspond parl relat liste nouveau ministr secrétair etat ['envoi', 'etat', 'parl', 'saied', 'kais']\n",
      "jemli composit gouvern annonc ultérieur habib jemli brève déclar presse dar dhiafa carthag chef gouvern désign habib jemli fait savoir ['habib', 'savoir', 'dar', 'dhiafa', 'jemli']\n",
      "jawhar ben mbarek différend existe bel bien entre jemli saied cp président républ professeur droit constitutionnel jawhar ben mbarek affirm jeudi janvi 2020 différend existe ['affirm', 'cp', 'droit', 'ben', 'jawhar']\n",
      "tahya tounes émet doutes compétent indépend nouveau ministr tahya tounes votera faveur gouvern habib jomli lors vote confianc tiendr assembl représent ['indépend', 'compétent', 'votera', 'tounes', 'tahya']\n",
      "lanc servic pai vignet autos via carte bancair khaled bettaieb président directeur général societ monet tunis confirm jeudi janvi 2020 lanc pai vignet automobil ['directeur', 'khaled', 'confirm', 'societ', 'servic']\n",
      "tunis grève trois jours champ nawara emploi gis nawara décidé entrer grève protest contre manque sérieux entrepris autrichien omv petroleum company ['contre', 'décidé', 'jours', 'trois', 'grève']\n",
      "tunis fmi exige nouvel augment prix carbur illustr ministr chargé grand réform taoufik rajhi affirm fonds monétair international posera nouvel condit débloqu nouvel ['international', 'augment', 'grand', 'réform', 'nouvel']\n",
      "tunis vidéo conférent presse habib jemli chef gouvern habib jemli annonc lors point presse ni othmen jarand attendu affair etranger ni ['habib', 'vidéo', 'point', 'attendu', 'presse']\n",
      "tunis jarand essid feront partie gouvern jemli assuré femme prendr part gouvern puisqu 40 portefeuill confi femmes ['femme', 'femmes', 'part', 'prendr', '40']\n",
      "tunis femme occup 40 postes gouvern chef gouvern chargé habib jemli assuré mercred lors point presse cabinet comprendr compétent ['cabinet', 'compétent', 'femme', 'point', '40']\n",
      "tunis compétent tunisien expatri feront partie gouvern chef gouvern chargé habib jemli vient tenir conférent presse issue entretien président ['conférent', 'vient', 'compétent', 'issue', 'entretien']\n",
      "tunis urgent habib jemli refuse dévoil composit gouvern page officiel président républ vient annonc maïs saîed reçu tôt cet après midi chef ['midi', 'vient', 'page', 'cet', 'urgent']\n",
      "tunis urgent video kaïs saïed reçoit proposit composit gouvern servic commun habib jemli ainsi page officiel facebook annonc depuis début après midi ['facebook', 'reçoit', 'ainsi', 'urgent', 'servic']\n",
      "tunis cachent report répet conférent presse habib jemli chef gouvern chargé habib jemli vient arriv quelqu minut palais présidentiel carthag où ['quelqu', 'habib', 'où', 'présidentiel', 'report']\n",
      "tunis jemli présent composit gouvern président saïed plusieur membr front populair tenu mercred matin sit in hebdomadair devant siège minister intérieur avenue ['tenu', 'front', 'populair', 'sit', 'in']\n",
      "tunis front populair tient premi sit in année ['premi', 'front', 'populair', 'sit', 'in']\n",
      "gouvern jemli composit gouvern entre mains kais saied président républ kais saied reçu mercred fin après midi palais carthag chef gouvern désign habib jemli ['midi', 'fin', 'gouvern', 'saied', 'kais']\n",
      "gouvern jemli composit finalis annonc imminent chef gouvern désign habib jemli annonc mardi soir finalis liste membr gouvern vidéo publi ['jemli', 'soir', 'vidéo', 'gouvern', 'annonc']\n",
      "météo températur entre 12 17 degrés temps passager nuageux plupart région vent secteur nord fort assez fort près côtes faible modéré ['nord', '12', 'près', 'nuageux', 'vent']\n",
      "vote confianc réunion samedi bureau arp président assembl représent peuple rached ghanouch convoqu bureau parl réunir samedi ['représent', 'réunion', 'parl', 'samedi', 'bureau']\n",
      "bechir zaâfour nouveau ministr commerc bechir zaâfour nouveau ministr commerc ['ministr', 'nouveau', 'commerc']\n",
      "lobna jribi ministr chargé relat arp lobna jribi ministr chargé relat arp ['ministr', 'arp', 'chargé', 'relat']\n",
      "fethi haddaou nouveau ministr affair culturel fethi haddaou nouveau ministr affair culturel ['nouveau', 'affair', 'haddaou', 'culturel', 'fethi']\n",
      "abdel missaou ministr domain etat abdel missaou propos chef gouvern désign habib jemli poste ministr domain etat affair fonci né 1er novembr 1964 thala gouvernorat kasserin ['1er', 'kasserin', 'ministr', 'etat', 'abdel']\n",
      "makhlouf jemli confirm coalit entre ennahdh qalb tounes seifeddin makhlouf assuré jeudi janvi 2020 bloc el karama encore réuni examin format gouvern annonc chef gouvern désign habib jemli ['encore', 'confirm', 'seifeddin', 'réuni', 'makhlouf']\n",
      "krichi gouvern jemli formé indépend khaled krichi mouv peuple déclar jeudi janvi 2020 décis habib jemli former gouvern indépend respect ['former', 'khaled', 'décis', 'formé', 'indépend']\n",
      "arp reçu aucune correspond président républ bureau assembl représent peuple toujour reçu correspond officiel part président républ sujet composit gouvern habib jemli déclar jeudi janvi ['président', 'toujour', 'part', 'républ', 'reçu']\n",
      "augment tarifs transtu vrai faux rumeur circul réseau social intent transtu augment tarifs partir mois janvi 2020 ['mois', 'partir', 'vrai', 'social', 'augment']\n",
      "poste détail augment frais servic monet rached msalman directeur central poste monet déclar jeudi janvi 2020 mosaïqu fm tarifs servic postal monet révis partir début mois ['augment', 'partir', 'révis', 'poste', 'servic']\n",
      "biograph ali chebbi ministr chargé affair économ ['affair', 'chargé', 'biograph', 'économ', 'ali']\n",
      "gouvern jamli réaction font attendr ['gouvern', 'jamli', 'font']\n",
      "biograph sofien sellit ministr intérieur ['ministr', 'biograph', 'intérieur']\n",
      "biograph faten belhed secrétair etat charg commerc intérieur ['etat', 'biograph', 'charg', 'intérieur', 'commerc']\n",
      "biograph khaled shili ministr affair étranger ['ministr', 'affair', 'biograph', 'étranger', 'khaled']\n",
      "ghannouch appel parl organis pléni vote confianc gouvern jamli ['appel', 'jamli', 'pléni', 'parl', 'organis']\n",
      "biograph hassin debbech ministr format professionnel emploi ['ministr', 'biograph', 'format']\n",
      "biograph saïed blel nouveau ministr affair social ['saïed', 'affair', 'nouveau', 'biograph', 'social']\n",
      "biograph nebha bessrour ministr femme famill enfanc ['ministr', 'biograph', 'femme', 'enfanc', 'famill']\n",
      "biograph rachid tabbakh ministr affair religi ['ministr', 'affair', 'biograph', 'rachid']\n",
      "biograph abdelmajid ben amara secrétair etat auprès ministr industr chargé pme ['etat', 'biograph', 'ben', 'auprès', 'industr']\n",
      "biograph mustaph ferjan ministr santé ['ministr', 'biograph', 'santé']\n",
      "erdogan après visite tunis convenu souten gouvern sarraj route régional numéro 126 reli gafsa mdhila connu matin jeudi 26 décembr 2019 accident route entré collis entre bus transport travailleur groupe chimiqu tunisien tracteur ['erdogan', 'transport', 'accident', 'régional', 'route']\n",
      "accident entre bus groupe chimiqu camion ['entre', 'accident']\n",
      "fethi haddaou acteur proche ennahdh nommé ministr affair culturel fethi haddaou acteur 58 ans ancien président festival international hammamet 2011 2014 nommé ministr affair culturel gouvern habib jemli ['affair', 'nommé', 'haddaou', 'fethi', 'culturel']\n",
      "pléni consacr vote confianc gouvern jemli tiendr samedi président assembl représent peuple arp rached ghannouch convoqu bureau assembl samedi prochain janvi 2020 11 heures organis ['organis', 'prochain', 'consacr', 'assembl', 'samedi']\n",
      "makhlouf gouvern jemli résultat allianc entre ennahdh qalb tounes seifeddin makhlouf président bloc al karama estime composit gouvern habib jemli confirm allianc entre ennahdh qalb tounes ['ennahdh', 'tounes', 'entre', 'qalb', 'makhlouf']\n",
      "hédi kédiri ancien chef cabinet noureddin bhiri nommé ministr justic faut encore preuve indépend membr gouvern habib jemli annonc aujourd hui jeudi janvi 2020 voilà hédi kediri ancien chef cabinet ['justic', 'chef', 'cabinet', 'hédi', 'ancien']\n",
      "erdogan autoris assembl déploi armée turque libye déput turcs approuv jeudi janvi 2019 motion permet président recep tayyip erdogan envoi militair libye souten gouvern fayez sarraj ['militair', 'armée', 'envoi', 'libye', 'erdogan']\n",
      "brouillard épais appel vigil niveau deux routes administr général garde national appelé usager route limit vitess prendr précaut nécessair laiss distanc ['appelé', 'garde', 'prendr', 'brouillard', 'route']\n",
      "gouvern jomli place vote confianc arp après avoir annonc officiel composit gouvern fort 42 membr dont 28 ministr 14 secrétair etat chef gouvern ['avoir', 'jomli', 'dont', '14', 'gouvern']\n",
      "gouvern jomli qalb tounes indec parti qalb tounes dément avoir émis réserv quant certain noms figur gouvern habib jomli communiqu publié ['réserv', 'noms', 'tounes', 'qalb', 'jomli']\n",
      "tunis femmes gouvern jomli très loin compte sihem ayadi nouvel secrétair etat charg sports final dix femmes seul compos nouveau gouvern habib jomli dix femmes 42 ['ayadi', 'final', 'sports', 'jomli', 'femmes']\n",
      "tunis 855 md octroi 86 nouvel municipal minister affair local environ adopté accord financ estim 855 million dinars sous forme dons ['million', 'financ', 'sous', 'estim', 'environ']\n",
      "habib jemli réunit membr gouvern chef gouvern désign habib jemli tenu soirée jeudi janvi 2020 séance travail ensembl ['soirée', 'tenu', 'séance', 'réunit', 'ensembl']\n",
      "datant 2e guerre mondial quatre obus désamorc bizert découvert hasard agriculteur quatre obus datant second guerre mondial désamorc unités armée ['armée']\n",
      "ancien président csm cour cassat nommé ministr justic hedi kediri magistrat état nommé jeudi janvi 2020 poste ministr justic habib jomli hedi ['état', 'ancien', 'ministr', 'nommé', 'justic']\n",
      "nouveau gouvern vote confianc arp lieu semain prochain après annonc officiel composit nouveau gouvern habib jomli jeudi janvi 2020 président assembl représent ['jomli', 'prochain', 'semain', 'lieu', 'nouveau']\n",
      "khaled shili diplomat affair étranger chef gouvern désign habib jomli nommé jeudi janvi 2020 diplomat carri person khaled shili ['étranger', 'nommé', 'person', 'diplomat', 'khaled']\n",
      "imed derouich magistrat ministr défens chef gouvern désign habib jomli choisi magistrat occup poste ministr défens national agit imed ['derouich', 'ministr', 'défens', 'imed', 'magistrat']\n",
      "sofien sliti nouveau ministr intérieur connaît sofien sliti nouveau ministr intérieur choisi habib jomli jeudi janvi 2020 magistrat état ['état', 'magistrat', 'ministr', 'nouveau', 'intérieur']\n",
      "rené trabels noureddin selmi seuls rescap ancien gouvern rené trabels enfin composit nouveau gouvern dévoil structur gouvernemental conserv tandis nouveau ministr ['dévoil', 'gouvernemental', 'noureddin', 'ancien', 'nouveau']\n",
      "tunis video kaïs saïed tenu remettr liste gouvern ghannouch mains propr président républ kaïs saïed tenu envoi liste membr gouvern propos habib ['envoi', 'saïed', 'kaïs', 'liste', 'tenu']\n",
      "tunis machrou3 tounes réiter refus voter confianc gouvern jemli parti machrou3 tounes publié vendred communiqu lequel réiter refus catégor voter confianc ['lequel', 'confianc', 'tounes', 'voter', 'refus']\n",
      "tunis ghazi chaouach appel kaïs saïed commenc cherch personnal adéquat charg former gouvern secrétair général parti cour démocrat ghazi chouach publié vendred post page facebook lequel ['lequel', 'former', 'chaouach', 'post', 'ghazi']\n",
      "tunis surpris surpris video raison choix maha aissaou comme secrétair etat santé tout monde cess poser question rapport nomin maha aîssaou poste secrétair ['tout', 'choix', 'secrétair', 'surpris', 'maha']\n",
      "tunis rached ghannouch fixe date samedi janvi pléni vote confianc gouvern président arp rached ghannouch fixé selon communiqu parl date samedi janvi tenue ['tenue', 'ghannouch', 'rached', 'samedi', 'date']\n",
      "tunis premi fois depuis 2011 ennahdh va gouvern toute seule liste membr gouvern habib jemli vient tomber confirm pressent depuis quelqu temps ['va', 'confirm', 'toute', 'fois', 'depuis']\n",
      "tunis bloc réform national réun demain étudi format gouvern jemli décid posit bloc parlementair réform national présid hsouna nasfi va réunir demain vendred janvi étudi plus profondeur ['nasfi', 'présid', 'national', 'bloc', 'réform']\n",
      "tunis video vrai habib jemli constitu équipe gouvernemental fin conférent presse tenue jeudi palais dar dhiafa chef gouvern chargé ['tenue', 'fin', 'dar', 'dhiafa', 'vrai']\n",
      "tunis parcour nouveau ministr industr energ mines mongi marzouk désign ministr industr energ mines équipe habib jemli né mars ['mongi', 'né', 'marzouk', 'ministr', 'industr']\n",
      "tunis rené trabels garde poste selon liste annonc chef gouvern désign habib jemli ministr tourism ministr transport intérim ['liste', 'garde', 'transport', 'intérim', 'ministr']\n",
      "tunis officiel composit gouvern jemli chef gouvern désign habib jemli vient annonc composit équipe lors conférent presse ['équipe', 'conférent', 'jemli', 'vient', 'composit']\n",
      "tunis 9alb tounes émet réserv liste fuitée membr gouvern jemli parti 9alb tounes publié jeudi communiqu signé président nabil karoui annonc refus catégor ['nabil', 'refus', 'réserv', 'tounes', '9alb']\n",
      "tunis dilou jemli train révis certain noms liste refus ennahdh inlucc leader député ennahdh samir dilou annonc jeudi micro radio privée chef gouvern chargé ['micro', 'révis', 'train', 'ennahdh', 'dilou']\n",
      "tunis photos kais saïed envoie liste gouvern rached ghanouch communiqu publié jeudi janvi 2020 président républ annonc vertu articl 89 ['communiqu', 'kais', 'publié', 'liste', 'photos']\n",
      "tunis après signatur kaïs saïed liste définit gouvern nouveau point presse habib jemli carthag président républ kaïs saïed signé liste définit gouvern formé habib jemli attendu ['attendu', 'formé', 'saïed', 'kaïs', 'liste']\n",
      "tunis confianc gouvern jawhar ben mbarek prédit vote ordre dispers déput nahdhaou professeur droit constitutionnel jawhar ben mbarak admis jeudi certain mouv ennahdh vote ['certain', 'droit', 'vote', 'ben', 'jawhar']\n",
      "tunis exist différend entre jemli saïed selon jawher ben mbarek professeur droit constitutionnel jawhar ben mbarek fait savoir jeudi janvi 2020 différend exist entre président ['savoir', 'droit', 'jawhar', 'entre', 'ben']\n",
      "tunis vote confianc gouvern habib jemli posit tahya tounes dévoil walid jalled dirig sein mouv tahya tounes walid jalled affirm parti votera confianc gouvern habib ['habib', 'votera', 'confianc', 'tounes', 'tahya']\n",
      "tunis femmes elles vrai présent hauteur 40 gouvern jemli chef gouvern désign habib jemli annonc mercred 1er janvi 2019 femme présent hauteur ['femme', 'femmes', 'vrai', '40', 'présent']\n",
      "tunis report annonc composit gouvern pense zouhair maghzaou secrétair général mouv peuple zouhair maghzaou estimé échec chef gouvern désign habib jemli annonc ['estimé', 'échec', 'annonc', 'maghzaou', 'zouhair']\n",
      "tunis seifeddin makhlouf expliqu pourquoi votera gouvern habib jemli chef bloc parlementair coaltion al karama seifeddin makhlouf critiqu équipe formée chef gouvern désign habib ['critiqu', 'expliqu', 'chef', 'makhlouf', 'seifeddin']\n",
      "tunis ennahdh mécontent ministr nahdhaou semble vent discord souffl parti islam ennahdh chef gouvern chargé habib jemli cause ['parti', 'chargé', 'islam', 'vent', 'ennahdh']\n",
      "tunis ennahdh hausse interpel habib jemli parti ennahdh publié soir communiqu lequel annonc réunion lieu entre habib jemli ['soir', 'habib', 'lequel', 'lieu', 'ennahdh']\n",
      "tunis maha aissaou nouvel secrétair etat santé maha aissaou fait partie liste gouvern habib jemli probabl compétent tunisien expatri ainsi ['nouvel', 'santé', 'compétent', 'ainsi', 'maha']\n",
      "tunis exclus liste membr gouvern devait annonc jemli cet après midi tunisienumer pu avoir copie liste membr gouvern présent habib jemli président kaïs saïed ['cet', 'tunisienumer', 'exclus', 'membr', 'liste']\n",
      "tunis commun confus contradictoir président républ suite refus habib jemli dévoil liste ministr cabinet lors point presse tenu cet ['refus', 'cet', 'suite', 'tenu', 'point']\n",
      "tunis rachid naifer assure jemli devait dévoil composit gouvern lors point presse charg commun président républ rachid naifer assuré communiqu président publié ['assuré', 'dévoil', 'président', 'point', 'rachid']\n",
      "tunis pourquoi jemli annonc composit gouvern alors promis faire surpris général après longue attent multipl report chef gouvern chargé habib jemli tenu ['faire', 'report', 'tenu', 'surpris', 'attent']\n",
      "sihem ayadi propos comme secrétair etat sports gouvern jemli sihem ayadi propos poste secrétair etat auprès ministr jeuness sports charg sports sein ['propos', 'secrétair', 'etat', 'ayadi', 'sports']\n",
      "gouvern propos habib jemli votes qalb tounes ayadh elloum député qalb tounes déclar conseil national parti réun dimanch janvi 2020 détermin ['député', 'conseil', 'dimanch', 'tounes', 'qalb']\n",
      "tunis gouvern jemli désorm entre mains ghannouch président républ kais saied remis jeudi soir palais carthag président assembl représent peuple arp ['représent', 'carthag', 'palais', 'soir', 'président']\n",
      "mongi marzouk propos poste ministr industr energ mines mongi marzouk candidat poste ministr industr energ mines gouvern habib jemli né ['ministr', 'poste', 'mongi', 'marzouk', 'industr']\n",
      "tunis habib jemli présent enfin composit gouvern après plusieur rende manqu chef gouvern désign habib jemli final présent composit gouvern ministr hédi gdiri ministr ['final', 'gouvern', 'ministr', 'composit', 'présent']\n",
      "855 mdt profit 86 nouvel municipal minister affair local environ vient adopt accord financ estim 855 million dinars mdt sous forme dons ['local', 'financ', 'sous', 'estim', 'environ']\n",
      "business foot près 120 perte chels chels enregistr perte près 100 million livres 118 million euros exercic comptabl clos 30 juin indiqu ['30', 'indiqu', 'enregistr', 'près', 'million']\n",
      "tunis don chinois profit institu protect enfanc chine entremis ambassad tunis annonc mardi 31 décembr 2019 avoir octroi don nature minister ['minister', 'avoir', '31', 'enfanc', 'don']\n",
      "1er rapport annuel instanc accès inform remis youssef chahed instanc accès inform présent mardi 31 décembr 2019 premi rapport annuel chef gouvern youssef chahed déclar médias ['instanc', 'youssef', 'inform', 'annuel', 'accès']\n",
      "apal agress mauvais gestion domain public maritim inlucc dossi relat soupçon corrupt sein agence protect aménag littoral apal transfer procureur ['agence', 'gestion', 'soupçon', 'public', 'maritim']\n",
      "climat cop26 tiendr glasgow prochain conférent part convent cadre onu climat cop26 lieu ville écossais glasgow ['cadre', 'lieu', 'convent', 'onu', 'ville']\n",
      "anpe trois dossi soupçon corrupt transfer pôle judiciair économ financi instanc national lutte contre corrupt inlucc indiqu rapport 2018 avoir transfer 19 juin 2019 pôle judiciair économ ['soupçon', 'financi', 'trois', 'corrupt', 'économ']\n",
      "biodivers million espec menac extinct million espec animal végétal compte planet environ million menac extinct dont grand nombre entre elles ['nombre', 'compte', 'grand', 'environ', 'million']\n",
      "désoxygen océans perturb écosystem marins rapport union international conserv nature intitul désoxygen océans problem tous soulign ['rapport', 'international', 'union', 'soulign']\n",
      "tunis rétrospect 2019 perform fili aéronaut compos automobil fili industr aéronaut compos automobil distingu 2019 import invest rayon aéronaut mention spécial ['tunis', 'industr', '2019', 'compos']\n",
      "kaïs saïed plus fort calligraph constitu ['saïed', 'kaïs', 'plus', 'constitu']\n",
      "biograph najet nefzi secrétair etat charg artisanat ['secrétair', 'etat', 'biograph', 'charg']\n",
      "trembl terre détect remada []\n",
      "qalb tounes aucun veto membr équipe jamli ['membr', 'jamli', 'qalb', 'équipe', 'aucun']\n",
      "habib jamli réunit membr équipe ['habib', 'membr', 'jamli', 'équipe', 'réunit']\n",
      "kaïs saïed remet composit gouvern rached ghannouch ['ghannouch', 'saïed', 'kaïs', 'composit', 'rached']\n",
      "biograph fethi bayar secrétair etat auprès ministr sports chargé jeuness ['etat', 'biograph', 'auprès', 'sports', 'fethi']\n",
      "biograph maha aissaou secrétair etat santé ['secrétair', 'etat', 'biograph', 'santé', 'maha']\n",
      "biograph sihem ayadi secrétair etat auprès ministr chargé sports ['etat', 'biograph', 'auprès', 'ayadi', 'sports']\n",
      "non gouvern jamli compte 40 femmes ['jamli', 'non', 'femmes', 'compte', '40']\n",
      "biograph hédi bchir ministr chargé évalu rend gouvern ['ministr', 'chargé', 'biograph', 'hédi', 'rend']\n",
      "biograph mohamed ali ben abdallah secrétair etat agricultur ['biograph', 'ben', 'mohamed', 'ali', 'agricultur']\n",
      "biograph kaouth saïed secrétair etat auprès ministr enseign supérieur ['secrétair', 'etat', 'biograph', 'auprès', 'enseign']\n",
      "biograph lobna jribi ministr charg relat parl ['ministr', 'biograph', 'parl', 'charg', 'relat']\n",
      "gouvern jamli réaction tardé ['gouvern', 'jamli']\n",
      "biograph riadh dabbou secrétair etat affair local ['affair', 'secrétair', 'etat', 'biograph', 'local']\n",
      "biograph mohamed ammar nouveau secrétair etat energ renouvel ['nouveau', 'secrétair', 'etat', 'biograph', 'mohamed']\n",
      "perturb distribu eau gouvernorat perturb distribu eau potabl enregistr partir mardi janvi 2019 jusqu lundi 21 janvi 2019 zones suiv ['gouvernorat', 'janvi', 'partir', 'enregistr', '2019']\n",
      "iran nation libres veng mort soleiman iran nation libres région veng etats unis après mort puiss général iranien qassem soleiman tué vendred raid américain ['après', 'vendred', 'général', 'région']\n",
      "hassen chourab ministr propos agricultur hassen chourab ministr propos agricultur ['ministr', 'propos', 'agricultur']\n",
      "said bilel ministr propos affair social said bilel ministr propos affair social ['ministr', 'propos', 'affair', 'social', 'said']\n",
      "abderrahman kachtal ministr propos financ abderrahman kachtal ministr propos financ ['ministr', 'propos', 'financ']\n",
      "imed derouich ministr propos défens imed derouich ministr propos défens ['ministr', 'propos', 'défens', 'imed', 'derouich']\n",
      "mustaph ferajan ministr santé propos mustaph ferajan ministr santé propos ['ministr', 'propos', 'santé']\n",
      "météo vendred janvi 2020 ci après prévis météorolog vendred janvi 2020 selon site institut national météorolog inm ['2020', 'institut', 'site', 'vendred', 'météorolog']\n",
      "jemli réunit membr gouvern propos jemli réunit membr gouvern propos ['gouvern', 'jemli', 'propos', 'membr', 'réunit']\n",
      "gouvern qalb tounes tranch après consult programm gouvern qalb tounes tranch après consult programm ['gouvern', 'après', 'tounes', 'qalb', 'consult']\n",
      "composit gouvern pourr être dévoil aujourd hui président républ rendu public communiqu suite propos président turc erdogan ['suite', 'turc', 'être', 'public', 'pourr']\n",
      "président républ dément propos erdogan ['président', 'républ', 'propos', 'erdogan', 'dément']\n",
      "gouvern jemli dés pipés jetés mois demi tractat consult plus finir bas plus bas bras fer aime non plus vais vais annonc fixées ['annonc', 'mois', 'non', 'consult', 'plus']\n",
      "chaouach saïed doit prépar chois personnal former prochain gouvern député attayar ghazi chaouach estimé président républ kaïs saïed doit prépar dès mainten chois personnal former prochain gouvern ['saïed', 'prochain', 'chaouach', 'former', 'doit']\n",
      "habib jemli entretient membr gouvern photos chef gouvern désign ennahdh habib jemli rencontr soir jeudi janvi 2020 membr gouvern dont liste soumis vote confianc ['rencontr', 'dont', 'photos', 'gouvern', 'membr']\n",
      "maha issaou membre bureau polit qalb tounes nommée secrétair etat auprès ministr santé maha issaou nommée aujourd hui jeudi janvi 2020 secrétair etat auprès ministr santé mustaph ferjan gouvern habib jemli chercheux ['secrétair', 'etat', 'santé', 'auprès', 'maha']\n",
      "fethi haddaou acteur proche ennahdh nommé ministr affair culturel fethi haddaou acteur 58 ans ancien président festival international hammamet 2011 2014 nommé ministr affair culturel gouvern habib jemli ['affair', 'nommé', 'haddaou', 'fethi', 'culturel']\n",
      "kaïs saïed palestin siège conseil sécur onu pend deux ans hier 1er janvi 2019 tunis inaugur mandat membre non permanent conseil sécur nation unies alors diplomat tunisien morfond profond létharg ['membre', 'mandat', 'onu', 'conseil', 'sécur']\n",
      "nouveau gouvern vote confianc arp fixé 10 janvi bureau assembl représent peuple arp réuni samedi janvi 2020 afin fixer date pléni ['10', 'janvi', 'date', 'réuni', 'arp']\n",
      "tunis 53 candidat émigr secourus large kerkennah illustr candidat émigr irréguli reculent devant difficult font face risqu péril vie malgré ['face', 'devant', 'vie', 'font', 'candidat']\n",
      "ouvri chanti menacent grève ouvert coordin ouvri chanti périod post révolu annonc protest national organis mercred 15 janvi 2020 devant siège assembl ['devant', 'siège', 'post', 'périod', 'coordin']\n",
      "rachid ennaïf habib jomli éclips conseil kais saied conseiller président républ charg commun rachid ennaïf revenu nouvel équipe gouvernemental compos habib ['compos', 'revenu', 'conseiller', 'rachid', 'ennaïf']\n",
      "libye premi import fruits tunisien 49 mille tonnes fruits tunis export plus 70 export vers libye selon don group ['premi', 'don', 'vers', 'mille', 'libye']\n",
      "tunis nombre patient hôpital razi doublé depuis révolu nombre tunisien admis hôpital universitair razi malad psychiatr passé 4000 5000 patient an avant ['tunisien', 'depuis', 'avant', 'nombre', 'hôpital']\n",
      "al kotb gouvern jemli compos amateur parti al kotb critiqu membr propos sein gouvern habib jemli qualifi amateur dénonc communiqu ['jemli', 'dénonc', 'critiqu', 'compos', 'al']\n",
      "taux inflat établ ensembl année 2019 institut national statist ins fait savoir taux inflat stabilis ensembl année 2019 sach ['savoir', 'institut', '2019', 'année', 'ensembl']\n",
      "météo brouillard pluies rendez deuxiem journ consécut brouillard observ plusieur région pays samedi janvi 2020 selon don institut national ['pluies', 'institut', 'don', 'observ', 'brouillard']\n",
      "soldes hiver démarr 1er févri 2020 saison soldes saisonni hiver début 1er févri 2020 poursuivr pend semain annonc minister commerc communiqu ['minister', '2020', 'commerc', 'semain', '1er']\n",
      "gouvern jemli manque leadership expérient selon al joumhour comme beaucoup autres partis al joumhour critiqu composit gouvern propos habib jemli communiqu paru vendred janvi 2020 ['comme', 'jemli', 'partis', 'critiqu', 'al']\n",
      "vol devis bct associ professionnel banqu exprim posit associ professionnel tunisien banqu etabl financi aptbef dément inform selon laquel incident vol devis banque central ['dément', 'financi', 'bct', 'associ', 'devis']\n",
      "coalit al karama votera gouvern jemli député coalit al karama abdel aloui affirm vendred décembr format polit votera gouvern ['abdel', 'al', 'karama', 'votera', 'coalit']\n",
      "météo dimanch janvi 2020 météo dimanch janvi 2020 ['janvi', '2020', 'dimanch', 'météo']\n",
      "lotfi mraïhi révolu lieu lotfi mraïhi révolu lieu ['lieu']\n",
      "arp député pdl boubak zakham officiel remplac arp député pdl boubak zakham officiel remplac ['arp', 'député', 'officiel', 'pdl']\n",
      "confianc gouvern ghannouch justif choix date rached ghannouch président arp justifi choix date pléni consacr vote confianc gouvern jemli ['consacr', 'ghannouch', 'confianc', 'date', 'choix']\n",
      "ltdh jemli veut sbire ben ali défens ligue tunisien droits homme exprim communiqu surpris décis chef gouvern désign habib jemli propos magistrat imed derouich poste ministr défens national ['derouich', 'décis', 'surpris', 'homme', 'défens']\n",
      "arp vote confianc gouvern jemli 10 janvi bureau arp réuni samedi janvi 2020 annonc séance pléni consacr vote confianc gouvern jemli lieu vendred 10 janvi 2020 ['confianc', 'arp', 'vote', 'janvi', '10']\n",
      "53 candidat immigr clandestin secourus haute mer unités marine garde national réussi soirée vendred janvi 2020 sauver 53 tunisien âgés entre 16 30 ans ['garde', 'ans', 'candidat', 'soirée', '16']\n",
      "procès assassinat nabil barakat report chambr criminel spécialis justic transitionnel tribunal premi instanc kef décidé vendred report examen affair assassinat nabil barakat originair gaafour gouvernorat silian ['premi', 'décidé', 'justic', 'nabil', 'report']\n",
      "saisie mille paquet feux artific agents poste police enkhilet ariana saisi mille paquet feux artific contreband dépôt appretient homme affair marchandis saisie remise garde national afin ['poste', 'garde', 'ariana', 'homme', 'mille']\n",
      "soldes hiver commencent 1er févri soldes hiver commenc 1er févri 2020 poursuivront six semain annonc vendred minister commerc cette date convenu concert profess ajouté minister précis ['commerc', 'précis', 'semain', 'minister', '1er']\n",
      "gouvern jemli risque échou parl réaction tardé suite annonc très attendu jeudi janvi 2020 composit nouvel équipe gouvernemental propos ['équipe', 'gouvernemental', 'suite', 'très', 'attendu']\n",
      "sofien sliti propos comme ministr intérieur sofien sliti propos poste ministr intérieur gouvern habib jemli né 1972 bardo tunis titulair maîtris ['comme', 'né', 'ministr', 'propos', 'intérieur']\n",
      "sami smaoui propos poste ministr technolog econom numer sami smaoui propos poste ministr technolog econom numer chef gouvern désign habib jemli ingénieur ['chef', 'désign', 'ministr', 'propos', 'poste']\n",
      "hassen chourab propos poste ministr agricultur hassen chourab propos poste ministr agricultur ressourc hydraul pêche gouvern habib jomli ingénieur ['jomli', 'ministr', 'propos', 'poste', 'agricultur']\n",
      "hassin debech propos comme ministr format professionnel emploi hassin debech propos chef gouvern désign habib jemli tête minister format professionnel emploi occupe ['minister', 'comme', 'tête', 'propos', 'format']\n",
      "raoudh jebari propos poste ministr equip propos poste ministr equip habitat aménagent territoir raoudh jebari épouse larbi née 03 janvi 1961 ['janvi', 'ministr', 'propos', 'poste']\n",
      "abderrahmen khochtal propos poste ministr financ abderrahmen khochtal candidat poste ministr financ né juillet 1964 redaief titulair diplôm cycle ['né', 'candidat', 'ministr', 'poste', 'financ']\n",
      "sayed blel propos comme ministr affair social sayed blel propos poste ministr affair social gouvern habib jemli né 23 août 1953 occupe depuis ['né', 'ministr', 'propos', 'affair', 'social']\n",
      "hédi bchir propos comme ministr chargé suivi action gouvernemental mohamed hedi bchir propos ministr auprès chef gouvern chargé suivi évalu rend gouvern né 15 ['hédi', 'rend', 'ministr', 'propos', 'chargé']\n",
      "jamel gamra propos poste ministr transport logist jamel gamra propos poste ministr transport logist né septembr 1961 selon don communiqu ['don', 'ministr', 'propos', 'poste', 'transport']\n",
      "chiraz tlili propos comme ministr fonction publiqu née 20 juin 1974 kasserin chiraz tlili depuis 2019 magistrat conseiller poste commissair gouvern cour ['cour', 'kasserin', 'magistrat', 'conseiller', 'publiqu']\n",
      "fathi haddaou pressent minister affair culturel fathi haddaou pressent poste ministr affair culturel gouvern habib jemli dont composit dévoil ['dévoil', 'dont', 'affair', 'haddaou', 'culturel']\n",
      "kamel hajjam propos poste ministr educ kamel hajjam propos comme ministr educ gouvern habib jemli né 25 septembr 1960 tunis titulair doctorat ['poste', 'comme', 'né', 'ministr', 'propos']\n",
      "slim choura propos poste ministr enseign supérieur slim choura propos poste ministr enseign supérieur recherch scientif né 27 juillet 1961 sfax ['propos', 'poste', 'choura', 'enseign', 'slim']\n",
      "al joumhour estime gouvern jemli manque leadership expérient parti al joumhour critiqu vendred janvi 2020 absenc leadership polit expérient gouvern annonc jeudi cour ['polit', 'cour', 'critiqu', 'estime', 'al']\n",
      "mongi rahoui rached ghannouch outrep constitu ['ghannouch', 'rached', 'constitu', 'mongi', 'rahoui']\n",
      "habib jamli modifi composit gouvern ['gouvern', 'habib', 'composit', 'jamli']\n",
      "composit gouvern jamli probabl chang ['gouvern', 'composit', 'jamli', 'chang']\n",
      "arp pourvoi siège vacant boubak zakham ['arp', 'siège']\n",
      "abdelkarim haroun ennahdh form gouvern répond aspir tunisien ['gouvern', 'ennahdh', 'tunisien', 'haroun']\n",
      "ltdh dénonc nomin imed dérouich tête minister défens ['défens', 'imed', 'nomin', 'dénonc', 'tête']\n",
      "vote confianc arp 10 janvi 2020 ['2020', 'confianc', 'arp', 'vote', '10']\n",
      "ahmed néjib chebbi opposit doit tenir prête présent plan sauvetag pays ['présent', 'pays', 'prête', 'plan', 'doit']\n",
      "taboub ennahdh doit assum respons gouvern ['gouvern', 'ennahdh', 'taboub', 'respons', 'doit']\n",
      "date démarrag soldes hiver ['date']\n",
      "samia abbou relent noureddin bhiri minister intérieur justic ['minister', 'intérieur', 'noureddin', 'abbou', 'justic']\n",
      "ennaïf jamli tenu compte réserv kaïs saïed certain noms ['tenu', 'réserv', 'compte', 'noms', 'ennaïf']\n",
      "zouhair maghzaou gouvern celui ennahdh qalb tounes ['ennahdh', 'tounes', 'qalb', 'zouhair', 'maghzaou']\n",
      "abdel aloui al karama votera gouvern ['gouvern', 'al', 'karama', 'votera', 'abdel']\n",
      "aptbef banqu essuyé aucune perte suite incident bct ['suite', 'bct']\n",
      "habib jamli entretient samir majoul noureddin taboub ['habib', 'jamli', 'samir', 'noureddin', 'taboub']\n",
      "hatem mliki object majeur contre gouvern ['gouvern', 'contre']\n",
      "transtu agents observent grève surpris grève observ vendred chauffeur agents lignes métro léger tunis relev transtu societ transport tunis compr ligne banlieu nord tunis goulet marsa tgm ['transport', 'tunis', 'surpris', 'societ', 'grève']\n",
      "belhaj rhouma majlis choura ennahdh format gouvern polit moez belhaj rhouma député membre conseil choura ennahdh parl issue traval 35e session cette instanc rappel posit ennahdh ['cette', 'membre', 'issue', 'ennahdh', 'choura']\n",
      "composit gouvern mongi rahoui fustig ennahdh qalb tounes député front populair mongi rahoui assuré partis ennahdh qalb tounes report date pléni consacr vote confianc gouvern jemli parce ['ennahdh', 'tounes', 'qalb', 'mongi', 'rahoui']\n",
      "composit gouvern jemli assure chang liste soumis assembl audio chef gouvern désign ennahdh habib jemli assuré chang liste équipe gouvernemental estim ceux veulent apport modif ['apport', 'modif', 'estim', 'liste', 'chang']\n",
      "dhehib mokhtar amri machrou tounes succed maire nahdhaou ali ameur mokhtar amri machrou tounes élu maire dhehib tatatouin lors assembl élect organis hier vendred janvi 2020 succed ainsi ali ameur ennahdh ['hier', 'ainsi', 'élect', 'tounes', 'ali']\n",
      "maghzaou ennahdh veut gagner temps persuad déput voter gouvern jemli habib jemli chef gouvern désign parti ennahdh selon zouhair maghzaou secrétair général mouv echaâb fait passag force don composit ['don', 'veut', 'zouhair', 'ennahdh', 'maghzaou']\n",
      "ltdh indign nomin imed derouich tête minister défens ligue tunisien défens droits homme ltdh ferm dénonc aujourd hui janvi 2020 via communiqu présenc magistrat imed derouich tant ['présenc', 'homme', 'défens', 'imed', 'derouich']\n",
      "tunis audio jemli chang aucun nom gouvern avant obtenu confianc arp chef gouvern chargé habib jemli annonc samedi ondes shems fm aucun malentendu ['fm', 'chang', 'avant', 'shems', 'aucun']\n",
      "tunis arp voix rached ghannouch détermin choix date pléni vote confianc bureau arp divisé samedi matin lors réunion fixer date pléni ['voix', 'choix', 'arp', 'pléni', 'date']\n",
      "tunis ltdh condamn choix imed derouich tête minister défens national bureau ligue tunisien droits hommea publié samedi communiqu lequel condamn nomin ['tête', 'droits', 'choix', 'derouich', 'condamn']\n",
      "tunis propos ghannouch mongi rahoui appel soulev populair député mongi rahoui répondu samedi traver page facebook propos rached ghannouch président arp ['traver', 'ghannouch', 'propos', 'mongi', 'rahoui']\n",
      "tunis modif liste gouvern ghazi chaouach répond ghannouch député secrétair général cour démocrat ghazi chaouach répondu samedi traver page facebook connaiss ['facebook', 'traver', 'modif', 'chaouach', 'ghazi']\n",
      "tunis video ghannouch princip plus possibl va essai opérer chang liste gouvern président arp ennahdh rached ghannouch assuré samedi déclar presse conseil ['assuré', 'chang', 'va', 'possibl', 'ghannouch']\n",
      "tunis derni minute fixat date session pléni arp vote confianc gouvern jemli réunion bureau assembl représent peuple tenue samedi décidé fixer vendred 10 janvi ['bureau', 'décidé', '10', 'tenue', 'date']\n",
      "tunis date pléni consacr vote confianc gouvern jemli bureau assembl représent peuple arp fixera cours réunion samedi janvi 2020 ['pléni', 'bureau', 'consacr', 'date', 'cours']\n",
      "tunis appareil secret ennahdh rached ghannouch rattrap justic dossi appareil secret mouv ennahdh connu certain nombre évolu représent fait parquet ['certain', 'dossi', 'nombre', 'justic', 'ennahdh']\n",
      "tunis al qotb accuse gouvern jemli corrupt parti al qotb dénonc jeudi janvi 2020 composit gouvern habib jemli soulign plusieur membr ['plusieur', 'corrupt', 'dénonc', 'soulign', 'al']\n",
      "tunis vote confianc gouvern jemli posit bloc démocrat député mouv echaâb zouhair maghzaou indiqu vendred janvi 2020 bloc démocrat décidé ['décidé', 'zouhair', 'maghzaou', 'bloc', 'démocrat']\n",
      "tunis abdandon cumul rached ghannouch postes président arp ennahdh précis abdelkrim haroun président conseil choura ennahdh abdelkrim haroun affirm question demand leader mouv ['question', 'précis', 'leader', 'ennahdh', 'haroun']\n",
      "tunis watad consider gouvern comme reflet volont rached ghannouch parti unifié patriot démocrat watad consider composit gouvern habib jemli indépend reflet ['rached', 'gouvern', 'comme', 'indépend', 'démocrat']\n",
      "tunis habib jemli mystéri appliqu informat permis chois ministr plus compétent lors annonc finalis liste membr gouvern habib jemli déclar avoir suivi approch ['plus', 'avoir', 'jemli', 'habib', 'compétent']\n",
      "tunis video rachid neifer dément liste gouvern fuitée maison kaïs saïed charg commun président républ rachid neifer dément vendred ondes jawhar fm ['video', 'fm', 'jawhar', 'rachid', 'dément']\n",
      "tunis habib jemli comment va pouvoir gérer tout beau monde images diffus habib jemli hier soir montr réunion membr gouvern très éloquent ['hier', 'va', 'très', 'tout', 'comment']\n",
      "tunis sofien sellit candidat coalit al karama député bloc tahya tounes walid jalled révélé vendred micro radio privée sofien sellit propos ['candidat', 'révélé', 'privée', 'radio', 'micro']\n",
      "tunis sidi bouzid cour al mahabb organis sit in réclam annul cours éduc sexuel élèves membr cour al mahabb accompagn quelqu citoyen organis vendred sidi bouzid sit in condamn ['al', 'organis', 'cour', 'sit', 'in']\n",
      "tunis walid jalled nombreux compétent national pressent jemli refusé particip cabinet député bloc tahya tounes walid jalled annonc vendred plusieur compétent national effet pressent ['tahya', 'particip', 'nombreux', 'national', 'compétent']\n",
      "tunis coalit al karama accord princip confianc gouvern jemli député bloc al karama abdel aloui annonc vendred micro radio privée gouvern propos ['privée', 'radio', 'micro', 'al', 'karama']\n",
      "tunis bloc démocrat plusieur déput indépend vot confianc gouvern secrétair général mouv peuple député bloc démocrat compte 41 déput annonc membr bloc ['indépend', 'compte', 'déput', 'démocrat', 'bloc']\n",
      "tunis vote confianc gouvern jemli bloc al mostakbal dévoil postion lors intervent jeudi janvi 2020 chaîne al watani président bloc parlementair al mostakbal adnéne ['dévoil', 'parlementair', 'intervent', 'bloc', 'al']\n",
      "tunis vote confianc gouvern posit attayar selon hichem ajboun dirig sein cour démocrat hichem ajboun annonc parti votera gouvern propos ['cour', 'posit', 'démocrat', 'votera', 'attayar']\n",
      "tunis safi saïd déput doivent voter gouvern jemli patriot gouvern propos habib jemli incap réuss aucune vision polit annonc safi saïd lors ['déput', 'polit', 'lors', 'jemli', 'voter']\n",
      "tunis unft appel habib jemli remédi faible présenc femmes gouvern union national femme tunisien unft appelé vendred janvi 2020 chef gouvern désign habib jemli ['habib', 'femme', 'union', 'femmes', 'présenc']\n",
      "tunis safi saïd jemli con membr gouvern lors interview accord tunisienumer vendred janvi 2020 député safi saïd estimé chef gouvern ['membr', 'accord', 'lors', 'tunisienumer', 'estimé']\n",
      "tunis dirig ennahdh donne avance nombre voix votant faveur gouvern membre bureau polit mouv ennahdh belkacem hassan affirm gouvern dont composit annonc ['dont', 'nombre', 'voix', 'membre', 'ennahdh']\n",
      "tunis vidéo safi saïd tn live député safi saïd invité vendred janvi 2020 rubriqu tn live tunisienumer ['vendred', 'vidéo', 'tunisienumer', 'invité', 'tn']\n",
      "tunis youssef chahed cabinet kaïs saïed précis mustaph ben ahmed dirig sein mouv tahya tounes mustaph ben ahmed exclu chef gouvern intérimair président ['youssef', 'cabinet', 'tahya', 'précis', 'ben']\n",
      "tunis bref aperçu itinérair abderrahman kachtal ministr propos financ abderrahman khachtal propos chef gouvern désign habib jemli jeudi janvi 2020 poste ministr ['jeudi', 'poste', 'financ', 'ministr', 'propos']\n",
      "tunis images habib jemli réunit membr gouvern président gouvern chargé habib jemli réuni jeudi après midi membr gouvern après avoir cité plus ['réunit', 'réuni', 'gouvern', 'après', 'membr']\n",
      "tunis volte face parti 9alb tounes rapport gouvern après avoir publié premi communiqu lequel parti 9alb tounes assuré allait reconnaîtr gouvern propos ['face', 'lequel', 'parti', 'tounes', '9alb']\n",
      "tunis parcour academ professionnel mongi marzouk nouveau ministr industr énerg mongi marzouk ministr propos industr energ sein gouvern habib jemli polytechnicien format jouit très ['très', 'ministr', 'mongi', 'marzouk', 'industr']\n",
      "huile olive recet record milliard dinars attendu product global huile olive estim 350 mille tonnes huile olive cette saison tunis passe dégag ['cette', 'dinars', 'attendu', 'estim', 'mille']\n",
      "libye tunis refuse tout déploi soldat turcs via fronti cp reuter charg commun sein président républ rachid ennaif revenu mardi janvi 2020 ['fronti', 'cp', 'revenu', 'tout', 'ennaif']\n",
      "tunis grève prévue champs pétroli nawara el waha champs pétroli nawara el waha tataouin verront product stopp 16 17 janvi prochain décidé lundi ['décidé', 'grève', 'tataouin', '16', 'el']\n",
      "zéro visite officiel compte kais saied vrai aviophob charg commun auprès président républ rachid ennaif enfin répondu rumeur port peur éprouv président ['auprès', 'ennaif', 'vrai', 'compte', 'port']\n",
      "tunis conférent berlin polem dure depuis deux mois lundi janvi 2020 président républ annonc communiqu chef etat kais saied reçu appel ['conférent', 'depuis', 'deux', 'mois', 'berlin']\n",
      "crise libyen plan humanitair urgenc mis place médenin plan urgenc mis place prévis flux migratoir pourr connaitr tunis si situat libye ['pourr', 'médenin', 'si', 'urgenc', 'plan']\n",
      "ghannouch saied veut gouvern président cp président républ président républ kaies said entretenu soirée lundi janvi palais ['veut', 'said', 'entretenu', 'républ', 'président']\n",
      "président confirm saied invité conférent berlin libye cp président républ charg commun sein président républ rachid ennaif confirm ['ennaif', 'berlin', 'républ', 'président', 'confirm']\n",
      "gouvern jemli ministr rejet ennahdh mouv ennahdh posé véto plusieur ministr parmi 28 composent gouvern habib jomli fais unanim ['plusieur', 'jomli', 'rejet', 'ministr', 'ennahdh']\n",
      "chang composit gouvern après envoi arp possibl arp modif composit gouvern après envoi inconstitutionnel estime constitutionnal abderrazek mokhtar poser aujourd hui cette question manouvr ['modif', 'arp', 'après', 'composit', 'envoi']\n",
      "tunis exclue conférent berlin libye communiqu rendu public lundi janvi président républ annonc chef etat kais saied reçu ['reçu', 'conférent', 'rendu', 'berlin', 'public']\n",
      "nouveau gouvern vers renvoi 14 janvi vote confianc fixée vendred 10 janvi 2020 bureau assembl représent peuple arp séance pléni consacr vote confianc ['séance', 'vers', '14', 'confianc', 'vote']\n",
      "habib jomli réunion nabil karoui étudi réserv qalb tounes chef gouvern désign habib jomli réuni président qalb tounes nabil karoui lundi janvi 2020 réunion ['réunion', 'qalb', 'jomli', 'karoui', 'nabil']\n",
      "tunis gouvern jemli voué échec si passe gouvern habib jemli annonc quelqu jours fait face plusieur défis not vote confianc abord ['quelqu', 'face', 'jours', 'échec', 'si']\n",
      "pourquoi tunis exclue congres international berlin dossi libyen charg commun président républ rachid naifer reconnu soir lors intervent ['international', 'rachid', 'dossi', 'intervent', 'berlin']\n",
      "tunis gouvern jemli va droit échec expliqu déclar leader ennahdh 9alb tounes gouvern habib jemli voué échec inéluct toutes raison monde abord parce ['9alb', 'leader', 'droit', 'expliqu', 'échec']\n",
      "tunis mohsen marzouk interpel saïed propos posit rapport libye retard monsieur président président parti al machrou3 mohsen marzouk adress messag traver page facebook président kaïs saïed ['traver', 'saïed', 'président', 'marzouk', 'mohsen']\n",
      "tunis parti errahm votera confianc gouvern jemli parti errahm publié lundi issue réunion bureau polit communiqu lequel affirm ['bureau', 'votera', 'lequel', 'issue', 'parti']\n",
      "tunis video kaïs saïed entretient noureddin tabboub président républqiu kaïs saïed entretenu cet après midi secrétair général ugtt noureddin tabboub derni ['ugtt', 'entretenu', 'saïed', 'kaïs', 'noureddin']\n",
      "tunis video kaïs saïed rached ghannouch discutent situat libye président républ kaïs saïed reçu lundi président arp rached ghannouch déclar issue ['issue', 'ghannouch', 'saïed', 'kaïs', 'rached']\n",
      "tunis video kaïs saïed inform rached ghanouch veut passer formul gouvern président président républ kaïs saïed reçu lundi président arp rached ghannouch derni déclar ['passer', 'saïed', 'kaïs', 'rached', 'président']\n",
      "tunis audio imed khemir veut convoqu ministr défens national intérieur député bloc ennahdh président commiss sécur défens arp imed khemir ['intérieur', 'commiss', 'veut', 'défens', 'imed']\n",
      "tunis gouvern pass arp parce déput peur éventuel élect anticip député yassin ayari annonc lundi parti allait voter confianc gouvern jemli cause ['gouvern', 'député', 'déput', 'voter', 'élect']\n",
      "tunis déput 9alb tounes premi accord confianc gouvern jemli député mouv peuple houcem moussa annonc lundi micro jawhar fm gouvern habib ['premi', 'fm', '9alb', 'jawhar', 'micro']\n",
      "tunis réserv émises qalb tounes composit gouvern habib jemli rencontr nabil karoui chef gouvern désign habib jemli rencontr président qalb tounes nabil karoui lundi janvi 2020 ['tounes', 'qalb', 'karoui', 'nabil', 'rencontr']\n",
      "tunis collect soumoud membr gouvern jemli soupçon corrupt traver communiqu publié dimanch janvi 2020 collect soumoud résist fait savoir suspic corrupt pèsent ['dimanch', 'savoir', 'soupçon', 'traver', 'corrupt']\n",
      "tunis samir dilou dévoil échec ennahdh convaincr habib jemli introduir nouveau noms liste gouvern dirig sein mouv ennahdh samir dilou admis lundi mouv réussi convaincr chef ['échec', 'ennahdh', 'mouv', 'samir', 'dilou']\n",
      "tunis dissolu conseil municipal jbenyan 16 membr conseil municipal jebenian gouvernorat sfax présent démiss collect 18 décembr 2019 démissionnair ['gouvernorat', 'présent', '16', 'conseil', 'municipal']\n",
      "tunis demand révis composit gouvern ennahdh atteint prestig etat selon khaled krichi député mouv peuple khaled krichi estimé lundi demand ennahdh chang certain noms sein ['noms', 'révis', 'ennahdh', 'demand', 'khaled']\n",
      "tunis trois bless après tirs arme protestatair mahdia individu tiré fusil chasse manifest bless person matin région el moulahm ['matin', 'région', 'el', 'person', 'trois']\n",
      "tunis dirig mouv peuple met garde contre gouvern habib jemli dirig sein mouv peuple haykel mekki affirm lundi si équipe habib jemli adopt ['mekki', 'si', 'mouv', 'peuple', 'dirig']\n",
      "tunis vote confianc gouvern jemli tahya tounes décide voter contre bloc parlementair mouv tahya tounes décidé accord confianc gouvern propos habib jemli selon ['voter', 'décidé', 'confianc', 'tounes', 'tahya']\n",
      "tunis coalit al soumoud contre vote confianc gouvern habib jemli bureau exécut coalit al soumoud appelé voter confianc nouveau gouvern assur certain ['certain', 'assur', 'confianc', 'al', 'coalit']\n",
      "tunis vote confianc gouvern volte face nabil karoui président qalb tounes nabil karoui indiqu parti mainten posit rejet gouvern habib jemli estim ['face', 'rejet', 'estim', 'karoui', 'nabil']\n",
      "tunis tahya tounes votera confianc gouvern habib jemli bureau polit parti tahya tounes publié dimanch soir communiqu suite réunion extraordinair tenue jour ['tenue', 'suite', 'jour', 'tounes', 'tahya']\n",
      "tunis ennahdh train tenir réunion coul ralli blocs parlementair souten gouvern secrétair général mouv peuple zouhair maghzaou assuré ennahdh tenu fixer séance vote confianc ['maghzaou', 'zouhair', 'blocs', 'train', 'ennahdh']\n",
      "tunis ennahdh approuv gouvern jemli cherch trouv larges soutien polit président conseil choura ennahdh abdelkarim haroun assuré dimanch suite conférent presse tenue ['suite', 'tenue', 'choura', 'haroun', 'ennahdh']\n",
      "tunis 9alb tounes va accord confianc gouvern jemli leader sein 9alb tounes hatem mliki annonc parti report réunion bureau national ['va', 'report', 'leader', 'tounes', '9alb']\n",
      "tunis vidéo tn live conférent presse ennahdh composit gouvern conférent presse animée dimanch depuis montplais président conseil choura mouv ennahdh abdelkrim haroun consacr ['tn', 'haroun', 'ennahdh', 'presse', 'conférent']\n",
      "tunis divergent entre membr conseil municipal entraînent démiss maire tebourb maire tebourb gouvernorat manoub koutheir bitri renonc fonction affirm avoir déposé jeudi derni lettre ['gouvernorat', 'derni', 'affirm', 'avoir', 'municipal']\n",
      "kais saied peur avion rachid ennaif conseiller charg inform auprès président républ déclar ahla sbeh président républ ['rachid', 'auprès', 'conseiller', 'ennaif', 'républ']\n",
      "baisse températur partir mercerd décembr brouillard local dense matin puis temps passager nuageux ensembl pays nuages progress abond nord quelqu pluies ['partir', 'local', 'nuageux', 'brouillard', 'ensembl']\n",
      "apparit brouillard local intens apparit brouillard local intens mardi béja origin baisse visibl horizontal moins 300 mètres fait savoir institut national météorolog inm ['institut', 'moins', 'météorolog', 'local', 'brouillard']\n",
      "tunis condamn bombard école militair tripol tunis condamn ferm lundi bombard visé samedi derni école militair sud capital libyen tripol fait grand nombre morts bless parmi cadets colleg ['derni', 'nombre', 'grand', 'militair', 'condamn']\n",
      "format gouvern centre entretien saied ghannouch président républ kaies said entretenu lundi soir palais carthag président parl rached ghannouch question format nouveau gouvern indiqu président républ communiqu ['said', 'républ', 'ghannouch', 'président', 'format']\n",
      "plan urgenc cas détérior situat libye président comité régional croiss rouge gouvernorat médenin mongi slim déclar lundi agence tap autor tunisien élabor coordin organis international activ domain aide migr réfugi plan urgenc recevoir flux migratoir tunis si situat libye venait détérior ['slim', 'libye', 'situat', 'urgenc', 'plan']\n",
      "concour réorient universitair 2019 calendri concour réorient universitair calendri ['2019']\n",
      "météo mardi janvi 2020 bancs locaux brume brouillard local observ mardi janvi 2020 matin puis temps partiel nuageux plupart région ['local', 'observ', 'nuageux', 'brouillard', 'mardi']\n",
      "ariana enseign supplé secondair grève instar plusieur région enseign supplé nombreux colleg lycées gouvernorat ariana observ lundi janvi 2019 grève heure entraîn perturb cours reste ['reste', 'nombreux', 'grève', 'enseign', 'ariana']\n",
      "crise libye pdl appel éclairc posit tunis bloc parti destourien libre pdl parl appelé tenue pléni présenc ministr défens national affair étranger défin posit tunis intervent ['destourien', 'intervent', 'présenc', 'posit', 'pdl']\n",
      "metlaou démiss mairess sihem dinari sihem dinari candidat gagné élect municipal metlaou gouvernorat gafsa liste mouv ennahdh annonc hier lundi janvi 2020 agence tunis ['hier', 'municipal', 'candidat', 'agence', 'élect']\n",
      "après rencontr kaïs saïed rached ghannouch cherch sauver soldat jemli nombreux incertitud planent encore sort réserv pléni assembl représent peuple arp équipe compos habib jemli chef ['rencontr', 'encore', 'réserv', 'compos', 'nombreux']\n",
      "rachid ennaif tunis pourr particip conférent berlin confl libyen conseiller président républ charg commun rachid ennaïf revenu matin janvi 2020 ondes mosaïqu fm possibl ['particip', 'berlin', 'pourr', 'ennaïf', 'rachid']\n",
      "polit isolation fatale tunis tunis petit pays superfic démograph économ armée peut donc effac diplomat polit isolation laquel ['pays', 'diplomat', 'économ', 'armée', 'polit']\n",
      "ugtt appel rassembl général 14 janvi 2020 tunis noureddin taboub secrétair général union général tunisien travail ugtt appel syndical travailleur rassembl général 14 janvi 2020 ['taboub', 'appel', 'ugtt', '14', 'général']\n",
      "tunis condamn raid visé école militair tripol tunis condamn ferm raid aérien visé samedi derni janvi 2020 école militair tripol libye fait moins 30 morts plusieur bless ['30', 'plusieur', 'moins', 'militair', 'condamn']\n",
      "crise usa iran tunis appel dialogu tunis soulign déclar rendue publiqu soirée lundi janvi 2020 suit grande inquiétud regret ['appel', 'crise', 'soirée', 'soulign', 'publiqu']\n",
      "mesrs publie calendri concour réorient universitair session mars 2020 minister enseign supérieur recherch scientif annonc lundi janvi 2020 univers direct général ['minister', 'général', 'enseign', '2020', 'direct']\n",
      "vers renforc cooper tuniso omanais domain santé moyens développ cooper opportun partenariat entre tunis sultanat oman domain santé ['entre', 'tuniso', 'vers', 'santé', 'cooper']\n",
      "diplomat angela merkel invite kais saied visit allemagn président républ kais saied reçu commun téléphon chanceli allemand angela merkel lors cet entretien téléphon ['cet', 'diplomat', 'entretien', 'saied', 'kais']\n",
      "polit ghannouch reçu palais carthag saied président républ kais saied entretenu lundi soir palais carthag président parl rached ghannouch ['entretenu', 'ghannouch', 'saied', 'carthag', 'palais']\n",
      "municipal raoued lance recens log commerc municipal raoued gouvernorat ariana lancé lundi recens log locaux commercial espac industriel loisir ['lundi', 'gouvernorat', 'commerc', 'ariana', 'municipal']\n",
      "pdl demand tenue pléni arp crise libyen groupe parti destourien libre pdl parl appel tenue pléni présenc ministr défens national ['destourien', 'présenc', 'pléni', 'pdl', 'tenue']\n",
      "crise libyen silenc mort face guerre fronti tunisien cela paraît difficil voire impossibl déjà accord fustig nombreux pays dont egypte voisin union européen grèce chypre ['crise', 'dont', 'union', 'fronti', 'nombreux']\n",
      "toute modif gouvern après envoi liste parl impossibl modif composit gouvern après envoi parl possibl constitutionnel estime constitutionnal abderrazek mokhtar poser aujourd hui cette question ['estime', 'après', 'parl', 'envoi', 'modif']\n",
      "minister femme signe partenariat organis societ civile convent partenariat sign lundi tunis entre minister femme famill enfanc ['convent', 'societ', 'famill', 'minister', 'femme']\n",
      "tunis minister educ respectu loi accès inform rapport annuel 2018 instanc national accès inform inai révèle minister educ départ respect moins ['moins', 'révèle', 'minister', 'inform', 'accès']\n",
      "tahya tounes votera confianc gouvern jemli groupe parlementair tahya tounes assuré votera confianc gouvern habib jemli appel toutes part concern ['toutes', 'confianc', 'tounes', 'votera', 'tahya']\n",
      "zied ghanney attayar constitu opposit forte ['constitu', 'attayar', 'zied']\n",
      "photo jour youssef chahed porte armes ['chahed', 'youssef', 'porte', 'armes', 'jour']\n",
      "nabil karoui youssef chahed fument calumet paix ['chahed', 'karoui', 'youssef', 'nabil']\n",
      "quel rapport entre najet nefzi coalit karama ['entre', 'rapport', 'karama', 'coalit']\n",
      "ennaïf kaïs saïed attend install gouvern effectu visit officiel ['saïed', 'kaïs', 'officiel', 'effectu', 'ennaïf']\n",
      "abdelkad boudrig présent object pili programm gouvernemental ['présent', 'gouvernemental']\n",
      "pbr rating octroi note commun ariana ['commun', 'ariana']\n",
      "rached ghannouch kaïs saïed veut recour gouvern président ['ghannouch', 'saïed', 'kaïs', 'rached', 'veut']\n",
      "noureddin taboub conjonctur impose solut libyo libyen ['libyen', 'noureddin', 'taboub']\n",
      "mohsen marzouk donne leçon diplomat kaïs saïed ['saïed', 'kaïs', 'marzouk', 'diplomat', 'mohsen']\n",
      "féder artisanat mécontent nomin najet nefzi ['nomin']\n",
      "dossi libyen président républ ministr défens intérieur entendus arp ['arp', 'libyen', 'défens', 'intérieur', 'dossi']\n",
      "tunis écart réunion international dédi situat libye ['libye', 'réunion', 'situat', 'international', 'écart']\n",
      "dilou appel jamli concert assur vote gouvern ['appel', 'jamli', 'dilou', 'concert', 'assur']\n",
      "haykel mekki gouvern très danger existent etat tunisien ['gouvern', 'tunisien', 'etat', 'mekki', 'très']\n",
      "haroun ennahdh demand maintien anouar maârouf ['ennahdh', 'demand', 'haroun']\n",
      "rafik abdessalem gouvern jamli obtiendr confianc parl ['gouvern', 'confianc', 'jamli', 'parl']\n",
      "gouvern jemli obtiendr confianc arp selon dilou député ennahdh samir dilou invité émiss émiss midi show diffus lundi mosaiqu fm ['midi', 'fm', 'samir', 'invité', 'dilou']\n",
      "vidéo ambassadeur chine tunis pays ami conférent presse organis matin lundi 30 décembr ambassad chine tunis ['conférent', 'pays', 'organis', 'vidéo', 'ambassadeur']\n",
      "fronti libye armée tunisien état alerte source sécuritair respons gouvernorat tataouin affirm différent forces armées station long fronti entre tunis libye fin prêtes font preuve vigil préven toute intrus possibl raison combat cours libye ainsi assur bon déroul fêtes fin année ['station', 'font', 'fronti', 'fin', 'libye']\n",
      "prolong état urgenc mois président républ kais saied décidé déclar état urgenc ensembl territoir républ ['décidé', 'ensembl', 'républ', 'état', 'urgenc']\n",
      "inlucc céréal impropr consomm silos minister agricultur rapport 2018 instanc national lutte contre corrupt révélé soupçon corrupt minister agricultur ['révélé', 'soupçon', 'minister', 'corrupt', 'agricultur']\n",
      "vidéo amir fehri lance appel président républ tuniscop rencontr amir fehri écrivain ambassadeur francophon monde parler derni livre ambiti projet éduc ['appel', 'derni', 'rencontr', 'vidéo', 'ambassadeur']\n",
      "rached ghannouch propos annul visa russie ['ghannouch', 'propos', 'rached', 'annul']\n",
      "mohamed abbou aucun député attayar votera gouvern ['votera', 'attayar', 'mohamed', 'aucun', 'abbou']\n",
      "habib jamli contre modif composit gouvern après adopt ['après', 'composit', 'contre', 'jamli', 'modif']\n",
      "décès abdelwaheb mahjoub président moulin mahjoub ['président']\n",
      "hichem snouss rachid ennaïf toujour amère rapport haica ['rapport', 'rachid', 'toujour', 'ennaïf']\n",
      "ahmed ounai limogeag khemaï jhinaou gouvern erreur polit ['gouvern', 'polit']\n",
      "taboub polit doivent combl vide restitu confianc accord peuple ['confianc', 'peuple', 'polit', 'accord', 'taboub']\n",
      "imed hazgui minister cooper instanc accès inform ['instanc', 'inform', 'imed', 'accès', 'cooper']\n",
      "youssef chahed concern aucun poste ['poste', 'chahed', 'youssef', 'concern', 'aucun']\n",
      "walid jalled rencontr karoui chahed organis unifi posit ['chahed', 'organis', 'posit', 'karoui', 'rencontr']\n",
      "libye kaïs saïed appel aide international ['saïed', 'kaïs', 'libye', 'appel', 'international']\n",
      "arrest terror démantel cellul embrigad []\n",
      "conseil ministériel restreint penche situat libye ['libye', 'conseil', 'situat']\n",
      "président républ erdogan demand utilis espace tunisien interven libye ['républ', 'tunisien', 'libye', 'erdogan', 'demand']\n",
      "mi rassur situat sous contrôl fronti tuniso libyen tunis tient prête éventual embras libye cadre porte parole minister intérieur khaled lahyoun tenu ['parole', 'khaled', 'tuniso', 'prête', 'sous']\n",
      "mohamed abbou dirigeon vers gouvern président mohamed abbou posit attayar claire vot gouvern jemli rappel mercred janvi 2020 secrétair ['posit', 'attayar', 'vers', 'mohamed', 'abbou']\n",
      "enseign secondair peuvent désorm partir retrait 57 ans crédit photo minister educ minister educ annonc mercred janvi 2019 communiqu valid ['communiqu', 'ans', 'enseign', 'partir', 'minister']\n",
      "qalb tounes tahya tounes vot gouvern jemli député parti tahya tounes marouan felfel annonc mercred janvi 2020 deux blocs tahya tounes ['qalb', 'deux', 'blocs', 'tounes', 'tahya']\n",
      "nouveau gouvern après vote confianc ministr vont sauter mercred janvi 2020 chef gouvern désign habib jomli indiqu composit gouvern modifi ['mercred', 'nouveau', 'jomli', 'indiqu', 'gouvern']\n",
      "remada accueil camps réfugi président comité régional croiss rouge gouvernorat médenin mongi slim fait savoir plan élabor quelqu semain ['semain', 'régional', 'slim', 'plan', 'médenin']\n",
      "ghazi chaouach gouvern jemli déjà tombé ghazi chaouach député cour démocrat ghazi chaouach affirm mercred janvi 2020 gouvern propos habib jemli obtiendr ['jemli', 'cour', 'démocrat', 'chaouach', 'ghazi']\n",
      "habib jomli chang rien composit gouvern aucun chang apport composit gouvern version propos chef gouvern désign habib jomli habib jomli ['gouvern', 'composit', 'habib', 'chang', 'jomli']\n",
      "destin libye armes sais médenin proviennent turqu cp président gouvern porte parole minister intérieur khaled hayoun revenu mercred janvi 2020 affair saisie ['parole', 'khaled', 'revenu', 'armes', 'médenin']\n",
      "habib jemli refuse modifi composit gouvern selon ennahdh dirig ennahdh abdelt mekki révélé chef gouvern désign habib jemli refuse toujour apport chang composit ['mekki', 'révélé', 'apport', 'ennahdh', 'composit']\n",
      "quand agents transtu travaillent lumi bougie cp webdo tn cette photo prise matin mercred janvi 2020 station bus devant hôpital mongi slim ['cp', 'hôpital', 'slim', 'station', 'tn']\n",
      "dossi libyen chef diplomat français tunis jean yves drian jean yves drian ministr affair étranger effectu mercred janvi 2020 visite officiel tunis réunir ['officiel', 'étranger', 'effectu', 'dossi', 'diplomat']\n",
      "combien réfugi pourr rejoindr tunis cas guerre libye si libye sombre guerre nombreux libyen étranger verr pouss venir réfugi tunis combien ['pourr', 'nombreux', 'si', 'libye', 'réfugi']\n",
      "tunis particip réunion urgent conseil sécur onu libye tunis pris part lundi réunion concert urgent conseil sécur onu organis demand ainsi ['réunion', 'conseil', 'sécur', 'urgent', 'onu']\n",
      "snjt dit non discrimin entre journal tunisien quatorz nombre agress ciblé journal durant mois décembr 2019 plus cas harcel ['plus', 'non', 'mois', 'nombre', 'durant']\n",
      "apia appel candidatur riyeda hackathon for startup appel candidatur riyeda hackathon for startup vient être publié site agence promot invest agricol apia riyeda ['vient', 'agence', 'être', 'site', 'appel']\n",
      "gabès abrite forum économ bleue centain respons expert représent societ civile prendront part forum économ bleue organis 10 ['10', 'part', 'respons', 'societ', 'économ']\n",
      "noureddin taboub reçu carthag kais saied secrétair général union général tunisien travail ugtt noureddin taboub déclar situat général pays esprit ['union', 'ugtt', 'noureddin', 'taboub', 'général']\n",
      "jarand clarif excus fait état premi janvi crise cardiaqu subie ex ministr affair étranger othmen jarand nécess transfert hôpital militair selon source habituel ['premi', 'crise', 'état', 'hôpital', 'militair']\n",
      "confl libye après caire drian tunis jean yves drian ministr europe affair étranger rendra tunis soirée mercred janvi visite officiel deux jours mercred jeudi janvi 2020 où rencontr président républ kais saied ['où', 'janvi', 'jours', 'soirée', 'mercred']\n",
      "tabboub assur retir secrétair général ugtt déclar micro mosaiqu fm mercred janvi 2020 marge visite ville thala gouvernorat kasserin propos retard vote gouvern ugtt respect loi constitu compos paysag polit doivent assur retir ['ville', 'micro', 'assur', 'ugtt', 'retir']\n",
      "chahed concern aucun poste respons youssef chahed chef gouvern gestion affair vient mettre terme spécul annonc intéress aucun poste fois mandat achevé ['fois', 'mandat', 'poste', 'chahed', 'aucun']\n",
      "saïed possibl infiltr terrror fuiant libye kaïs saïed président républ présid mardi réunion conseil sécur national réunion laquel particip youssef chahed chef gouvern gestion affair rached ghannouch président arp plus cadres sécuritair militair ['militair', 'particip', 'présid', 'saïed', 'réunion']\n",
      "météo mercred janvi 2020 temps mercred janvi 2020 caractéris nuages parfois abond pluies isol ['météo', 'janvi', 'pluies', '2020', 'mercred']\n",
      "libye erdogan solliqu recour espace tunisien chargé gestion cabinet présidentiel tarek bettaieb déclar mardi janvi 2020 président turc recep tayyip erdogan solliqu exploit espac aérien maritim tunisien président ['tayyip', 'recep', 'maritim', 'tunisien', 'erdogan']\n",
      "annul convent compagn assur bupa annul convent compagn assur bupa ['assur', 'convent', 'annul']\n",
      "rafik amara attend instruct nabil karoui souten gouvern faire tomber élu qalb tounes assembl représent peuple arp rafik amara déclar mercred janvi 2020 déput bloc attent instruct ['qalb', 'karoui', 'nabil', 'faire', 'attent']\n",
      "polit reste quelqu croire encore chanc gouvern jemli fois plus chef gouvern désign ennahdh habib jemli sorti aujourd hui devant médias répet équipe compétent indépend ['devant', 'encore', 'médias', 'fois', 'reste']\n",
      "décès ancien ministr abderrazek rassaa père ambassadeur abdelaziz rassaa ancien ministr abderrazek rassaa père ex ambassadeur tunis paris abdelaziz rassaa décédé nuit mardi mercred janvi 2020 ['mercred', 'mardi', 'ministr', 'ambassadeur', 'ancien']\n",
      "nouvel rével armes devis sais médenin inform donnée matinal shems fm mercred janvi 2020 armes devis sais médenin sud tunis fronti libyen ['fronti', 'shems', 'armes', 'devis', 'médenin']\n",
      "arp protest contre samia abbou déput ennahdh quittent traval commiss signe protest déput mouv ennahdh assembl représent peuple arp retir aujourd hui mercred janvi 2020 traval ['retir', 'abbou', 'ennahdh', 'arp', 'déput']\n",
      "confl libyen ministr franc affair étranger jean yves drian tunis dossi libyen cœur concert international après visite sujet président turc recep tayyip erdoğan deux semain tour ministr ['tayyip', 'recep', 'semain', 'ministr', 'libyen']\n",
      "tunis requêt erdogan concern libye kaïes saïed déclin selon rachid ennaif conseiller médias président républ rachid ennaif dévoil président turc recep tayyip erdogan demand ['recep', 'conseiller', 'erdogan', 'rachid', 'ennaif']\n",
      "tunis crise libye tunis particip réunion concert conseil sécur onu tunis particip lundi janvi 2020 réunion concert urgent conseil sécur onu organis ['conseil', 'sécur', 'concert', 'particip', 'onu']\n",
      "youssef chahed annonc succès oper sécuritair permis saisie armes chef gouvern intérimair youssef chahed annonc mardi 07 janvi 2020 succès oper sécur prévent ['sécuritair', 'armes', 'annonc', 'chahed', 'youssef']\n",
      "tunis ghazi chaouach faut faire passer gouvern habib jemli interview accord tunisienumer mardi janvi 2020 président bloc démocrat ghazi chaouach déclar ['faire', 'tunisienumer', 'passer', 'chaouach', 'ghazi']\n",
      "direct ghazi chaouach tn live président bloc démocrat ghazi chaouach invité mardi janvi 2020 rubriqu tn live ['invité', 'direct', 'ghazi', 'chaouach', 'tn']\n",
      "tunis gouvern jemli voué échec passe gouvern habib jemli annonc quelqu jours fait face plusieur défis not vote confianc abord ['plusieur', 'quelqu', 'face', 'jours', 'échec']\n",
      "tunis révis composit gouvern répons conseiller président républ comment inform fais état révis composit gouvern propos habib jemli avant soumettr ['état', 'conseiller', 'comment', 'composit', 'révis']\n",
      "tunis dirig attayar appel ennahdh gouvern cesser retard tunisien député cour démocrat zied ghannay appelé mouv ennahdh cesser retard tunisien critiqu déclar fais ['attayar', 'critiqu', 'zied', 'ennahdh', 'tunisien']\n",
      "tunis otdh appel apport aide urgenc tunisien libye observatoir tunisien droits homme otdh appelé autor tunisien apport aide urgenc tunisien trouv ['droits', 'homme', 'urgenc', 'apport', 'tunisien']\n",
      "tunis situat libye cœur concert entre kais said angela merkel président républ tunisien kais said reçu lundi janvi 2020 commun téléphon part chanceli ['situat', 'concert', 'part', 'kais', 'said']\n",
      "tunis intervent militair libye pdl appel pléni consacr posit tunis communiqu rendu public lundi janvi 2020 bloc parlementair parti destourien libre pdl appelé tenue ['destourien', 'intervent', 'militair', 'public', 'pdl']\n",
      "tunis mairess metlaou démission poste siham dinari mairess metlaou déclar lundi janvi 2020 présent démiss depuis 16 décembr derni ['poste', 'présent', 'derni', 'depuis', '16']\n",
      "tunis habib jemli reçoit nabil karoui chef gouvern désign habib jemli reçu jeudi janvi 2020 président parti cœur ['jemli', 'karoui', 'habib', 'nabil', 'reçoit']\n",
      "tunis jemli jette doute indépend gouvern propos chef gouvern désign habib jemli réiter jeudi janvi 2020 déclar ondes mosaïqu ['déclar', 'jeudi', 'gouvern', 'jemli', 'indépend']\n",
      "tunis vote confianc gouvern seifeddin makhlouf pourr chang posit coalit al karama encore décidé posit définit vote vendred prochain accord non confianc ['seifeddin', 'pourr', 'confianc', 'vote', 'posit']\n",
      "tunis kaïs saïed révèle œuvrer chang constitu actuel président républ kaïs saïed affirm efforc respect plein texte constitu assur toutefois ['assur', 'révèle', 'saïed', 'kaïs', 'constitu']\n",
      "aswat nisaa dénonc déclar habib jemli associ aswat nisaa dénonc déclar masculin chef gouvern désign habib jemli montré offens mépris femmes ['habib', 'femmes', 'associ', 'déclar', 'dénonc']\n",
      "tunis habib jemli promet dévoil respons fuite liste gouvern chef gouvern chargé habib jemli promis soir entretien accord radio privée shems fm ['respons', 'privée', 'radio', 'entretien', 'shems']\n",
      "tunis kaïs saïed kasserin commémor journ martyr président républ kaïs saïed rendu mercred après midi ville thala kasserin ['rendu', 'ville', 'saïed', 'kaïs', 'kasserin']\n",
      "tunis dément ennahdh prête confus bureau inform parti ennahdh publié tard cette nuit après 22h00 communiqu dément tout rôle joué ['inform', 'tout', 'prête', 'ennahdh', 'dément']\n",
      "tunis exclus incroi osé exiger ghannouch habib jemli eau gaz entre président ennahdh arp rached ghannouch candidat ['rached', 'entre', 'candidat', 'exclus', 'ghannouch']\n",
      "tunis sonia ben cheikh toujour aussi active terrain deux jours terme mandat ministr jeuness sports ministr santé intérim sonia ben cheikh baissé ['mandat', 'intérim', 'sports', 'ministr', 'ben']\n",
      "tunis théor gouvern pass pourt avis tous observ surtout écout déclar représent différent blocs parlementair plus évident ['plus', 'parlementair', 'observ', 'blocs', 'différent']\n",
      "tunis rached ghanouch invite ambassadeur russe tunis annul visas tunisien président assembl représent peuple arp rached ghannouch reçu mercred janvi 2020 ambassadeur russie ['représent', 'reçu', 'annul', 'rached', 'ambassadeur']\n",
      "tunis photos jemli réunit femmes gouvern chef gouvern désign habib jemli reçu mercred janvi 2020 femmes gouvern palais dar ['dar', 'réunit', 'photos', 'gouvern', 'femmes']\n",
      "tunis photos kais saïed présid cérémon prestat serment nouveau gouverneur beja président républ kais saïed présid mercred janvi 2020 cérémon prestat serment nouveau ['gouverneur', 'saïed', 'nouveau', 'kais', 'présid']\n",
      "tunis malgré manœuvr ennahdh pléni vote confianc confirm vendred tunisienumer vient apprendr séance pléni arp consacr vote confianc gouvern habib jemli confirm ['séance', 'confianc', 'vote', 'pléni', 'confirm']\n",
      "tunis samir dilou accuse samia abbou appropri compétent dictatorial dirig sein mouv ennahdh samir dilou accusé président commiss législ général samia abbou ['compétent', 'commiss', 'samir', 'dilou', 'abbou']\n",
      "tunis jemli affirm aucun chang apport composit gouvern chef gouvern désign habib jemli déclar mercred janvi 2020 aucun chang apport composit ['jemli', 'composit', 'chang', 'aucun', 'apport']\n",
      "tunis arp déput ennahdh ret traval commiss législ déput mouv ennahdh assembl représent peuple arp retir mercred janvi 2020 traval ['commiss', 'retir', 'ennahdh', 'arp', 'déput']\n",
      "tunis ghannouch kais saied tient gouvern président président républ kais saied soulign nécess continu etat bon fonction servic ['président', 'soulign', 'servic', 'saied', 'kais']\n",
      "tunis étape sensibl travers tunis centre rencontr entre saied taboub situat général pays esprit haute respons requiert étape sensibl travers tunis centre ['situat', 'rencontr', 'taboub', 'respons', 'tunis']\n",
      "tunis chahed non intéress import quel poste chef gouvern sort youssef chahed publié page facebook post dire surpr ['non', 'facebook', 'page', 'post', 'chahed']\n",
      "tunis habib jemli quémand soutien yassin ayari celui ci déclin député yassin ayari chef file parti amal wa âmal publié mardi page facebook post ['député', 'publié', 'facebook', 'page', 'post']\n",
      "tunis ennahdh abois après deuxiem réunion entre karoui chahed deuxiem réunion espace 24 heures regroup mardi président 9alb tounes nabil karoui celui ['chahed', 'nabil', '9alb', 'réunion', 'karoui']\n",
      "tunis video kaïs saïed présid réunion haut conseil national sécur président républ kaïs saïed présid mardi palais carthag réunion haut conseil national ['national', 'kaïs', 'réunion', 'conseil', 'présid']\n",
      "tunis habib jemli prépar déjà large mouv corps gouverneur délégu directeur général selon sourc site assabah news chef gouvern chargé habib jemli entamé depuis quelqu jours avant avoir obtenu ['directeur', 'jours', 'avant', 'site', 'gouverneur']\n",
      "tunis ennahdh passe polit chantag lassée courir derri représent toute scène polit quête allianc faire passer gouvern ennahdh depuis ['faire', 'toute', 'passer', 'ennahdh', 'polit']\n",
      "tunis mourou évoque possibil dissolu arp cheikh abdelfattah mourou déclar entretien accord média qatari ennahdh train cherch assur ['déclar', 'accord', 'assur', 'train', 'entretien']\n",
      "tunis utilis espace aérien maritim tunisien turqu président républ précis président républ dément communiqu publié mardi janvi 2020 inform propag certain médias ['dément', 'précis', 'médias', 'maritim', 'républ']\n",
      "haikel mekki gouvern jemli gouvern compétent indépend jemli indépend lors interview accord tunisienumer mardi janvi 2020 député mouv peuple haikel mekki déclar ['jemli', 'compétent', 'tunisienumer', 'indépend', 'mekki']\n",
      "tunis demand erdogan usage espac aérien terrestr précis président républ tarek bettaïeb chargé cabinet président républ affirm mardi janvi 2019 président turc recep tayyip ['précis', 'tayyip', 'recep', 'républ', 'président']\n",
      "direct haikel mekki tn live député mouv peuple haikel mekki invité rubriqu tn live tunisienumer ['tunisienumer', 'invité', 'direct', 'mekki', 'tn']\n",
      "tunis ghazi chaouach ennahdh oeuvre faire passer gouvern jemli tout prix lors interview accord tunisienumer mardi janvi 2020 président bloc démocrat ghazi chaouach déclar ['tunisienumer', 'passer', 'tout', 'chaouach', 'ghazi']\n",
      "tunis vent paniqu ennahdh cause réunion entre nabil karoui youssef chahed vent paniqu souffl depuis matin couloir temple bleu mont plais cause réunion ['youssef', 'karoui', 'nabil', 'réunion', 'vent']\n",
      "samir dilou abdelaziz essid présent procès seif eddine makhlouf ['présent', 'dilou', 'samir', 'makhlouf']\n",
      "ghazi chaouach modifi gouvern après adopt bassess morale ['gouvern', 'après', 'chaouach', 'ghazi']\n",
      "hédi guedir modèle magistrat indépend ['indépend', 'magistrat', 'hédi']\n",
      "polit el karama dépend celle qalb tounes ['tounes', 'polit', 'qalb', 'karama', 'el']\n",
      "gouvern propos habib jamli fait tourn plateau ['gouvern', 'habib', 'propos', 'fait', 'jamli']\n",
      "habib jamli ennahdh votera faveur gouvern malgré réserv ['habib', 'ennahdh', 'jamli', 'votera', 'réserv']\n",
      "ennahdh ghannouch intervenu rapproch entre chahed karoui ['ennahdh', 'ghannouch', 'entre', 'chahed', 'karoui']\n",
      "kaïs saïed temps révis constitu code électoral ['saïed', 'kaïs', 'temps', 'constitu', 'révis']\n",
      "habib jamli démasqu partie fuité liste gouvern ['gouvern', 'habib', 'liste', 'jamli']\n",
      "seif eddine makhlouf al karama décid jour vote ['vote', 'al', 'karama', 'makhlouf', 'jour']\n",
      "abir moussi face occas histor isoler ennahdh ['ennahdh', 'face', 'moussi', 'abir']\n",
      "mongi rahoui ghannouch pu rassembl 109 voix gouvern ['gouvern', 'ghannouch', 'mongi', 'voix', 'rahoui']\n",
      "fourat rien donne penser tunis accueil dizain milli réfugi ['tunis', 'réfugi', 'rien']\n",
      "commiss législ général clash entre samia abbou déput ennahdh ['entre', 'général', 'déput', 'commiss', 'abbou']\n",
      "habib jamli réunit équipe féminin ['habib', 'jamli', 'équipe', 'réunit']\n",
      "mohsen moez el mili nouveau gouverneur béja prête serment ['nouveau', 'el', 'mohsen', 'prête', 'gouverneur']\n",
      "marouan felfel tahya tounes qalb tounes vot gouvern jamli ['gouvern', 'jamli', 'qalb', 'tahya', 'tounes']\n",
      "pluies diluvien durant week end inm précis bilel yahyaou ingénieur institut national météorolog dément jeudi janvi 2020 lors intervent sbeh ennes rumeur parlent ['dément', 'précis', 'intervent', 'durant', 'météorolog']\n",
      "kaïs saïed effectu visite inopin ville kasserin kaïs saïed président républ effectu mercred janvi 2020 visite inopin ville kasserin marge célebr jour martyr ['kaïs', 'visite', 'effectu', 'kasserin', 'ville']\n",
      "even libye toutes mesur prises selon fourat ministr intérieur hichem fourat assuré toutes mesur prises parer toute éventual fronti tuniso libyen soulign déploi unités sécur armée long littoral fronti pays ['tuniso', 'toute', 'armée', 'fronti', 'toutes']\n",
      "80 radars automat bientôt install 80 radars automat bientôt install []\n",
      "trabels ote particip évacu tunisien libye office tunisien étrang particip plan urgenc spécif libye assur transfert tunisien vont arriv pays cas dégrad situat ['urgenc', 'plan', 'libye', 'tunisien', 'particip']\n",
      "météo jeudi janvi 2020 temps jeudi janvi 2020 passager nuageux plupart région nuages parfois abond nord région ouest quelqu pluies ['pluies', '2020', 'nuageux', 'jeudi', 'région']\n",
      "passeport tunisien classé 1er afriqu nord passeport tunisien classé 1er afriqu nord ['tunisien', '1er', 'nord']\n",
      "nouveau gouverneur béja prête serment nouveau gouverneur béja prête serment ['nouveau', 'prête', 'gouverneur']\n",
      "hayoun armes sais fabriqu turque hayoun armes sais fabriqu turque ['armes']\n",
      "secondair enseign prendront retrait 57 ans secondair enseign prendront retrait 57 ans ['ans', 'enseign']\n",
      "tunis russie rached ghannouch reçoit ambassadeur russie tunis sergey nikolaev question libyen cœur réunion mercred cour palais bardo entre président assembl représent ['palais', 'cour', 'reçoit', 'ambassadeur', 'question']\n",
      "crise libyen tunis prépar prévis éventuel afflux réfugi réunion coordin tuniso onusien tenue mercred janvi 2020 sous président ministr affair étranger intérim sabri bachtobj consacr ['tuniso', 'réfugi', 'sous', 'coordin', 'intérim']\n",
      "amici di raoul follereau fait come back tunis dix ans après premi action cette associ italien spécialis développ communautair inclus person frapp handicap physiqu mental ouvre ['premi', 'cette', 'ans', 'person', 'associ']\n",
      "commiss harmonis textes jurid droits homme constitu décret gouvernemental 2019 1196 port création commiss national harmonis textes jurid relat droits homme disposit ['relat', 'port', 'commiss', 'droits', 'homme']\n",
      "bientôt publiqu cahier charg jardin enfant laabid ministr femme famill enfanc senior néziha laabid annonc mercred janvi 2020 cahier ['charg', 'femme', 'enfanc', 'famill', 'publiqu']\n",
      "mercenariat polit gouvern locale mairie tunis exempl peut défair cultur mercenariat pays où concept démocrat dévoyé naissanc ['gouvern', 'polit', 'pays', 'démocrat', 'où']\n",
      "municipal tunis adhère programm villes santé municipal tunis annonc mercred janvi 2020 communiqu adhes programm villes santé visant promouvoir santé traver ['mercred', 'communiqu', 'traver', 'municipal', 'santé']\n",
      "soukra municipal mdt amélior cadre vie municipal soukra décidé allou envelopp million dinars mdt projet destin amélior cadre ['million', 'dinars', 'vie', 'municipal', 'cadre']\n",
      "listes attent création officin détail précis minister santé communiqu publié mercred janvi 2020 minister santé précis arrêté ministr santé intérim ['attent', 'intérim', 'minister', 'précis', 'santé']\n",
      "topnet inaugur nouvel agence el mourouj cadre développ réseau commercial amélior continu servic rendus client topnet leader marché internet ['el', 'agence', 'cadre', 'leader', 'servic']\n",
      "mena croissanc pib 2020 rapport économ mufg mena publié aujourd hui attend repris croissanc pib 2020 région mena ['hui', 'rapport', 'région', '2020', 'économ']\n",
      "crise libyen kaïs saïed appel forces sécur tunisien prépar toutes éventual lors réunion soirée mardi janvi 2020 palais carthag conseil sécur national chef ['palais', 'crise', 'soirée', 'toutes', 'sécur']\n",
      "minister santé réaffirm import préven grippe saisonni minister santé réaffirm mardi janvi 2020 import suivre toutes recommand nécessair préven grippe saisonni minister ['2020', 'mardi', 'toutes', 'santé', 'minister']\n",
      "france félicit tunis tant nouveau membre conseil sécur onu france féliqu mardi janvi 2020 tunis eston niger saint vincent grenadin vietnam entamé 1er cour ['sécur', 'cour', '1er', 'membre', 'onu']\n",
      "recycl install bancs devant hôpital traumatolog ben arous onze bancs recycl color install devant hôpital traumatolog grands brûlés ben arous jeune volontair ['ben', 'devant', 'hôpital']\n",
      "instituteur vacatair grève demain instituteur vacatair observent demain grève différent écoles primair protest contre fait autor tutel activé engag signés ['fait', 'contre', 'différent', 'grève']\n",
      "depuis 2010 messag très forts venus stades chanson club africain ya 7yetna créé buzz car parle seul football aussi évoque maux pays accident amdoun mort maha morts bébés rabta immigr clandestin ['pays', 'depuis', 'très', 'accident', 'maha']\n",
      "hausse prix baril pétrol adviendr budget etat 2020 or premi fois support clubs sportif engagent défendr causes peuple grand angle ['peuple', 'etat', 'premi', 'fois', 'grand']\n",
      "التوظيف في ألمانيا يبلغ مستوى قياسيا مرتفعا في 2019 quand gouvern élabor avant trois mois budget etat 2020 basé calcul prix achat baril pétrol avoisin 65 dollar moyen ['2019', 'etat', 'mois', 'avant', 'trois']\n",
      "إصابة أشخاص فى احتفالات السنة الجديدة فى باكستان secouss tellur enregistr vendred janvi gouvernorat tataouin ['janvi', 'vendred', 'gouvernorat', 'tataouin', 'enregistr']\n",
      "ambassad chine offre ordin matériel minister femme ambassad républ populair chine tunis fait 31 décembr 2019 donat profit system inform suivi institu enfanc ['31', 'inform', 'femme', 'enfanc', 'populair']\n",
      "chutes neige silian petit quantit neige tomb lundi soir région souk jemaa saddin déleg makthar région haute kesra déleg kesra silian ['lundi', 'soir', 'région']\n",
      "56 tunisien satisfait rend président républ emrhod consulting dévoil résultat derni sondag réalis cours périod allant 27 28 décembr 2019 ['derni', 'dévoil', 'cours', 'rend', 'périod']\n",
      "limogeag ambassadeur tunis france derni numéro journal officiel édit aujourd hui lundi 30 décembr 2019 publié arrêté présidentiel met fin mission ambassadeur tunis paris abdel aziz rassaa consul général tunis paris ali chaalal ['fin', 'abdel', 'ali', 'tunis', 'ambassadeur']\n",
      "habib jemli qalb tounes donné accord certain noms équipe gouvernemental jour pléni assembl représent peuple arp consacr vote confianc gouvern propos habib jemli derni indiqu matin ['consacr', 'gouvernemental', 'certain', 'noms', 'jour']\n",
      "hédi kédiri ministr justic propos exempl juge indépend chois interven médias répondr polem accompagn présenc nom composit gouvernemental présent habib jemli hédi ['gouvernemental', 'médias', 'justic', 'présenc', 'hédi']\n",
      "saïed kasserin commémor journ martyr lutte contre corrupt priorit président républ kais saïed rendu soir mercred janvi 2020 kasserin occas commémor 9e anniversair journ martyr lors ['corrupt', 'rendu', 'lutte', 'saïed', 'kasserin']\n",
      "abir moussi opportun histor prendr choses main écart ennahdh vidéo déput abir moussi président parti destourien libre pdl estimé fall rassembl prendr choses main opportun histor écart ['estimé', 'écart', 'moussi', 'abir', 'prendr']\n",
      "kherij toujour 109 voix faire passer gouvern affirm rahoui appel tunisien manifest 14 janvi mongi rahoui député front populair assuré aujourd hui mercred janvi 2020 rached ghannouch vrai nom kherij président assembl chef parti ['front', 'vrai', 'voix', '14', 'rahoui']\n",
      "habib jemli réunit rares femmes compétent trouv tunis chef gouvern désign ennahdh habib jemli annonc avoir organis cet après midi mercred janvi 2020 réunion exclus femmes nomm ['compétent', 'cet', 'réunit', 'exclus', 'femmes']\n",
      "karoui issue réunion jemli gouvern ennahdh alors moins 24 heures séparent pléni vote confianc gouvern jemli manœuvr polit derni ['derni', 'jemli', 'karoui', 'issue', 'moins']\n",
      "person encore invité conférent berlin lance ambassadeur allemand andre reinick ambassadeur allemagn tunis ambassadeur allemagn tunis andre reineck revenu jeudi janvi 2020 éventuel écart ['encore', 'invité', 'berlin', 'revenu', 'ambassadeur']\n",
      "tunis 19 subsaharien interpel fronti tuniso libyen heure où disposit sécuritair place fronti tuniso libyen différent unités garde ['sécuritair', 'différent', 'libyen', 'fronti', 'tuniso']\n",
      "jemli sollicit déput appel voter gouvern habib jemli chef gouvern désign chef gouvern désign habib jemli appelé jeudi janvi 2020 représent peuple ['voter', 'gouvern', 'chef', 'jemli', 'désign']\n",
      "el kamour neuf protestatair grève faim sit in el kamour poursuit face non appliqu accord el kamour signé juin 2017 gouvern ['face', 'grève', 'sit', 'in', 'el']\n",
      "arabie saoudit charge deux ministr rencontr kais saied ministr saoudien affair étranger affair africain devr rendre jeudi janvi 2020 tunis chaîne saoudien al arabii ['étranger', 'deux', 'rencontr', 'ministr', 'affair']\n",
      "tunisair 280 emploi chaque avion masse salarial colossal sein tunisair pèse toujour compagn licenci milli emploi évoqué depuis mois refait surfac ['sein', 'depuis', 'mois', 'toujour']\n",
      "flux réfugi libyen réunion coordin tuniso onusien illustr réunion coordin tuniso onusien tenue hier mercred janvi sous président ministr affair étranger intérim sabri bachtobj ['sous', 'intérim', 'réunion', 'tuniso', 'coordin']\n",
      "kais saied travaill silenc accompl projet cp président républ visite officiel gouvernorat kasserin occas cérémon clôtur 9e anniversair ['visite', 'gouvernorat', 'officiel', 'kasserin', 'cp']\n",
      "kais saied temps revoir code électoral constitu kais saied visite gouvernorat kasserin président républ kais saied soulign hier mercred janvi ['hier', 'kasserin', 'soulign', 'saied', 'kais']\n",
      "vote confianc après annonc qalb tounes tahya tounes makhlouf indec président bloc coalit al karama seifeddin makhlouf affirm décis voter gouvern jemli ['tahya', 'seifeddin', 'décis', 'tounes', 'makhlouf']\n",
      "tunis passeport plus puiss afriqu nord passeport tunisien permet entrée 69 pays sans visa toujour passeport plus puiss afriqu nord selon classif ['selon', 'pays', 'toujour', 'plus', 'nord']\n",
      "augment âge retrait enseign universitair rejet ijaba union enseign universitair chercheur tunisien ijaba annonc refus augment âge retrait enseign universitair chercheur catégor ['refus', 'union', 'rejet', 'augment', 'enseign']\n",
      "tunis photos kais saïed reçoit ministr italien affair étranger cooper international président républ kaïs saïed reçu lundi 13 janvi 2020 ministr italien affair étranger ['cooper', 'ministr', 'saïed', 'affair', 'étranger']\n",
      "tunis rencontr rached ghannouch erdogan but visite selon abir moussi président parti destourien libre pdl abir moussi affirm lundi comment rencontr président turc recep tayyip erdogan ['comment', 'erdogan', 'rencontr', 'abir', 'moussi']\n",
      "tunis kais saied entame concert désign personnal plus apte former gouvern président républ kais said entame aujourd hui 13 janvi 2020 consult partis polit coalis ['former', 'partis', 'consult', 'said', 'kais']\n",
      "tunis hassoun nasfi dirig mouv ennahdh menacé président bloc réform national hassoun nasfi déclar dirig mouv ennahdh menacé deux ['réform', 'ennahdh', 'mouv', 'dirig', 'nasfi']\n",
      "tunis attitud zied ladhar lors vote gouvern samir dilou dévoil réaction ennahdh dirig sein mouv ennahdh samir dilou dévoil lundi 13 janvi 2020 surpr déclar ['zied', 'ennahdh', 'dévoil', 'dilou', 'samir']\n",
      "tunis arp audit directeur cabinet président républ sujet situat libye commiss sécur défens assembl représent peuple arp audition aujourd hui 13 janvi 2020 directeur cabinet ['commiss', 'audit', 'arp', 'directeur', 'cabinet']\n",
      "tunis vidéo fethi haddaou nie lien entre amitié ghannouch désign gouvern jemli fethi haddaou acteur ministr affair culturel propos habib jemli nié lien président assembl ['jemli', 'vidéo', 'culturel', 'haddaou', 'fethi']\n",
      "tunis visite rached ghannouch turqu samir dilou reconnaît problem timing comment controvers suscit visite président parl rached ghannouch turqu samir dilou dirig mouv ennahdh ['rached', 'visite', 'samir', 'dilou', 'turqu']\n",
      "tunis qalb tounes opte gouvern salut national parti qalb tounes appelé format gouvern salut national répond attent tunisien sans exclus ['exclus', 'attent', 'national', 'tounes', 'qalb']\n",
      "tunis enregistr trois infract campagn élect municipal manoub membre instanc régional indépend élect irie manoub zied riahi déclar dimanch 12 janvi 2020 ['enregistr', 'trois', 'régional', 'zied', 'élect']\n",
      "tunis félicit cessez feu décret libye tunis félicit annonc cessez feu libye partir dimanch 12 janvi exhort part libyen privilégi ['dimanch', 'part', 'partir', '12', 'libye']\n",
      "tunis tractat prochain gouvern attayar concern cour démocrat attayar concern futur gouvern coordin mouv al chaâb cadre bloc ['prochain', 'cadre', 'coordin', 'concern', 'attayar']\n",
      "tunis déput veulent ménag ghannouch hésitent signer pétit destitu comme cela annonc depuis hier pdl lancé pétit propos signatur représent ['déput', 'comme', 'depuis', 'pdl', 'hier']\n",
      "tunis appel prendr mesur encontr magistrat compren liste habib jemli associ jeunes avocat tunisien publié dimanch communiqu annonc immens inquiétud rapport situat national ['dimanch', 'situat', 'magistrat', 'prendr', 'associ']\n",
      "tunis habib jemli revien vie privée paix âme ex chef gouvern chargé ennahdh habib jemli réagi dimanch refus confianc gouvern représent ['jemli', 'habib', 'refus', 'privée', 'vie']\n",
      "tunis tataouin sit inneur al kamour suspendent grève faim après invit ghannouch sit inneur al kamour entamé grève faim sauvag siège gouvernorat tataouin rompu ['siège', 'al', 'grève', 'tataouin', 'sit']\n",
      "tunis pourquoi kaïs saïed refuse toujour prendr avion présidentiel préfer priver tunisair appareil après avoir longtemp refusé prendr avion présidentiel kaïs saïed semble toujour dispos monter bord ['saïed', 'kaïs', 'présidentiel', 'toujour', 'prendr']\n",
      "tunis rached ghannouch droit rencontr erdogan cette mani avocat député mabrouk korchid publié page facebook post lequel expliqu rencontr huis ['lequel', 'post', 'droit', 'expliqu', 'rencontr']\n",
      "tunis video président républ muscat président républ kaïs saîed rendu dimanch matin muscat capital omanais où rencontr ['président', 'rencontr', 'où', 'rendu', 'républ']\n",
      "tunis mohsen marzouk appel écart ennahdh gouvern ghannouch président arp président al machrou3 mohsen marzouk réagi samedi refus confianc gouvern jemli propos ennahdh ['refus', 'écart', 'ennahdh', 'marzouk', 'mohsen']\n",
      "tunis visite ghannouch turqu doit conduir écart président arp président parti destourien libre abir moussi publié page facebook post lequel condamn fait ['abir', 'moussi', 'post', 'condamn', 'doit']\n",
      "tunis ghannouch attend fin vote confianc aller félicit erdogan nouvel voitur turque tentat trouv expliqu accept visite non déclar turqu lendemain chute gouvern ['erdogan', 'non', 'turqu', 'fin', 'expliqu']\n",
      "tunis ruse ghannouch garder pouvoir casser front fait face ceux cru avoir vaincu islam prétendent avoir écart pouvoir détrompent islam ghannouch ['écart', 'front', 'ghannouch', 'avoir', 'islam']\n",
      "dernier minute réunion fermée entre rached gannouch erdogan istanbul agence presse anadolu annonc samedi président turc erdogan entretenu cet après midi président ennahdh ['cet', 'turc', 'agence', 'entretenu', 'erdogan']\n",
      "tunis kaïs saïed rend oman président républ annonc samedi après midi président kaïs saïed rendra demain dimanch sultanat ['midi', 'président', 'rend', 'saïed', 'kaïs']\n",
      "tunis ennahdh dit soumettr règles démocrat annonc réévalu polit parti islam ennahdh publié samedi matin communiqu lequel annonc soumettr règles démocrat ['islam', 'lequel', 'ennahdh', 'annonc', 'démocrat']\n",
      "tunis video bhiri ennahdh rest traver gorge tous ceux aiment tunis atteindr fond réalit pensée gens faut écout quand colère car tous ['ennahdh', 'tunis', 'video', 'traver']\n",
      "tunis pdl présent motion censur écart ghannouch président arp parti destourien libre appelé samedi matin déput contré hier octroi confianc gouvern habib jemli ['pdl', 'hier', 'libre', 'destourien', 'écart']\n",
      "tunis rached ghannouch envole rencontr erdogan selon sourc proch mouv islam ennahdh président parti arp rached ghannouch reçu nuit derni ['erdogan', 'rencontr', 'islam', 'ghannouch', 'rached']\n",
      "tunis video ghannouch quitte palais carthag sans faire déclar président arp rached ghannouch rendu samedi matin plais présidentiel carthag où reçu ['où', 'rendu', 'présidentiel', 'ghannouch', 'carthag']\n",
      "tunis video saïed reçoit habib jemli carthag président républ kaïs saïed reçu samedi matin ex chef gouvern chargé suite refus vote ['carthag', 'refus', 'suite', 'reçoit', 'saïed']\n",
      "tunis tension mont plais ennahdh décharg grogne laâdhar rached ghannouch suite refus accord confianc gouvern habib jemli formé ennahdh membr parti islam décol immédiat ['suite', 'refus', 'islam', 'formé', 'ennahdh']\n",
      "2e fois semain saisie armes proven turqu illustr douane tunisien annonc saisie 19 fusils chasse gouvernorat tataouin soirée dimanch 12 ['tataouin', '12', 'semain', 'fois', 'armes']\n",
      "avoirs nets devis poursuivent hausse banque central annonc augment avoirs nets devis atteint 111 jours 19 492 million dinars 31 ['jours', 'augment', 'dinars', 'million', 'devis']\n",
      "fripi menacent nouvel grève chambr syndical national commerc vêt usagés fripe consider toutes décis prises autor tutel dénou ['nouvel', 'grève', 'commerc', 'toutes', 'décis']\n",
      "tunis environ 30 crimes enregistr chaque heure 150 mille crimes enregistr durant périod 1er janvi 31 juillet 2019 tunis moyen environ 30 crimes ['périod', 'mille', '30', 'enregistr', 'environ']\n",
      "tunis kais saied latitud impos chef gouvern partis gouvern jemli échoué obten confianc parl kais saied doit ores déjà attel engag consult ['partis', 'consult', 'doit', 'saied', 'kais']\n",
      "ghannouch turqu problem timing selon dilou comment polem suscit visite président assembl représent peuple arp rached ghannouch turqu samir dilou dirig ['samir', 'comment', 'ghannouch', 'turqu', 'dilou']\n",
      "premi voyage étrang kais saied fait appel tunisair premi déplac étrang président républ kais saied envolé vers sultanat oman où présent condolé ['où', 'vers', 'saied', 'kais', 'premi']\n",
      "ennahdh président rached ghannouch remise question mois abdel mekki dirig sein ennahdh évoqu nécess accéler organis congres parti not depuis ['mois', 'abdel', 'mekki', 'question', 'ennahdh']\n",
      "abir moussi mohsen marzouk veulent faire destitu rached ghannouch parti destourien libre pdl présid abir moussi lancé pétit afin retir confianc président assembl représent ['mohsen', 'retir', 'présid', 'moussi', 'abir']\n",
      "arp quatre blocs parlementair unifient lancer concert saied porte parole bloc parlementair akl mostakbal issam bargougui déclar parti négoci blocs qalb tounes tahia ['concert', 'parole', 'porte', 'parlementair', 'blocs']\n",
      "ministr italien affair étranger visite officiel tunis luigi di maio ministr italien affair étranger cooper international luigi di maio effectu lundi 13 janvi 2020 ['effectu', 'cooper', 'ministr', 'affair', 'étranger']\n",
      "migrat irréguli 46 person arrêt durant week end durant week end 46 person dont 30 tunisien 16 subsaharien arrêt patrouill mixtes garde maritim bizert ['dont', '16', 'maritim', 'person', 'durant']\n",
      "tunis campagn sécur station transport commun plusieur campagn sécuritair organis dimanch 12 janvi 2020 station moyens transport commun tunis ['sécuritair', '12', 'commun', 'transport', 'station']\n",
      "directeur cabinet président fait faux bond arp déput commiss sécur défens dénonc lundi 13 janvi 2020 refus directeur cabinet président républ répondr ['commiss', 'refus', 'dénonc', 'cabinet', 'directeur']\n",
      "arp audit directeur cabinet président commiss sécur défens sein parl audition lundi 13 janvi 2020 directeur cabinet présidentiel propos situat ['commiss', 'présidentiel', 'audit', 'directeur', 'cabinet']\n",
      "décès deux person port accostag bac djerba deux person déced matin lundi 13 janvi 2020 après chute véhicul mer port destin bac djerba selon déclar directeur régional protect civile medenin colonel khemai ben ali ['ali', 'régional', 'deux', 'person', 'port']\n",
      "tataouin hausse phénomen vandal tombes habit région ksar ouled soltan déleg tataouin nord exprim colère suite augment phénomen vandal tombes recherch trésor région indiqu correspond région ['suite', 'nord', 'augment', 'tataouin', 'région']\n",
      "autorout tunis sfax trafic paralys après dérapag camion autorout tunis sfax trafic paralys après dérapag camion ['tunis', 'après']\n",
      "temps parfois nuageux pluies isol mehrez mahres institut météorolog déclar ahla sbeh lundi 13 janvi 2020 bancs locaux brume brouillard local observ matin temps parfois nuageux pluies isol plupart région ['brouillard', 'météorolog', 'temps', 'pluies', 'nuageux']\n",
      "météo temps pluvieux météo temps pluvieux ['temps', 'météo']\n",
      "campagn sécuritair station transport commun campagn sécuritair station transport commun ['commun', 'sécuritair', 'transport', 'station']\n",
      "oman kais saïd présent condolé nouveau sultan oman kais saïd présent condolé nouveau sultan ['nouveau', 'kais', 'présent']\n",
      "météo dimanch 12 janvi 2020 ci après prévis météorolog dimanch 12 janvi 2020 selon site institut national météorolog inm ['institut', 'site', 'dimanch', '12', 'météorolog']\n",
      "abir moussi faut être idiot croire visite ghannouch turqu cache rien ['turqu', 'moussi', 'abir', 'être', 'rien']\n",
      "di maio tunis rôle central jouer résolu crise libyen ['tunis', 'libyen', 'crise', 'central']\n",
      "chef cabinet présidentiel absent séance audit concern dossi libyen ['présidentiel', 'concern', 'dossi', 'séance', 'audit']\n",
      "gouvern futur dates prévu constitu ['gouvern', 'constitu']\n",
      "voitur tombe eau port accostag djerba ['port']\n",
      "samir dilou comport zied laâdhar problem intern ['dilou', 'samir', 'zied']\n",
      "nazih zghal appel déput être présent voter loi relat droits patient ['présent', 'voter', 'relat', 'droits', 'être']\n",
      "khemir rached ghannouch turqu faire diplomat économ ['rached', 'faire', 'turqu', 'diplomat', 'économ']\n",
      "hassoun nasfi dirig ennahdh menacé retir huit déput ['ennahdh', 'déput', 'dirig', 'retir', 'nasfi']\n",
      "fathi haddaou fier amitié rached ghannouch ['ghannouch', 'rached', 'haddaou']\n",
      "habib jamli reprend vie privée conscienc tranquill ['habib', 'jamli', 'privée', 'vie']\n",
      "mohamed larbi jelass attayar concern format gouvern ['gouvern', 'format', 'concern', 'attayar', 'mohamed']\n",
      "abdel mekki dénonc propos nabil karoui ['karoui', 'nabil', 'abdel', 'mekki', 'dénonc']\n",
      "mohsen marzouk ennahdh obéit direct turqu ['ennahdh', 'turqu', 'marzouk', 'mohsen', 'direct']\n",
      "abdelhamid jelass oppose prorog mandat ghannouch tête ennahdh ['ennahdh', 'ghannouch', 'tête', 'mandat']\n",
      "mabrouk korchid visite ghannouch turqu enfreint protocol diplomat ['ghannouch', 'visite', 'turqu', 'diplomat']\n",
      "ghannouch appel erdoğan appui invest turc tunis ['tunis', 'ghannouch', 'appel', 'turc']\n",
      "augment ressourc budgétair municipal gabès 2019 14 ressourc budgétair titre municipal gabès 2019 augment 14 rapport celles 2018 ['2018', '2019', 'municipal', 'augment', '14']\n",
      "tunis turqu fait ghannouch chez erdogan lendemain pléni houleux parl tunisien rejet large major déput gouvern habib jemli renvoi ['pléni', 'parl', 'erdogan', 'turqu', 'rejet']\n",
      "fins mois difficil major tunisien enquêt près 88 tunisien font face chaque fin mois difficult financi subven besoin leurs foyers ['près', 'financi', 'font', 'tunisien', 'mois']\n",
      "ministr italien affair étranger tunis ministr italien affair étranger cooper international luigi di maio effectu lundi 13 janvi 2020 visite officiel tunis ['effectu', 'cooper', 'ministr', 'affair', 'étranger']\n",
      "tunis abir moussi appel retr confianc président assembl rached ghannouch parti destourien libre pdl appelé blocs parlementair déput contribu faire tomber gouvern habib jemli signer ['libre', 'destourien', 'abir', 'moussi', 'blocs']\n",
      "kais saied reçoit habib jemli après rejet gouvern assembl président républ kais saied reçu samedi palais carthag habib jemli chargé former gouvern ['reçoit', 'former', 'rejet', 'saied', 'kais']\n",
      "gouvern président kais saied peut chois impos partis polit candidat président républ kais saied engag consult partis polit coalit blocs parlementair désign ['consult', 'saied', 'kais', 'polit', 'partis']\n",
      "gouvern président rached ghannouch chez kais saied président républ kais saied reçu samedi palais carthag président assembl représent peuple président ['carthag', 'palais', 'saied', 'kais', 'président']\n",
      "gouvern président tractat constitu front opposit secrétair général mouv echaab député zouhair maghzaou fait savoir samedi concert président républ ['concert', 'savoir', 'front', 'zouhair', 'maghzaou']\n",
      "tunis indiqu rouge toujour pilote rejet vendred gouvern propos habib jemli 134 voix contre seul 72 voix met économ national sous pression ['toujour', 'économ', 'rejet', 'sous', 'voix']\n",
      "vidéo assembl dit gouvern jemli près 90 déput demand prendr parole cours séance pléni organis assembl représent peuple arp ['prendr', 'parole', 'cours', 'près', 'assembl']\n",
      "tunis utica salue rejet gouvern jemli arp utica union tunisien industr commerc artisanat consider rejet gouvern jemli arp constitu signe bonne ['union', 'commerc', 'industr', 'arp', 'rejet']\n",
      "opinion tunis echec mat ennahdh après avoir choisi personnag pouv réuss mission former équipe gouvernemental hauteur enjeux attendent ['après', 'avoir', 'équipe', 'gouvernemental', 'former']\n",
      "gouvern jemli théor complot contre tunis fusé partout nombre déput accusé leurs intervent lors séance soirée pléni consacr accord confianc ['consacr', 'soirée', 'séance', 'nombre', 'intervent']\n",
      "après ans interrupt programm volontair japon reprend activ tunis programm volontair japon vient reprendr activ tunis arriv six jeunes vont travaill pend deux ans ['après', 'tunis', 'deux', 'vient', 'ans']\n",
      "concert redémarrent aujourd hui président républ kaïs saied entam lundi 13 janvi concert partis polit coalit group parlementair vue charg personnal jugée plus apte former gouvern ['13', 'coalit', 'former', 'partis', 'concert']\n",
      "encore accident route grombali bless accident route produit lundi matin grombali ['lundi', 'matin', 'encore', 'accident', 'route']\n",
      "arrest 36 individus tentat immigr clandestin plusieur individus apprêt franch illégal fronti maritim interpel patrouill commun relev garde maritim bizert tunis sfax jebenian ['commun', 'plusieur', 'garde', 'fronti', 'maritim']\n",
      "kasserin kalachnikov munit explos saisis communiqu publié aujourd hui minister intérieur confirm élément terror kasserin arrêté possess arme kalachnikov ['hui', 'aujourd', 'intérieur', 'confirm', 'kasserin']\n",
      "défic balanc alimentair triplé défic balanc commercial alimentair tunis triplé fin décembr 2019 rapport périod 2018 pass milliard dinars milliard dinars ['rapport', 'fin', '2018', 'périod', 'dinars']\n",
      "jemli promet nouveau 26 26 chef gouvern désign habib jemli promis créer caisse national contre pauvret ['désign', 'national', 'nouveau', 'contre', 'jemli']\n",
      "iyadh elloum déput qalb tounes accord vote iyadh elloum leader parti qalb tounes affirm intervent vendred 10 janvi opinion sein parti unie sens voter gouvern jemli ['intervent', 'leader', 'parti', 'tounes', 'qalb']\n",
      "jemli longtemp annonc avoir temps semble enfin reconnaîtr urgenc habib jemli parlé devant déput convaincr voter oui gouvern désesper tenté tous argument possibl imagin dont principal ceux parlent situat difficil tunis ['voter', 'dont', 'devant', 'urgenc', 'possibl']\n",
      "ben hammoud espérant quelqu jours mohamed ali ben hammoud rejoindr esper tunis selon échos ['quelqu', 'jours', 'ali', 'mohamed', 'ben']\n",
      "vidéo macron invite kaïs saïed visite officiel président républ kaïs saïed reçu aujourd hui palais carthag jean yves drian ministr franc europe affair étranger ['palais', 'étranger', 'vidéo', 'saïed', 'kaïs']\n",
      "officiel retrait 57 ans enseign enseign peuvent désorm prendr retrait âge 57 ans ['officiel', 'prendr', 'ans', 'enseign']\n",
      "gouvern jemli qalb tounes tiendr conseil national jeudi dirig sein parti qalb tounes hatem mliki assuré mercred format polit tiendr jeudi janvi 2020 après midi conseil national prévu initial dimanch derni détermin posit définit parti vis vis composit gouvern propos habib jemli avant pléni prévue vendred 10 janvi vote confianc gouvern ['parti', 'tounes', 'jeudi', 'conseil', 'qalb']\n",
      "président républ erdogan rien demand kaies saied président républ rendu public communiqu dément rumeur relai certain médias selon texte communiqu ['médias', 'public', 'rien', 'républ', 'communiqu']\n",
      "france félicit nouveau membr conseil sécur dont tunis france féliqu mardi tunis autres pays savoir eston niger saint vincent grenadin vietnam entamé 1er janvi cour mandat deux ans comme membr non permanent conseil sécur nation unies ['savoir', 'mandat', 'membr', 'conseil', 'sécur']\n",
      "hamma hammam oui visais youssef chahed porte parole front populair hamma hammam revenu aujourd hui actual polit pays ['parole', 'populair', 'porte', 'front', 'revenu']\n",
      "mandat dépôt prison contre pdg sntri hier juge instruct départ judiciair économ financi délivr mandat dépôt prison contre karim daoues directeur général societ national transport interurbain sntri ['transport', 'financi', 'societ', 'contre', 'mandat']\n",
      "abdel aloui al karama appel saïed écart qalb tounes pdl prochain gouvern dirig sein coalit al karama abdel aloui appelé aujourd hui 13 janvi 2020 kaïs saïed président républ chargé désign nouveau chef ['écart', 'saïed', 'al', 'karama', 'abdel']\n",
      "hassoun nasfi partis composent réform national bientôt unifi secrétair général machrou tounes chef bloc parlementair réform national hassoun nasfi indiqu hier 12 janvi 2020 hannibal tv dirig ['12', 'partis', 'national', 'réform', 'nasfi']\n",
      "samir dilou kaïs saïed dissoudr parl dirig sein mouv ennahdh samir dilou estimé aujourd hui lundi 13 janvi 2020 shems fm prochain gouvern formé désign ['estimé', 'shems', 'formé', 'samir', 'dilou']\n",
      "hassoun nasfi révèle pratiqu malsain parti islam ennahdh vidéo hassoun nasfi secrétair général machrou tounes président bloc parlementair réform national révélé dimanch 12 janvi 2020 manœuvr dirig parti ['révélé', 'réform', 'révèle', 'parti', 'nasfi']\n",
      "tunis pétit ligne retr ghannouch président assembl associ franco tunisien voix deux rives lancé pétit ligne appel retir chef parti islam ennahdh rached ghannouch président ['islam', 'voix', 'retir', 'associ', 'ghannouch']\n",
      "jemli termin cette expérient épuis fierté conscienc tranquill habib jemli dont gouvern obtenu vendred derni 10 janvi 2020 confianc parl 134 contre 72 abstent publié communiqu soir ['jemli', 'soir', 'cette', '10', 'dont']\n"
     ]
    }
   ],
   "source": [
    "for i in range(len(docs)):\n",
    "    print(docs[i],docs_keywords[i])"
   ]
  },
  {
   "cell_type": "code",
   "execution_count": 191,
   "metadata": {},
   "outputs": [],
   "source": [
    "?TfidfVectorizer"
   ]
  },
  {
   "cell_type": "code",
   "execution_count": 192,
   "metadata": {},
   "outputs": [],
   "source": [
    "tfidf_bow_model_ng = TfidfVectorizer(min_df=MIN_DOC_FREQ, vocabulary=vocab_list,ngram_range=(1,2),norm=None)\n",
    "tfidf_bow_model_ng.fit(docs)\n",
    "\n",
    "tfidf_bow_matrix_ng = tfidf_bow_model_ng.transform(docs)\n",
    "\n",
    "docs_keywords_ng=[]\n",
    "for i in range(tfidf_bow_matrix_ng.shape[0]):\n",
    "    row_tfidf_ng = tfidf_bow_matrix_ng[i,:].A.ravel()\n",
    "\n",
    "    row_tfidf_df_ng = pd.Series(row_tfidf_ng, index=vocab_list)\n",
    "    row_tfidf_df_ng.head(30)\n",
    "    rr1=row_tfidf_df_ng.sort_values().tail(5)\n",
    "    m1=rr1>0.0\n",
    "    s1=m1[m1.values==True].index\n",
    "    docs_keywords_ng.append(list(s1))"
   ]
  },
  {
   "cell_type": "code",
   "execution_count": 196,
   "metadata": {},
   "outputs": [
    {
     "data": {
      "text/plain": [
       "set()"
      ]
     },
     "execution_count": 196,
     "metadata": {},
     "output_type": "execute_result"
    }
   ],
   "source": [
    "\n",
    "set(docs_keywords[i])-set(docs_keywords_ng[i])"
   ]
  },
  {
   "cell_type": "markdown",
   "metadata": {},
   "source": [
    "#q4. Il n y a pas dde difference"
   ]
  },
  {
   "cell_type": "markdown",
   "metadata": {},
   "source": [
    "## Extract keywords of entire corpus using tfidf vectors"
   ]
  },
  {
   "cell_type": "markdown",
   "metadata": {},
   "source": [
    "**Questions**\n",
    "\n",
    "1. For each vocabulary word, determine the number of documents in which this word has the highest tfidf value. Put these values in a list or dictionary containing one element per word.\n",
    "2. Find 20 words that have the highest values in the list or dictionary of the previous question. These are the top 20 keywords for this corpus."
   ]
  },
  {
   "cell_type": "code",
   "execution_count": null,
   "metadata": {},
   "outputs": [],
   "source": []
  },
  {
   "cell_type": "code",
   "execution_count": null,
   "metadata": {},
   "outputs": [],
   "source": []
  },
  {
   "cell_type": "code",
   "execution_count": null,
   "metadata": {},
   "outputs": [],
   "source": []
  },
  {
   "cell_type": "markdown",
   "metadata": {},
   "source": [
    "## Extract keywords using `yake` library"
   ]
  },
  {
   "cell_type": "code",
   "execution_count": 199,
   "metadata": {},
   "outputs": [
    {
     "name": "stdout",
     "output_type": "stream",
     "text": [
      "Collecting yake\n",
      "\u001b[33m  WARNING: Retrying (Retry(total=4, connect=None, read=None, redirect=None, status=None)) after connection broken by 'ReadTimeoutError(\"HTTPSConnectionPool(host='files.pythonhosted.org', port=443): Read timed out. (read timeout=15)\",)': /packages/b6/3c/ed20047202793a08786978be68ec44c7ffbcb814ed05b985b38037f31a56/yake-0.3.7.tar.gz\u001b[0m\n",
      "\u001b[?25l  Downloading https://files.pythonhosted.org/packages/b6/3c/ed20047202793a08786978be68ec44c7ffbcb814ed05b985b38037f31a56/yake-0.3.7.tar.gz (53kB)\n",
      "\u001b[K     |████████████████████████████████| 61kB 15kB/s eta 0:00:013\n",
      "\u001b[?25hRequirement already satisfied: Click>=6.0 in /home/ubuntu/anaconda3/lib/python3.6/site-packages (from yake) (7.0)\n",
      "Collecting fire (from yake)\n",
      "\u001b[?25l  Downloading https://files.pythonhosted.org/packages/d9/69/faeaae8687f4de0f5973694d02e9d6c3eb827636a009157352d98de1129e/fire-0.2.1.tar.gz (76kB)\n",
      "\u001b[K     |████████████████████████████████| 81kB 44kB/s eta 0:00:01\n",
      "\u001b[?25hRequirement already satisfied: numpy in /home/ubuntu/anaconda3/lib/python3.6/site-packages (from yake) (1.15.4)\n",
      "Collecting segtok (from yake)\n",
      "  Downloading https://files.pythonhosted.org/packages/1d/59/6ed78856ab99d2da04084b59e7da797972baa0efecb71546b16d48e49d9b/segtok-1.5.7.tar.gz\n",
      "Requirement already satisfied: pandas in /home/ubuntu/anaconda3/lib/python3.6/site-packages (from yake) (0.24.1)\n",
      "Requirement already satisfied: networkx in /home/ubuntu/anaconda3/lib/python3.6/site-packages (from yake) (2.2)\n",
      "Collecting jellyfish (from yake)\n",
      "\u001b[?25l  Downloading https://files.pythonhosted.org/packages/3f/80/bcacc7affb47be7279d7d35225e1a932416ed051b315a7f9df20acf04cbe/jellyfish-0.7.2.tar.gz (133kB)\n",
      "\u001b[K     |████████████████████████████████| 143kB 11kB/s eta 0:00:011\n",
      "\u001b[?25hCollecting unidecode>=0.4.19 (from yake)\n",
      "\u001b[?25l  Downloading https://files.pythonhosted.org/packages/d0/42/d9edfed04228bacea2d824904cae367ee9efd05e6cce7ceaaedd0b0ad964/Unidecode-1.1.1-py2.py3-none-any.whl (238kB)\n",
      "\u001b[K     |████████████████████████████████| 245kB 27kB/s eta 0:00:01\n",
      "\u001b[?25hRequirement already satisfied: nltk>=3.1 in /home/ubuntu/anaconda3/lib/python3.6/site-packages (from yake) (3.2.5)\n",
      "Requirement already satisfied: scipy in /home/ubuntu/anaconda3/lib/python3.6/site-packages (from yake) (1.2.0)\n",
      "Requirement already satisfied: six in /home/ubuntu/anaconda3/lib/python3.6/site-packages (from fire->yake) (1.12.0)\n",
      "Requirement already satisfied: termcolor in /home/ubuntu/anaconda3/lib/python3.6/site-packages (from fire->yake) (1.1.0)\n",
      "Collecting regex (from segtok->yake)\n",
      "\u001b[?25l  Downloading https://files.pythonhosted.org/packages/ad/64/1b0eb918ebdfba27b4c148853ed93cc38d83aa452882f2a9dc64acaa9b2f/regex-2020.1.8-cp36-cp36m-manylinux2010_x86_64.whl (689kB)\n",
      "\u001b[K     |████████████████████████████████| 696kB 30kB/s eta 0:00:01\n",
      "\u001b[?25hRequirement already satisfied: pytz>=2011k in /home/ubuntu/anaconda3/lib/python3.6/site-packages (from pandas->yake) (2018.9)\n",
      "Requirement already satisfied: python-dateutil>=2.5.0 in /home/ubuntu/anaconda3/lib/python3.6/site-packages (from pandas->yake) (2.8.0)\n",
      "Requirement already satisfied: decorator>=4.3.0 in /home/ubuntu/anaconda3/lib/python3.6/site-packages (from networkx->yake) (4.3.2)\n",
      "Building wheels for collected packages: yake, fire, segtok, jellyfish\n",
      "  Building wheel for yake (setup.py) ... \u001b[?25ldone\n",
      "\u001b[?25h  Stored in directory: /home/ubuntu/.cache/pip/wheels/90/7d/56/63a3a3b064e9214e29616880dc4170a300ca68643728ce24ba\n",
      "  Building wheel for fire (setup.py) ... \u001b[?25ldone\n",
      "\u001b[?25h  Stored in directory: /home/ubuntu/.cache/pip/wheels/31/9c/c0/07b6dc7faf1844bb4688f46b569efe6cafaa2179c95db821da\n",
      "  Building wheel for segtok (setup.py) ... \u001b[?25ldone\n",
      "\u001b[?25h  Stored in directory: /home/ubuntu/.cache/pip/wheels/15/ee/a8/6112173f1386d33eebedb3f73429cfa41a4c3084556bcee254\n",
      "  Building wheel for jellyfish (setup.py) ... \u001b[?25ldone\n",
      "\u001b[?25h  Stored in directory: /home/ubuntu/.cache/pip/wheels/e8/fe/99/d8fa8f2ef7b82a625b0b77a84d319b0b50693659823c4effb4\n",
      "Successfully built yake fire segtok jellyfish\n",
      "Installing collected packages: fire, regex, segtok, jellyfish, unidecode, yake\n",
      "Successfully installed fire-0.2.1 jellyfish-0.7.2 regex-2020.1.8 segtok-1.5.7 unidecode-1.1.1 yake-0.3.7\n",
      "\u001b[33mWARNING: You are using pip version 19.1.1, however version 19.3.1 is available.\n",
      "You should consider upgrading via the 'pip install --upgrade pip' command.\u001b[0m\n"
     ]
    }
   ],
   "source": [
    "!pip install yake"
   ]
  },
  {
   "cell_type": "code",
   "execution_count": 200,
   "metadata": {},
   "outputs": [],
   "source": [
    "# You should first install this library using 'pip install yake'\n",
    "import yake"
   ]
  },
  {
   "cell_type": "code",
   "execution_count": 203,
   "metadata": {},
   "outputs": [],
   "source": [
    "?yake.KeywordExtractor"
   ]
  },
  {
   "cell_type": "code",
   "execution_count": 206,
   "metadata": {
    "scrolled": true
   },
   "outputs": [
    {
     "name": "stdout",
     "output_type": "stream",
     "text": [
      "1.092019881807742e-05 habib jemli\n",
      "2.0506770097604446e-05 président républ\n",
      "2.6347219318938902e-05 chef gouvern\n",
      "3.1459078119502876e-05 gouvern jemli\n",
      "3.398982408559801e-05 gouvern habib\n",
      "3.722101241402077e-05 kaïs saïed\n",
      "3.750733265302971e-05 gouvern désign\n",
      "3.809688051841097e-05 désign habib\n",
      "4.90216762777419e-05 confianc gouvern\n",
      "5.3158182826661784e-05 vote confianc\n",
      "5.8563161102929325e-05 composit gouvern\n",
      "6.07513285123502e-05 rached ghannouch\n",
      "6.309901169783439e-05 kais saied\n",
      "6.47027574709263e-05 mercred janvi\n",
      "6.899067029675404e-05 jeudi janvi\n",
      "8.072788662109016e-05 qalb tounes\n",
      "0.00010180330794691623 poste ministr\n",
      "0.00010389782922360399 républ kaïs\n",
      "0.00011828165344044165 membr gouvern\n",
      "0.0001196737258605368 gouvern\n"
     ]
    }
   ],
   "source": [
    "## hyperparameters of the method\n",
    "language = \"fr\"\n",
    "numOfKeywords = 20\n",
    "max_ngram_size = 2\n",
    "\n",
    "## initialize method\n",
    "kw_extractor = yake.KeywordExtractor(lan=language, n=max_ngram_size, top=numOfKeywords, features=None)\n",
    "\n",
    "## execute method on our corpus\n",
    "keywords = kw_extractor.extract_keywords('\\n'.join(docs))\n",
    "len(keywords)\n",
    "\n",
    "## The keywords in decreasing order of importance\n",
    "for kw,kw_score in keywords:\n",
    "    print(kw,kw_score)"
   ]
  },
  {
   "cell_type": "markdown",
   "metadata": {},
   "source": [
    "**Questions**\n",
    "\n",
    "1. re-run the above cell with `max_ngram_size=1` and then with `max_ngram_size=3`.\n",
    "2. which value of `max_ngram_size` gives better results do you think, 1, 2, or 3? Explain."
   ]
  },
  {
   "cell_type": "code",
   "execution_count": 208,
   "metadata": {},
   "outputs": [
    {
     "name": "stdout",
     "output_type": "stream",
     "text": [
      "0.0001196737258605368 gouvern\n",
      "0.00018162506914865624 jemli\n",
      "0.0001932938623395167 habib\n",
      "0.00022247916270247618 président\n",
      "0.0002412065286601851 janvi\n",
      "0.00025092611607411696 tunis\n",
      "0.00034701630858026205 ministr\n",
      "0.00043723220227020776 républ\n",
      "0.00044570001624501325 ennahdh\n",
      "0.00046293942040543447 chef\n",
      "0.0006106386709219496 confianc\n",
      "0.0006201849845728137 saïed\n",
      "0.0006208054426117128 propos\n",
      "0.0006839091444875142 ghannouch\n",
      "0.0006941478188889549 tounes\n",
      "0.0007007848787372036 désign\n",
      "0.0007020559619446477 annonc\n",
      "0.0007250827866085454 kaïs\n",
      "0.0008429177603156099 arp\n",
      "0.000901582783900761 composit\n"
     ]
    }
   ],
   "source": [
    "## hyperparameters of the method\n",
    "language = \"fr\"\n",
    "numOfKeywords = 20\n",
    "max_ngram_size = 1\n",
    "\n",
    "## initialize method\n",
    "kw_extractor = yake.KeywordExtractor(lan=language, n=max_ngram_size, top=numOfKeywords, features=None)\n",
    "\n",
    "## execute method on our corpus\n",
    "keywords = kw_extractor.extract_keywords('\\n'.join(docs))\n",
    "len(keywords)\n",
    "\n",
    "## The keywords in decreasing order of importance\n",
    "for kw,kw_score in keywords:\n",
    "    print(kw,kw_score)"
   ]
  },
  {
   "cell_type": "code",
   "execution_count": 209,
   "metadata": {},
   "outputs": [
    {
     "name": "stdout",
     "output_type": "stream",
     "text": [
      "1.550338339927518e-06 chef gouvern désign\n",
      "1.7563374580614153e-06 gouvern désign habib\n",
      "1.9041310955103974e-06 gouvern habib jemli\n",
      "2.124073504974804e-06 désign habib jemli\n",
      "4.438012762288878e-06 vote confianc gouvern\n",
      "4.616881610457519e-06 président républ kaïs\n",
      "4.6232232226997845e-06 confianc gouvern jemli\n",
      "5.722774679339226e-06 chef gouvern chargé\n",
      "5.82322395184225e-06 républ kaïs saïed\n",
      "7.2203110921702385e-06 gouvern propos habib\n",
      "7.23233149320159e-06 chargé habib jemli\n",
      "7.261708968049976e-06 gouvern chargé habib\n",
      "7.617521054040212e-06 propos poste ministr\n",
      "7.774236816177119e-06 habib jemli chef\n",
      "7.910217393849318e-06 propos habib jemli\n",
      "8.485381336059558e-06 assembl représent peuple\n",
      "8.71579716980831e-06 jemli chef gouvern\n",
      "8.790078476316595e-06 habib jemli annonc\n",
      "8.850346436683682e-06 confianc gouvern habib\n",
      "1.030299163402437e-05 représent peuple arp\n"
     ]
    }
   ],
   "source": [
    "## hyperparameters of the method\n",
    "language = \"fr\"\n",
    "numOfKeywords = 20\n",
    "max_ngram_size = 3\n",
    "\n",
    "## initialize method\n",
    "kw_extractor = yake.KeywordExtractor(lan=language, n=max_ngram_size, top=numOfKeywords, features=None)\n",
    "\n",
    "## execute method on our corpus\n",
    "keywords = kw_extractor.extract_keywords('\\n'.join(docs))\n",
    "len(keywords)\n",
    "\n",
    "## The keywords in decreasing order of importance\n",
    "for kw,kw_score in keywords:\n",
    "    print(kw,kw_score)"
   ]
  },
  {
   "cell_type": "code",
   "execution_count": null,
   "metadata": {},
   "outputs": [],
   "source": [
    "max_ngram_size=3 gives better results then other because it gives us phrases."
   ]
  },
  {
   "cell_type": "code",
   "execution_count": null,
   "metadata": {},
   "outputs": [],
   "source": []
  }
 ],
 "metadata": {
  "celltoolbar": "Raw Cell Format",
  "kernelspec": {
   "display_name": "Python 3",
   "language": "python",
   "name": "python3"
  },
  "language_info": {
   "codemirror_mode": {
    "name": "ipython",
    "version": 3
   },
   "file_extension": ".py",
   "mimetype": "text/x-python",
   "name": "python",
   "nbconvert_exporter": "python",
   "pygments_lexer": "ipython3",
   "version": "3.6.8"
  }
 },
 "nbformat": 4,
 "nbformat_minor": 2
}
