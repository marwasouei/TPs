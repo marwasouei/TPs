{
 "cells": [
  {
   "cell_type": "markdown",
   "metadata": {},
   "source": [
    "Write your names below:"
   ]
  },
  {
   "cell_type": "code",
   "execution_count": null,
   "metadata": {},
   "outputs": [],
   "source": []
  },
  {
   "cell_type": "markdown",
   "metadata": {},
   "source": [
    "<font color='red'> You just need to read and execute all the cells below. </red>"
   ]
  },
  {
   "cell_type": "code",
   "execution_count": 1,
   "metadata": {},
   "outputs": [],
   "source": [
    "import numpy as np\n",
    "import pandas as pd"
   ]
  },
  {
   "cell_type": "code",
   "execution_count": 2,
   "metadata": {},
   "outputs": [],
   "source": [
    "from matplotlib import pyplot as plt\n",
    "%matplotlib inline"
   ]
  },
  {
   "cell_type": "markdown",
   "metadata": {},
   "source": [
    "# Plan\n",
    "\n",
    "1. Get the data\n",
    "2. Data preparation\n",
    "3. Modeling"
   ]
  },
  {
   "cell_type": "markdown",
   "metadata": {},
   "source": [
    "****"
   ]
  },
  {
   "cell_type": "markdown",
   "metadata": {},
   "source": [
    "# <font color='magenta'> Get the data </font>\n",
    "\n",
    "Read the raw data from a csv file."
   ]
  },
  {
   "cell_type": "code",
   "execution_count": 3,
   "metadata": {},
   "outputs": [
    {
     "data": {
      "text/plain": [
       "(80332, 11)"
      ]
     },
     "execution_count": 3,
     "metadata": {},
     "output_type": "execute_result"
    }
   ],
   "source": [
    "ufo_df = pd.read_csv ('./ufo_sightings.csv', header=None,low_memory=False)\n",
    "ufo_df.shape"
   ]
  },
  {
   "cell_type": "code",
   "execution_count": 4,
   "metadata": {},
   "outputs": [],
   "source": [
    "ufo_df.columns = ['datetime_sighted', 'city', 'state', 'country', 'ushape', 'duration_seconds', 'duration_text', 'description_text', 'date_recorded', 'lat', 'long']"
   ]
  },
  {
   "cell_type": "code",
   "execution_count": 5,
   "metadata": {},
   "outputs": [
    {
     "data": {
      "text/html": [
       "<div>\n",
       "<style scoped>\n",
       "    .dataframe tbody tr th:only-of-type {\n",
       "        vertical-align: middle;\n",
       "    }\n",
       "\n",
       "    .dataframe tbody tr th {\n",
       "        vertical-align: top;\n",
       "    }\n",
       "\n",
       "    .dataframe thead th {\n",
       "        text-align: right;\n",
       "    }\n",
       "</style>\n",
       "<table border=\"1\" class=\"dataframe\">\n",
       "  <thead>\n",
       "    <tr style=\"text-align: right;\">\n",
       "      <th></th>\n",
       "      <th>datetime_sighted</th>\n",
       "      <th>city</th>\n",
       "      <th>state</th>\n",
       "      <th>country</th>\n",
       "      <th>ushape</th>\n",
       "      <th>duration_seconds</th>\n",
       "      <th>duration_text</th>\n",
       "      <th>description_text</th>\n",
       "      <th>date_recorded</th>\n",
       "      <th>lat</th>\n",
       "      <th>long</th>\n",
       "    </tr>\n",
       "  </thead>\n",
       "  <tbody>\n",
       "    <tr>\n",
       "      <th>0</th>\n",
       "      <td>10/10/1949 20:30</td>\n",
       "      <td>san marcos</td>\n",
       "      <td>tx</td>\n",
       "      <td>us</td>\n",
       "      <td>cylinder</td>\n",
       "      <td>2700</td>\n",
       "      <td>45 minutes</td>\n",
       "      <td>This event took place in early fall around 194...</td>\n",
       "      <td>4/27/2004</td>\n",
       "      <td>29.8830556</td>\n",
       "      <td>-97.941111</td>\n",
       "    </tr>\n",
       "    <tr>\n",
       "      <th>1</th>\n",
       "      <td>10/10/1949 21:00</td>\n",
       "      <td>lackland afb</td>\n",
       "      <td>tx</td>\n",
       "      <td>NaN</td>\n",
       "      <td>light</td>\n",
       "      <td>7200</td>\n",
       "      <td>1-2 hrs</td>\n",
       "      <td>1949 Lackland AFB&amp;#44 TX.  Lights racing acros...</td>\n",
       "      <td>12/16/2005</td>\n",
       "      <td>29.38421</td>\n",
       "      <td>-98.581082</td>\n",
       "    </tr>\n",
       "    <tr>\n",
       "      <th>2</th>\n",
       "      <td>10/10/1955 17:00</td>\n",
       "      <td>chester (uk/england)</td>\n",
       "      <td>NaN</td>\n",
       "      <td>gb</td>\n",
       "      <td>circle</td>\n",
       "      <td>20</td>\n",
       "      <td>20 seconds</td>\n",
       "      <td>Green/Orange circular disc over Chester&amp;#44 En...</td>\n",
       "      <td>1/21/2008</td>\n",
       "      <td>53.2</td>\n",
       "      <td>-2.916667</td>\n",
       "    </tr>\n",
       "    <tr>\n",
       "      <th>3</th>\n",
       "      <td>10/10/1956 21:00</td>\n",
       "      <td>edna</td>\n",
       "      <td>tx</td>\n",
       "      <td>us</td>\n",
       "      <td>circle</td>\n",
       "      <td>20</td>\n",
       "      <td>1/2 hour</td>\n",
       "      <td>My older brother and twin sister were leaving ...</td>\n",
       "      <td>1/17/2004</td>\n",
       "      <td>28.9783333</td>\n",
       "      <td>-96.645833</td>\n",
       "    </tr>\n",
       "    <tr>\n",
       "      <th>4</th>\n",
       "      <td>10/10/1960 20:00</td>\n",
       "      <td>kaneohe</td>\n",
       "      <td>hi</td>\n",
       "      <td>us</td>\n",
       "      <td>light</td>\n",
       "      <td>900</td>\n",
       "      <td>15 minutes</td>\n",
       "      <td>AS a Marine 1st Lt. flying an FJ4B fighter/att...</td>\n",
       "      <td>1/22/2004</td>\n",
       "      <td>21.4180556</td>\n",
       "      <td>-157.803611</td>\n",
       "    </tr>\n",
       "  </tbody>\n",
       "</table>\n",
       "</div>"
      ],
      "text/plain": [
       "   datetime_sighted                  city state country    ushape  \\\n",
       "0  10/10/1949 20:30            san marcos    tx      us  cylinder   \n",
       "1  10/10/1949 21:00          lackland afb    tx     NaN     light   \n",
       "2  10/10/1955 17:00  chester (uk/england)   NaN      gb    circle   \n",
       "3  10/10/1956 21:00                  edna    tx      us    circle   \n",
       "4  10/10/1960 20:00               kaneohe    hi      us     light   \n",
       "\n",
       "  duration_seconds duration_text  \\\n",
       "0             2700    45 minutes   \n",
       "1             7200       1-2 hrs   \n",
       "2               20    20 seconds   \n",
       "3               20      1/2 hour   \n",
       "4              900    15 minutes   \n",
       "\n",
       "                                    description_text date_recorded  \\\n",
       "0  This event took place in early fall around 194...     4/27/2004   \n",
       "1  1949 Lackland AFB&#44 TX.  Lights racing acros...    12/16/2005   \n",
       "2  Green/Orange circular disc over Chester&#44 En...     1/21/2008   \n",
       "3  My older brother and twin sister were leaving ...     1/17/2004   \n",
       "4  AS a Marine 1st Lt. flying an FJ4B fighter/att...     1/22/2004   \n",
       "\n",
       "          lat        long  \n",
       "0  29.8830556  -97.941111  \n",
       "1    29.38421  -98.581082  \n",
       "2        53.2   -2.916667  \n",
       "3  28.9783333  -96.645833  \n",
       "4  21.4180556 -157.803611  "
      ]
     },
     "execution_count": 5,
     "metadata": {},
     "output_type": "execute_result"
    }
   ],
   "source": [
    "ufo_df.head()"
   ]
  },
  {
   "cell_type": "code",
   "execution_count": 6,
   "metadata": {},
   "outputs": [
    {
     "name": "stdout",
     "output_type": "stream",
     "text": [
      "<class 'pandas.core.frame.DataFrame'>\n",
      "RangeIndex: 80332 entries, 0 to 80331\n",
      "Data columns (total 11 columns):\n",
      "datetime_sighted    80332 non-null object\n",
      "city                80332 non-null object\n",
      "state               74535 non-null object\n",
      "country             70662 non-null object\n",
      "ushape              78400 non-null object\n",
      "duration_seconds    80332 non-null object\n",
      "duration_text       80332 non-null object\n",
      "description_text    80317 non-null object\n",
      "date_recorded       80332 non-null object\n",
      "lat                 80332 non-null object\n",
      "long                80332 non-null float64\n",
      "dtypes: float64(1), object(10)\n",
      "memory usage: 6.7+ MB\n"
     ]
    }
   ],
   "source": [
    "ufo_df.info()"
   ]
  },
  {
   "cell_type": "markdown",
   "metadata": {},
   "source": [
    "*****"
   ]
  },
  {
   "cell_type": "markdown",
   "metadata": {},
   "source": [
    "# <font color='magenta'> Data Preparation </font>\n",
    "\n",
    "**Interface**\n",
    "- Input: all the data in a data frame `ufo_df`\n",
    "- Output: cleaned and transformed training data (`X_train`, `y_train`); cleaned and transformed test data (`X_test`, `y_test`)\n",
    "\n",
    "\n",
    "**Detailed pipeline**\n",
    "1. Split data into 2 disjoint sets: <font color='red'>training set </font> (in `ufo_df_train`) and  <font color='red'>test set</font> (in `ufo_df_test`).\n",
    "1. Data cleaning of <font color='red'>training set</font>\n",
    "2. Feature engineering of  <font color='red'>training set</font>\n",
    "3. Automated feature selection of  <font color='red'>training set</font>\n",
    "4. Put final result in `X_train`, `y_train`\n",
    "5. Apply same data preparation pipeline on  <font color='red'>test set</font> and put final result in `X_test`, `y_test`"
   ]
  },
  {
   "cell_type": "markdown",
   "metadata": {},
   "source": [
    "## Split data into training and test sets"
   ]
  },
  {
   "cell_type": "code",
   "execution_count": 7,
   "metadata": {},
   "outputs": [],
   "source": [
    "from sklearn.model_selection import train_test_split"
   ]
  },
  {
   "cell_type": "code",
   "execution_count": 8,
   "metadata": {},
   "outputs": [],
   "source": [
    "# read documentation of the train_test_split function\n",
    "#?train_test_split"
   ]
  },
  {
   "cell_type": "markdown",
   "metadata": {},
   "source": [
    "#### Replace missing values in `country`\n",
    "\n",
    "This is necessary because the `train_test_split` throws an error when the *stratify* variable contains missing values.\n"
   ]
  },
  {
   "cell_type": "code",
   "execution_count": 9,
   "metadata": {},
   "outputs": [
    {
     "data": {
      "text/plain": [
       "array(['us', nan, 'gb', 'ca', 'au', 'de'], dtype=object)"
      ]
     },
     "execution_count": 9,
     "metadata": {},
     "output_type": "execute_result"
    }
   ],
   "source": [
    "ufo_df.country.unique()"
   ]
  },
  {
   "cell_type": "code",
   "execution_count": 10,
   "metadata": {},
   "outputs": [
    {
     "data": {
      "text/plain": [
       "9670"
      ]
     },
     "execution_count": 10,
     "metadata": {},
     "output_type": "execute_result"
    }
   ],
   "source": [
    "ufo_df.country.isnull().sum()"
   ]
  },
  {
   "cell_type": "code",
   "execution_count": 11,
   "metadata": {},
   "outputs": [
    {
     "data": {
      "text/plain": [
       "array(['us', 'unknown', 'gb', 'ca', 'au', 'de'], dtype=object)"
      ]
     },
     "execution_count": 11,
     "metadata": {},
     "output_type": "execute_result"
    }
   ],
   "source": [
    "## replace missing values in the country variable as 'unknown'\n",
    "# this is necessary because train_test_split gives an error when stratify variable contains missing values\n",
    "ufo_df.loc[ufo_df.country.isnull(),'country'] = 'unknown'\n",
    "ufo_df.country.unique()"
   ]
  },
  {
   "cell_type": "markdown",
   "metadata": {},
   "source": [
    "#### Divide data using `country` as the *stratify* variable"
   ]
  },
  {
   "cell_type": "code",
   "execution_count": 12,
   "metadata": {},
   "outputs": [
    {
     "data": {
      "text/plain": [
       "((56232, 11), (24100, 11))"
      ]
     },
     "execution_count": 12,
     "metadata": {},
     "output_type": "execute_result"
    }
   ],
   "source": [
    "ufo_df_train,ufo_df_test = train_test_split(ufo_df, test_size=0.3, random_state=2019, stratify=ufo_df.country)\n",
    "ufo_df_train.shape, ufo_df_test.shape"
   ]
  },
  {
   "cell_type": "code",
   "execution_count": 13,
   "metadata": {},
   "outputs": [
    {
     "data": {
      "text/plain": [
       "us         0.810553\n",
       "unknown    0.120376\n",
       "ca         0.037345\n",
       "gb         0.023705\n",
       "au         0.006704\n",
       "de         0.001316\n",
       "Name: country, dtype: float64"
      ]
     },
     "execution_count": 13,
     "metadata": {},
     "output_type": "execute_result"
    }
   ],
   "source": [
    "ufo_df_train.country.value_counts(normalize=True)"
   ]
  },
  {
   "cell_type": "code",
   "execution_count": 14,
   "metadata": {},
   "outputs": [
    {
     "data": {
      "text/plain": [
       "us         0.810581\n",
       "unknown    0.120373\n",
       "ca         0.037344\n",
       "gb         0.023734\n",
       "au         0.006680\n",
       "de         0.001286\n",
       "Name: country, dtype: float64"
      ]
     },
     "execution_count": 14,
     "metadata": {},
     "output_type": "execute_result"
    }
   ],
   "source": [
    "ufo_df_test.country.value_counts(normalize=True)"
   ]
  },
  {
   "cell_type": "markdown",
   "metadata": {},
   "source": [
    "******"
   ]
  },
  {
   "cell_type": "markdown",
   "metadata": {},
   "source": [
    "## Data cleaning"
   ]
  },
  {
   "cell_type": "markdown",
   "metadata": {},
   "source": [
    "### Manual feature selection\n",
    "\n",
    "Below you will remove attributes that are redundant/duplicate or useless for building the model for predicting *country* from other non-location variables.\n",
    "\n",
    "Remember that manual feature selection is done **based only** on descriptions of the variables and understanding of the probem. No programming is required."
   ]
  },
  {
   "cell_type": "code",
   "execution_count": 15,
   "metadata": {},
   "outputs": [
    {
     "data": {
      "text/plain": [
       "(56232, 11)"
      ]
     },
     "execution_count": 15,
     "metadata": {},
     "output_type": "execute_result"
    }
   ],
   "source": [
    "ufo_df_sub = ufo_df_train.copy()\n",
    "ufo_df_sub.shape"
   ]
  },
  {
   "cell_type": "code",
   "execution_count": 16,
   "metadata": {},
   "outputs": [
    {
     "data": {
      "text/plain": [
       "(56232, 7)"
      ]
     },
     "execution_count": 16,
     "metadata": {},
     "output_type": "execute_result"
    }
   ],
   "source": [
    "ufo_df_sub = ufo_df_sub.drop(columns=['city', 'state', 'lat', 'long'], axis=1)\n",
    "ufo_df_sub.shape"
   ]
  },
  {
   "cell_type": "code",
   "execution_count": 17,
   "metadata": {},
   "outputs": [
    {
     "data": {
      "text/plain": [
       "Index(['datetime_sighted', 'country', 'ushape', 'duration_seconds',\n",
       "       'duration_text', 'description_text', 'date_recorded'],\n",
       "      dtype='object')"
      ]
     },
     "execution_count": 17,
     "metadata": {},
     "output_type": "execute_result"
    }
   ],
   "source": [
    "ufo_df_sub.columns"
   ]
  },
  {
   "cell_type": "code",
   "execution_count": 18,
   "metadata": {},
   "outputs": [
    {
     "data": {
      "text/plain": [
       "(56232, 5)"
      ]
     },
     "execution_count": 18,
     "metadata": {},
     "output_type": "execute_result"
    }
   ],
   "source": [
    "ufo_df_sub = ufo_df_sub.drop(columns=['date_recorded', 'duration_text'], axis=1)\n",
    "ufo_df_sub.shape "
   ]
  },
  {
   "cell_type": "code",
   "execution_count": 19,
   "metadata": {},
   "outputs": [
    {
     "data": {
      "text/html": [
       "<div>\n",
       "<style scoped>\n",
       "    .dataframe tbody tr th:only-of-type {\n",
       "        vertical-align: middle;\n",
       "    }\n",
       "\n",
       "    .dataframe tbody tr th {\n",
       "        vertical-align: top;\n",
       "    }\n",
       "\n",
       "    .dataframe thead th {\n",
       "        text-align: right;\n",
       "    }\n",
       "</style>\n",
       "<table border=\"1\" class=\"dataframe\">\n",
       "  <thead>\n",
       "    <tr style=\"text-align: right;\">\n",
       "      <th></th>\n",
       "      <th>datetime_sighted</th>\n",
       "      <th>country</th>\n",
       "      <th>ushape</th>\n",
       "      <th>duration_seconds</th>\n",
       "      <th>description_text</th>\n",
       "    </tr>\n",
       "  </thead>\n",
       "  <tbody>\n",
       "    <tr>\n",
       "      <th>50032</th>\n",
       "      <td>6/18/2013 23:00</td>\n",
       "      <td>us</td>\n",
       "      <td>circle</td>\n",
       "      <td>300</td>\n",
       "      <td>Orange/red silent object with very bright flas...</td>\n",
       "    </tr>\n",
       "    <tr>\n",
       "      <th>27810</th>\n",
       "      <td>2/2/1999 06:43</td>\n",
       "      <td>us</td>\n",
       "      <td>other</td>\n",
       "      <td>1</td>\n",
       "      <td>I saw a very bright green ball fall from the s...</td>\n",
       "    </tr>\n",
       "    <tr>\n",
       "      <th>6425</th>\n",
       "      <td>10/5/1994 19:00</td>\n",
       "      <td>us</td>\n",
       "      <td>circle</td>\n",
       "      <td>2700</td>\n",
       "      <td>Large object with flashing seen from 3 directi...</td>\n",
       "    </tr>\n",
       "    <tr>\n",
       "      <th>36703</th>\n",
       "      <td>4/14/2011 03:08</td>\n",
       "      <td>us</td>\n",
       "      <td>light</td>\n",
       "      <td>15</td>\n",
       "      <td>Object chased by military jets</td>\n",
       "    </tr>\n",
       "    <tr>\n",
       "      <th>28134</th>\n",
       "      <td>2/22/2014 19:00</td>\n",
       "      <td>us</td>\n",
       "      <td>fireball</td>\n",
       "      <td>120</td>\n",
       "      <td>Hovering fireball in Dothan&amp;#44 AL.</td>\n",
       "    </tr>\n",
       "  </tbody>\n",
       "</table>\n",
       "</div>"
      ],
      "text/plain": [
       "      datetime_sighted country    ushape duration_seconds  \\\n",
       "50032  6/18/2013 23:00      us    circle              300   \n",
       "27810   2/2/1999 06:43      us     other                1   \n",
       "6425   10/5/1994 19:00      us    circle             2700   \n",
       "36703  4/14/2011 03:08      us     light               15   \n",
       "28134  2/22/2014 19:00      us  fireball              120   \n",
       "\n",
       "                                        description_text  \n",
       "50032  Orange/red silent object with very bright flas...  \n",
       "27810  I saw a very bright green ball fall from the s...  \n",
       "6425   Large object with flashing seen from 3 directi...  \n",
       "36703                     Object chased by military jets  \n",
       "28134                Hovering fireball in Dothan&#44 AL.  "
      ]
     },
     "execution_count": 19,
     "metadata": {},
     "output_type": "execute_result"
    }
   ],
   "source": [
    "ufo_df_sub.head()"
   ]
  },
  {
   "cell_type": "markdown",
   "metadata": {},
   "source": [
    "### Data type conversions\n",
    "\n",
    "The dtype of all columns is `object`, which means they are encoded as text. Therefore some type conversions are necessary."
   ]
  },
  {
   "cell_type": "code",
   "execution_count": 20,
   "metadata": {},
   "outputs": [
    {
     "data": {
      "text/plain": [
       "datetime_sighted    object\n",
       "country             object\n",
       "ushape              object\n",
       "duration_seconds    object\n",
       "description_text    object\n",
       "dtype: object"
      ]
     },
     "execution_count": 20,
     "metadata": {},
     "output_type": "execute_result"
    }
   ],
   "source": [
    "ufo_df_sub.dtypes"
   ]
  },
  {
   "cell_type": "code",
   "execution_count": 21,
   "metadata": {},
   "outputs": [],
   "source": [
    "# change type of duration_seconds to continuous (float)\n",
    "ufo_df_sub['duration_seconds'] = pd.to_numeric(ufo_df_sub.duration_seconds, errors='coerce')\n",
    "\n",
    "## ANOTHER METHOD:\n",
    "## ufo_df_sub['duration_seconds'] = ufo_df_sub.duration_seconds.astype(float)"
   ]
  },
  {
   "cell_type": "code",
   "execution_count": 22,
   "metadata": {},
   "outputs": [],
   "source": [
    "# change type of datetime_sighted to DATETIME class\n",
    "ufo_df_sub[\"datetime_sighted\"] = pd.to_datetime(ufo_df_sub.datetime_sighted, errors='coerce')"
   ]
  },
  {
   "cell_type": "code",
   "execution_count": 23,
   "metadata": {},
   "outputs": [
    {
     "data": {
      "text/plain": [
       "datetime_sighted    datetime64[ns]\n",
       "country                     object\n",
       "ushape                      object\n",
       "duration_seconds           float64\n",
       "description_text            object\n",
       "dtype: object"
      ]
     },
     "execution_count": 23,
     "metadata": {},
     "output_type": "execute_result"
    }
   ],
   "source": [
    "#Verify your results\n",
    "ufo_df_sub.dtypes"
   ]
  },
  {
   "cell_type": "markdown",
   "metadata": {},
   "source": [
    "### Drop missing data\n",
    "\n",
    "Let's remove some of the rows where certain columns have missing values. We're going to look at the length_of_time column, the state column, and the type column. If any of the values in these columns are missing, we're going to drop the rows."
   ]
  },
  {
   "cell_type": "code",
   "execution_count": 24,
   "metadata": {},
   "outputs": [
    {
     "data": {
      "text/plain": [
       "datetime_sighted     485\n",
       "country                0\n",
       "ushape              1339\n",
       "duration_seconds       3\n",
       "description_text      10\n",
       "dtype: int64"
      ]
     },
     "execution_count": 24,
     "metadata": {},
     "output_type": "execute_result"
    }
   ],
   "source": [
    "# number of missing values in each column of data frame\n",
    "\n",
    "ufo_df_sub.isnull().sum()"
   ]
  },
  {
   "cell_type": "code",
   "execution_count": 25,
   "metadata": {},
   "outputs": [
    {
     "name": "stdout",
     "output_type": "stream",
     "text": [
      "data frame size BEFORE removing missing values (56232, 5)\n",
      "data frame size AFTER removing missing values (54430, 5)\n"
     ]
    }
   ],
   "source": [
    "print(\"data frame size BEFORE removing missing values\", ufo_df_sub.shape)\n",
    "ufo_df_sub.dropna(how='any', inplace=True)\n",
    "print(\"data frame size AFTER removing missing values\", ufo_df_sub.shape)"
   ]
  },
  {
   "cell_type": "code",
   "execution_count": 26,
   "metadata": {},
   "outputs": [
    {
     "data": {
      "text/plain": [
       "datetime_sighted    0\n",
       "country             0\n",
       "ushape              0\n",
       "duration_seconds    0\n",
       "description_text    0\n",
       "dtype: int64"
      ]
     },
     "execution_count": 26,
     "metadata": {},
     "output_type": "execute_result"
    }
   ],
   "source": [
    "ufo_df_sub.isnull().sum()"
   ]
  },
  {
   "cell_type": "markdown",
   "metadata": {},
   "source": [
    "****"
   ]
  },
  {
   "cell_type": "markdown",
   "metadata": {},
   "source": [
    "## Feature engineering"
   ]
  },
  {
   "cell_type": "markdown",
   "metadata": {},
   "source": [
    "### Feature engineering of numeric columns\n",
    "\n",
    "In this section, you'll investigate the useful numeric variables in this dataset and determine whether they should be scaled and/or log-normalized."
   ]
  },
  {
   "cell_type": "code",
   "execution_count": 27,
   "metadata": {},
   "outputs": [
    {
     "data": {
      "image/png": "[encoded data removed]",
      "text/plain": [
       "<Figure size 432x288 with 1 Axes>"
      ]
     },
     "metadata": {
      "needs_background": "light"
     },
     "output_type": "display_data"
    },
    {
     "data": {
      "image/png": "[encoded data removed]",
      "text/plain": [
       "<Figure size 432x288 with 1 Axes>"
      ]
     },
     "metadata": {
      "needs_background": "light"
     },
     "output_type": "display_data"
    }
   ],
   "source": [
    "# Plot distribution of duration_seconds variable\n",
    "fig1=ufo_df_sub.duration_seconds.plot.box()\n",
    "plt.show()\n",
    "fig2=ufo_df_sub.duration_seconds.plot.hist()"
   ]
  },
  {
   "cell_type": "code",
   "execution_count": 28,
   "metadata": {},
   "outputs": [
    {
     "data": {
      "text/plain": [
       "count    5.443000e+04\n",
       "mean     8.935185e+03\n",
       "std      6.743895e+05\n",
       "min      1.000000e-03\n",
       "25%      3.000000e+01\n",
       "50%      1.800000e+02\n",
       "75%      6.000000e+02\n",
       "max      9.783600e+07\n",
       "Name: duration_seconds, dtype: float64"
      ]
     },
     "execution_count": 28,
     "metadata": {},
     "output_type": "execute_result"
    }
   ],
   "source": [
    "ufo_df_sub.duration_seconds.describe()"
   ]
  },
  {
   "cell_type": "code",
   "execution_count": 29,
   "metadata": {},
   "outputs": [
    {
     "data": {
      "text/html": [
       "<div>\n",
       "<style scoped>\n",
       "    .dataframe tbody tr th:only-of-type {\n",
       "        vertical-align: middle;\n",
       "    }\n",
       "\n",
       "    .dataframe tbody tr th {\n",
       "        vertical-align: top;\n",
       "    }\n",
       "\n",
       "    .dataframe thead th {\n",
       "        text-align: right;\n",
       "    }\n",
       "</style>\n",
       "<table border=\"1\" class=\"dataframe\">\n",
       "  <thead>\n",
       "    <tr style=\"text-align: right;\">\n",
       "      <th></th>\n",
       "      <th>duration_seconds</th>\n",
       "      <th>duration_seconds_lg</th>\n",
       "    </tr>\n",
       "  </thead>\n",
       "  <tbody>\n",
       "    <tr>\n",
       "      <th>50032</th>\n",
       "      <td>300.0</td>\n",
       "      <td>5.703782</td>\n",
       "    </tr>\n",
       "    <tr>\n",
       "      <th>27810</th>\n",
       "      <td>1.0</td>\n",
       "      <td>0.000000</td>\n",
       "    </tr>\n",
       "    <tr>\n",
       "      <th>6425</th>\n",
       "      <td>2700.0</td>\n",
       "      <td>7.901007</td>\n",
       "    </tr>\n",
       "    <tr>\n",
       "      <th>36703</th>\n",
       "      <td>15.0</td>\n",
       "      <td>2.708050</td>\n",
       "    </tr>\n",
       "    <tr>\n",
       "      <th>28134</th>\n",
       "      <td>120.0</td>\n",
       "      <td>4.787492</td>\n",
       "    </tr>\n",
       "  </tbody>\n",
       "</table>\n",
       "</div>"
      ],
      "text/plain": [
       "       duration_seconds  duration_seconds_lg\n",
       "50032             300.0             5.703782\n",
       "27810               1.0             0.000000\n",
       "6425             2700.0             7.901007\n",
       "36703              15.0             2.708050\n",
       "28134             120.0             4.787492"
      ]
     },
     "execution_count": 29,
     "metadata": {},
     "output_type": "execute_result"
    }
   ],
   "source": [
    "# Log normalization\n",
    "\n",
    "ufo_df_sub['duration_seconds_lg'] = np.log(ufo_df_sub.duration_seconds)\n",
    "ufo_df_sub[['duration_seconds','duration_seconds_lg']].head()"
   ]
  },
  {
   "cell_type": "code",
   "execution_count": 30,
   "metadata": {},
   "outputs": [],
   "source": [
    "# Standard scaling\n",
    "\n",
    "from sklearn.preprocessing import StandardScaler\n",
    "\n",
    "sc = StandardScaler()"
   ]
  },
  {
   "cell_type": "code",
   "execution_count": 31,
   "metadata": {},
   "outputs": [
    {
     "data": {
      "text/html": [
       "<div>\n",
       "<style scoped>\n",
       "    .dataframe tbody tr th:only-of-type {\n",
       "        vertical-align: middle;\n",
       "    }\n",
       "\n",
       "    .dataframe tbody tr th {\n",
       "        vertical-align: top;\n",
       "    }\n",
       "\n",
       "    .dataframe thead th {\n",
       "        text-align: right;\n",
       "    }\n",
       "</style>\n",
       "<table border=\"1\" class=\"dataframe\">\n",
       "  <thead>\n",
       "    <tr style=\"text-align: right;\">\n",
       "      <th></th>\n",
       "      <th>duration_seconds_lg</th>\n",
       "      <th>duration_seconds_lg_scaled</th>\n",
       "    </tr>\n",
       "  </thead>\n",
       "  <tbody>\n",
       "    <tr>\n",
       "      <th>50032</th>\n",
       "      <td>5.703782</td>\n",
       "      <td>0.347794</td>\n",
       "    </tr>\n",
       "    <tr>\n",
       "      <th>27810</th>\n",
       "      <td>0.000000</td>\n",
       "      <td>-2.271106</td>\n",
       "    </tr>\n",
       "    <tr>\n",
       "      <th>6425</th>\n",
       "      <td>7.901007</td>\n",
       "      <td>1.356653</td>\n",
       "    </tr>\n",
       "    <tr>\n",
       "      <th>36703</th>\n",
       "      <td>2.708050</td>\n",
       "      <td>-1.027701</td>\n",
       "    </tr>\n",
       "    <tr>\n",
       "      <th>28134</th>\n",
       "      <td>4.787492</td>\n",
       "      <td>-0.072922</td>\n",
       "    </tr>\n",
       "  </tbody>\n",
       "</table>\n",
       "</div>"
      ],
      "text/plain": [
       "       duration_seconds_lg  duration_seconds_lg_scaled\n",
       "50032             5.703782                    0.347794\n",
       "27810             0.000000                   -2.271106\n",
       "6425              7.901007                    1.356653\n",
       "36703             2.708050                   -1.027701\n",
       "28134             4.787492                   -0.072922"
      ]
     },
     "execution_count": 31,
     "metadata": {},
     "output_type": "execute_result"
    }
   ],
   "source": [
    "ufo_df_sub['duration_seconds_lg_scaled'] = sc.fit_transform(ufo_df_sub[['duration_seconds_lg']]).ravel()\n",
    "ufo_df_sub[['duration_seconds_lg','duration_seconds_lg_scaled']].head()"
   ]
  },
  {
   "cell_type": "code",
   "execution_count": 32,
   "metadata": {},
   "outputs": [
    {
     "data": {
      "image/png": "[encoded data removed]",
      "text/plain": [
       "<Figure size 432x288 with 1 Axes>"
      ]
     },
     "metadata": {
      "needs_background": "light"
     },
     "output_type": "display_data"
    },
    {
     "data": {
      "image/png": "[encoded data removed]",
      "text/plain": [
       "<Figure size 432x288 with 1 Axes>"
      ]
     },
     "metadata": {
      "needs_background": "light"
     },
     "output_type": "display_data"
    }
   ],
   "source": [
    "# Plot the distribution of the NEW column\n",
    "\n",
    "fig1=ufo_df_sub.duration_seconds_lg_scaled.plot.box()\n",
    "plt.show()\n",
    "fig2=ufo_df_sub.duration_seconds_lg_scaled.plot.hist()"
   ]
  },
  {
   "cell_type": "markdown",
   "metadata": {},
   "source": [
    "### Feature engineering of categorical variables\n",
    "\n",
    "- `country` variable: Combine all countries except the US into a single category called `non-us`.\n",
    "- `ushape` variable: Combine all categories that occur less than 300 times into a new category called `RARE`."
   ]
  },
  {
   "cell_type": "markdown",
   "metadata": {},
   "source": [
    "#### `country` variable"
   ]
  },
  {
   "cell_type": "code",
   "execution_count": 33,
   "metadata": {},
   "outputs": [
    {
     "data": {
      "text/plain": [
       "6"
      ]
     },
     "execution_count": 33,
     "metadata": {},
     "output_type": "execute_result"
    }
   ],
   "source": [
    "# number of categories in this variable\n",
    "ufo_df_sub.country.nunique()"
   ]
  },
  {
   "cell_type": "code",
   "execution_count": 34,
   "metadata": {},
   "outputs": [
    {
     "data": {
      "text/plain": [
       "us         44191\n",
       "unknown     6481\n",
       "ca          2050\n",
       "gb          1272\n",
       "au           364\n",
       "de            72\n",
       "Name: country, dtype: int64"
      ]
     },
     "execution_count": 34,
     "metadata": {},
     "output_type": "execute_result"
    }
   ],
   "source": [
    "# distribution of values (frequency of each category)\n",
    "ufo_df_sub.country.value_counts()"
   ]
  },
  {
   "cell_type": "code",
   "execution_count": 35,
   "metadata": {},
   "outputs": [
    {
     "data": {
      "text/plain": [
       "us        44191\n",
       "non-us    10239\n",
       "Name: country, dtype: int64"
      ]
     },
     "execution_count": 35,
     "metadata": {},
     "output_type": "execute_result"
    }
   ],
   "source": [
    "idx = ufo_df_sub.country=='us'\n",
    "ufo_df_sub.loc[~idx,'country'] = 'non-us'\n",
    "ufo_df_sub.country.value_counts()"
   ]
  },
  {
   "cell_type": "markdown",
   "metadata": {},
   "source": [
    "#### `ushape` variable"
   ]
  },
  {
   "cell_type": "code",
   "execution_count": 36,
   "metadata": {},
   "outputs": [
    {
     "data": {
      "text/plain": [
       "28"
      ]
     },
     "execution_count": 36,
     "metadata": {},
     "output_type": "execute_result"
    }
   ],
   "source": [
    "# number of categories in this variable\n",
    "ufo_df_sub.ushape.nunique()"
   ]
  },
  {
   "cell_type": "code",
   "execution_count": 37,
   "metadata": {},
   "outputs": [
    {
     "data": {
      "text/plain": [
       "light        11619\n",
       "triangle      5481\n",
       "circle        5285\n",
       "fireball      4284\n",
       "unknown       3853\n",
       "other         3847\n",
       "sphere        3715\n",
       "disk          3587\n",
       "oval          2600\n",
       "formation     1700\n",
       "cigar         1406\n",
       "changing      1354\n",
       "flash          946\n",
       "cylinder       915\n",
       "rectangle      904\n",
       "diamond        817\n",
       "chevron        691\n",
       "egg            536\n",
       "teardrop       520\n",
       "cone           210\n",
       "cross          150\n",
       "delta            3\n",
       "round            2\n",
       "crescent         1\n",
       "pyramid          1\n",
       "changed          1\n",
       "hexagon          1\n",
       "flare            1\n",
       "Name: ushape, dtype: int64"
      ]
     },
     "execution_count": 37,
     "metadata": {},
     "output_type": "execute_result"
    }
   ],
   "source": [
    "# distribution of values (frequency of each category)\n",
    "ufo_df_sub.ushape.value_counts()"
   ]
  },
  {
   "cell_type": "code",
   "execution_count": 38,
   "metadata": {},
   "outputs": [
    {
     "data": {
      "text/plain": [
       "['cone',\n",
       " 'cross',\n",
       " 'delta',\n",
       " 'round',\n",
       " 'crescent',\n",
       " 'pyramid',\n",
       " 'changed',\n",
       " 'hexagon',\n",
       " 'flare']"
      ]
     },
     "execution_count": 38,
     "metadata": {},
     "output_type": "execute_result"
    }
   ],
   "source": [
    "# Combine all sparse categories (those that occur less than 300 times) of ushape into a single category called RARE.\n",
    "\n",
    "vc = ufo_df_sub.ushape.value_counts()\n",
    "ushape_sparse_categories = list(vc[vc<300].index)\n",
    "ushape_sparse_categories"
   ]
  },
  {
   "cell_type": "code",
   "execution_count": 39,
   "metadata": {},
   "outputs": [],
   "source": [
    "ufo_df_sub.loc[ufo_df_sub.ushape.isin(ushape_sparse_categories),'ushape'] = 'RARE'"
   ]
  },
  {
   "cell_type": "code",
   "execution_count": 40,
   "metadata": {},
   "outputs": [
    {
     "data": {
      "text/plain": [
       "20"
      ]
     },
     "execution_count": 40,
     "metadata": {},
     "output_type": "execute_result"
    }
   ],
   "source": [
    "ufo_df_sub.ushape.nunique()"
   ]
  },
  {
   "cell_type": "code",
   "execution_count": 41,
   "metadata": {},
   "outputs": [
    {
     "data": {
      "text/plain": [
       "light        11619\n",
       "triangle      5481\n",
       "circle        5285\n",
       "fireball      4284\n",
       "unknown       3853\n",
       "other         3847\n",
       "sphere        3715\n",
       "disk          3587\n",
       "oval          2600\n",
       "formation     1700\n",
       "cigar         1406\n",
       "changing      1354\n",
       "flash          946\n",
       "cylinder       915\n",
       "rectangle      904\n",
       "diamond        817\n",
       "chevron        691\n",
       "egg            536\n",
       "teardrop       520\n",
       "RARE           370\n",
       "Name: ushape, dtype: int64"
      ]
     },
     "execution_count": 41,
     "metadata": {},
     "output_type": "execute_result"
    }
   ],
   "source": [
    "ufo_df_sub.ushape.value_counts()"
   ]
  },
  {
   "cell_type": "code",
   "execution_count": 42,
   "metadata": {},
   "outputs": [
    {
     "data": {
      "text/plain": [
       "(pandas.core.frame.DataFrame, (54430, 20))"
      ]
     },
     "execution_count": 42,
     "metadata": {},
     "output_type": "execute_result"
    }
   ],
   "source": [
    "# one-hot encoding of ushape variable\n",
    "\n",
    "ushape_hot_df = pd.get_dummies(ufo_df_sub['ushape'])\n",
    "type(ushape_hot_df),ushape_hot_df.shape"
   ]
  },
  {
   "cell_type": "code",
   "execution_count": 43,
   "metadata": {},
   "outputs": [
    {
     "data": {
      "text/plain": [
       "(54430, 20)"
      ]
     },
     "execution_count": 43,
     "metadata": {},
     "output_type": "execute_result"
    }
   ],
   "source": [
    "ushape_hot_df.shape"
   ]
  },
  {
   "cell_type": "code",
   "execution_count": 44,
   "metadata": {},
   "outputs": [],
   "source": [
    "assert ushape_hot_df.shape[1] == ufo_df_sub.ushape.nunique()"
   ]
  },
  {
   "cell_type": "code",
   "execution_count": 45,
   "metadata": {},
   "outputs": [],
   "source": [
    "assert ushape_hot_df.shape[0] == ufo_df_sub.shape[0]"
   ]
  },
  {
   "cell_type": "markdown",
   "metadata": {},
   "source": [
    "### Feature engineering of unstructured columns"
   ]
  },
  {
   "cell_type": "markdown",
   "metadata": {},
   "source": [
    "#### Time/date columns\n",
    "\n",
    "Convert the date columns into month and year variables.\n",
    "\n",
    "We have already removed `date_recorded` as a useless variable.\n",
    "\n",
    "So we will only do this for the `month_sighted` variable."
   ]
  },
  {
   "cell_type": "code",
   "execution_count": 46,
   "metadata": {},
   "outputs": [
    {
     "data": {
      "text/plain": [
       "datetime_sighted              0\n",
       "country                       0\n",
       "ushape                        0\n",
       "duration_seconds              0\n",
       "description_text              0\n",
       "duration_seconds_lg           0\n",
       "duration_seconds_lg_scaled    0\n",
       "dtype: int64"
      ]
     },
     "execution_count": 46,
     "metadata": {},
     "output_type": "execute_result"
    }
   ],
   "source": [
    "ufo_df_sub.isna().sum()"
   ]
  },
  {
   "cell_type": "code",
   "execution_count": 47,
   "metadata": {},
   "outputs": [
    {
     "data": {
      "text/html": [
       "<div>\n",
       "<style scoped>\n",
       "    .dataframe tbody tr th:only-of-type {\n",
       "        vertical-align: middle;\n",
       "    }\n",
       "\n",
       "    .dataframe tbody tr th {\n",
       "        vertical-align: top;\n",
       "    }\n",
       "\n",
       "    .dataframe thead th {\n",
       "        text-align: right;\n",
       "    }\n",
       "</style>\n",
       "<table border=\"1\" class=\"dataframe\">\n",
       "  <thead>\n",
       "    <tr style=\"text-align: right;\">\n",
       "      <th></th>\n",
       "      <th>datetime_sighted</th>\n",
       "      <th>month_sighted</th>\n",
       "      <th>year_sighted</th>\n",
       "    </tr>\n",
       "  </thead>\n",
       "  <tbody>\n",
       "    <tr>\n",
       "      <th>50032</th>\n",
       "      <td>2013-06-18 23:00:00</td>\n",
       "      <td>6</td>\n",
       "      <td>2013</td>\n",
       "    </tr>\n",
       "    <tr>\n",
       "      <th>27810</th>\n",
       "      <td>1999-02-02 06:43:00</td>\n",
       "      <td>2</td>\n",
       "      <td>1999</td>\n",
       "    </tr>\n",
       "    <tr>\n",
       "      <th>6425</th>\n",
       "      <td>1994-10-05 19:00:00</td>\n",
       "      <td>10</td>\n",
       "      <td>1994</td>\n",
       "    </tr>\n",
       "    <tr>\n",
       "      <th>36703</th>\n",
       "      <td>2011-04-14 03:08:00</td>\n",
       "      <td>4</td>\n",
       "      <td>2011</td>\n",
       "    </tr>\n",
       "    <tr>\n",
       "      <th>28134</th>\n",
       "      <td>2014-02-22 19:00:00</td>\n",
       "      <td>2</td>\n",
       "      <td>2014</td>\n",
       "    </tr>\n",
       "  </tbody>\n",
       "</table>\n",
       "</div>"
      ],
      "text/plain": [
       "         datetime_sighted  month_sighted  year_sighted\n",
       "50032 2013-06-18 23:00:00              6          2013\n",
       "27810 1999-02-02 06:43:00              2          1999\n",
       "6425  1994-10-05 19:00:00             10          1994\n",
       "36703 2011-04-14 03:08:00              4          2011\n",
       "28134 2014-02-22 19:00:00              2          2014"
      ]
     },
     "execution_count": 47,
     "metadata": {},
     "output_type": "execute_result"
    }
   ],
   "source": [
    "# Extract the month from the date column\n",
    "ufo_df_sub[\"month_sighted\"] = ufo_df_sub[\"datetime_sighted\"].map(lambda row: row.month)\n",
    "\n",
    "# Extract the year from the date column\n",
    "ufo_df_sub[\"year_sighted\"] = ufo_df_sub[\"datetime_sighted\"].map(lambda row: row.year)\n",
    "\n",
    "# Take a look at the new columns to make sure everything is okay\n",
    "ufo_df_sub[[\"datetime_sighted\", \"month_sighted\", \"year_sighted\"]].head()"
   ]
  },
  {
   "cell_type": "markdown",
   "metadata": {},
   "source": [
    "#### Text columns\n",
    "We're going to transform the `description_text` column in the UFO dataset into tf/idf vectors, since there's likely something we can learn from this attribute."
   ]
  },
  {
   "cell_type": "code",
   "execution_count": 48,
   "metadata": {},
   "outputs": [
    {
     "data": {
      "text/plain": [
       "50032    Orange/red silent object with very bright flas...\n",
       "27810    I saw a very bright green ball fall from the s...\n",
       "6425     Large object with flashing seen from 3 directi...\n",
       "36703                       Object chased by military jets\n",
       "28134                  Hovering fireball in Dothan&#44 AL.\n",
       "Name: description_text, dtype: object"
      ]
     },
     "execution_count": 48,
     "metadata": {},
     "output_type": "execute_result"
    }
   ],
   "source": [
    "## Let's first take a look at the head of the description field\n",
    "ufo_df_sub.description_text.head()"
   ]
  },
  {
   "cell_type": "code",
   "execution_count": 49,
   "metadata": {},
   "outputs": [
    {
     "name": "stdout",
     "output_type": "stream",
     "text": [
      "<class 'scipy.sparse.csr.csr_matrix'>\n",
      "(54430, 50)\n",
      "(54430, 50)\n"
     ]
    }
   ],
   "source": [
    "from sklearn.feature_extraction.text import TfidfVectorizer\n",
    "\n",
    "# Create an instance of the TfidfVectorizer class\n",
    "vec = TfidfVectorizer(max_df=0.8,min_df=10,max_features=50,stop_words='english')\n",
    "\n",
    "# Transform each description to a vector of numeric attributes using the vec object.\n",
    "# We hence obtain a nxm matrix , where each column corresponds to a frequent word in the corpus\n",
    "desc_tfidf_mat = vec.fit_transform(ufo_df_sub.description_text)\n",
    "\n",
    "# Note that the data type scipy.sparse.csr.csr_matrix is a SPARSE matrix\n",
    "print(type(desc_tfidf_mat))\n",
    "print(desc_tfidf_mat.shape)\n",
    "\n",
    "# Finally we convert result to a data frame because this is more convenient\n",
    "desc_tfidf_df = pd.DataFrame(desc_tfidf_mat.todense())\n",
    "print(desc_tfidf_df.shape)"
   ]
  },
  {
   "cell_type": "code",
   "execution_count": 50,
   "metadata": {},
   "outputs": [
    {
     "data": {
      "text/plain": [
       "Index(['text_33', 'text_44', 'text_ball', 'text_blue', 'text_bright',\n",
       "       'text_craft', 'text_east', 'text_fast', 'text_fireball',\n",
       "       'text_flashing', 'text_flying', 'text_formation', 'text_glowing',\n",
       "       'text_green', 'text_high', 'text_hovering', 'text_large', 'text_light',\n",
       "       'text_lights', 'text_like', 'text_looked', 'text_low', 'text_moved',\n",
       "       'text_moving', 'text_night', 'text_north', 'text_note', 'text_nuforc',\n",
       "       'text_object', 'text_objects', 'text_orange', 'text_pd', 'text_quot',\n",
       "       'text_red', 'text_saw', 'text_seen', 'text_shape', 'text_shaped',\n",
       "       'text_sighting', 'text_sky', 'text_slowly', 'text_sound', 'text_south',\n",
       "       'text_speed', 'text_star', 'text_triangle', 'text_triangular',\n",
       "       'text_ufo', 'text_west', 'text_white'],\n",
       "      dtype='object')"
      ]
     },
     "execution_count": 50,
     "metadata": {},
     "output_type": "execute_result"
    }
   ],
   "source": [
    "desc_tfidf_df.columns = ['text_' + word for word in vec.get_feature_names()]\n",
    "desc_tfidf_df.columns"
   ]
  },
  {
   "cell_type": "code",
   "execution_count": 51,
   "metadata": {},
   "outputs": [
    {
     "data": {
      "text/plain": [
       "['33',\n",
       " '44',\n",
       " 'ball',\n",
       " 'blue',\n",
       " 'bright',\n",
       " 'craft',\n",
       " 'east',\n",
       " 'fast',\n",
       " 'fireball',\n",
       " 'flashing',\n",
       " 'flying',\n",
       " 'formation',\n",
       " 'glowing',\n",
       " 'green',\n",
       " 'high',\n",
       " 'hovering',\n",
       " 'large',\n",
       " 'light',\n",
       " 'lights',\n",
       " 'like',\n",
       " 'looked',\n",
       " 'low',\n",
       " 'moved',\n",
       " 'moving',\n",
       " 'night',\n",
       " 'north',\n",
       " 'note',\n",
       " 'nuforc',\n",
       " 'object',\n",
       " 'objects',\n",
       " 'orange',\n",
       " 'pd',\n",
       " 'quot',\n",
       " 'red',\n",
       " 'saw',\n",
       " 'seen',\n",
       " 'shape',\n",
       " 'shaped',\n",
       " 'sighting',\n",
       " 'sky',\n",
       " 'slowly',\n",
       " 'sound',\n",
       " 'south',\n",
       " 'speed',\n",
       " 'star',\n",
       " 'triangle',\n",
       " 'triangular',\n",
       " 'ufo',\n",
       " 'west',\n",
       " 'white']"
      ]
     },
     "execution_count": 51,
     "metadata": {},
     "output_type": "execute_result"
    }
   ],
   "source": [
    "# The vocabulary words corresponding to each column in desc_tfidf  \n",
    "vec.get_feature_names()"
   ]
  },
  {
   "cell_type": "markdown",
   "metadata": {},
   "source": [
    "****"
   ]
  },
  {
   "cell_type": "markdown",
   "metadata": {},
   "source": [
    "#### Summary of old and new attributes after feature selection and engineering"
   ]
  },
  {
   "cell_type": "markdown",
   "metadata": {},
   "source": [
    "- The selected set of **predictor attributes** are:\n",
    "\n",
    "      datetime_sighted, ushape, duration_seconds, description_text\n",
    "\n",
    "- The engineered **predictor attributes** are:\n",
    "\n",
    "      original variable    how many new variables           new variable names\n",
    "      ------------------------------------------------------------------------------------------------------------\n",
    "      datetime_sighted     2 numeric discrete variables     month_sighted, year_sighted (2 new columns in ufo_df_sub)\n",
    "      ushape               20 numeric binary variables      ushape_hot_df (data frame with 20 columns)\n",
    "      duration_seconds     1 numeric continuous variable    duration_seconds_lg_scaled (new column in ufo_df_sub)\n",
    "      description_text     50 numeric variables             desc_tfidf_df (new data frame with 50 columns)\n",
    "\n",
    "- Thus the final number predictor attributes is: 2 + 20 + 1 + 50 = 73 attributes."
   ]
  },
  {
   "cell_type": "code",
   "execution_count": 52,
   "metadata": {},
   "outputs": [
    {
     "data": {
      "text/plain": [
       "((54430, 9), (54430, 20), (54430, 50))"
      ]
     },
     "execution_count": 52,
     "metadata": {},
     "output_type": "execute_result"
    }
   ],
   "source": [
    "ufo_df_sub.shape, ushape_hot_df.shape, desc_tfidf_df.shape"
   ]
  },
  {
   "cell_type": "code",
   "execution_count": 53,
   "metadata": {},
   "outputs": [
    {
     "data": {
      "text/plain": [
       "Index(['datetime_sighted', 'country', 'ushape', 'duration_seconds',\n",
       "       'description_text', 'duration_seconds_lg', 'duration_seconds_lg_scaled',\n",
       "       'month_sighted', 'year_sighted'],\n",
       "      dtype='object')"
      ]
     },
     "execution_count": 53,
     "metadata": {},
     "output_type": "execute_result"
    }
   ],
   "source": [
    "ufo_df_sub.columns"
   ]
  },
  {
   "cell_type": "code",
   "execution_count": 54,
   "metadata": {},
   "outputs": [
    {
     "data": {
      "text/plain": [
       "Index(['datetime_sighted', 'country', 'ushape', 'duration_seconds',\n",
       "       'description_text', 'duration_seconds_lg', 'duration_seconds_lg_scaled',\n",
       "       'month_sighted', 'year_sighted'],\n",
       "      dtype='object')"
      ]
     },
     "execution_count": 54,
     "metadata": {},
     "output_type": "execute_result"
    }
   ],
   "source": [
    "ufo_df_sub.columns"
   ]
  },
  {
   "cell_type": "code",
   "execution_count": 55,
   "metadata": {},
   "outputs": [
    {
     "data": {
      "text/plain": [
       "Index(['text_33', 'text_44', 'text_ball', 'text_blue', 'text_bright',\n",
       "       'text_craft', 'text_east', 'text_fast', 'text_fireball',\n",
       "       'text_flashing', 'text_flying', 'text_formation', 'text_glowing',\n",
       "       'text_green', 'text_high', 'text_hovering', 'text_large', 'text_light',\n",
       "       'text_lights', 'text_like', 'text_looked', 'text_low', 'text_moved',\n",
       "       'text_moving', 'text_night', 'text_north', 'text_note', 'text_nuforc',\n",
       "       'text_object', 'text_objects', 'text_orange', 'text_pd', 'text_quot',\n",
       "       'text_red', 'text_saw', 'text_seen', 'text_shape', 'text_shaped',\n",
       "       'text_sighting', 'text_sky', 'text_slowly', 'text_sound', 'text_south',\n",
       "       'text_speed', 'text_star', 'text_triangle', 'text_triangular',\n",
       "       'text_ufo', 'text_west', 'text_white'],\n",
       "      dtype='object')"
      ]
     },
     "execution_count": 55,
     "metadata": {},
     "output_type": "execute_result"
    }
   ],
   "source": [
    "desc_tfidf_df.columns"
   ]
  },
  {
   "cell_type": "markdown",
   "metadata": {},
   "source": [
    "*****"
   ]
  },
  {
   "cell_type": "markdown",
   "metadata": {},
   "source": [
    "## Combine final results of data preparation process\n",
    "\n",
    "As mentioned in the summary above, the final results of the data preparation process are contained in 3 different data frames: `ufo_df_sub`, `ushape_hot_df`, `desc_tfidf_df`.\n",
    "\n",
    "For the sake of the modeling step, we will now combine those results in the following two new variables:\n",
    "- `X_train` : data frame containing the **final set of predictor attributes** \n",
    "- `y_train`: series containing the target attribute (*country*)."
   ]
  },
  {
   "cell_type": "code",
   "execution_count": 56,
   "metadata": {},
   "outputs": [],
   "source": [
    "#?ufo_df_sub.reset_index"
   ]
  },
  {
   "cell_type": "code",
   "execution_count": 57,
   "metadata": {},
   "outputs": [],
   "source": [
    "# read documentation of pd.concat function\n",
    "#?pd.concat"
   ]
  },
  {
   "cell_type": "code",
   "execution_count": 58,
   "metadata": {},
   "outputs": [
    {
     "data": {
      "text/plain": [
       "Index(['RARE', 'changing', 'chevron', 'cigar', 'circle', 'cylinder', 'diamond',\n",
       "       'disk', 'egg', 'fireball', 'flash', 'formation', 'light', 'other',\n",
       "       'oval', 'rectangle', 'sphere', 'teardrop', 'triangle', 'unknown'],\n",
       "      dtype='object')"
      ]
     },
     "execution_count": 58,
     "metadata": {},
     "output_type": "execute_result"
    }
   ],
   "source": [
    "ushape_hot_df.columns"
   ]
  },
  {
   "cell_type": "code",
   "execution_count": 59,
   "metadata": {},
   "outputs": [
    {
     "data": {
      "text/plain": [
       "Index(['text_33', 'text_44', 'text_ball', 'text_blue', 'text_bright',\n",
       "       'text_craft', 'text_east', 'text_fast', 'text_fireball',\n",
       "       'text_flashing', 'text_flying', 'text_formation', 'text_glowing',\n",
       "       'text_green', 'text_high', 'text_hovering', 'text_large', 'text_light',\n",
       "       'text_lights', 'text_like', 'text_looked', 'text_low', 'text_moved',\n",
       "       'text_moving', 'text_night', 'text_north', 'text_note', 'text_nuforc',\n",
       "       'text_object', 'text_objects', 'text_orange', 'text_pd', 'text_quot',\n",
       "       'text_red', 'text_saw', 'text_seen', 'text_shape', 'text_shaped',\n",
       "       'text_sighting', 'text_sky', 'text_slowly', 'text_sound', 'text_south',\n",
       "       'text_speed', 'text_star', 'text_triangle', 'text_triangular',\n",
       "       'text_ufo', 'text_west', 'text_white'],\n",
       "      dtype='object')"
      ]
     },
     "execution_count": 59,
     "metadata": {},
     "output_type": "execute_result"
    }
   ],
   "source": [
    "desc_tfidf_df.columns"
   ]
  },
  {
   "cell_type": "code",
   "execution_count": 60,
   "metadata": {},
   "outputs": [
    {
     "data": {
      "text/plain": [
       "((54430, 73), (54430,))"
      ]
     },
     "execution_count": 60,
     "metadata": {},
     "output_type": "execute_result"
    }
   ],
   "source": [
    "# reset the index of the data frames before combining them; otherwise will get error!!!\n",
    "ufo_df_sub.reset_index(drop=True, inplace=True)\n",
    "ushape_hot_df.reset_index(drop=True, inplace=True)\n",
    "\n",
    "# combine these 3 data frames into a new data frame using the pd.concat function.\n",
    "X_train = pd.concat([ufo_df_sub[['duration_seconds_lg_scaled','month_sighted', 'year_sighted']], ushape_hot_df, desc_tfidf_df], axis=1)\n",
    "\n",
    "# put the target variable in a separate series variable\n",
    "y_train = ufo_df_sub.country\n",
    "\n",
    "X_train.shape, y_train.shape"
   ]
  },
  {
   "cell_type": "markdown",
   "metadata": {},
   "source": [
    "****"
   ]
  },
  {
   "cell_type": "markdown",
   "metadata": {},
   "source": [
    "## Apply same data preparation steps on test set"
   ]
  },
  {
   "cell_type": "markdown",
   "metadata": {},
   "source": [
    "Summary of data preparation pipeline:\n",
    "\n",
    "1. manual feature selection: keep only `country, ushape, desription, duration_seconds, datetime_sighted`\n",
    "2. convert data types (`duration_seconds` to float, `datetime_sighted` to datetime class)\n",
    "3. remove rows that contain any missing values\n",
    "4. log normalization and standard scaling of `duration_seconds` variable\n",
    "5. combine sparse categories of `country` and `ushape` variable\n",
    "6. one-hot encoding of `ushape` variable.\n",
    "7. create two new attributes from `datetime_sighted` variable\n",
    "8. create 50 new numeric attributes from `description_text` variable\n",
    "9. combine the final set of predictor variables into a single data frame called `X_train` and put the `country` column in `y_train`.\n",
    "10. [TO DO: apply PCA on the above 73 attributes]"
   ]
  },
  {
   "cell_type": "code",
   "execution_count": 61,
   "metadata": {},
   "outputs": [
    {
     "data": {
      "text/plain": [
       "(24100, 5)"
      ]
     },
     "execution_count": 61,
     "metadata": {},
     "output_type": "execute_result"
    }
   ],
   "source": [
    "# 1) manual feature selection\n",
    "\n",
    "ufo_df_test_sub = ufo_df_test.drop(['city', 'state', 'lat', 'long', 'date_recorded', 'duration_text'], axis=1, inplace=False)\n",
    "ufo_df_test_sub.shape"
   ]
  },
  {
   "cell_type": "code",
   "execution_count": 62,
   "metadata": {},
   "outputs": [
    {
     "data": {
      "text/plain": [
       "datetime_sighted    object\n",
       "country             object\n",
       "ushape              object\n",
       "duration_seconds    object\n",
       "description_text    object\n",
       "dtype: object"
      ]
     },
     "execution_count": 62,
     "metadata": {},
     "output_type": "execute_result"
    }
   ],
   "source": [
    "# 2) convert data types: duration_seconds to float, datetime_sighted to datetime class\n",
    "\n",
    "ufo_df_test_sub.dtypes"
   ]
  },
  {
   "cell_type": "code",
   "execution_count": 63,
   "metadata": {},
   "outputs": [],
   "source": [
    "ufo_df_test_sub['duration_seconds'] = pd.to_numeric(ufo_df_test_sub.duration_seconds, errors='coerce')"
   ]
  },
  {
   "cell_type": "code",
   "execution_count": 64,
   "metadata": {},
   "outputs": [],
   "source": [
    "ufo_df_test_sub['datetime_sighted'] = pd.to_datetime(ufo_df_test_sub.datetime_sighted, errors='coerce')"
   ]
  },
  {
   "cell_type": "code",
   "execution_count": 65,
   "metadata": {},
   "outputs": [
    {
     "data": {
      "text/plain": [
       "datetime_sighted    datetime64[ns]\n",
       "country                     object\n",
       "ushape                      object\n",
       "duration_seconds           float64\n",
       "description_text            object\n",
       "dtype: object"
      ]
     },
     "execution_count": 65,
     "metadata": {},
     "output_type": "execute_result"
    }
   ],
   "source": [
    "ufo_df_test_sub.dtypes"
   ]
  },
  {
   "cell_type": "code",
   "execution_count": 66,
   "metadata": {},
   "outputs": [
    {
     "data": {
      "text/plain": [
       "datetime_sighted    209\n",
       "country               0\n",
       "ushape              593\n",
       "duration_seconds      0\n",
       "description_text      5\n",
       "dtype: int64"
      ]
     },
     "execution_count": 66,
     "metadata": {},
     "output_type": "execute_result"
    }
   ],
   "source": [
    "# 3) remove rows that contain any missing values\n",
    "\n",
    "ufo_df_test_sub.isnull().sum()"
   ]
  },
  {
   "cell_type": "code",
   "execution_count": 67,
   "metadata": {},
   "outputs": [
    {
     "data": {
      "text/plain": [
       "(23308, 5)"
      ]
     },
     "execution_count": 67,
     "metadata": {},
     "output_type": "execute_result"
    }
   ],
   "source": [
    "ufo_df_test_sub.dropna(how='any', inplace=True)\n",
    "ufo_df_test_sub.shape"
   ]
  },
  {
   "cell_type": "code",
   "execution_count": 68,
   "metadata": {},
   "outputs": [
    {
     "data": {
      "text/plain": [
       "datetime_sighted    0\n",
       "country             0\n",
       "ushape              0\n",
       "duration_seconds    0\n",
       "description_text    0\n",
       "dtype: int64"
      ]
     },
     "execution_count": 68,
     "metadata": {},
     "output_type": "execute_result"
    }
   ],
   "source": [
    "ufo_df_test_sub.isnull().sum()"
   ]
  },
  {
   "cell_type": "code",
   "execution_count": 69,
   "metadata": {},
   "outputs": [
    {
     "data": {
      "text/html": [
       "<div>\n",
       "<style scoped>\n",
       "    .dataframe tbody tr th:only-of-type {\n",
       "        vertical-align: middle;\n",
       "    }\n",
       "\n",
       "    .dataframe tbody tr th {\n",
       "        vertical-align: top;\n",
       "    }\n",
       "\n",
       "    .dataframe thead th {\n",
       "        text-align: right;\n",
       "    }\n",
       "</style>\n",
       "<table border=\"1\" class=\"dataframe\">\n",
       "  <thead>\n",
       "    <tr style=\"text-align: right;\">\n",
       "      <th></th>\n",
       "      <th>duration_seconds_lg</th>\n",
       "      <th>duration_seconds_lg_scaled</th>\n",
       "    </tr>\n",
       "  </thead>\n",
       "  <tbody>\n",
       "    <tr>\n",
       "      <th>65891</th>\n",
       "      <td>6.396930</td>\n",
       "      <td>0.666053</td>\n",
       "    </tr>\n",
       "    <tr>\n",
       "      <th>35960</th>\n",
       "      <td>7.090077</td>\n",
       "      <td>0.984313</td>\n",
       "    </tr>\n",
       "    <tr>\n",
       "      <th>65210</th>\n",
       "      <td>3.401197</td>\n",
       "      <td>-0.709441</td>\n",
       "    </tr>\n",
       "    <tr>\n",
       "      <th>70266</th>\n",
       "      <td>2.302585</td>\n",
       "      <td>-1.213870</td>\n",
       "    </tr>\n",
       "    <tr>\n",
       "      <th>61314</th>\n",
       "      <td>2.708050</td>\n",
       "      <td>-1.027701</td>\n",
       "    </tr>\n",
       "  </tbody>\n",
       "</table>\n",
       "</div>"
      ],
      "text/plain": [
       "       duration_seconds_lg  duration_seconds_lg_scaled\n",
       "65891             6.396930                    0.666053\n",
       "35960             7.090077                    0.984313\n",
       "65210             3.401197                   -0.709441\n",
       "70266             2.302585                   -1.213870\n",
       "61314             2.708050                   -1.027701"
      ]
     },
     "execution_count": 69,
     "metadata": {},
     "output_type": "execute_result"
    }
   ],
   "source": [
    "# 4) log normalization and standard scaling of duration_seconds variable\n",
    "# IMPORTANT NOTE: use the SAME sc object that we used in data prep of the training set\n",
    "\n",
    "ufo_df_test_sub['duration_seconds_lg'] = np.log(ufo_df_test_sub.duration_seconds)\n",
    "ufo_df_test_sub['duration_seconds_lg_scaled'] = sc.transform(ufo_df_test_sub[['duration_seconds_lg']]).ravel()\n",
    "ufo_df_test_sub[['duration_seconds_lg','duration_seconds_lg_scaled']].head()"
   ]
  },
  {
   "cell_type": "code",
   "execution_count": 70,
   "metadata": {},
   "outputs": [
    {
     "data": {
      "text/plain": [
       "count    23308.000000\n",
       "mean         0.008237\n",
       "std          0.994334\n",
       "min         -4.385576\n",
       "25%         -0.709441\n",
       "50%          0.113248\n",
       "75%          0.666053\n",
       "max          5.891994\n",
       "Name: duration_seconds_lg_scaled, dtype: float64"
      ]
     },
     "execution_count": 70,
     "metadata": {},
     "output_type": "execute_result"
    }
   ],
   "source": [
    "ufo_df_test_sub['duration_seconds_lg_scaled'].describe()"
   ]
  },
  {
   "cell_type": "markdown",
   "metadata": {},
   "source": [
    "ufo_df_test_sub.duration_seconds_lg_scaled.plot.box()\n",
    "plt.show()\n",
    "ufo_df_test_sub.duration_seconds_lg_scaled.plot.hist()"
   ]
  },
  {
   "cell_type": "code",
   "execution_count": 71,
   "metadata": {},
   "outputs": [
    {
     "data": {
      "text/plain": [
       "us         18908\n",
       "unknown     2788\n",
       "ca           884\n",
       "gb           543\n",
       "au           157\n",
       "de            28\n",
       "Name: country, dtype: int64"
      ]
     },
     "execution_count": 71,
     "metadata": {},
     "output_type": "execute_result"
    }
   ],
   "source": [
    "# 5) a) convert country variable to two categories only (us and non-us)\n",
    "\n",
    "ufo_df_test_sub.country.value_counts()"
   ]
  },
  {
   "cell_type": "code",
   "execution_count": 72,
   "metadata": {},
   "outputs": [
    {
     "data": {
      "text/plain": [
       "us        18908\n",
       "non-us     4400\n",
       "Name: country, dtype: int64"
      ]
     },
     "execution_count": 72,
     "metadata": {},
     "output_type": "execute_result"
    }
   ],
   "source": [
    "idx = ufo_df_test_sub.country == 'us'\n",
    "ufo_df_test_sub.loc[~idx,'country'] = 'non-us'\n",
    "ufo_df_test_sub.country.value_counts()"
   ]
  },
  {
   "cell_type": "code",
   "execution_count": 73,
   "metadata": {},
   "outputs": [],
   "source": [
    "assert set(ufo_df_test_sub.country.unique()) == set(ufo_df_sub.country.unique())"
   ]
  },
  {
   "cell_type": "code",
   "execution_count": 74,
   "metadata": {},
   "outputs": [],
   "source": [
    "# 5) b) combine sparse categories of ushape variable\n",
    "# we will combine the SAME categories that we combined in the training set\n",
    "\n",
    "ufo_df_test_sub.loc[ufo_df_test_sub.ushape.isin(ushape_sparse_categories),'ushape'] = 'RARE'"
   ]
  },
  {
   "cell_type": "code",
   "execution_count": 75,
   "metadata": {},
   "outputs": [],
   "source": [
    "# 6) one-hot encoding of the ushape variable\n",
    "\n",
    "# Check whether the categories in the train and test sets are the same\n",
    "# if this assertion fails, then use HotEncoder class instead ...\n",
    "assert set(ufo_df_sub.ushape.unique()) == set(ufo_df_test_sub.ushape.unique())\n",
    "\n",
    "test_ushape_hot_df = pd.get_dummies(ufo_df_test_sub.ushape)\n",
    "assert test_ushape_hot_df.shape[1] == ushape_hot_df.shape[1]"
   ]
  },
  {
   "cell_type": "code",
   "execution_count": 76,
   "metadata": {},
   "outputs": [
    {
     "data": {
      "text/html": [
       "<div>\n",
       "<style scoped>\n",
       "    .dataframe tbody tr th:only-of-type {\n",
       "        vertical-align: middle;\n",
       "    }\n",
       "\n",
       "    .dataframe tbody tr th {\n",
       "        vertical-align: top;\n",
       "    }\n",
       "\n",
       "    .dataframe thead th {\n",
       "        text-align: right;\n",
       "    }\n",
       "</style>\n",
       "<table border=\"1\" class=\"dataframe\">\n",
       "  <thead>\n",
       "    <tr style=\"text-align: right;\">\n",
       "      <th></th>\n",
       "      <th>datetime_sighted</th>\n",
       "      <th>month_sighted</th>\n",
       "      <th>year_sighted</th>\n",
       "    </tr>\n",
       "  </thead>\n",
       "  <tbody>\n",
       "    <tr>\n",
       "      <th>65891</th>\n",
       "      <td>1995-08-14 18:30:00</td>\n",
       "      <td>8</td>\n",
       "      <td>1995</td>\n",
       "    </tr>\n",
       "    <tr>\n",
       "      <th>35960</th>\n",
       "      <td>2014-04-11 15:05:00</td>\n",
       "      <td>4</td>\n",
       "      <td>2014</td>\n",
       "    </tr>\n",
       "    <tr>\n",
       "      <th>65210</th>\n",
       "      <td>2013-08-01 00:30:00</td>\n",
       "      <td>8</td>\n",
       "      <td>2013</td>\n",
       "    </tr>\n",
       "    <tr>\n",
       "      <th>70266</th>\n",
       "      <td>2009-08-28 19:20:00</td>\n",
       "      <td>8</td>\n",
       "      <td>2009</td>\n",
       "    </tr>\n",
       "    <tr>\n",
       "      <th>61314</th>\n",
       "      <td>2007-07-03 22:30:00</td>\n",
       "      <td>7</td>\n",
       "      <td>2007</td>\n",
       "    </tr>\n",
       "  </tbody>\n",
       "</table>\n",
       "</div>"
      ],
      "text/plain": [
       "         datetime_sighted  month_sighted  year_sighted\n",
       "65891 1995-08-14 18:30:00              8          1995\n",
       "35960 2014-04-11 15:05:00              4          2014\n",
       "65210 2013-08-01 00:30:00              8          2013\n",
       "70266 2009-08-28 19:20:00              8          2009\n",
       "61314 2007-07-03 22:30:00              7          2007"
      ]
     },
     "execution_count": 76,
     "metadata": {},
     "output_type": "execute_result"
    }
   ],
   "source": [
    "# 7) create two new attributes from the datetime_sighted variable\n",
    "\n",
    "# Extract the month from the date column\n",
    "ufo_df_test_sub[\"month_sighted\"] = ufo_df_test_sub.datetime_sighted.map(lambda row: row.month)\n",
    "\n",
    "# Extract the year from the date column\n",
    "ufo_df_test_sub[\"year_sighted\"] = ufo_df_test_sub.datetime_sighted.map(lambda row: row.year)\n",
    "\n",
    "# Take a look at the new columns to make sure everything is okay\n",
    "ufo_df_test_sub[[\"datetime_sighted\", \"month_sighted\", \"year_sighted\"]].head()"
   ]
  },
  {
   "cell_type": "code",
   "execution_count": 77,
   "metadata": {},
   "outputs": [
    {
     "name": "stdout",
     "output_type": "stream",
     "text": [
      "(23308, 50)\n",
      "(23308, 50)\n"
     ]
    }
   ],
   "source": [
    "# 8) create 50 new numeric attributes from the description_text variable\n",
    "\n",
    "# Transform description text column to a matrix\n",
    "test_desc_tfidf_mat = vec.transform(ufo_df_test_sub.description_text)\n",
    "print(test_desc_tfidf_mat.shape)\n",
    "\n",
    "# Convert result to a data frame because this is more convenient\n",
    "test_desc_tfidf_df = pd.DataFrame(test_desc_tfidf_mat.todense())\n",
    "print(test_desc_tfidf_df.shape)"
   ]
  },
  {
   "cell_type": "code",
   "execution_count": 78,
   "metadata": {},
   "outputs": [],
   "source": [
    "test_desc_tfidf_df.columns = desc_tfidf_df.columns"
   ]
  },
  {
   "cell_type": "code",
   "execution_count": 79,
   "metadata": {},
   "outputs": [
    {
     "name": "stdout",
     "output_type": "stream",
     "text": [
      "(23308, 9) (23308, 20) (23308, 50)\n"
     ]
    }
   ],
   "source": [
    "# 9) combine final results of data prep in X_test and y_test variables\n",
    "# concatenate final set of predictor attributes into a single data frame X_test\n",
    "# put the target variable in y_test\n",
    "\n",
    "print(ufo_df_test_sub.shape, test_ushape_hot_df.shape, test_desc_tfidf_df.shape)"
   ]
  },
  {
   "cell_type": "code",
   "execution_count": 80,
   "metadata": {},
   "outputs": [
    {
     "data": {
      "text/plain": [
       "((23308, 73), (23308,))"
      ]
     },
     "execution_count": 80,
     "metadata": {},
     "output_type": "execute_result"
    }
   ],
   "source": [
    "# reset the index of the data frames before combining them; otherwise will get error!!!\n",
    "ufo_df_test_sub.reset_index(drop=True, inplace=True)\n",
    "test_ushape_hot_df.reset_index(drop=True, inplace=True)\n",
    "\n",
    "# combine these 3 data frames into a new data frame using the pd.concat function.\n",
    "X_test = pd.concat([ufo_df_test_sub[['duration_seconds_lg_scaled','month_sighted', 'year_sighted']], test_ushape_hot_df, test_desc_tfidf_df], axis=1)\n",
    "\n",
    "# put the target variable in a separate series variable\n",
    "y_test = ufo_df_test_sub.country\n",
    "\n",
    "X_test.shape, y_test.shape"
   ]
  },
  {
   "cell_type": "code",
   "execution_count": 81,
   "metadata": {},
   "outputs": [],
   "source": [
    "assert X_train.shape[1] == X_test.shape[1]"
   ]
  },
  {
   "cell_type": "code",
   "execution_count": 82,
   "metadata": {},
   "outputs": [],
   "source": [
    "assert ~X_train.isna().sum().any() and ~X_test.isna().sum().any() and y_train.isna().sum()==0 and y_test.isna().sum()==0"
   ]
  },
  {
   "cell_type": "code",
   "execution_count": 83,
   "metadata": {},
   "outputs": [],
   "source": [
    "# store the clean data in a pickle file to be used later in the modeling phase\n",
    "\n",
    "import pickle\n",
    "with open('train_test.pickle', 'wb') as f:\n",
    "    pickle.dump([X_train, y_train, X_test,y_test], f)"
   ]
  },
  {
   "cell_type": "markdown",
   "metadata": {},
   "source": [
    "*****"
   ]
  },
  {
   "cell_type": "markdown",
   "metadata": {},
   "source": [
    "# <font color='magenta'> Modeling </font>\n",
    "\n",
    "**Interface**\n",
    "- *Input*: Training data (X_train, y_train); test data (X_test, y_test)\n",
    "- *Output*: best model and its performance.\n",
    "\n",
    "<font color='red'> **See file TP5_Modeling.ipynb** </font>"
   ]
  }
 ],
 "metadata": {
  "kernelspec": {
   "display_name": "Python 3",
   "language": "python",
   "name": "python3"
  },
  "language_info": {
   "codemirror_mode": {
    "name": "ipython",
    "version": 3
   },
   "file_extension": ".py",
   "mimetype": "text/x-python",
   "name": "python",
   "nbconvert_exporter": "python",
   "pygments_lexer": "ipython3",
   "version": "3.6.8"
  }
 },
 "nbformat": 4,
 "nbformat_minor": 2
}
