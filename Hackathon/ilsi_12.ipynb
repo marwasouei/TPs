{
 "cells": [
  {
   "cell_type": "code",
   "execution_count": 1,
   "metadata": {},
   "outputs": [],
   "source": [
    "import pandas as pd\n",
    "import numpy as np\n",
    "import matplotlib.pyplot as plt\n",
    "import seaborn as sns\n",
    "import os"
   ]
  },
  {
   "cell_type": "code",
   "execution_count": 8,
   "metadata": {},
   "outputs": [],
   "source": [
    "dir_path =r'/home/ubuntu/Bureau/Hackathon'\n",
    "def get_files(dir_path, filename):\n",
    "    return pd.read_csv(os.path.join(dir_path, filename), sep=';', header=None,engine='python')\n"
   ]
  },
  {
   "cell_type": "code",
   "execution_count": 9,
   "metadata": {},
   "outputs": [
    {
     "ename": "ParserError",
     "evalue": "Expected 1 fields in line 233, saw 2",
     "output_type": "error",
     "traceback": [
      "\u001b[0;31m---------------------------------------------------------------------------\u001b[0m",
      "\u001b[0;31mParserError\u001b[0m                               Traceback (most recent call last)",
      "\u001b[0;32m<ipython-input-9-47334efe5558>\u001b[0m in \u001b[0;36m<module>\u001b[0;34m\u001b[0m\n\u001b[0;32m----> 1\u001b[0;31m \u001b[0mdf\u001b[0m\u001b[0;34m=\u001b[0m \u001b[0mget_files\u001b[0m\u001b[0;34m(\u001b[0m\u001b[0mdir_path\u001b[0m\u001b[0;34m=\u001b[0m\u001b[0mdir_path\u001b[0m\u001b[0;34m,\u001b[0m \u001b[0mfilename\u001b[0m\u001b[0;34m=\u001b[0m\u001b[0;34m'songs_train.csv'\u001b[0m\u001b[0;34m)\u001b[0m\u001b[0;34m\u001b[0m\u001b[0;34m\u001b[0m\u001b[0m\n\u001b[0m",
      "\u001b[0;32m<ipython-input-8-1be83f19ee8f>\u001b[0m in \u001b[0;36mget_files\u001b[0;34m(dir_path, filename)\u001b[0m\n\u001b[1;32m      1\u001b[0m \u001b[0mdir_path\u001b[0m \u001b[0;34m=\u001b[0m\u001b[0;34mr'/home/ubuntu/Bureau/Hackathon'\u001b[0m\u001b[0;34m\u001b[0m\u001b[0;34m\u001b[0m\u001b[0m\n\u001b[1;32m      2\u001b[0m \u001b[0;32mdef\u001b[0m \u001b[0mget_files\u001b[0m\u001b[0;34m(\u001b[0m\u001b[0mdir_path\u001b[0m\u001b[0;34m,\u001b[0m \u001b[0mfilename\u001b[0m\u001b[0;34m)\u001b[0m\u001b[0;34m:\u001b[0m\u001b[0;34m\u001b[0m\u001b[0;34m\u001b[0m\u001b[0m\n\u001b[0;32m----> 3\u001b[0;31m     \u001b[0;32mreturn\u001b[0m \u001b[0mpd\u001b[0m\u001b[0;34m.\u001b[0m\u001b[0mread_csv\u001b[0m\u001b[0;34m(\u001b[0m\u001b[0mos\u001b[0m\u001b[0;34m.\u001b[0m\u001b[0mpath\u001b[0m\u001b[0;34m.\u001b[0m\u001b[0mjoin\u001b[0m\u001b[0;34m(\u001b[0m\u001b[0mdir_path\u001b[0m\u001b[0;34m,\u001b[0m \u001b[0mfilename\u001b[0m\u001b[0;34m)\u001b[0m\u001b[0;34m,\u001b[0m \u001b[0msep\u001b[0m\u001b[0;34m=\u001b[0m\u001b[0;34m';'\u001b[0m\u001b[0;34m,\u001b[0m \u001b[0mheader\u001b[0m\u001b[0;34m=\u001b[0m\u001b[0;32mNone\u001b[0m\u001b[0;34m,\u001b[0m\u001b[0mengine\u001b[0m\u001b[0;34m=\u001b[0m\u001b[0;34m'python'\u001b[0m\u001b[0;34m)\u001b[0m\u001b[0;34m\u001b[0m\u001b[0;34m\u001b[0m\u001b[0m\n\u001b[0m",
      "\u001b[0;32m~/anaconda3/lib/python3.6/site-packages/pandas/io/parsers.py\u001b[0m in \u001b[0;36mparser_f\u001b[0;34m(filepath_or_buffer, sep, delimiter, header, names, index_col, usecols, squeeze, prefix, mangle_dupe_cols, dtype, engine, converters, true_values, false_values, skipinitialspace, skiprows, skipfooter, nrows, na_values, keep_default_na, na_filter, verbose, skip_blank_lines, parse_dates, infer_datetime_format, keep_date_col, date_parser, dayfirst, iterator, chunksize, compression, thousands, decimal, lineterminator, quotechar, quoting, doublequote, escapechar, comment, encoding, dialect, tupleize_cols, error_bad_lines, warn_bad_lines, delim_whitespace, low_memory, memory_map, float_precision)\u001b[0m\n\u001b[1;32m    700\u001b[0m                     skip_blank_lines=skip_blank_lines)\n\u001b[1;32m    701\u001b[0m \u001b[0;34m\u001b[0m\u001b[0m\n\u001b[0;32m--> 702\u001b[0;31m         \u001b[0;32mreturn\u001b[0m \u001b[0m_read\u001b[0m\u001b[0;34m(\u001b[0m\u001b[0mfilepath_or_buffer\u001b[0m\u001b[0;34m,\u001b[0m \u001b[0mkwds\u001b[0m\u001b[0;34m)\u001b[0m\u001b[0;34m\u001b[0m\u001b[0;34m\u001b[0m\u001b[0m\n\u001b[0m\u001b[1;32m    703\u001b[0m \u001b[0;34m\u001b[0m\u001b[0m\n\u001b[1;32m    704\u001b[0m     \u001b[0mparser_f\u001b[0m\u001b[0;34m.\u001b[0m\u001b[0m__name__\u001b[0m \u001b[0;34m=\u001b[0m \u001b[0mname\u001b[0m\u001b[0;34m\u001b[0m\u001b[0;34m\u001b[0m\u001b[0m\n",
      "\u001b[0;32m~/anaconda3/lib/python3.6/site-packages/pandas/io/parsers.py\u001b[0m in \u001b[0;36m_read\u001b[0;34m(filepath_or_buffer, kwds)\u001b[0m\n\u001b[1;32m    433\u001b[0m \u001b[0;34m\u001b[0m\u001b[0m\n\u001b[1;32m    434\u001b[0m     \u001b[0;32mtry\u001b[0m\u001b[0;34m:\u001b[0m\u001b[0;34m\u001b[0m\u001b[0;34m\u001b[0m\u001b[0m\n\u001b[0;32m--> 435\u001b[0;31m         \u001b[0mdata\u001b[0m \u001b[0;34m=\u001b[0m \u001b[0mparser\u001b[0m\u001b[0;34m.\u001b[0m\u001b[0mread\u001b[0m\u001b[0;34m(\u001b[0m\u001b[0mnrows\u001b[0m\u001b[0;34m)\u001b[0m\u001b[0;34m\u001b[0m\u001b[0;34m\u001b[0m\u001b[0m\n\u001b[0m\u001b[1;32m    436\u001b[0m     \u001b[0;32mfinally\u001b[0m\u001b[0;34m:\u001b[0m\u001b[0;34m\u001b[0m\u001b[0;34m\u001b[0m\u001b[0m\n\u001b[1;32m    437\u001b[0m         \u001b[0mparser\u001b[0m\u001b[0;34m.\u001b[0m\u001b[0mclose\u001b[0m\u001b[0;34m(\u001b[0m\u001b[0;34m)\u001b[0m\u001b[0;34m\u001b[0m\u001b[0;34m\u001b[0m\u001b[0m\n",
      "\u001b[0;32m~/anaconda3/lib/python3.6/site-packages/pandas/io/parsers.py\u001b[0m in \u001b[0;36mread\u001b[0;34m(self, nrows)\u001b[0m\n\u001b[1;32m   1137\u001b[0m     \u001b[0;32mdef\u001b[0m \u001b[0mread\u001b[0m\u001b[0;34m(\u001b[0m\u001b[0mself\u001b[0m\u001b[0;34m,\u001b[0m \u001b[0mnrows\u001b[0m\u001b[0;34m=\u001b[0m\u001b[0;32mNone\u001b[0m\u001b[0;34m)\u001b[0m\u001b[0;34m:\u001b[0m\u001b[0;34m\u001b[0m\u001b[0;34m\u001b[0m\u001b[0m\n\u001b[1;32m   1138\u001b[0m         \u001b[0mnrows\u001b[0m \u001b[0;34m=\u001b[0m \u001b[0m_validate_integer\u001b[0m\u001b[0;34m(\u001b[0m\u001b[0;34m'nrows'\u001b[0m\u001b[0;34m,\u001b[0m \u001b[0mnrows\u001b[0m\u001b[0;34m)\u001b[0m\u001b[0;34m\u001b[0m\u001b[0;34m\u001b[0m\u001b[0m\n\u001b[0;32m-> 1139\u001b[0;31m         \u001b[0mret\u001b[0m \u001b[0;34m=\u001b[0m \u001b[0mself\u001b[0m\u001b[0;34m.\u001b[0m\u001b[0m_engine\u001b[0m\u001b[0;34m.\u001b[0m\u001b[0mread\u001b[0m\u001b[0;34m(\u001b[0m\u001b[0mnrows\u001b[0m\u001b[0;34m)\u001b[0m\u001b[0;34m\u001b[0m\u001b[0;34m\u001b[0m\u001b[0m\n\u001b[0m\u001b[1;32m   1140\u001b[0m \u001b[0;34m\u001b[0m\u001b[0m\n\u001b[1;32m   1141\u001b[0m         \u001b[0;31m# May alter columns / col_dict\u001b[0m\u001b[0;34m\u001b[0m\u001b[0;34m\u001b[0m\u001b[0;34m\u001b[0m\u001b[0m\n",
      "\u001b[0;32m~/anaconda3/lib/python3.6/site-packages/pandas/io/parsers.py\u001b[0m in \u001b[0;36mread\u001b[0;34m(self, rows)\u001b[0m\n\u001b[1;32m   2413\u001b[0m             \u001b[0mcontent\u001b[0m \u001b[0;34m=\u001b[0m \u001b[0mcontent\u001b[0m\u001b[0;34m[\u001b[0m\u001b[0;36m1\u001b[0m\u001b[0;34m:\u001b[0m\u001b[0;34m]\u001b[0m\u001b[0;34m\u001b[0m\u001b[0;34m\u001b[0m\u001b[0m\n\u001b[1;32m   2414\u001b[0m \u001b[0;34m\u001b[0m\u001b[0m\n\u001b[0;32m-> 2415\u001b[0;31m         \u001b[0malldata\u001b[0m \u001b[0;34m=\u001b[0m \u001b[0mself\u001b[0m\u001b[0;34m.\u001b[0m\u001b[0m_rows_to_cols\u001b[0m\u001b[0;34m(\u001b[0m\u001b[0mcontent\u001b[0m\u001b[0;34m)\u001b[0m\u001b[0;34m\u001b[0m\u001b[0;34m\u001b[0m\u001b[0m\n\u001b[0m\u001b[1;32m   2416\u001b[0m         \u001b[0mdata\u001b[0m \u001b[0;34m=\u001b[0m \u001b[0mself\u001b[0m\u001b[0;34m.\u001b[0m\u001b[0m_exclude_implicit_index\u001b[0m\u001b[0;34m(\u001b[0m\u001b[0malldata\u001b[0m\u001b[0;34m)\u001b[0m\u001b[0;34m\u001b[0m\u001b[0;34m\u001b[0m\u001b[0m\n\u001b[1;32m   2417\u001b[0m \u001b[0;34m\u001b[0m\u001b[0m\n",
      "\u001b[0;32m~/anaconda3/lib/python3.6/site-packages/pandas/io/parsers.py\u001b[0m in \u001b[0;36m_rows_to_cols\u001b[0;34m(self, content)\u001b[0m\n\u001b[1;32m   3064\u001b[0m                     \u001b[0mmsg\u001b[0m \u001b[0;34m+=\u001b[0m \u001b[0;34m'. '\u001b[0m \u001b[0;34m+\u001b[0m \u001b[0mreason\u001b[0m\u001b[0;34m\u001b[0m\u001b[0;34m\u001b[0m\u001b[0m\n\u001b[1;32m   3065\u001b[0m \u001b[0;34m\u001b[0m\u001b[0m\n\u001b[0;32m-> 3066\u001b[0;31m                 \u001b[0mself\u001b[0m\u001b[0;34m.\u001b[0m\u001b[0m_alert_malformed\u001b[0m\u001b[0;34m(\u001b[0m\u001b[0mmsg\u001b[0m\u001b[0;34m,\u001b[0m \u001b[0mrow_num\u001b[0m \u001b[0;34m+\u001b[0m \u001b[0;36m1\u001b[0m\u001b[0;34m)\u001b[0m\u001b[0;34m\u001b[0m\u001b[0;34m\u001b[0m\u001b[0m\n\u001b[0m\u001b[1;32m   3067\u001b[0m \u001b[0;34m\u001b[0m\u001b[0m\n\u001b[1;32m   3068\u001b[0m         \u001b[0;31m# see gh-13320\u001b[0m\u001b[0;34m\u001b[0m\u001b[0;34m\u001b[0m\u001b[0;34m\u001b[0m\u001b[0m\n",
      "\u001b[0;32m~/anaconda3/lib/python3.6/site-packages/pandas/io/parsers.py\u001b[0m in \u001b[0;36m_alert_malformed\u001b[0;34m(self, msg, row_num)\u001b[0m\n\u001b[1;32m   2833\u001b[0m \u001b[0;34m\u001b[0m\u001b[0m\n\u001b[1;32m   2834\u001b[0m         \u001b[0;32mif\u001b[0m \u001b[0mself\u001b[0m\u001b[0;34m.\u001b[0m\u001b[0merror_bad_lines\u001b[0m\u001b[0;34m:\u001b[0m\u001b[0;34m\u001b[0m\u001b[0;34m\u001b[0m\u001b[0m\n\u001b[0;32m-> 2835\u001b[0;31m             \u001b[0;32mraise\u001b[0m \u001b[0mParserError\u001b[0m\u001b[0;34m(\u001b[0m\u001b[0mmsg\u001b[0m\u001b[0;34m)\u001b[0m\u001b[0;34m\u001b[0m\u001b[0;34m\u001b[0m\u001b[0m\n\u001b[0m\u001b[1;32m   2836\u001b[0m         \u001b[0;32melif\u001b[0m \u001b[0mself\u001b[0m\u001b[0;34m.\u001b[0m\u001b[0mwarn_bad_lines\u001b[0m\u001b[0;34m:\u001b[0m\u001b[0;34m\u001b[0m\u001b[0;34m\u001b[0m\u001b[0m\n\u001b[1;32m   2837\u001b[0m             \u001b[0mbase\u001b[0m \u001b[0;34m=\u001b[0m \u001b[0;34m'Skipping line {row_num}: '\u001b[0m\u001b[0;34m.\u001b[0m\u001b[0mformat\u001b[0m\u001b[0;34m(\u001b[0m\u001b[0mrow_num\u001b[0m\u001b[0;34m=\u001b[0m\u001b[0mrow_num\u001b[0m\u001b[0;34m)\u001b[0m\u001b[0;34m\u001b[0m\u001b[0;34m\u001b[0m\u001b[0m\n",
      "\u001b[0;31mParserError\u001b[0m: Expected 1 fields in line 233, saw 2"
     ]
    }
   ],
   "source": [
    "df= get_files(dir_path=dir_path, filename='songs_train.csv')\n"
   ]
  },
  {
   "cell_type": "code",
   "execution_count": 4,
   "metadata": {},
   "outputs": [],
   "source": [
    "df.columns=['singer_id','singer_location_city','singer_location_lat','singer_location_long','singer_name','singer_rating','singer_reputation','singer_styles','singer_styles_nb','song_ID','song_ID_similar','song_decibels','song_genre','song_length_seconds','song_metadata_01','song_metadata_02','song_metadata_03','song_metadata_04','song_metadata_05','song_metadata_06','song_metadata_07','song_metadata_08','song_metadata_09','song_metadata_10','song_metadata_11','song_metadata_12','song_metadata_13','song_metadata_14','song_metadata_15','song_metadata_16','song_rating','song_release_ID','song_release_name','song_title','song_year']"
   ]
  },
  {
   "cell_type": "code",
   "execution_count": 5,
   "metadata": {},
   "outputs": [
    {
     "data": {
      "text/html": [
       "<div>\n",
       "<style scoped>\n",
       "    .dataframe tbody tr th:only-of-type {\n",
       "        vertical-align: middle;\n",
       "    }\n",
       "\n",
       "    .dataframe tbody tr th {\n",
       "        vertical-align: top;\n",
       "    }\n",
       "\n",
       "    .dataframe thead th {\n",
       "        text-align: right;\n",
       "    }\n",
       "</style>\n",
       "<table border=\"1\" class=\"dataframe\">\n",
       "  <thead>\n",
       "    <tr style=\"text-align: right;\">\n",
       "      <th></th>\n",
       "      <th>singer_id</th>\n",
       "      <th>singer_location_city</th>\n",
       "      <th>singer_location_lat</th>\n",
       "      <th>singer_location_long</th>\n",
       "      <th>singer_name</th>\n",
       "      <th>singer_rating</th>\n",
       "      <th>singer_reputation</th>\n",
       "      <th>singer_styles</th>\n",
       "      <th>singer_styles_nb</th>\n",
       "      <th>song_ID</th>\n",
       "      <th>...</th>\n",
       "      <th>song_metadata_12</th>\n",
       "      <th>song_metadata_13</th>\n",
       "      <th>song_metadata_14</th>\n",
       "      <th>song_metadata_15</th>\n",
       "      <th>song_metadata_16</th>\n",
       "      <th>song_rating</th>\n",
       "      <th>song_release_ID</th>\n",
       "      <th>song_release_name</th>\n",
       "      <th>song_title</th>\n",
       "      <th>song_year</th>\n",
       "    </tr>\n",
       "  </thead>\n",
       "  <tbody>\n",
       "    <tr>\n",
       "      <th>0</th>\n",
       "      <td>ARGMRRK1187FB5BE1F</td>\n",
       "      <td>Not available</td>\n",
       "      <td>37.157</td>\n",
       "      <td>-63.933</td>\n",
       "      <td>Dean Elliott And His Big Band</td>\n",
       "      <td>0.321</td>\n",
       "      <td>0.420</td>\n",
       "      <td>NaN</td>\n",
       "      <td>0.0</td>\n",
       "      <td>SOCSFMW12AB01826F2</td>\n",
       "      <td>...</td>\n",
       "      <td>0.084</td>\n",
       "      <td>120.172</td>\n",
       "      <td>0.977</td>\n",
       "      <td>4.0</td>\n",
       "      <td>0.719</td>\n",
       "      <td>0.655</td>\n",
       "      <td>394187</td>\n",
       "      <td>Ultra-Lounge / Space-Capades  Volume Three</td>\n",
       "      <td>Lonesome Road (1995 Digital Remaster)</td>\n",
       "      <td>0</td>\n",
       "    </tr>\n",
       "    <tr>\n",
       "      <th>1</th>\n",
       "      <td>ARHRY5S1187B99B96F</td>\n",
       "      <td>Alabama</td>\n",
       "      <td>32.614</td>\n",
       "      <td>-86.681</td>\n",
       "      <td>Static-X</td>\n",
       "      <td>0.561</td>\n",
       "      <td>0.768</td>\n",
       "      <td>industrial metal</td>\n",
       "      <td>2.0</td>\n",
       "      <td>SONELOT12A6701F519</td>\n",
       "      <td>...</td>\n",
       "      <td>0.306</td>\n",
       "      <td>120.539</td>\n",
       "      <td>1.000</td>\n",
       "      <td>4.0</td>\n",
       "      <td>1.000</td>\n",
       "      <td>0.625</td>\n",
       "      <td>12607</td>\n",
       "      <td>Start A War</td>\n",
       "      <td>Night Terrors (Album Version)</td>\n",
       "      <td>2005</td>\n",
       "    </tr>\n",
       "    <tr>\n",
       "      <th>2</th>\n",
       "      <td>AR77FBJ1187FB49D8D</td>\n",
       "      <td>Detroit, MI</td>\n",
       "      <td>42.332</td>\n",
       "      <td>-83.048</td>\n",
       "      <td>The Rance Allen Group</td>\n",
       "      <td>0.314</td>\n",
       "      <td>0.488</td>\n",
       "      <td>NaN</td>\n",
       "      <td>0.0</td>\n",
       "      <td>SOVPFPD12A8C13921A</td>\n",
       "      <td>...</td>\n",
       "      <td>0.302</td>\n",
       "      <td>105.994</td>\n",
       "      <td>0.899</td>\n",
       "      <td>4.0</td>\n",
       "      <td>1.000</td>\n",
       "      <td>0.366</td>\n",
       "      <td>103872</td>\n",
       "      <td>All the Way</td>\n",
       "      <td>Do Your Will (Album Version)</td>\n",
       "      <td>0</td>\n",
       "    </tr>\n",
       "    <tr>\n",
       "      <th>3</th>\n",
       "      <td>AREB22L1187B9A4BCE</td>\n",
       "      <td>Not available</td>\n",
       "      <td>37.157</td>\n",
       "      <td>-63.933</td>\n",
       "      <td>Bad Azz</td>\n",
       "      <td>0.341</td>\n",
       "      <td>0.552</td>\n",
       "      <td>NaN</td>\n",
       "      <td>0.0</td>\n",
       "      <td>SOZBDWA12A6D4F7777</td>\n",
       "      <td>...</td>\n",
       "      <td>0.257</td>\n",
       "      <td>120.716</td>\n",
       "      <td>1.000</td>\n",
       "      <td>3.0</td>\n",
       "      <td>1.000</td>\n",
       "      <td>0.266</td>\n",
       "      <td>22455</td>\n",
       "      <td>Personal Business (Explicit)</td>\n",
       "      <td>When You See Me</td>\n",
       "      <td>0</td>\n",
       "    </tr>\n",
       "    <tr>\n",
       "      <th>4</th>\n",
       "      <td>ARBB58Y1187B9B621B</td>\n",
       "      <td>Not available</td>\n",
       "      <td>37.157</td>\n",
       "      <td>-63.933</td>\n",
       "      <td>Bill &amp; Gloria Gaither</td>\n",
       "      <td>0.333</td>\n",
       "      <td>0.427</td>\n",
       "      <td>NaN</td>\n",
       "      <td>0.0</td>\n",
       "      <td>SOBUPHJ12A58A7C7F8</td>\n",
       "      <td>...</td>\n",
       "      <td>0.451</td>\n",
       "      <td>152.606</td>\n",
       "      <td>1.000</td>\n",
       "      <td>3.0</td>\n",
       "      <td>0.717</td>\n",
       "      <td>0.274</td>\n",
       "      <td>64628</td>\n",
       "      <td>Jerusalem Homecoming</td>\n",
       "      <td>I Walked Today Where Jesus Walked</td>\n",
       "      <td>0</td>\n",
       "    </tr>\n",
       "  </tbody>\n",
       "</table>\n",
       "<p>5 rows × 35 columns</p>\n",
       "</div>"
      ],
      "text/plain": [
       "            singer_id singer_location_city  singer_location_lat  \\\n",
       "0  ARGMRRK1187FB5BE1F        Not available               37.157   \n",
       "1  ARHRY5S1187B99B96F              Alabama               32.614   \n",
       "2  AR77FBJ1187FB49D8D          Detroit, MI               42.332   \n",
       "3  AREB22L1187B9A4BCE        Not available               37.157   \n",
       "4  ARBB58Y1187B9B621B        Not available               37.157   \n",
       "\n",
       "   singer_location_long                    singer_name  singer_rating  \\\n",
       "0               -63.933  Dean Elliott And His Big Band          0.321   \n",
       "1               -86.681                       Static-X          0.561   \n",
       "2               -83.048          The Rance Allen Group          0.314   \n",
       "3               -63.933                        Bad Azz          0.341   \n",
       "4               -63.933          Bill & Gloria Gaither          0.333   \n",
       "\n",
       "   singer_reputation     singer_styles  singer_styles_nb             song_ID  \\\n",
       "0              0.420               NaN               0.0  SOCSFMW12AB01826F2   \n",
       "1              0.768  industrial metal               2.0  SONELOT12A6701F519   \n",
       "2              0.488               NaN               0.0  SOVPFPD12A8C13921A   \n",
       "3              0.552               NaN               0.0  SOZBDWA12A6D4F7777   \n",
       "4              0.427               NaN               0.0  SOBUPHJ12A58A7C7F8   \n",
       "\n",
       "   ... song_metadata_12  song_metadata_13 song_metadata_14  song_metadata_15  \\\n",
       "0  ...            0.084           120.172            0.977               4.0   \n",
       "1  ...            0.306           120.539            1.000               4.0   \n",
       "2  ...            0.302           105.994            0.899               4.0   \n",
       "3  ...            0.257           120.716            1.000               3.0   \n",
       "4  ...            0.451           152.606            1.000               3.0   \n",
       "\n",
       "   song_metadata_16  song_rating  song_release_ID  \\\n",
       "0             0.719        0.655           394187   \n",
       "1             1.000        0.625            12607   \n",
       "2             1.000        0.366           103872   \n",
       "3             1.000        0.266            22455   \n",
       "4             0.717        0.274            64628   \n",
       "\n",
       "                            song_release_name  \\\n",
       "0  Ultra-Lounge / Space-Capades  Volume Three   \n",
       "1                                 Start A War   \n",
       "2                                 All the Way   \n",
       "3                Personal Business (Explicit)   \n",
       "4                        Jerusalem Homecoming   \n",
       "\n",
       "                              song_title  song_year  \n",
       "0  Lonesome Road (1995 Digital Remaster)          0  \n",
       "1          Night Terrors (Album Version)       2005  \n",
       "2           Do Your Will (Album Version)          0  \n",
       "3                        When You See Me          0  \n",
       "4      I Walked Today Where Jesus Walked          0  \n",
       "\n",
       "[5 rows x 35 columns]"
      ]
     },
     "execution_count": 5,
     "metadata": {},
     "output_type": "execute_result"
    }
   ],
   "source": [
    "df.head()"
   ]
  },
  {
   "cell_type": "code",
   "execution_count": 6,
   "metadata": {},
   "outputs": [
    {
     "data": {
      "text/plain": [
       "singer_id                object\n",
       "singer_location_city     object\n",
       "singer_location_lat     float64\n",
       "singer_location_long    float64\n",
       "singer_name              object\n",
       "singer_rating           float64\n",
       "singer_reputation       float64\n",
       "singer_styles            object\n",
       "singer_styles_nb        float64\n",
       "song_ID                  object\n",
       "song_ID_similar          object\n",
       "song_decibels           float64\n",
       "song_genre               object\n",
       "song_length_seconds     float64\n",
       "song_metadata_01        float64\n",
       "song_metadata_02        float64\n",
       "song_metadata_03        float64\n",
       "song_metadata_04        float64\n",
       "song_metadata_05        float64\n",
       "song_metadata_06        float64\n",
       "song_metadata_07        float64\n",
       "song_metadata_08          int64\n",
       "song_metadata_09        float64\n",
       "song_metadata_10        float64\n",
       "song_metadata_11        float64\n",
       "song_metadata_12        float64\n",
       "song_metadata_13        float64\n",
       "song_metadata_14        float64\n",
       "song_metadata_15        float64\n",
       "song_metadata_16        float64\n",
       "song_rating             float64\n",
       "song_release_ID           int64\n",
       "song_release_name        object\n",
       "song_title               object\n",
       "song_year                 int64\n",
       "dtype: object"
      ]
     },
     "execution_count": 6,
     "metadata": {},
     "output_type": "execute_result"
    }
   ],
   "source": [
    "df.dtypes"
   ]
  },
  {
   "cell_type": "code",
   "execution_count": 8,
   "metadata": {},
   "outputs": [],
   "source": [
    "df1=df.copy()"
   ]
  },
  {
   "cell_type": "code",
   "execution_count": 9,
   "metadata": {},
   "outputs": [
    {
     "data": {
      "text/plain": [
       "0    1198\n",
       "Name: song_year, dtype: int64"
      ]
     },
     "execution_count": 9,
     "metadata": {},
     "output_type": "execute_result"
    }
   ],
   "source": [
    "df1.loc[df['song_year']==0,'song_year'].value_counts()"
   ]
  },
  {
   "cell_type": "code",
   "execution_count": 10,
   "metadata": {},
   "outputs": [
    {
     "data": {
      "text/plain": [
       "(3371, 35)"
      ]
     },
     "execution_count": 10,
     "metadata": {},
     "output_type": "execute_result"
    }
   ],
   "source": [
    "df1.shape"
   ]
  },
  {
   "cell_type": "code",
   "execution_count": 11,
   "metadata": {},
   "outputs": [
    {
     "data": {
      "text/plain": [
       "array([   0, 2005, 1999, 2002, 2006, 2000, 1998, 2004, 1993, 2003, 2007,\n",
       "       1997, 1971, 1968, 1963, 2009, 2008, 1991, 1986, 1983, 1972, 1974,\n",
       "       1988, 1979, 1990, 1989, 1996, 1984, 1995, 1975, 2001, 1969, 1980,\n",
       "       1987, 1994, 1992, 1978, 2010, 1981, 1982, 1967, 1985, 1977, 1960,\n",
       "       1970, 1976, 1964, 1962, 1966, 1973, 1959, 1954, 1965, 1961],\n",
       "      dtype=int64)"
      ]
     },
     "execution_count": 11,
     "metadata": {},
     "output_type": "execute_result"
    }
   ],
   "source": [
    "df1.song_year.unique()"
   ]
  },
  {
   "cell_type": "code",
   "execution_count": 12,
   "metadata": {},
   "outputs": [],
   "source": [
    "df1=df1.drop(columns=['singer_id','song_ID','song_ID_similar','song_release_ID'])"
   ]
  },
  {
   "cell_type": "code",
   "execution_count": 13,
   "metadata": {},
   "outputs": [
    {
     "data": {
      "text/plain": [
       "array(['Dean Elliott And His Big Band', 'Static-X',\n",
       "       'The Rance Allen Group', ..., 'Legion Of Green Men',\n",
       "       'Electric Light Orchestra', 'Karen Peck And New River'],\n",
       "      dtype=object)"
      ]
     },
     "execution_count": 13,
     "metadata": {},
     "output_type": "execute_result"
    }
   ],
   "source": [
    "df1.singer_name.unique()"
   ]
  },
  {
   "cell_type": "code",
   "execution_count": 48,
   "metadata": {},
   "outputs": [
    {
     "data": {
      "text/plain": [
       "0            Dean Elliott And His Big Band\n",
       "12                                    MAom\n",
       "13                               The Germs\n",
       "16                           JERRY WALLACE\n",
       "17                          Home Town Hero\n",
       "25                                     Lit\n",
       "29                   Hatiras & Slarta John\n",
       "30         Glen Campbell And Bobbie Gentry\n",
       "31                          Albert Collins\n",
       "34                           Andreas Dorau\n",
       "38                                    Java\n",
       "41                                  Kurupt\n",
       "50                             Stille Volk\n",
       "52                            Gang Of Four\n",
       "53                         Orquesta Aragon\n",
       "54                              Jim Bryson\n",
       "55                           The Chi-Lites\n",
       "58                             Johnny Cash\n",
       "59                              Svartthron\n",
       "62            Ms. Dynamite / Kymani Marley\n",
       "64                             Spoonie Gee\n",
       "67                                 I Wayne\n",
       "68                              Anna Abreu\n",
       "69                              Tim Wilson\n",
       "71                          Anneli Drecker\n",
       "73      Ziggy Marley And The Melody Makers\n",
       "74                           Grayson Capps\n",
       "76                           Jackie Wilson\n",
       "79                             Ivan Parker\n",
       "83                           Nick Colionne\n",
       "                       ...                \n",
       "3279                         Scott Ainslie\n",
       "3280                        Phantom Planet\n",
       "3281                                BigElf\n",
       "3282                             Jah Debda\n",
       "3284                             Z.Z. Hill\n",
       "3287                Vilma Palma e Vampiros\n",
       "3289                                Unison\n",
       "3297                                Juanes\n",
       "3300                          Joe Satriani\n",
       "3302                         Vodka Collins\n",
       "3305                 Eagles Of Death Metal\n",
       "3313                            Hoodfellas\n",
       "3316                           Francis Lai\n",
       "3318                      Toots Thielemans\n",
       "3319                                 Vixen\n",
       "3325                           Major Lazer\n",
       "3326                         Alain Souchon\n",
       "3331                        Jimmie Vaughan\n",
       "3332                          Floyd Cramer\n",
       "3333                           Beto Cuevas\n",
       "3336                                Dj Kun\n",
       "3340                         DeGarmo & Key\n",
       "3344                            Pete Miser\n",
       "3347                           The Killers\n",
       "3348                            Chroma Key\n",
       "3358        Smokin' Joe Kubek & Bnois King\n",
       "3359                             Ray Lynch\n",
       "3363                   Legion Of Green Men\n",
       "3368              Electric Light Orchestra\n",
       "3369              Karen Peck And New River\n",
       "Name: singer_name, Length: 1288, dtype: object"
      ]
     },
     "execution_count": 48,
     "metadata": {},
     "output_type": "execute_result"
    }
   ],
   "source": [
    "i=df1.singer_name.value_counts()\n",
    "idx = df1.singer_name.isin(i[i==1].index)\n",
    "df1.loc[idx,'singer_name']"
   ]
  },
  {
   "cell_type": "code",
   "execution_count": 15,
   "metadata": {},
   "outputs": [
    {
     "data": {
      "text/plain": [
       "array([0., 2., 1., 5., 3., 4., 9., 6.])"
      ]
     },
     "execution_count": 15,
     "metadata": {},
     "output_type": "execute_result"
    }
   ],
   "source": [
    "df1.singer_styles_nb.unique()"
   ]
  },
  {
   "cell_type": "code",
   "execution_count": 21,
   "metadata": {},
   "outputs": [
    {
     "data": {
      "text/plain": [
       "0.0    1778\n",
       "1.0    1168\n",
       "2.0     264\n",
       "3.0      82\n",
       "4.0      45\n",
       "5.0      26\n",
       "6.0       7\n",
       "9.0       1\n",
       "Name: singer_styles_nb, dtype: int64"
      ]
     },
     "execution_count": 21,
     "metadata": {},
     "output_type": "execute_result"
    }
   ],
   "source": [
    "df1.singer_styles_nb.value_counts()"
   ]
  },
  {
   "cell_type": "code",
   "execution_count": 20,
   "metadata": {},
   "outputs": [
    {
     "data": {
      "text/plain": [
       "classic pop and rock          121\n",
       "rock and indie                 99\n",
       "hip hop rnb and dance hall     78\n",
       "uk                             77\n",
       "british                        68\n",
       "american                       61\n",
       "folk                           49\n",
       "pop and chart                  42\n",
       "rock                           40\n",
       "german                         35\n",
       "punk                           35\n",
       "soul and reggae                35\n",
       "country                        29\n",
       "finnish                        29\n",
       "alternative rock               27\n",
       "production music               24\n",
       "jazz and blues                 22\n",
       "french                         22\n",
       "electronic                     21\n",
       "dance and electronica          18\n",
       "world                          17\n",
       "heavy metal                    16\n",
       "black metal                    14\n",
       "hip hop                        14\n",
       "hip-hop                        13\n",
       "progressive rock               12\n",
       "reggae                         12\n",
       "hard rock                      12\n",
       "ska                            12\n",
       "canadian                       12\n",
       "                             ... \n",
       "skate punk                      1\n",
       "mexican                         1\n",
       "downtempo                       1\n",
       "mathcore                        1\n",
       "producer                        1\n",
       "wichita                         1\n",
       "college rock                    1\n",
       "comedy                          1\n",
       "post-rock                       1\n",
       "old school hip-hop              1\n",
       "nl                              1\n",
       "house                           1\n",
       "avant-garde                     1\n",
       "united states                   1\n",
       "south african                   1\n",
       "warp                            1\n",
       "american idol                   1\n",
       "alternative hip-hop             1\n",
       "guitarist                       1\n",
       "soprano                         1\n",
       "european                        1\n",
       "alternative country             1\n",
       "alternative                     1\n",
       "idm                             1\n",
       "fusion                          1\n",
       "san francisco                   1\n",
       "latin jazz                      1\n",
       "christian rock                  1\n",
       "indie pop                       1\n",
       "math rock                       1\n",
       "Name: singer_styles, Length: 212, dtype: int64"
      ]
     },
     "execution_count": 20,
     "metadata": {},
     "output_type": "execute_result"
    }
   ],
   "source": [
    "df1.singer_styles.value_counts()"
   ]
  },
  {
   "cell_type": "code",
   "execution_count": 28,
   "metadata": {},
   "outputs": [
    {
     "data": {
      "text/plain": [
       "<seaborn.axisgrid.PairGrid at 0x21fef7ae198>"
      ]
     },
     "execution_count": 28,
     "metadata": {},
     "output_type": "execute_result"
    },
    {
     "data": {
      "image/png": "[encoded data removed]",
      "text/plain": [
       "<Figure size 360x360 with 6 Axes>"
      ]
     },
     "metadata": {
      "needs_background": "light"
     },
     "output_type": "display_data"
    }
   ],
   "source": [
    "c=['singer_location_lat','singer_location_long']\n",
    "df_city=df1[c]\n",
    "sns.pairplot(df_city)"
   ]
  },
  {
   "cell_type": "code",
   "execution_count": 34,
   "metadata": {
    "scrolled": true
   },
   "outputs": [
    {
     "data": {
      "image/png": "[encoded data removed]",
      "text/plain": [
       "<Figure size 432x288 with 16 Axes>"
      ]
     },
     "metadata": {
      "needs_background": "light"
     },
     "output_type": "display_data"
    }
   ],
   "source": [
    "co=['song_metadata_01','song_metadata_01','song_metadata_03','song_metadata_04','song_metadata_05','song_metadata_06','song_metadata_07','song_metadata_08','song_metadata_09','song_metadata_10','song_metadata_11','song_metadata_12','song_metadata_13','song_metadata_14','song_metadata_15','song_metadata_16']\n",
    "df_co=df1[co]\n",
    "fig1=df_co.hist()\n",
    "plt.show()"
   ]
  },
  {
   "cell_type": "code",
   "execution_count": 144,
   "metadata": {},
   "outputs": [],
   "source": [
    "df2=df1.copy()\n",
    "df2=df2.drop(columns=['singer_styles','song_title','singer_location_lat','singer_location_long','song_release_name','singer_name'])\n"
   ]
  },
  {
   "cell_type": "code",
   "execution_count": 95,
   "metadata": {},
   "outputs": [
    {
     "data": {
      "text/html": [
       "<div>\n",
       "<style scoped>\n",
       "    .dataframe tbody tr th:only-of-type {\n",
       "        vertical-align: middle;\n",
       "    }\n",
       "\n",
       "    .dataframe tbody tr th {\n",
       "        vertical-align: top;\n",
       "    }\n",
       "\n",
       "    .dataframe thead th {\n",
       "        text-align: right;\n",
       "    }\n",
       "</style>\n",
       "<table border=\"1\" class=\"dataframe\">\n",
       "  <thead>\n",
       "    <tr style=\"text-align: right;\">\n",
       "      <th></th>\n",
       "      <th>singer_location_city</th>\n",
       "      <th>singer_rating</th>\n",
       "      <th>singer_reputation</th>\n",
       "      <th>singer_styles_nb</th>\n",
       "      <th>song_decibels</th>\n",
       "      <th>song_genre</th>\n",
       "      <th>song_length_seconds</th>\n",
       "      <th>song_metadata_01</th>\n",
       "      <th>song_metadata_02</th>\n",
       "      <th>song_metadata_03</th>\n",
       "      <th>...</th>\n",
       "      <th>song_metadata_09</th>\n",
       "      <th>song_metadata_10</th>\n",
       "      <th>song_metadata_11</th>\n",
       "      <th>song_metadata_12</th>\n",
       "      <th>song_metadata_13</th>\n",
       "      <th>song_metadata_14</th>\n",
       "      <th>song_metadata_15</th>\n",
       "      <th>song_metadata_16</th>\n",
       "      <th>song_rating</th>\n",
       "      <th>song_year</th>\n",
       "    </tr>\n",
       "  </thead>\n",
       "  <tbody>\n",
       "    <tr>\n",
       "      <th>0</th>\n",
       "      <td>Not available</td>\n",
       "      <td>0.321</td>\n",
       "      <td>0.420</td>\n",
       "      <td>0.0</td>\n",
       "      <td>-10.727</td>\n",
       "      <td>exotica</td>\n",
       "      <td>150.334</td>\n",
       "      <td>0.001</td>\n",
       "      <td>0.558</td>\n",
       "      <td>0.957</td>\n",
       "      <td>...</td>\n",
       "      <td>0.565</td>\n",
       "      <td>145.328</td>\n",
       "      <td>0.086</td>\n",
       "      <td>0.084</td>\n",
       "      <td>120.172</td>\n",
       "      <td>0.977</td>\n",
       "      <td>4.0</td>\n",
       "      <td>0.719</td>\n",
       "      <td>0.655</td>\n",
       "      <td>0</td>\n",
       "    </tr>\n",
       "    <tr>\n",
       "      <th>1</th>\n",
       "      <td>Alabama</td>\n",
       "      <td>0.561</td>\n",
       "      <td>0.768</td>\n",
       "      <td>2.0</td>\n",
       "      <td>-3.294</td>\n",
       "      <td>industrial metal</td>\n",
       "      <td>189.100</td>\n",
       "      <td>0.320</td>\n",
       "      <td>1.560</td>\n",
       "      <td>0.000</td>\n",
       "      <td>...</td>\n",
       "      <td>0.529</td>\n",
       "      <td>186.520</td>\n",
       "      <td>0.419</td>\n",
       "      <td>0.306</td>\n",
       "      <td>120.539</td>\n",
       "      <td>1.000</td>\n",
       "      <td>4.0</td>\n",
       "      <td>1.000</td>\n",
       "      <td>0.625</td>\n",
       "      <td>2005</td>\n",
       "    </tr>\n",
       "    <tr>\n",
       "      <th>2</th>\n",
       "      <td>Detroit, MI</td>\n",
       "      <td>0.314</td>\n",
       "      <td>0.488</td>\n",
       "      <td>0.0</td>\n",
       "      <td>-4.152</td>\n",
       "      <td>jazz funk</td>\n",
       "      <td>337.162</td>\n",
       "      <td>0.024</td>\n",
       "      <td>0.859</td>\n",
       "      <td>1.000</td>\n",
       "      <td>...</td>\n",
       "      <td>0.572</td>\n",
       "      <td>327.959</td>\n",
       "      <td>1.000</td>\n",
       "      <td>0.302</td>\n",
       "      <td>105.994</td>\n",
       "      <td>0.899</td>\n",
       "      <td>4.0</td>\n",
       "      <td>1.000</td>\n",
       "      <td>0.366</td>\n",
       "      <td>0</td>\n",
       "    </tr>\n",
       "    <tr>\n",
       "      <th>3</th>\n",
       "      <td>Not available</td>\n",
       "      <td>0.341</td>\n",
       "      <td>0.552</td>\n",
       "      <td>0.0</td>\n",
       "      <td>-5.345</td>\n",
       "      <td>gangster rap</td>\n",
       "      <td>237.792</td>\n",
       "      <td>0.197</td>\n",
       "      <td>0.257</td>\n",
       "      <td>0.904</td>\n",
       "      <td>...</td>\n",
       "      <td>0.371</td>\n",
       "      <td>229.616</td>\n",
       "      <td>0.000</td>\n",
       "      <td>0.257</td>\n",
       "      <td>120.716</td>\n",
       "      <td>1.000</td>\n",
       "      <td>3.0</td>\n",
       "      <td>1.000</td>\n",
       "      <td>0.266</td>\n",
       "      <td>0</td>\n",
       "    </tr>\n",
       "    <tr>\n",
       "      <th>4</th>\n",
       "      <td>Not available</td>\n",
       "      <td>0.333</td>\n",
       "      <td>0.427</td>\n",
       "      <td>0.0</td>\n",
       "      <td>-14.492</td>\n",
       "      <td>country gospel</td>\n",
       "      <td>290.063</td>\n",
       "      <td>0.461</td>\n",
       "      <td>1.253</td>\n",
       "      <td>0.599</td>\n",
       "      <td>...</td>\n",
       "      <td>0.303</td>\n",
       "      <td>281.304</td>\n",
       "      <td>0.599</td>\n",
       "      <td>0.451</td>\n",
       "      <td>152.606</td>\n",
       "      <td>1.000</td>\n",
       "      <td>3.0</td>\n",
       "      <td>0.717</td>\n",
       "      <td>0.274</td>\n",
       "      <td>0</td>\n",
       "    </tr>\n",
       "  </tbody>\n",
       "</table>\n",
       "<p>5 rows × 25 columns</p>\n",
       "</div>"
      ],
      "text/plain": [
       "  singer_location_city  singer_rating  singer_reputation  singer_styles_nb  \\\n",
       "0        Not available          0.321              0.420               0.0   \n",
       "1              Alabama          0.561              0.768               2.0   \n",
       "2          Detroit, MI          0.314              0.488               0.0   \n",
       "3        Not available          0.341              0.552               0.0   \n",
       "4        Not available          0.333              0.427               0.0   \n",
       "\n",
       "   song_decibels        song_genre  song_length_seconds  song_metadata_01  \\\n",
       "0        -10.727           exotica              150.334             0.001   \n",
       "1         -3.294  industrial metal              189.100             0.320   \n",
       "2         -4.152         jazz funk              337.162             0.024   \n",
       "3         -5.345      gangster rap              237.792             0.197   \n",
       "4        -14.492    country gospel              290.063             0.461   \n",
       "\n",
       "   song_metadata_02  song_metadata_03  ...  song_metadata_09  \\\n",
       "0             0.558             0.957  ...             0.565   \n",
       "1             1.560             0.000  ...             0.529   \n",
       "2             0.859             1.000  ...             0.572   \n",
       "3             0.257             0.904  ...             0.371   \n",
       "4             1.253             0.599  ...             0.303   \n",
       "\n",
       "   song_metadata_10  song_metadata_11  song_metadata_12  song_metadata_13  \\\n",
       "0           145.328             0.086             0.084           120.172   \n",
       "1           186.520             0.419             0.306           120.539   \n",
       "2           327.959             1.000             0.302           105.994   \n",
       "3           229.616             0.000             0.257           120.716   \n",
       "4           281.304             0.599             0.451           152.606   \n",
       "\n",
       "   song_metadata_14  song_metadata_15  song_metadata_16  song_rating  \\\n",
       "0             0.977               4.0             0.719        0.655   \n",
       "1             1.000               4.0             1.000        0.625   \n",
       "2             0.899               4.0             1.000        0.366   \n",
       "3             1.000               3.0             1.000        0.266   \n",
       "4             1.000               3.0             0.717        0.274   \n",
       "\n",
       "   song_year  \n",
       "0          0  \n",
       "1       2005  \n",
       "2          0  \n",
       "3          0  \n",
       "4          0  \n",
       "\n",
       "[5 rows x 25 columns]"
      ]
     },
     "execution_count": 95,
     "metadata": {},
     "output_type": "execute_result"
    }
   ],
   "source": [
    "df2.head()"
   ]
  },
  {
   "cell_type": "code",
   "execution_count": 145,
   "metadata": {},
   "outputs": [],
   "source": [
    "l=df2.singer_location_city.map(lambda x:x.split(','))\n",
    "m=list()\n",
    "for i in l:\n",
    "    if len(i)==1:\n",
    "        m.append(i[0])\n",
    "    else:\n",
    "        \n",
    "\n",
    "        m.append(i[1])\n",
    "\n",
    "df2['singer_location_region']=m"
   ]
  },
  {
   "cell_type": "code",
   "execution_count": 146,
   "metadata": {},
   "outputs": [
    {
     "data": {
      "text/plain": [
       "248"
      ]
     },
     "execution_count": 146,
     "metadata": {},
     "output_type": "execute_result"
    }
   ],
   "source": [
    "df2.singer_location_region.nunique()"
   ]
  },
  {
   "cell_type": "code",
   "execution_count": 147,
   "metadata": {},
   "outputs": [],
   "source": [
    "i=df2.singer_location_region.value_counts()\n",
    "idx = df2.singer_location_region.isin(i[i<=2].index)\n",
    "\n",
    "df2.loc[idx,'singer_location_region'] = 'other'"
   ]
  },
  {
   "cell_type": "code",
   "execution_count": 149,
   "metadata": {},
   "outputs": [
    {
     "data": {
      "text/plain": [
       "172"
      ]
     },
     "execution_count": 149,
     "metadata": {},
     "output_type": "execute_result"
    }
   ],
   "source": [
    "df2.singer_location_region.nunique()"
   ]
  },
  {
   "cell_type": "code",
   "execution_count": 152,
   "metadata": {},
   "outputs": [
    {
     "data": {
      "text/plain": [
       "688"
      ]
     },
     "execution_count": 152,
     "metadata": {},
     "output_type": "execute_result"
    }
   ],
   "source": [
    "df2.singer_location_city.nunique()"
   ]
  },
  {
   "cell_type": "code",
   "execution_count": 142,
   "metadata": {},
   "outputs": [],
   "source": [
    "i=df2.singer_location_city.value_counts()\n",
    "idx = df2.singer_location_city.isin(i[i<=2].index)\n",
    "df2.loc[idx,'singer_location_city'].nunique()\n",
    "df2.loc[idx,'singer_location_city'] = 'other'"
   ]
  },
  {
   "cell_type": "code",
   "execution_count": 102,
   "metadata": {},
   "outputs": [
    {
     "data": {
      "text/plain": [
       "289"
      ]
     },
     "execution_count": 102,
     "metadata": {},
     "output_type": "execute_result"
    }
   ],
   "source": [
    "df2.song_genre.nunique()"
   ]
  },
  {
   "cell_type": "code",
   "execution_count": 88,
   "metadata": {},
   "outputs": [
    {
     "data": {
      "image/png": "[encoded data removed]",
      "text/plain": [
       "<Figure size 432x288 with 1 Axes>"
      ]
     },
     "metadata": {
      "needs_background": "light"
     },
     "output_type": "display_data"
    }
   ],
   "source": [
    "df2.song_genre.value_counts().plot.barh()\n",
    "plt.xlabel('genre')\n",
    "plt.show()"
   ]
  },
  {
   "cell_type": "code",
   "execution_count": 153,
   "metadata": {},
   "outputs": [],
   "source": [
    "i=df2.song_genre.value_counts()\n",
    "\n",
    "idx = df2.song_genre.isin(i[i<=1].index)\n",
    "\n",
    "df2.loc[idx,'song_genre'].nunique()\n",
    "df2.loc[idx,'song_genre'] = 'other'"
   ]
  },
  {
   "cell_type": "code",
   "execution_count": 154,
   "metadata": {},
   "outputs": [
    {
     "data": {
      "text/plain": [
       "blues-rock            164\n",
       "hip hop               126\n",
       "ccm                    82\n",
       "post-grunge            71\n",
       "country rock           58\n",
       "other                  58\n",
       "gangster rap           56\n",
       "dance pop              52\n",
       "power pop              51\n",
       "chanson                48\n",
       "latin jazz             48\n",
       "heavy metal            47\n",
       "hardcore punk          46\n",
       "pop rock               46\n",
       "alternative metal      42\n",
       "post-hardcore          42\n",
       "rock                   40\n",
       "roots reggae           40\n",
       "progressive house      35\n",
       "chill-out              35\n",
       "jazz funk              35\n",
       "dance rock             34\n",
       "trip hop               33\n",
       "folk-pop               31\n",
       "salsa                  30\n",
       "soft rock              29\n",
       "grunge                 27\n",
       "hard rock              25\n",
       "folk rock              24\n",
       "black metal            24\n",
       "                     ... \n",
       "soul blues              2\n",
       "industrial dance        2\n",
       "male vocalist           2\n",
       "charanga                2\n",
       "electro                 2\n",
       "female vocalist         2\n",
       "klezmer                 2\n",
       "progressive trance      2\n",
       "cantonese pop           2\n",
       "pop folk                2\n",
       "hip house               2\n",
       "psychobilly             2\n",
       "power electronics       2\n",
       "indie pop               2\n",
       "neo-progressive         2\n",
       "brutal death metal      2\n",
       "ragtime                 2\n",
       "british invasion        2\n",
       "greek                   2\n",
       "hardcore hip hop        2\n",
       "electric blues          2\n",
       "new beat                2\n",
       "gothic metal            2\n",
       "classic country         2\n",
       "freakbeat               2\n",
       "all-female              2\n",
       "symphony                2\n",
       "french pop              2\n",
       "neofolk                 2\n",
       "jam band                2\n",
       "Name: song_genre, Length: 289, dtype: int64"
      ]
     },
     "execution_count": 154,
     "metadata": {},
     "output_type": "execute_result"
    }
   ],
   "source": [
    "df2.song_genre.value_counts()"
   ]
  },
  {
   "cell_type": "code",
   "execution_count": 155,
   "metadata": {},
   "outputs": [
    {
     "data": {
      "text/html": [
       "<div>\n",
       "<style scoped>\n",
       "    .dataframe tbody tr th:only-of-type {\n",
       "        vertical-align: middle;\n",
       "    }\n",
       "\n",
       "    .dataframe tbody tr th {\n",
       "        vertical-align: top;\n",
       "    }\n",
       "\n",
       "    .dataframe thead th {\n",
       "        text-align: right;\n",
       "    }\n",
       "</style>\n",
       "<table border=\"1\" class=\"dataframe\">\n",
       "  <thead>\n",
       "    <tr style=\"text-align: right;\">\n",
       "      <th></th>\n",
       "      <th>singer_location_city</th>\n",
       "      <th>singer_rating</th>\n",
       "      <th>singer_reputation</th>\n",
       "      <th>singer_styles_nb</th>\n",
       "      <th>song_decibels</th>\n",
       "      <th>song_genre</th>\n",
       "      <th>song_length_seconds</th>\n",
       "      <th>song_metadata_01</th>\n",
       "      <th>song_metadata_02</th>\n",
       "      <th>song_metadata_03</th>\n",
       "      <th>...</th>\n",
       "      <th>song_metadata_10</th>\n",
       "      <th>song_metadata_11</th>\n",
       "      <th>song_metadata_12</th>\n",
       "      <th>song_metadata_13</th>\n",
       "      <th>song_metadata_14</th>\n",
       "      <th>song_metadata_15</th>\n",
       "      <th>song_metadata_16</th>\n",
       "      <th>song_rating</th>\n",
       "      <th>song_year</th>\n",
       "      <th>singer_location_region</th>\n",
       "    </tr>\n",
       "  </thead>\n",
       "  <tbody>\n",
       "    <tr>\n",
       "      <th>0</th>\n",
       "      <td>Not available</td>\n",
       "      <td>0.321</td>\n",
       "      <td>0.420</td>\n",
       "      <td>0.0</td>\n",
       "      <td>-10.727</td>\n",
       "      <td>exotica</td>\n",
       "      <td>150.334</td>\n",
       "      <td>0.001</td>\n",
       "      <td>0.558</td>\n",
       "      <td>0.957</td>\n",
       "      <td>...</td>\n",
       "      <td>145.328</td>\n",
       "      <td>0.086</td>\n",
       "      <td>0.084</td>\n",
       "      <td>120.172</td>\n",
       "      <td>0.977</td>\n",
       "      <td>4.0</td>\n",
       "      <td>0.719</td>\n",
       "      <td>0.655</td>\n",
       "      <td>0</td>\n",
       "      <td>Not available</td>\n",
       "    </tr>\n",
       "    <tr>\n",
       "      <th>1</th>\n",
       "      <td>Alabama</td>\n",
       "      <td>0.561</td>\n",
       "      <td>0.768</td>\n",
       "      <td>2.0</td>\n",
       "      <td>-3.294</td>\n",
       "      <td>industrial metal</td>\n",
       "      <td>189.100</td>\n",
       "      <td>0.320</td>\n",
       "      <td>1.560</td>\n",
       "      <td>0.000</td>\n",
       "      <td>...</td>\n",
       "      <td>186.520</td>\n",
       "      <td>0.419</td>\n",
       "      <td>0.306</td>\n",
       "      <td>120.539</td>\n",
       "      <td>1.000</td>\n",
       "      <td>4.0</td>\n",
       "      <td>1.000</td>\n",
       "      <td>0.625</td>\n",
       "      <td>2005</td>\n",
       "      <td>Alabama</td>\n",
       "    </tr>\n",
       "    <tr>\n",
       "      <th>2</th>\n",
       "      <td>Detroit, MI</td>\n",
       "      <td>0.314</td>\n",
       "      <td>0.488</td>\n",
       "      <td>0.0</td>\n",
       "      <td>-4.152</td>\n",
       "      <td>jazz funk</td>\n",
       "      <td>337.162</td>\n",
       "      <td>0.024</td>\n",
       "      <td>0.859</td>\n",
       "      <td>1.000</td>\n",
       "      <td>...</td>\n",
       "      <td>327.959</td>\n",
       "      <td>1.000</td>\n",
       "      <td>0.302</td>\n",
       "      <td>105.994</td>\n",
       "      <td>0.899</td>\n",
       "      <td>4.0</td>\n",
       "      <td>1.000</td>\n",
       "      <td>0.366</td>\n",
       "      <td>0</td>\n",
       "      <td>MI</td>\n",
       "    </tr>\n",
       "    <tr>\n",
       "      <th>3</th>\n",
       "      <td>Not available</td>\n",
       "      <td>0.341</td>\n",
       "      <td>0.552</td>\n",
       "      <td>0.0</td>\n",
       "      <td>-5.345</td>\n",
       "      <td>gangster rap</td>\n",
       "      <td>237.792</td>\n",
       "      <td>0.197</td>\n",
       "      <td>0.257</td>\n",
       "      <td>0.904</td>\n",
       "      <td>...</td>\n",
       "      <td>229.616</td>\n",
       "      <td>0.000</td>\n",
       "      <td>0.257</td>\n",
       "      <td>120.716</td>\n",
       "      <td>1.000</td>\n",
       "      <td>3.0</td>\n",
       "      <td>1.000</td>\n",
       "      <td>0.266</td>\n",
       "      <td>0</td>\n",
       "      <td>Not available</td>\n",
       "    </tr>\n",
       "    <tr>\n",
       "      <th>4</th>\n",
       "      <td>Not available</td>\n",
       "      <td>0.333</td>\n",
       "      <td>0.427</td>\n",
       "      <td>0.0</td>\n",
       "      <td>-14.492</td>\n",
       "      <td>country gospel</td>\n",
       "      <td>290.063</td>\n",
       "      <td>0.461</td>\n",
       "      <td>1.253</td>\n",
       "      <td>0.599</td>\n",
       "      <td>...</td>\n",
       "      <td>281.304</td>\n",
       "      <td>0.599</td>\n",
       "      <td>0.451</td>\n",
       "      <td>152.606</td>\n",
       "      <td>1.000</td>\n",
       "      <td>3.0</td>\n",
       "      <td>0.717</td>\n",
       "      <td>0.274</td>\n",
       "      <td>0</td>\n",
       "      <td>Not available</td>\n",
       "    </tr>\n",
       "  </tbody>\n",
       "</table>\n",
       "<p>5 rows × 26 columns</p>\n",
       "</div>"
      ],
      "text/plain": [
       "  singer_location_city  singer_rating  singer_reputation  singer_styles_nb  \\\n",
       "0        Not available          0.321              0.420               0.0   \n",
       "1              Alabama          0.561              0.768               2.0   \n",
       "2          Detroit, MI          0.314              0.488               0.0   \n",
       "3        Not available          0.341              0.552               0.0   \n",
       "4        Not available          0.333              0.427               0.0   \n",
       "\n",
       "   song_decibels        song_genre  song_length_seconds  song_metadata_01  \\\n",
       "0        -10.727           exotica              150.334             0.001   \n",
       "1         -3.294  industrial metal              189.100             0.320   \n",
       "2         -4.152         jazz funk              337.162             0.024   \n",
       "3         -5.345      gangster rap              237.792             0.197   \n",
       "4        -14.492    country gospel              290.063             0.461   \n",
       "\n",
       "   song_metadata_02  song_metadata_03  ...  song_metadata_10  \\\n",
       "0             0.558             0.957  ...           145.328   \n",
       "1             1.560             0.000  ...           186.520   \n",
       "2             0.859             1.000  ...           327.959   \n",
       "3             0.257             0.904  ...           229.616   \n",
       "4             1.253             0.599  ...           281.304   \n",
       "\n",
       "   song_metadata_11  song_metadata_12  song_metadata_13  song_metadata_14  \\\n",
       "0             0.086             0.084           120.172             0.977   \n",
       "1             0.419             0.306           120.539             1.000   \n",
       "2             1.000             0.302           105.994             0.899   \n",
       "3             0.000             0.257           120.716             1.000   \n",
       "4             0.599             0.451           152.606             1.000   \n",
       "\n",
       "   song_metadata_15  song_metadata_16  song_rating  song_year  \\\n",
       "0               4.0             0.719        0.655          0   \n",
       "1               4.0             1.000        0.625       2005   \n",
       "2               4.0             1.000        0.366          0   \n",
       "3               3.0             1.000        0.266          0   \n",
       "4               3.0             0.717        0.274          0   \n",
       "\n",
       "   singer_location_region  \n",
       "0           Not available  \n",
       "1                 Alabama  \n",
       "2                      MI  \n",
       "3           Not available  \n",
       "4           Not available  \n",
       "\n",
       "[5 rows x 26 columns]"
      ]
     },
     "execution_count": 155,
     "metadata": {},
     "output_type": "execute_result"
    }
   ],
   "source": [
    "df2.head()"
   ]
  },
  {
   "cell_type": "code",
   "execution_count": 238,
   "metadata": {},
   "outputs": [],
   "source": [
    "df3=df2.copy()\n",
    "df3=df3.drop(columns=['singer_location_city'])"
   ]
  },
  {
   "cell_type": "code",
   "execution_count": 239,
   "metadata": {},
   "outputs": [],
   "source": [
    "from sklearn import preprocessing\n",
    "label_encoder = preprocessing.LabelEncoder()\n",
    "df3['song_genre_coded']=label_encoder.fit_transform(df3['song_genre'])\n"
   ]
  },
  {
   "cell_type": "code",
   "execution_count": 240,
   "metadata": {},
   "outputs": [
    {
     "data": {
      "text/plain": [
       "0       146\n",
       "1        96\n",
       "2        44\n",
       "3       146\n",
       "4       146\n",
       "5        41\n",
       "6       146\n",
       "7        19\n",
       "8        94\n",
       "9        30\n",
       "10      155\n",
       "11      146\n",
       "12      146\n",
       "13       78\n",
       "14      146\n",
       "15       44\n",
       "16       46\n",
       "17       15\n",
       "18      146\n",
       "19      123\n",
       "20      146\n",
       "21      138\n",
       "22      146\n",
       "23      146\n",
       "24      168\n",
       "25       11\n",
       "26      139\n",
       "27      146\n",
       "28      146\n",
       "29      146\n",
       "       ... \n",
       "3341    152\n",
       "3342     11\n",
       "3343    146\n",
       "3344    137\n",
       "3345     52\n",
       "3346     78\n",
       "3347    146\n",
       "3348    109\n",
       "3349     52\n",
       "3350    146\n",
       "3351    171\n",
       "3352     89\n",
       "3353    120\n",
       "3354    171\n",
       "3355    146\n",
       "3356     11\n",
       "3357    120\n",
       "3358    146\n",
       "3359    146\n",
       "3360     19\n",
       "3361    146\n",
       "3362    146\n",
       "3363     65\n",
       "3364    143\n",
       "3365    146\n",
       "3366    146\n",
       "3367    100\n",
       "3368     19\n",
       "3369    157\n",
       "3370     58\n",
       "Name: singer_location_region_coded, Length: 3371, dtype: int32"
      ]
     },
     "execution_count": 240,
     "metadata": {},
     "output_type": "execute_result"
    }
   ],
   "source": [
    "label_encoder = preprocessing.LabelEncoder()\n",
    "df3['singer_location_region_coded']=label_encoder.fit_transform(df3['singer_location_region'])\n",
    "df3['singer_location_region_coded']"
   ]
  },
  {
   "cell_type": "code",
   "execution_count": 241,
   "metadata": {},
   "outputs": [
    {
     "data": {
      "text/html": [
       "<div>\n",
       "<style scoped>\n",
       "    .dataframe tbody tr th:only-of-type {\n",
       "        vertical-align: middle;\n",
       "    }\n",
       "\n",
       "    .dataframe tbody tr th {\n",
       "        vertical-align: top;\n",
       "    }\n",
       "\n",
       "    .dataframe thead th {\n",
       "        text-align: right;\n",
       "    }\n",
       "</style>\n",
       "<table border=\"1\" class=\"dataframe\">\n",
       "  <thead>\n",
       "    <tr style=\"text-align: right;\">\n",
       "      <th></th>\n",
       "      <th>singer_rating</th>\n",
       "      <th>singer_reputation</th>\n",
       "      <th>singer_styles_nb</th>\n",
       "      <th>song_decibels</th>\n",
       "      <th>song_genre</th>\n",
       "      <th>song_length_seconds</th>\n",
       "      <th>song_metadata_01</th>\n",
       "      <th>song_metadata_02</th>\n",
       "      <th>song_metadata_03</th>\n",
       "      <th>song_metadata_04</th>\n",
       "      <th>...</th>\n",
       "      <th>song_metadata_12</th>\n",
       "      <th>song_metadata_13</th>\n",
       "      <th>song_metadata_14</th>\n",
       "      <th>song_metadata_15</th>\n",
       "      <th>song_metadata_16</th>\n",
       "      <th>song_rating</th>\n",
       "      <th>song_year</th>\n",
       "      <th>singer_location_region</th>\n",
       "      <th>song_genre_coded</th>\n",
       "      <th>singer_location_region_coded</th>\n",
       "    </tr>\n",
       "  </thead>\n",
       "  <tbody>\n",
       "    <tr>\n",
       "      <th>0</th>\n",
       "      <td>0.321</td>\n",
       "      <td>0.420</td>\n",
       "      <td>0.0</td>\n",
       "      <td>-10.727</td>\n",
       "      <td>exotica</td>\n",
       "      <td>150.334</td>\n",
       "      <td>0.001</td>\n",
       "      <td>0.558</td>\n",
       "      <td>0.957</td>\n",
       "      <td>0.084</td>\n",
       "      <td>...</td>\n",
       "      <td>0.084</td>\n",
       "      <td>120.172</td>\n",
       "      <td>0.977</td>\n",
       "      <td>4.0</td>\n",
       "      <td>0.719</td>\n",
       "      <td>0.655</td>\n",
       "      <td>0</td>\n",
       "      <td>Not available</td>\n",
       "      <td>83</td>\n",
       "      <td>146</td>\n",
       "    </tr>\n",
       "    <tr>\n",
       "      <th>1</th>\n",
       "      <td>0.561</td>\n",
       "      <td>0.768</td>\n",
       "      <td>2.0</td>\n",
       "      <td>-3.294</td>\n",
       "      <td>industrial metal</td>\n",
       "      <td>189.100</td>\n",
       "      <td>0.320</td>\n",
       "      <td>1.560</td>\n",
       "      <td>0.000</td>\n",
       "      <td>0.557</td>\n",
       "      <td>...</td>\n",
       "      <td>0.306</td>\n",
       "      <td>120.539</td>\n",
       "      <td>1.000</td>\n",
       "      <td>4.0</td>\n",
       "      <td>1.000</td>\n",
       "      <td>0.625</td>\n",
       "      <td>2005</td>\n",
       "      <td>Alabama</td>\n",
       "      <td>143</td>\n",
       "      <td>96</td>\n",
       "    </tr>\n",
       "    <tr>\n",
       "      <th>2</th>\n",
       "      <td>0.314</td>\n",
       "      <td>0.488</td>\n",
       "      <td>0.0</td>\n",
       "      <td>-4.152</td>\n",
       "      <td>jazz funk</td>\n",
       "      <td>337.162</td>\n",
       "      <td>0.024</td>\n",
       "      <td>0.859</td>\n",
       "      <td>1.000</td>\n",
       "      <td>0.302</td>\n",
       "      <td>...</td>\n",
       "      <td>0.302</td>\n",
       "      <td>105.994</td>\n",
       "      <td>0.899</td>\n",
       "      <td>4.0</td>\n",
       "      <td>1.000</td>\n",
       "      <td>0.366</td>\n",
       "      <td>0</td>\n",
       "      <td>MI</td>\n",
       "      <td>151</td>\n",
       "      <td>44</td>\n",
       "    </tr>\n",
       "    <tr>\n",
       "      <th>3</th>\n",
       "      <td>0.341</td>\n",
       "      <td>0.552</td>\n",
       "      <td>0.0</td>\n",
       "      <td>-5.345</td>\n",
       "      <td>gangster rap</td>\n",
       "      <td>237.792</td>\n",
       "      <td>0.197</td>\n",
       "      <td>0.257</td>\n",
       "      <td>0.904</td>\n",
       "      <td>0.257</td>\n",
       "      <td>...</td>\n",
       "      <td>0.257</td>\n",
       "      <td>120.716</td>\n",
       "      <td>1.000</td>\n",
       "      <td>3.0</td>\n",
       "      <td>1.000</td>\n",
       "      <td>0.266</td>\n",
       "      <td>0</td>\n",
       "      <td>Not available</td>\n",
       "      <td>105</td>\n",
       "      <td>146</td>\n",
       "    </tr>\n",
       "    <tr>\n",
       "      <th>4</th>\n",
       "      <td>0.333</td>\n",
       "      <td>0.427</td>\n",
       "      <td>0.0</td>\n",
       "      <td>-14.492</td>\n",
       "      <td>country gospel</td>\n",
       "      <td>290.063</td>\n",
       "      <td>0.461</td>\n",
       "      <td>1.253</td>\n",
       "      <td>0.599</td>\n",
       "      <td>0.451</td>\n",
       "      <td>...</td>\n",
       "      <td>0.451</td>\n",
       "      <td>152.606</td>\n",
       "      <td>1.000</td>\n",
       "      <td>3.0</td>\n",
       "      <td>0.717</td>\n",
       "      <td>0.274</td>\n",
       "      <td>0</td>\n",
       "      <td>Not available</td>\n",
       "      <td>53</td>\n",
       "      <td>146</td>\n",
       "    </tr>\n",
       "  </tbody>\n",
       "</table>\n",
       "<p>5 rows × 27 columns</p>\n",
       "</div>"
      ],
      "text/plain": [
       "   singer_rating  singer_reputation  singer_styles_nb  song_decibels  \\\n",
       "0          0.321              0.420               0.0        -10.727   \n",
       "1          0.561              0.768               2.0         -3.294   \n",
       "2          0.314              0.488               0.0         -4.152   \n",
       "3          0.341              0.552               0.0         -5.345   \n",
       "4          0.333              0.427               0.0        -14.492   \n",
       "\n",
       "         song_genre  song_length_seconds  song_metadata_01  song_metadata_02  \\\n",
       "0           exotica              150.334             0.001             0.558   \n",
       "1  industrial metal              189.100             0.320             1.560   \n",
       "2         jazz funk              337.162             0.024             0.859   \n",
       "3      gangster rap              237.792             0.197             0.257   \n",
       "4    country gospel              290.063             0.461             1.253   \n",
       "\n",
       "   song_metadata_03  song_metadata_04  ...  song_metadata_12  \\\n",
       "0             0.957             0.084  ...             0.084   \n",
       "1             0.000             0.557  ...             0.306   \n",
       "2             1.000             0.302  ...             0.302   \n",
       "3             0.904             0.257  ...             0.257   \n",
       "4             0.599             0.451  ...             0.451   \n",
       "\n",
       "   song_metadata_13  song_metadata_14  song_metadata_15  song_metadata_16  \\\n",
       "0           120.172             0.977               4.0             0.719   \n",
       "1           120.539             1.000               4.0             1.000   \n",
       "2           105.994             0.899               4.0             1.000   \n",
       "3           120.716             1.000               3.0             1.000   \n",
       "4           152.606             1.000               3.0             0.717   \n",
       "\n",
       "   song_rating  song_year  singer_location_region  song_genre_coded  \\\n",
       "0        0.655          0           Not available                83   \n",
       "1        0.625       2005                 Alabama               143   \n",
       "2        0.366          0                      MI               151   \n",
       "3        0.266          0           Not available               105   \n",
       "4        0.274          0           Not available                53   \n",
       "\n",
       "   singer_location_region_coded  \n",
       "0                           146  \n",
       "1                            96  \n",
       "2                            44  \n",
       "3                           146  \n",
       "4                           146  \n",
       "\n",
       "[5 rows x 27 columns]"
      ]
     },
     "execution_count": 241,
     "metadata": {},
     "output_type": "execute_result"
    }
   ],
   "source": [
    "df3.head()"
   ]
  },
  {
   "cell_type": "code",
   "execution_count": 242,
   "metadata": {},
   "outputs": [
    {
     "data": {
      "text/plain": [
       "0        0\n",
       "1       48\n",
       "2        0\n",
       "3        0\n",
       "4        0\n",
       "5       42\n",
       "6       45\n",
       "7       49\n",
       "8        0\n",
       "9       43\n",
       "10      41\n",
       "11       0\n",
       "12      47\n",
       "13      36\n",
       "14       0\n",
       "15       0\n",
       "16       0\n",
       "17      45\n",
       "18       0\n",
       "19      36\n",
       "20      46\n",
       "21      50\n",
       "22       0\n",
       "23       0\n",
       "24       0\n",
       "25      42\n",
       "26      40\n",
       "27      14\n",
       "28       0\n",
       "29      43\n",
       "        ..\n",
       "3341     0\n",
       "3342    10\n",
       "3343    48\n",
       "3344     0\n",
       "3345    50\n",
       "3346    36\n",
       "3347     0\n",
       "3348    47\n",
       "3349    25\n",
       "3350     0\n",
       "3351    46\n",
       "3352    40\n",
       "3353     0\n",
       "3354    43\n",
       "3355    48\n",
       "3356    48\n",
       "3357     0\n",
       "3358     0\n",
       "3359    27\n",
       "3360    16\n",
       "3361    33\n",
       "3362    48\n",
       "3363     0\n",
       "3364    49\n",
       "3365    44\n",
       "3366     0\n",
       "3367    47\n",
       "3368     0\n",
       "3369     0\n",
       "3370    44\n",
       "Name: song_year_coded, Length: 3371, dtype: int64"
      ]
     },
     "execution_count": 242,
     "metadata": {},
     "output_type": "execute_result"
    }
   ],
   "source": [
    "label_encoder = preprocessing.LabelEncoder()\n",
    "df3['song_year_coded']=label_encoder.fit_transform(df3['song_year'])\n",
    "df3['song_year_coded']"
   ]
  },
  {
   "cell_type": "code",
   "execution_count": 243,
   "metadata": {},
   "outputs": [],
   "source": [
    "df3=df3.drop(columns=['singer_location_region','song_year','song_genre'])"
   ]
  },
  {
   "cell_type": "code",
   "execution_count": 244,
   "metadata": {},
   "outputs": [
    {
     "data": {
      "text/html": [
       "<div>\n",
       "<style scoped>\n",
       "    .dataframe tbody tr th:only-of-type {\n",
       "        vertical-align: middle;\n",
       "    }\n",
       "\n",
       "    .dataframe tbody tr th {\n",
       "        vertical-align: top;\n",
       "    }\n",
       "\n",
       "    .dataframe thead th {\n",
       "        text-align: right;\n",
       "    }\n",
       "</style>\n",
       "<table border=\"1\" class=\"dataframe\">\n",
       "  <thead>\n",
       "    <tr style=\"text-align: right;\">\n",
       "      <th></th>\n",
       "      <th>singer_rating</th>\n",
       "      <th>singer_reputation</th>\n",
       "      <th>singer_styles_nb</th>\n",
       "      <th>song_decibels</th>\n",
       "      <th>song_length_seconds</th>\n",
       "      <th>song_metadata_01</th>\n",
       "      <th>song_metadata_02</th>\n",
       "      <th>song_metadata_03</th>\n",
       "      <th>song_metadata_04</th>\n",
       "      <th>song_metadata_05</th>\n",
       "      <th>...</th>\n",
       "      <th>song_metadata_11</th>\n",
       "      <th>song_metadata_12</th>\n",
       "      <th>song_metadata_13</th>\n",
       "      <th>song_metadata_14</th>\n",
       "      <th>song_metadata_15</th>\n",
       "      <th>song_metadata_16</th>\n",
       "      <th>song_rating</th>\n",
       "      <th>song_genre_coded</th>\n",
       "      <th>singer_location_region_coded</th>\n",
       "      <th>song_year_coded</th>\n",
       "    </tr>\n",
       "  </thead>\n",
       "  <tbody>\n",
       "    <tr>\n",
       "      <th>0</th>\n",
       "      <td>0.321</td>\n",
       "      <td>0.420</td>\n",
       "      <td>0.0</td>\n",
       "      <td>-10.727</td>\n",
       "      <td>150.334</td>\n",
       "      <td>0.001</td>\n",
       "      <td>0.558</td>\n",
       "      <td>0.957</td>\n",
       "      <td>0.084</td>\n",
       "      <td>0.374</td>\n",
       "      <td>...</td>\n",
       "      <td>0.086</td>\n",
       "      <td>0.084</td>\n",
       "      <td>120.172</td>\n",
       "      <td>0.977</td>\n",
       "      <td>4.0</td>\n",
       "      <td>0.719</td>\n",
       "      <td>0.655</td>\n",
       "      <td>83</td>\n",
       "      <td>146</td>\n",
       "      <td>0</td>\n",
       "    </tr>\n",
       "    <tr>\n",
       "      <th>1</th>\n",
       "      <td>0.561</td>\n",
       "      <td>0.768</td>\n",
       "      <td>2.0</td>\n",
       "      <td>-3.294</td>\n",
       "      <td>189.100</td>\n",
       "      <td>0.320</td>\n",
       "      <td>1.560</td>\n",
       "      <td>0.000</td>\n",
       "      <td>0.557</td>\n",
       "      <td>0.000</td>\n",
       "      <td>...</td>\n",
       "      <td>0.419</td>\n",
       "      <td>0.306</td>\n",
       "      <td>120.539</td>\n",
       "      <td>1.000</td>\n",
       "      <td>4.0</td>\n",
       "      <td>1.000</td>\n",
       "      <td>0.625</td>\n",
       "      <td>143</td>\n",
       "      <td>96</td>\n",
       "      <td>48</td>\n",
       "    </tr>\n",
       "    <tr>\n",
       "      <th>2</th>\n",
       "      <td>0.314</td>\n",
       "      <td>0.488</td>\n",
       "      <td>0.0</td>\n",
       "      <td>-4.152</td>\n",
       "      <td>337.162</td>\n",
       "      <td>0.024</td>\n",
       "      <td>0.859</td>\n",
       "      <td>1.000</td>\n",
       "      <td>0.302</td>\n",
       "      <td>0.253</td>\n",
       "      <td>...</td>\n",
       "      <td>1.000</td>\n",
       "      <td>0.302</td>\n",
       "      <td>105.994</td>\n",
       "      <td>0.899</td>\n",
       "      <td>4.0</td>\n",
       "      <td>1.000</td>\n",
       "      <td>0.366</td>\n",
       "      <td>151</td>\n",
       "      <td>44</td>\n",
       "      <td>0</td>\n",
       "    </tr>\n",
       "    <tr>\n",
       "      <th>3</th>\n",
       "      <td>0.341</td>\n",
       "      <td>0.552</td>\n",
       "      <td>0.0</td>\n",
       "      <td>-5.345</td>\n",
       "      <td>237.792</td>\n",
       "      <td>0.197</td>\n",
       "      <td>0.257</td>\n",
       "      <td>0.904</td>\n",
       "      <td>0.257</td>\n",
       "      <td>2.252</td>\n",
       "      <td>...</td>\n",
       "      <td>0.000</td>\n",
       "      <td>0.257</td>\n",
       "      <td>120.716</td>\n",
       "      <td>1.000</td>\n",
       "      <td>3.0</td>\n",
       "      <td>1.000</td>\n",
       "      <td>0.266</td>\n",
       "      <td>105</td>\n",
       "      <td>146</td>\n",
       "      <td>0</td>\n",
       "    </tr>\n",
       "    <tr>\n",
       "      <th>4</th>\n",
       "      <td>0.333</td>\n",
       "      <td>0.427</td>\n",
       "      <td>0.0</td>\n",
       "      <td>-14.492</td>\n",
       "      <td>290.063</td>\n",
       "      <td>0.461</td>\n",
       "      <td>1.253</td>\n",
       "      <td>0.599</td>\n",
       "      <td>0.451</td>\n",
       "      <td>0.377</td>\n",
       "      <td>...</td>\n",
       "      <td>0.599</td>\n",
       "      <td>0.451</td>\n",
       "      <td>152.606</td>\n",
       "      <td>1.000</td>\n",
       "      <td>3.0</td>\n",
       "      <td>0.717</td>\n",
       "      <td>0.274</td>\n",
       "      <td>53</td>\n",
       "      <td>146</td>\n",
       "      <td>0</td>\n",
       "    </tr>\n",
       "  </tbody>\n",
       "</table>\n",
       "<p>5 rows × 25 columns</p>\n",
       "</div>"
      ],
      "text/plain": [
       "   singer_rating  singer_reputation  singer_styles_nb  song_decibels  \\\n",
       "0          0.321              0.420               0.0        -10.727   \n",
       "1          0.561              0.768               2.0         -3.294   \n",
       "2          0.314              0.488               0.0         -4.152   \n",
       "3          0.341              0.552               0.0         -5.345   \n",
       "4          0.333              0.427               0.0        -14.492   \n",
       "\n",
       "   song_length_seconds  song_metadata_01  song_metadata_02  song_metadata_03  \\\n",
       "0              150.334             0.001             0.558             0.957   \n",
       "1              189.100             0.320             1.560             0.000   \n",
       "2              337.162             0.024             0.859             1.000   \n",
       "3              237.792             0.197             0.257             0.904   \n",
       "4              290.063             0.461             1.253             0.599   \n",
       "\n",
       "   song_metadata_04  song_metadata_05  ...  song_metadata_11  \\\n",
       "0             0.084             0.374  ...             0.086   \n",
       "1             0.557             0.000  ...             0.419   \n",
       "2             0.302             0.253  ...             1.000   \n",
       "3             0.257             2.252  ...             0.000   \n",
       "4             0.451             0.377  ...             0.599   \n",
       "\n",
       "   song_metadata_12  song_metadata_13  song_metadata_14  song_metadata_15  \\\n",
       "0             0.084           120.172             0.977               4.0   \n",
       "1             0.306           120.539             1.000               4.0   \n",
       "2             0.302           105.994             0.899               4.0   \n",
       "3             0.257           120.716             1.000               3.0   \n",
       "4             0.451           152.606             1.000               3.0   \n",
       "\n",
       "   song_metadata_16  song_rating  song_genre_coded  \\\n",
       "0             0.719        0.655                83   \n",
       "1             1.000        0.625               143   \n",
       "2             1.000        0.366               151   \n",
       "3             1.000        0.266               105   \n",
       "4             0.717        0.274                53   \n",
       "\n",
       "   singer_location_region_coded  song_year_coded  \n",
       "0                           146                0  \n",
       "1                            96               48  \n",
       "2                            44                0  \n",
       "3                           146                0  \n",
       "4                           146                0  \n",
       "\n",
       "[5 rows x 25 columns]"
      ]
     },
     "execution_count": 244,
     "metadata": {},
     "output_type": "execute_result"
    }
   ],
   "source": [
    "df3.head()"
   ]
  },
  {
   "cell_type": "code",
   "execution_count": 172,
   "metadata": {},
   "outputs": [],
   "source": [
    "from sklearn.neighbors import KNeighborsRegressor\n",
    "from sklearn.linear_model import LinearRegression \n",
    "from sklearn.ensemble import RandomForestRegressor, AdaBoostRegressor, GradientBoostingRegressor\n",
    "from sklearn.metrics import mean_absolute_error"
   ]
  },
  {
   "cell_type": "code",
   "execution_count": 245,
   "metadata": {},
   "outputs": [],
   "source": [
    "classifiers = [\n",
    "    KNeighborsRegressor(),\n",
    "    LinearRegression(),\n",
    "    RandomForestRegressor(),\n",
    "    AdaBoostRegressor(),\n",
    "    GradientBoostingRegressor()]"
   ]
  },
  {
   "cell_type": "code",
   "execution_count": 246,
   "metadata": {},
   "outputs": [],
   "source": [
    "y=df3.loc[:,'song_rating']\n",
    "df3=df3.drop(columns=['song_rating'])"
   ]
  },
  {
   "cell_type": "code",
   "execution_count": 247,
   "metadata": {},
   "outputs": [],
   "source": [
    "from sklearn.model_selection import train_test_split"
   ]
  },
  {
   "cell_type": "code",
   "execution_count": null,
   "metadata": {},
   "outputs": [],
   "source": []
  },
  {
   "cell_type": "code",
   "execution_count": 248,
   "metadata": {},
   "outputs": [],
   "source": [
    "X_train1, X_test1, y_train1, y_test1 = train_test_split(df3,y, test_size=0.2, random_state=0)"
   ]
  },
  {
   "cell_type": "code",
   "execution_count": 249,
   "metadata": {},
   "outputs": [
    {
     "data": {
      "text/plain": [
       "((2696, 24), (675, 24))"
      ]
     },
     "execution_count": 249,
     "metadata": {},
     "output_type": "execute_result"
    }
   ],
   "source": [
    "X_train1.shape,X_test1.shape"
   ]
  },
  {
   "cell_type": "code",
   "execution_count": 250,
   "metadata": {},
   "outputs": [
    {
     "data": {
      "text/plain": [
       "((2696,), (675,))"
      ]
     },
     "execution_count": 250,
     "metadata": {},
     "output_type": "execute_result"
    }
   ],
   "source": [
    "y_train1.shape,y_test1.shape"
   ]
  },
  {
   "cell_type": "code",
   "execution_count": 189,
   "metadata": {},
   "outputs": [],
   "source": [
    "from sklearn.model_selection import cross_val_score"
   ]
  },
  {
   "cell_type": "code",
   "execution_count": 251,
   "metadata": {},
   "outputs": [
    {
     "data": {
      "text/plain": [
       "<matplotlib.axes._subplots.AxesSubplot at 0x21fef73fe48>"
      ]
     },
     "execution_count": 251,
     "metadata": {},
     "output_type": "execute_result"
    },
    {
     "data": {
      "image/png": "[encoded data removed]",
      "text/plain": [
       "<Figure size 432x288 with 1 Axes>"
      ]
     },
     "metadata": {
      "needs_background": "light"
     },
     "output_type": "display_data"
    }
   ],
   "source": [
    "y.plot.hist()"
   ]
  },
  {
   "cell_type": "code",
   "execution_count": 252,
   "metadata": {},
   "outputs": [
    {
     "data": {
      "text/plain": [
       "float64    20\n",
       "int32       2\n",
       "int64       2\n",
       "dtype: int64"
      ]
     },
     "execution_count": 252,
     "metadata": {},
     "output_type": "execute_result"
    }
   ],
   "source": [
    "df3.dtypes.value_counts()"
   ]
  },
  {
   "cell_type": "code",
   "execution_count": 253,
   "metadata": {},
   "outputs": [
    {
     "data": {
      "text/plain": [
       "singer_rating                    458\n",
       "singer_reputation                574\n",
       "singer_styles_nb                   8\n",
       "song_decibels                   2986\n",
       "song_length_seconds             2843\n",
       "song_metadata_01                 778\n",
       "song_metadata_02                1678\n",
       "song_metadata_03                 827\n",
       "song_metadata_04                 963\n",
       "song_metadata_05                 809\n",
       "song_metadata_06                  12\n",
       "song_metadata_07                 923\n",
       "song_metadata_08                   2\n",
       "song_metadata_09                 771\n",
       "song_metadata_10                3252\n",
       "song_metadata_11                 919\n",
       "song_metadata_12                 752\n",
       "song_metadata_13                3283\n",
       "song_metadata_14                 190\n",
       "song_metadata_15                   6\n",
       "song_metadata_16                 864\n",
       "song_genre_coded                 289\n",
       "singer_location_region_coded     172\n",
       "song_year_coded                   54\n",
       "dtype: int64"
      ]
     },
     "execution_count": 253,
     "metadata": {},
     "output_type": "execute_result"
    }
   ],
   "source": [
    "df3.nunique()"
   ]
  },
  {
   "cell_type": "code",
   "execution_count": 255,
   "metadata": {},
   "outputs": [
    {
     "data": {
      "text/plain": [
       "(3371, 21)"
      ]
     },
     "execution_count": 255,
     "metadata": {},
     "output_type": "execute_result"
    }
   ],
   "source": [
    "df4=df3.drop(columns=['song_genre_coded','singer_location_region_coded','song_year_coded'])\n",
    "df4.shape"
   ]
  },
  {
   "cell_type": "code",
   "execution_count": 196,
   "metadata": {},
   "outputs": [
    {
     "data": {
      "text/plain": [
       "Index(['singer_reputation', 'singer_styles_nb', 'song_decibels',\n",
       "       'song_length_seconds', 'song_metadata_01', 'song_metadata_02',\n",
       "       'song_metadata_03', 'song_metadata_04', 'song_metadata_05',\n",
       "       'song_metadata_06', 'song_metadata_07', 'song_metadata_08',\n",
       "       'song_metadata_09', 'song_metadata_10', 'song_metadata_11',\n",
       "       'song_metadata_12', 'song_metadata_13', 'song_metadata_14',\n",
       "       'song_metadata_15', 'song_metadata_16', 'song_rating',\n",
       "       'song_genre_coded', 'singer_location_region_coded', 'song_year_coded'],\n",
       "      dtype='object')"
      ]
     },
     "execution_count": 196,
     "metadata": {},
     "output_type": "execute_result"
    }
   ],
   "source": [
    "df3.columns"
   ]
  },
  {
   "cell_type": "code",
   "execution_count": 195,
   "metadata": {},
   "outputs": [
    {
     "data": {
      "text/plain": [
       "(3371,)"
      ]
     },
     "execution_count": 195,
     "metadata": {},
     "output_type": "execute_result"
    }
   ],
   "source": [
    "y.shape"
   ]
  },
  {
   "cell_type": "code",
   "execution_count": 254,
   "metadata": {},
   "outputs": [
    {
     "name": "stdout",
     "output_type": "stream",
     "text": [
      "======================================================================\n",
      "Doing 10-fold cross validation for model LinearRegression\n",
      "======================================================================\n",
      "Doing 10-fold cross validation for model RandomForestRegressor\n"
     ]
    },
    {
     "name": "stderr",
     "output_type": "stream",
     "text": [
      "C:\\Users\\Lenovo\\Anaconda3\\lib\\site-packages\\sklearn\\ensemble\\forest.py:246: FutureWarning: The default value of n_estimators will change from 10 in version 0.20 to 100 in 0.22.\n",
      "  \"10 in version 0.20 to 100 in 0.22.\", FutureWarning)\n",
      "C:\\Users\\Lenovo\\Anaconda3\\lib\\site-packages\\sklearn\\ensemble\\forest.py:246: FutureWarning: The default value of n_estimators will change from 10 in version 0.20 to 100 in 0.22.\n",
      "  \"10 in version 0.20 to 100 in 0.22.\", FutureWarning)\n",
      "C:\\Users\\Lenovo\\Anaconda3\\lib\\site-packages\\sklearn\\ensemble\\forest.py:246: FutureWarning: The default value of n_estimators will change from 10 in version 0.20 to 100 in 0.22.\n",
      "  \"10 in version 0.20 to 100 in 0.22.\", FutureWarning)\n",
      "C:\\Users\\Lenovo\\Anaconda3\\lib\\site-packages\\sklearn\\ensemble\\forest.py:246: FutureWarning: The default value of n_estimators will change from 10 in version 0.20 to 100 in 0.22.\n",
      "  \"10 in version 0.20 to 100 in 0.22.\", FutureWarning)\n",
      "C:\\Users\\Lenovo\\Anaconda3\\lib\\site-packages\\sklearn\\ensemble\\forest.py:246: FutureWarning: The default value of n_estimators will change from 10 in version 0.20 to 100 in 0.22.\n",
      "  \"10 in version 0.20 to 100 in 0.22.\", FutureWarning)\n",
      "C:\\Users\\Lenovo\\Anaconda3\\lib\\site-packages\\sklearn\\ensemble\\forest.py:246: FutureWarning: The default value of n_estimators will change from 10 in version 0.20 to 100 in 0.22.\n",
      "  \"10 in version 0.20 to 100 in 0.22.\", FutureWarning)\n",
      "C:\\Users\\Lenovo\\Anaconda3\\lib\\site-packages\\sklearn\\ensemble\\forest.py:246: FutureWarning: The default value of n_estimators will change from 10 in version 0.20 to 100 in 0.22.\n",
      "  \"10 in version 0.20 to 100 in 0.22.\", FutureWarning)\n",
      "C:\\Users\\Lenovo\\Anaconda3\\lib\\site-packages\\sklearn\\ensemble\\forest.py:246: FutureWarning: The default value of n_estimators will change from 10 in version 0.20 to 100 in 0.22.\n",
      "  \"10 in version 0.20 to 100 in 0.22.\", FutureWarning)\n",
      "C:\\Users\\Lenovo\\Anaconda3\\lib\\site-packages\\sklearn\\ensemble\\forest.py:246: FutureWarning: The default value of n_estimators will change from 10 in version 0.20 to 100 in 0.22.\n",
      "  \"10 in version 0.20 to 100 in 0.22.\", FutureWarning)\n",
      "C:\\Users\\Lenovo\\Anaconda3\\lib\\site-packages\\sklearn\\ensemble\\forest.py:246: FutureWarning: The default value of n_estimators will change from 10 in version 0.20 to 100 in 0.22.\n",
      "  \"10 in version 0.20 to 100 in 0.22.\", FutureWarning)\n"
     ]
    },
    {
     "name": "stdout",
     "output_type": "stream",
     "text": [
      "======================================================================\n",
      "Doing 10-fold cross validation for model AdaBoostRegressor\n",
      "======================================================================\n",
      "Doing 10-fold cross validation for model GradientBoostingRegressor\n"
     ]
    },
    {
     "data": {
      "text/plain": [
       "[('LinearRegression', 0.11260619818869713),\n",
       " ('RandomForestRegressor', 0.11310179766238068),\n",
       " ('AdaBoostRegressor', 0.11833348758418097),\n",
       " ('GradientBoostingRegressor', 0.10900739702306435)]"
      ]
     },
     "execution_count": 254,
     "metadata": {},
     "output_type": "execute_result"
    }
   ],
   "source": [
    "results_list2 = []\n",
    "\n",
    "for clf in classifiers[1:]:\n",
    "    clf_name = clf.__class__.__name__\n",
    "    print(\"=\"*70)\n",
    "    print(\"Doing 10-fold cross validation for model\", clf_name)\n",
    "\n",
    "   \n",
    "    clf_scores = cross_val_score(clf,df3,y,cv=10,scoring='neg_mean_absolute_error')\n",
    "\n",
    "\n",
    "    results_list2.append((clf_name,-np.mean(clf_scores)))\n",
    "results_list2\n",
    "#pd.DataFrame(results_list2, columns=['Classifier','neg_mean_absolute_error','total_CV_time (sec)']).set_index('Classifier')"
   ]
  },
  {
   "cell_type": "code",
   "execution_count": 256,
   "metadata": {},
   "outputs": [
    {
     "name": "stdout",
     "output_type": "stream",
     "text": [
      "======================================================================\n",
      "Doing 10-fold cross validation for model LinearRegression\n",
      "======================================================================\n",
      "Doing 10-fold cross validation for model RandomForestRegressor\n"
     ]
    },
    {
     "name": "stderr",
     "output_type": "stream",
     "text": [
      "C:\\Users\\Lenovo\\Anaconda3\\lib\\site-packages\\sklearn\\ensemble\\forest.py:246: FutureWarning: The default value of n_estimators will change from 10 in version 0.20 to 100 in 0.22.\n",
      "  \"10 in version 0.20 to 100 in 0.22.\", FutureWarning)\n",
      "C:\\Users\\Lenovo\\Anaconda3\\lib\\site-packages\\sklearn\\ensemble\\forest.py:246: FutureWarning: The default value of n_estimators will change from 10 in version 0.20 to 100 in 0.22.\n",
      "  \"10 in version 0.20 to 100 in 0.22.\", FutureWarning)\n",
      "C:\\Users\\Lenovo\\Anaconda3\\lib\\site-packages\\sklearn\\ensemble\\forest.py:246: FutureWarning: The default value of n_estimators will change from 10 in version 0.20 to 100 in 0.22.\n",
      "  \"10 in version 0.20 to 100 in 0.22.\", FutureWarning)\n",
      "C:\\Users\\Lenovo\\Anaconda3\\lib\\site-packages\\sklearn\\ensemble\\forest.py:246: FutureWarning: The default value of n_estimators will change from 10 in version 0.20 to 100 in 0.22.\n",
      "  \"10 in version 0.20 to 100 in 0.22.\", FutureWarning)\n",
      "C:\\Users\\Lenovo\\Anaconda3\\lib\\site-packages\\sklearn\\ensemble\\forest.py:246: FutureWarning: The default value of n_estimators will change from 10 in version 0.20 to 100 in 0.22.\n",
      "  \"10 in version 0.20 to 100 in 0.22.\", FutureWarning)\n"
     ]
    },
    {
     "name": "stdout",
     "output_type": "stream",
     "text": [
      "======================================================================\n",
      "Doing 10-fold cross validation for model AdaBoostRegressor\n",
      "======================================================================\n",
      "Doing 10-fold cross validation for model GradientBoostingRegressor\n"
     ]
    },
    {
     "data": {
      "text/plain": [
       "[('LinearRegression', 0.11656818213059764),\n",
       " ('RandomForestRegressor', 0.11706704606122773),\n",
       " ('AdaBoostRegressor', 0.12208296862016599),\n",
       " ('GradientBoostingRegressor', 0.11462520766841358)]"
      ]
     },
     "execution_count": 256,
     "metadata": {},
     "output_type": "execute_result"
    }
   ],
   "source": [
    "results_list3 = []\n",
    "\n",
    "for clf in classifiers[1:]:\n",
    "    clf_name = clf.__class__.__name__\n",
    "    print(\"=\"*70)\n",
    "    print(\"Doing 10-fold cross validation for model\", clf_name)\n",
    "\n",
    "   \n",
    "    clf_scores = cross_val_score(clf,df4,y,cv=5,scoring='neg_mean_absolute_error')\n",
    "\n",
    "\n",
    "    results_list3.append((clf_name,-np.mean(clf_scores)))\n",
    "results_list3\n",
    "#pd.DataFrame(results_list2, columns=['Classifier','neg_mean_absolute_error','total_CV_time (sec)']).set_index('Classifier')"
   ]
  },
  {
   "cell_type": "code",
   "execution_count": 260,
   "metadata": {},
   "outputs": [
    {
     "data": {
      "text/html": [
       "<div>\n",
       "<style scoped>\n",
       "    .dataframe tbody tr th:only-of-type {\n",
       "        vertical-align: middle;\n",
       "    }\n",
       "\n",
       "    .dataframe tbody tr th {\n",
       "        vertical-align: top;\n",
       "    }\n",
       "\n",
       "    .dataframe thead th {\n",
       "        text-align: right;\n",
       "    }\n",
       "</style>\n",
       "<table border=\"1\" class=\"dataframe\">\n",
       "  <thead>\n",
       "    <tr style=\"text-align: right;\">\n",
       "      <th></th>\n",
       "      <th>singer_id</th>\n",
       "      <th>singer_location_city</th>\n",
       "      <th>singer_location_lat</th>\n",
       "      <th>singer_location_long</th>\n",
       "      <th>singer_name</th>\n",
       "      <th>singer_rating</th>\n",
       "      <th>singer_reputation</th>\n",
       "      <th>singer_styles</th>\n",
       "      <th>singer_styles_nb</th>\n",
       "      <th>song_ID</th>\n",
       "      <th>...</th>\n",
       "      <th>song_metadata_11</th>\n",
       "      <th>song_metadata_12</th>\n",
       "      <th>song_metadata_13</th>\n",
       "      <th>song_metadata_14</th>\n",
       "      <th>song_metadata_15</th>\n",
       "      <th>song_metadata_16</th>\n",
       "      <th>song_release_ID</th>\n",
       "      <th>song_release_name</th>\n",
       "      <th>song_title</th>\n",
       "      <th>song_year</th>\n",
       "    </tr>\n",
       "  </thead>\n",
       "  <tbody>\n",
       "    <tr>\n",
       "      <th>0</th>\n",
       "      <td>AR5U94U1187FB5CDCF</td>\n",
       "      <td>Not available</td>\n",
       "      <td>37.157</td>\n",
       "      <td>-63.933</td>\n",
       "      <td>John Hammond</td>\n",
       "      <td>0.453</td>\n",
       "      <td>0.591</td>\n",
       "      <td>folk</td>\n",
       "      <td>1.0</td>\n",
       "      <td>SOAVZWL12AB01815B3</td>\n",
       "      <td>...</td>\n",
       "      <td>0.338</td>\n",
       "      <td>0.140</td>\n",
       "      <td>204.255</td>\n",
       "      <td>1.000</td>\n",
       "      <td>7.0</td>\n",
       "      <td>0.608</td>\n",
       "      <td>395418</td>\n",
       "      <td>At The Crossroads: The Blues of Robert Johnson</td>\n",
       "      <td>Preaching Blues (Up Jumped The Devil) (1978 Ve...</td>\n",
       "      <td>0</td>\n",
       "    </tr>\n",
       "    <tr>\n",
       "      <th>1</th>\n",
       "      <td>ARLR9U31187B9A71AD</td>\n",
       "      <td>Ann Arbor, MI</td>\n",
       "      <td>42.328</td>\n",
       "      <td>-83.734</td>\n",
       "      <td>The Stooges</td>\n",
       "      <td>0.497</td>\n",
       "      <td>0.733</td>\n",
       "      <td>classic pop and rock</td>\n",
       "      <td>1.0</td>\n",
       "      <td>SOBCTDP12A6D4F7602</td>\n",
       "      <td>...</td>\n",
       "      <td>0.450</td>\n",
       "      <td>0.050</td>\n",
       "      <td>148.458</td>\n",
       "      <td>0.841</td>\n",
       "      <td>5.0</td>\n",
       "      <td>0.444</td>\n",
       "      <td>21200</td>\n",
       "      <td>The Stooges [Deluxe Edition]</td>\n",
       "      <td>Not Right (Remastered LP Version)</td>\n",
       "      <td>0</td>\n",
       "    </tr>\n",
       "    <tr>\n",
       "      <th>2</th>\n",
       "      <td>AR26X1C1187B9B0A1B</td>\n",
       "      <td>Friars Point, MS</td>\n",
       "      <td>37.157</td>\n",
       "      <td>-63.933</td>\n",
       "      <td>Conway Twitty</td>\n",
       "      <td>0.494</td>\n",
       "      <td>0.663</td>\n",
       "      <td>NaN</td>\n",
       "      <td>0.0</td>\n",
       "      <td>SOMLCEU12A6D4FAB01</td>\n",
       "      <td>...</td>\n",
       "      <td>0.830</td>\n",
       "      <td>0.688</td>\n",
       "      <td>106.407</td>\n",
       "      <td>1.000</td>\n",
       "      <td>4.0</td>\n",
       "      <td>0.712</td>\n",
       "      <td>60541</td>\n",
       "      <td>Southern Comfort</td>\n",
       "      <td>Slow Hand (LP Version)</td>\n",
       "      <td>0</td>\n",
       "    </tr>\n",
       "    <tr>\n",
       "      <th>3</th>\n",
       "      <td>ARWC3XN1187B9A8D82</td>\n",
       "      <td>NY - New York City</td>\n",
       "      <td>40.715</td>\n",
       "      <td>-74.007</td>\n",
       "      <td>ZO2</td>\n",
       "      <td>0.345</td>\n",
       "      <td>0.596</td>\n",
       "      <td>NaN</td>\n",
       "      <td>0.0</td>\n",
       "      <td>SODRLDV12A8C13D25E</td>\n",
       "      <td>...</td>\n",
       "      <td>0.299</td>\n",
       "      <td>0.070</td>\n",
       "      <td>150.715</td>\n",
       "      <td>1.000</td>\n",
       "      <td>4.0</td>\n",
       "      <td>0.722</td>\n",
       "      <td>258315</td>\n",
       "      <td>Ain't It Beautiful</td>\n",
       "      <td>Isolate</td>\n",
       "      <td>2007</td>\n",
       "    </tr>\n",
       "    <tr>\n",
       "      <th>4</th>\n",
       "      <td>ARB29H41187B98F0EF</td>\n",
       "      <td>Chicago</td>\n",
       "      <td>41.884</td>\n",
       "      <td>-87.632</td>\n",
       "      <td>Terry Callier</td>\n",
       "      <td>0.416</td>\n",
       "      <td>0.707</td>\n",
       "      <td>classic pop and rock</td>\n",
       "      <td>1.0</td>\n",
       "      <td>SOPPYSE12A8C140533</td>\n",
       "      <td>...</td>\n",
       "      <td>0.649</td>\n",
       "      <td>0.032</td>\n",
       "      <td>95.861</td>\n",
       "      <td>0.985</td>\n",
       "      <td>4.0</td>\n",
       "      <td>0.839</td>\n",
       "      <td>311536</td>\n",
       "      <td>LifeTime</td>\n",
       "      <td>Holdin' On</td>\n",
       "      <td>1999</td>\n",
       "    </tr>\n",
       "  </tbody>\n",
       "</table>\n",
       "<p>5 rows × 34 columns</p>\n",
       "</div>"
      ],
      "text/plain": [
       "            singer_id singer_location_city  singer_location_lat  \\\n",
       "0  AR5U94U1187FB5CDCF        Not available               37.157   \n",
       "1  ARLR9U31187B9A71AD        Ann Arbor, MI               42.328   \n",
       "2  AR26X1C1187B9B0A1B     Friars Point, MS               37.157   \n",
       "3  ARWC3XN1187B9A8D82   NY - New York City               40.715   \n",
       "4  ARB29H41187B98F0EF              Chicago               41.884   \n",
       "\n",
       "   singer_location_long    singer_name  singer_rating  singer_reputation  \\\n",
       "0               -63.933   John Hammond          0.453              0.591   \n",
       "1               -83.734    The Stooges          0.497              0.733   \n",
       "2               -63.933  Conway Twitty          0.494              0.663   \n",
       "3               -74.007            ZO2          0.345              0.596   \n",
       "4               -87.632  Terry Callier          0.416              0.707   \n",
       "\n",
       "          singer_styles  singer_styles_nb             song_ID  ...  \\\n",
       "0                  folk               1.0  SOAVZWL12AB01815B3  ...   \n",
       "1  classic pop and rock               1.0  SOBCTDP12A6D4F7602  ...   \n",
       "2                   NaN               0.0  SOMLCEU12A6D4FAB01  ...   \n",
       "3                   NaN               0.0  SODRLDV12A8C13D25E  ...   \n",
       "4  classic pop and rock               1.0  SOPPYSE12A8C140533  ...   \n",
       "\n",
       "  song_metadata_11  song_metadata_12 song_metadata_13  song_metadata_14  \\\n",
       "0            0.338             0.140          204.255             1.000   \n",
       "1            0.450             0.050          148.458             0.841   \n",
       "2            0.830             0.688          106.407             1.000   \n",
       "3            0.299             0.070          150.715             1.000   \n",
       "4            0.649             0.032           95.861             0.985   \n",
       "\n",
       "   song_metadata_15  song_metadata_16  song_release_ID  \\\n",
       "0               7.0             0.608           395418   \n",
       "1               5.0             0.444            21200   \n",
       "2               4.0             0.712            60541   \n",
       "3               4.0             0.722           258315   \n",
       "4               4.0             0.839           311536   \n",
       "\n",
       "                                song_release_name  \\\n",
       "0  At The Crossroads: The Blues of Robert Johnson   \n",
       "1                    The Stooges [Deluxe Edition]   \n",
       "2                                Southern Comfort   \n",
       "3                              Ain't It Beautiful   \n",
       "4                                        LifeTime   \n",
       "\n",
       "                                          song_title  song_year  \n",
       "0  Preaching Blues (Up Jumped The Devil) (1978 Ve...          0  \n",
       "1                  Not Right (Remastered LP Version)          0  \n",
       "2                             Slow Hand (LP Version)          0  \n",
       "3                                            Isolate       2007  \n",
       "4                                         Holdin' On       1999  \n",
       "\n",
       "[5 rows x 34 columns]"
      ]
     },
     "execution_count": 260,
     "metadata": {},
     "output_type": "execute_result"
    }
   ],
   "source": [
    "df_test= get_files(dir_path=dir_path, filename='songs_test_without_target.csv')\n",
    "df_test.columns=['singer_id','singer_location_city','singer_location_lat','singer_location_long','singer_name','singer_rating','singer_reputation','singer_styles','singer_styles_nb','song_ID','song_ID_similar','song_decibels','song_genre','song_length_seconds','song_metadata_01','song_metadata_02','song_metadata_03','song_metadata_04','song_metadata_05','song_metadata_06','song_metadata_07','song_metadata_08','song_metadata_09','song_metadata_10','song_metadata_11','song_metadata_12','song_metadata_13','song_metadata_14','song_metadata_15','song_metadata_16','song_release_ID','song_release_name','song_title','song_year']\n",
    "df_test.head()"
   ]
  },
  {
   "cell_type": "code",
   "execution_count": 261,
   "metadata": {},
   "outputs": [
    {
     "data": {
      "text/plain": [
       "singer_id                object\n",
       "singer_location_city     object\n",
       "singer_location_lat     float64\n",
       "singer_location_long    float64\n",
       "singer_name              object\n",
       "singer_rating           float64\n",
       "singer_reputation       float64\n",
       "singer_styles            object\n",
       "singer_styles_nb        float64\n",
       "song_ID                  object\n",
       "song_ID_similar          object\n",
       "song_decibels           float64\n",
       "song_genre               object\n",
       "song_length_seconds     float64\n",
       "song_metadata_01        float64\n",
       "song_metadata_02        float64\n",
       "song_metadata_03        float64\n",
       "song_metadata_04        float64\n",
       "song_metadata_05        float64\n",
       "song_metadata_06        float64\n",
       "song_metadata_07        float64\n",
       "song_metadata_08          int64\n",
       "song_metadata_09        float64\n",
       "song_metadata_10        float64\n",
       "song_metadata_11        float64\n",
       "song_metadata_12        float64\n",
       "song_metadata_13        float64\n",
       "song_metadata_14        float64\n",
       "song_metadata_15        float64\n",
       "song_metadata_16        float64\n",
       "song_release_ID           int64\n",
       "song_release_name        object\n",
       "song_title               object\n",
       "song_year                 int64\n",
       "dtype: object"
      ]
     },
     "execution_count": 261,
     "metadata": {},
     "output_type": "execute_result"
    }
   ],
   "source": [
    "df_test.dtypes"
   ]
  },
  {
   "cell_type": "code",
   "execution_count": 262,
   "metadata": {},
   "outputs": [],
   "source": [
    "df_test=df_test.drop(columns=['singer_id','song_ID','song_ID_similar','song_release_ID','singer_styles','song_title','singer_location_lat','singer_location_long','song_release_name','singer_name'])"
   ]
  },
  {
   "cell_type": "code",
   "execution_count": 263,
   "metadata": {},
   "outputs": [],
   "source": [
    "l=df_test.singer_location_city.map(lambda x:x.split(','))\n",
    "m=list()\n",
    "for i in l:\n",
    "    if len(i)==1:\n",
    "        m.append(i[0])\n",
    "    else:\n",
    "        \n",
    "\n",
    "        m.append(i[1])\n",
    "\n",
    "df_test['singer_location_region']=m"
   ]
  },
  {
   "cell_type": "code",
   "execution_count": 264,
   "metadata": {},
   "outputs": [
    {
     "data": {
      "text/plain": [
       "0       0\n",
       "1       0\n",
       "2       0\n",
       "3      41\n",
       "4      33\n",
       "5      38\n",
       "6      32\n",
       "7       0\n",
       "8       0\n",
       "9       0\n",
       "10      0\n",
       "11     43\n",
       "12      0\n",
       "13     44\n",
       "14      0\n",
       "15      0\n",
       "16     39\n",
       "17     33\n",
       "18     35\n",
       "19     31\n",
       "20     19\n",
       "21     42\n",
       "22     38\n",
       "23      0\n",
       "24      0\n",
       "25     24\n",
       "26     36\n",
       "27     16\n",
       "28      0\n",
       "29     36\n",
       "       ..\n",
       "813    39\n",
       "814     0\n",
       "815     0\n",
       "816    43\n",
       "817    34\n",
       "818     0\n",
       "819    42\n",
       "820    41\n",
       "821    34\n",
       "822     0\n",
       "823    41\n",
       "824    38\n",
       "825    42\n",
       "826    29\n",
       "827     0\n",
       "828    29\n",
       "829    26\n",
       "830     0\n",
       "831    18\n",
       "832     0\n",
       "833     0\n",
       "834    39\n",
       "835    37\n",
       "836    39\n",
       "837    40\n",
       "838     0\n",
       "839    16\n",
       "840    11\n",
       "841    44\n",
       "842    30\n",
       "Name: song_year_coded, Length: 843, dtype: int64"
      ]
     },
     "execution_count": 264,
     "metadata": {},
     "output_type": "execute_result"
    }
   ],
   "source": [
    "label_encoder = preprocessing.LabelEncoder()\n",
    "df_test['song_year_coded']=label_encoder.fit_transform(df_test['song_year'])\n",
    "df_test['song_year_coded']"
   ]
  },
  {
   "cell_type": "code",
   "execution_count": 265,
   "metadata": {},
   "outputs": [],
   "source": [
    "i=df_test.song_genre.value_counts()\n",
    "\n",
    "idx = df_test.song_genre.isin(i[i<=1].index)\n",
    "\n",
    "df_test.loc[idx,'song_genre'].nunique()\n",
    "df_test.loc[idx,'song_genre'] = 'other'"
   ]
  },
  {
   "cell_type": "code",
   "execution_count": 266,
   "metadata": {},
   "outputs": [
    {
     "data": {
      "text/plain": [
       "singer_location_city       object\n",
       "singer_rating             float64\n",
       "singer_reputation         float64\n",
       "singer_styles_nb          float64\n",
       "song_decibels             float64\n",
       "song_genre                 object\n",
       "song_length_seconds       float64\n",
       "song_metadata_01          float64\n",
       "song_metadata_02          float64\n",
       "song_metadata_03          float64\n",
       "song_metadata_04          float64\n",
       "song_metadata_05          float64\n",
       "song_metadata_06          float64\n",
       "song_metadata_07          float64\n",
       "song_metadata_08            int64\n",
       "song_metadata_09          float64\n",
       "song_metadata_10          float64\n",
       "song_metadata_11          float64\n",
       "song_metadata_12          float64\n",
       "song_metadata_13          float64\n",
       "song_metadata_14          float64\n",
       "song_metadata_15          float64\n",
       "song_metadata_16          float64\n",
       "song_year                   int64\n",
       "singer_location_region     object\n",
       "song_year_coded             int64\n",
       "dtype: object"
      ]
     },
     "execution_count": 266,
     "metadata": {},
     "output_type": "execute_result"
    }
   ],
   "source": [
    "df_test.dtypes"
   ]
  },
  {
   "cell_type": "code",
   "execution_count": 267,
   "metadata": {},
   "outputs": [],
   "source": [
    "df_test=df_test.drop(columns=['singer_location_city'])\n",
    "label_encoder= preprocessing.LabelEncoder()\n",
    "df_test['song_genre_coded']=label_encoder.fit_transform(df_test['song_genre'])"
   ]
  },
  {
   "cell_type": "code",
   "execution_count": 268,
   "metadata": {},
   "outputs": [],
   "source": [
    "label_encoder = preprocessing.LabelEncoder()\n",
    "df_test['singer_location_region_coded']=label_encoder.fit_transform(df_test['singer_location_region'])\n"
   ]
  },
  {
   "cell_type": "code",
   "execution_count": 269,
   "metadata": {},
   "outputs": [
    {
     "data": {
      "text/html": [
       "<div>\n",
       "<style scoped>\n",
       "    .dataframe tbody tr th:only-of-type {\n",
       "        vertical-align: middle;\n",
       "    }\n",
       "\n",
       "    .dataframe tbody tr th {\n",
       "        vertical-align: top;\n",
       "    }\n",
       "\n",
       "    .dataframe thead th {\n",
       "        text-align: right;\n",
       "    }\n",
       "</style>\n",
       "<table border=\"1\" class=\"dataframe\">\n",
       "  <thead>\n",
       "    <tr style=\"text-align: right;\">\n",
       "      <th></th>\n",
       "      <th>singer_rating</th>\n",
       "      <th>singer_reputation</th>\n",
       "      <th>singer_styles_nb</th>\n",
       "      <th>song_decibels</th>\n",
       "      <th>song_length_seconds</th>\n",
       "      <th>song_metadata_01</th>\n",
       "      <th>song_metadata_02</th>\n",
       "      <th>song_metadata_03</th>\n",
       "      <th>song_metadata_04</th>\n",
       "      <th>song_metadata_05</th>\n",
       "      <th>...</th>\n",
       "      <th>song_metadata_10</th>\n",
       "      <th>song_metadata_11</th>\n",
       "      <th>song_metadata_12</th>\n",
       "      <th>song_metadata_13</th>\n",
       "      <th>song_metadata_14</th>\n",
       "      <th>song_metadata_15</th>\n",
       "      <th>song_metadata_16</th>\n",
       "      <th>song_year_coded</th>\n",
       "      <th>song_genre_coded</th>\n",
       "      <th>singer_location_region_coded</th>\n",
       "    </tr>\n",
       "  </thead>\n",
       "  <tbody>\n",
       "    <tr>\n",
       "      <th>0</th>\n",
       "      <td>0.453</td>\n",
       "      <td>0.591</td>\n",
       "      <td>1.0</td>\n",
       "      <td>-12.541</td>\n",
       "      <td>262.164</td>\n",
       "      <td>0.252</td>\n",
       "      <td>0.438</td>\n",
       "      <td>0.370</td>\n",
       "      <td>0.140</td>\n",
       "      <td>0.165</td>\n",
       "      <td>...</td>\n",
       "      <td>249.969</td>\n",
       "      <td>0.338</td>\n",
       "      <td>0.140</td>\n",
       "      <td>204.255</td>\n",
       "      <td>1.000</td>\n",
       "      <td>7.0</td>\n",
       "      <td>0.608</td>\n",
       "      <td>0</td>\n",
       "      <td>11</td>\n",
       "      <td>175</td>\n",
       "    </tr>\n",
       "    <tr>\n",
       "      <th>1</th>\n",
       "      <td>0.497</td>\n",
       "      <td>0.733</td>\n",
       "      <td>1.0</td>\n",
       "      <td>-3.968</td>\n",
       "      <td>169.665</td>\n",
       "      <td>0.172</td>\n",
       "      <td>1.307</td>\n",
       "      <td>1.000</td>\n",
       "      <td>0.050</td>\n",
       "      <td>0.199</td>\n",
       "      <td>...</td>\n",
       "      <td>156.636</td>\n",
       "      <td>0.450</td>\n",
       "      <td>0.050</td>\n",
       "      <td>148.458</td>\n",
       "      <td>0.841</td>\n",
       "      <td>5.0</td>\n",
       "      <td>0.444</td>\n",
       "      <td>0</td>\n",
       "      <td>53</td>\n",
       "      <td>51</td>\n",
       "    </tr>\n",
       "    <tr>\n",
       "      <th>2</th>\n",
       "      <td>0.494</td>\n",
       "      <td>0.663</td>\n",
       "      <td>0.0</td>\n",
       "      <td>-12.813</td>\n",
       "      <td>175.516</td>\n",
       "      <td>0.105</td>\n",
       "      <td>1.561</td>\n",
       "      <td>0.899</td>\n",
       "      <td>0.979</td>\n",
       "      <td>0.630</td>\n",
       "      <td>...</td>\n",
       "      <td>168.937</td>\n",
       "      <td>0.830</td>\n",
       "      <td>0.688</td>\n",
       "      <td>106.407</td>\n",
       "      <td>1.000</td>\n",
       "      <td>4.0</td>\n",
       "      <td>0.712</td>\n",
       "      <td>0</td>\n",
       "      <td>28</td>\n",
       "      <td>54</td>\n",
       "    </tr>\n",
       "    <tr>\n",
       "      <th>3</th>\n",
       "      <td>0.345</td>\n",
       "      <td>0.596</td>\n",
       "      <td>0.0</td>\n",
       "      <td>-4.098</td>\n",
       "      <td>276.427</td>\n",
       "      <td>0.033</td>\n",
       "      <td>0.270</td>\n",
       "      <td>0.576</td>\n",
       "      <td>0.270</td>\n",
       "      <td>0.357</td>\n",
       "      <td>...</td>\n",
       "      <td>264.319</td>\n",
       "      <td>0.299</td>\n",
       "      <td>0.070</td>\n",
       "      <td>150.715</td>\n",
       "      <td>1.000</td>\n",
       "      <td>4.0</td>\n",
       "      <td>0.722</td>\n",
       "      <td>41</td>\n",
       "      <td>76</td>\n",
       "      <td>164</td>\n",
       "    </tr>\n",
       "    <tr>\n",
       "      <th>4</th>\n",
       "      <td>0.416</td>\n",
       "      <td>0.707</td>\n",
       "      <td>1.0</td>\n",
       "      <td>-10.859</td>\n",
       "      <td>327.053</td>\n",
       "      <td>0.059</td>\n",
       "      <td>0.193</td>\n",
       "      <td>0.769</td>\n",
       "      <td>0.193</td>\n",
       "      <td>0.131</td>\n",
       "      <td>...</td>\n",
       "      <td>304.576</td>\n",
       "      <td>0.649</td>\n",
       "      <td>0.032</td>\n",
       "      <td>95.861</td>\n",
       "      <td>0.985</td>\n",
       "      <td>4.0</td>\n",
       "      <td>0.839</td>\n",
       "      <td>33</td>\n",
       "      <td>140</td>\n",
       "      <td>126</td>\n",
       "    </tr>\n",
       "  </tbody>\n",
       "</table>\n",
       "<p>5 rows × 24 columns</p>\n",
       "</div>"
      ],
      "text/plain": [
       "   singer_rating  singer_reputation  singer_styles_nb  song_decibels  \\\n",
       "0          0.453              0.591               1.0        -12.541   \n",
       "1          0.497              0.733               1.0         -3.968   \n",
       "2          0.494              0.663               0.0        -12.813   \n",
       "3          0.345              0.596               0.0         -4.098   \n",
       "4          0.416              0.707               1.0        -10.859   \n",
       "\n",
       "   song_length_seconds  song_metadata_01  song_metadata_02  song_metadata_03  \\\n",
       "0              262.164             0.252             0.438             0.370   \n",
       "1              169.665             0.172             1.307             1.000   \n",
       "2              175.516             0.105             1.561             0.899   \n",
       "3              276.427             0.033             0.270             0.576   \n",
       "4              327.053             0.059             0.193             0.769   \n",
       "\n",
       "   song_metadata_04  song_metadata_05  ...  song_metadata_10  \\\n",
       "0             0.140             0.165  ...           249.969   \n",
       "1             0.050             0.199  ...           156.636   \n",
       "2             0.979             0.630  ...           168.937   \n",
       "3             0.270             0.357  ...           264.319   \n",
       "4             0.193             0.131  ...           304.576   \n",
       "\n",
       "   song_metadata_11  song_metadata_12  song_metadata_13  song_metadata_14  \\\n",
       "0             0.338             0.140           204.255             1.000   \n",
       "1             0.450             0.050           148.458             0.841   \n",
       "2             0.830             0.688           106.407             1.000   \n",
       "3             0.299             0.070           150.715             1.000   \n",
       "4             0.649             0.032            95.861             0.985   \n",
       "\n",
       "   song_metadata_15  song_metadata_16  song_year_coded  song_genre_coded  \\\n",
       "0               7.0             0.608                0                11   \n",
       "1               5.0             0.444                0                53   \n",
       "2               4.0             0.712                0                28   \n",
       "3               4.0             0.722               41                76   \n",
       "4               4.0             0.839               33               140   \n",
       "\n",
       "   singer_location_region_coded  \n",
       "0                           175  \n",
       "1                            51  \n",
       "2                            54  \n",
       "3                           164  \n",
       "4                           126  \n",
       "\n",
       "[5 rows x 24 columns]"
      ]
     },
     "execution_count": 269,
     "metadata": {},
     "output_type": "execute_result"
    }
   ],
   "source": [
    "df_test=df_test.drop(columns=['singer_location_region','song_year','song_genre'])\n",
    "df_test.head()"
   ]
  },
  {
   "cell_type": "code",
   "execution_count": 271,
   "metadata": {},
   "outputs": [
    {
     "data": {
      "text/plain": [
       "(843, 24)"
      ]
     },
     "execution_count": 271,
     "metadata": {},
     "output_type": "execute_result"
    }
   ],
   "source": [
    "df_test.shape"
   ]
  },
  {
   "cell_type": "code",
   "execution_count": 272,
   "metadata": {},
   "outputs": [
    {
     "data": {
      "text/plain": [
       "(3371, 24)"
      ]
     },
     "execution_count": 272,
     "metadata": {},
     "output_type": "execute_result"
    }
   ],
   "source": [
    "df3.shape"
   ]
  },
  {
   "cell_type": "code",
   "execution_count": 273,
   "metadata": {},
   "outputs": [],
   "source": [
    "g=GradientBoostingRegressor()\n",
    "g.fit(df3, y)\n",
    "test=g.predict(df_test)"
   ]
  },
  {
   "cell_type": "code",
   "execution_count": 275,
   "metadata": {},
   "outputs": [],
   "source": [
    "df = pd.Series(test)   \n",
    "df.name = 'song_rating'      \n",
    "df.to_csv(r'C:\\Users\\Lenovo\\Documents\\cours_dataminig\\songs_test_target_predictions.csv', index=False,float_format=\"%.3f\", header=True)"
   ]
  },
  {
   "cell_type": "code",
   "execution_count": 278,
   "metadata": {},
   "outputs": [],
   "source": [
    "from sklearn.model_selection import GridSearchCV"
   ]
  },
  {
   "cell_type": "code",
   "execution_count": 282,
   "metadata": {},
   "outputs": [
    {
     "name": "stdout",
     "output_type": "stream",
     "text": [
      "Gradient boosted tree regression...\n",
      "Best Params:\n",
      "{'learning_rate': 0.1, 'max_depth': 10, 'max_features': 15, 'n_estimators': 800, 'subsample': 1}\n",
      "Best CV Score:\n",
      "-0.33953607036981537\n"
     ]
    }
   ],
   "source": [
    "param_grid = {\n",
    "        'n_estimators': [800,1500],\n",
    "        'max_features': [20,15], 'max_depth': [8,10],\n",
    "        'learning_rate': [0.1],\n",
    "       'subsample': [1]\n",
    "    }\n",
    "model = GridSearchCV(estimator=g, param_grid=param_grid, n_jobs=1, cv=10,scoring='neg_mean_squared_error')\n",
    "model.fit(df3, y)\n",
    "print('Gradient boosted tree regression...')\n",
    "print('Best Params:')\n",
    "print(model.best_params_)\n",
    "print('Best CV Score:')\n",
    "print(-model.best_score_)\n",
    "\n"
   ]
  },
  {
   "cell_type": "code",
   "execution_count": null,
   "metadata": {},
   "outputs": [],
   "source": [
    "ada=AdaBoostRegressor()\n",
    "search_grid={'n_estimators':[500,1000,2000],'learning_rate':[.001,0.01,.1],'random_state':[1]}\n",
    "search=GridSearchCV(estimator=ada,param_grid=search_grid,scoring='neg_mean_squared_error',n_jobs=1,cv=10)\n",
    "search.fit(df3,y)\n",
    "search.best_params_\n",
    "search.best_score_\n",
    " \n",
    " \n"
   ]
  },
  {
   "cell_type": "code",
   "execution_count": null,
   "metadata": {},
   "outputs": [],
   "source": [
    "n_estimators = [int(x) for x in np.linspace(start = 200, stop = 2000, num = 10)]\n",
    "\n",
    "max_features = ['auto', 'sqrt']\n",
    "\n",
    "max_depth = [int(x) for x in np.linspace(10, 110, num = 11)]\n",
    "max_depth.append(None)\n",
    "\n",
    "min_samples_split = [2, 5, 10]\n",
    "\n",
    "min_samples_leaf = [1, 2, 4]\n",
    "\n",
    "bootstrap = [True, False]\n",
    "\n",
    "random_grid = {'n_estimators': n_estimators,\n",
    "               'max_features': max_features,\n",
    "               'max_depth': max_depth,\n",
    "               'min_samples_split': min_samples_split,\n",
    "               'min_samples_leaf': min_samples_leaf,\n",
    "               'bootstrap': bootstrap}\n",
    "rf = RandomForestRegressor()\n",
    "\n",
    "rf_random = RandomizedSearchCV(estimator = rf, param_grid=search_grid,scoring='neg_mean_squared_error',n_jobs=1,cv=10)\n",
    "\n",
    "rf_random.fit(train_features, train_labels)\n",
    "rf_random.best_params_"
   ]
  },
  {
   "cell_type": "code",
   "execution_count": null,
   "metadata": {},
   "outputs": [],
   "source": [
    "regressor=[GradientBoostingRegressor(learning_rate=0.1,n_estimators=800,subsample=1.0),AdaBoostRegressor(),RandomForestRegressor]"
   ]
  },
  {
   "cell_type": "code",
   "execution_count": null,
   "metadata": {},
   "outputs": [],
   "source": []
  }
 ],
 "metadata": {
  "kernelspec": {
   "display_name": "Python 3",
   "language": "python",
   "name": "python3"
  },
  "language_info": {
   "codemirror_mode": {
    "name": "ipython",
    "version": 3
   },
   "file_extension": ".py",
   "mimetype": "text/x-python",
   "name": "python",
   "nbconvert_exporter": "python",
   "pygments_lexer": "ipython3",
   "version": "3.6.8"
  }
 },
 "nbformat": 4,
 "nbformat_minor": 2
}
