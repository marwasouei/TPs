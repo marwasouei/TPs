{
 "cells": [
  {
   "cell_type": "markdown",
   "metadata": {},
   "source": [
    "Oct. 03-04, 2019"
   ]
  },
  {
   "cell_type": "markdown",
   "metadata": {},
   "source": [
    "**Write your names in the cell below**"
   ]
  },
  {
   "cell_type": "code",
   "execution_count": null,
   "metadata": {},
   "outputs": [],
   "source": []
  },
  {
   "cell_type": "markdown",
   "metadata": {},
   "source": [
    "****"
   ]
  },
  {
   "cell_type": "markdown",
   "metadata": {},
   "source": [
    "You will work with the same **housing data from TP1**. "
   ]
  },
  {
   "cell_type": "markdown",
   "metadata": {},
   "source": [
    "<font color='red'> **Files you will need ** </font> \n",
    "\n",
    "- File `house_sales_data.csv` : contains the data.\n",
    "- File `house_sales_README.txt` : contains information about the data variables.\n",
    "- File `TP3.ipynb` : contains source code."
   ]
  },
  {
   "cell_type": "markdown",
   "metadata": {},
   "source": [
    "<font color='red'> **What you will do** </font> \n",
    "\n",
    "- Follow the instructions below and answer the questions.\n",
    "\n",
    "- Your answers will generally consist of a mix of code and explanations.\n",
    "\n",
    "- Feel free to create new cells to write your answers.\n",
    "\n",
    "- Submit your modified .ipynb file containing your answers to the questions below."
   ]
  },
  {
   "cell_type": "markdown",
   "metadata": {},
   "source": [
    "## Summary of data variables\n",
    "\n",
    "To help you out, below is a summary of all variables and their data types."
   ]
  },
  {
   "cell_type": "markdown",
   "metadata": {},
   "source": [
    "       Variable name      dtype        true type      values or range of values\n",
    "\n",
    "        id                 int64       other/arbitrary\n",
    "        sale_date         object       unstructured/non-scalar\n",
    "        zip_code           int64       categorical    {98001, 98002, 98003, 98004, ..., 98188, 98198, 98199}   (70 values)\n",
    "        waterfront         int64       categorical    {0, 1}\n",
    "        view               int64       categorical    {0, 1, 2, 3, 4}\n",
    "        floors           float64       discrete       {1.0, 1.5, 2.0, 2.5, 3.0, 3.5}\n",
    "        bedrooms           int64       discrete       {0, 1, 2, 3, 4, 5, 6, 7, 8, 9, 10, 11, 33}\n",
    "        bathrooms        float64       discrete       {0.0, 0.5, 0.75, 1.0, 1.25, 1.5, ..., 7.5, 7.75, 8.0}   (30 values)\n",
    "        condition          int64       discrete       {1, 2, 3, 4, 5}\n",
    "        grade              int64       discrete       {1, 3, 4, 5, 6, 7, 8, 9, 10, 11, 12, 13}\n",
    "        yr_built           int64       discrete       {1900, 1901, ..., 2014, 2015}        (116 values)\n",
    "        yr_renovated       int64       discrete       {0, 1934, 1940, ..., , 2014, 2015}   (70 values)\n",
    "        sqft_above         int64       continuous\n",
    "        sqft_living        int64       continuous\n",
    "        sqft_basement      int64       continuous\n",
    "        sqft_living15      int64       continuous\n",
    "        sqft_lot           int64       continuous\n",
    "        sqft_lot15         int64       continuous\n",
    "        lat              float64       continuous\n",
    "        long             float64       continuous\n",
    "        price              int64       continuous"
   ]
  },
  {
   "cell_type": "markdown",
   "metadata": {},
   "source": [
    "******"
   ]
  },
  {
   "cell_type": "code",
   "execution_count": 1,
   "metadata": {},
   "outputs": [],
   "source": [
    "import numpy as np\n",
    "import pandas as pd"
   ]
  },
  {
   "cell_type": "code",
   "execution_count": 2,
   "metadata": {},
   "outputs": [],
   "source": [
    "from matplotlib import pyplot as plt\n",
    "%matplotlib inline"
   ]
  },
  {
   "cell_type": "markdown",
   "metadata": {},
   "source": [
    "## Part 1: Read the Data\n",
    "\n",
    "Execute the cells below."
   ]
  },
  {
   "cell_type": "code",
   "execution_count": 3,
   "metadata": {},
   "outputs": [
    {
     "data": {
      "text/plain": [
       "(21613, 21)"
      ]
     },
     "execution_count": 3,
     "metadata": {},
     "output_type": "execute_result"
    }
   ],
   "source": [
    "# read the data from a file\n",
    "\n",
    "house_sales_df = pd.read_csv ('./house_sales_data.csv')\n",
    "house_sales_df.shape"
   ]
  },
  {
   "cell_type": "code",
   "execution_count": 4,
   "metadata": {},
   "outputs": [
    {
     "data": {
      "text/plain": [
       "(21613, 21)"
      ]
     },
     "execution_count": 4,
     "metadata": {},
     "output_type": "execute_result"
    }
   ],
   "source": [
    "# Change the order of columns JUST FOR CLARITY\n",
    "\n",
    "house_sales_df = house_sales_df[['id', 'sale_date', 'zip_code', 'waterfront', 'view', \n",
    "                                 'floors', 'bedrooms', 'bathrooms', 'condition', 'grade', \n",
    "                                 'yr_built', 'yr_renovated', \n",
    "                                 'sqft_above', 'sqft_living', 'sqft_basement', 'sqft_living15', 'sqft_lot', 'sqft_lot15',\n",
    "                                 'lat', 'long', 'price']]\n",
    "house_sales_df.shape"
   ]
  },
  {
   "cell_type": "code",
   "execution_count": 5,
   "metadata": {},
   "outputs": [
    {
     "data": {
      "text/html": [
       "<div>\n",
       "<style scoped>\n",
       "    .dataframe tbody tr th:only-of-type {\n",
       "        vertical-align: middle;\n",
       "    }\n",
       "\n",
       "    .dataframe tbody tr th {\n",
       "        vertical-align: top;\n",
       "    }\n",
       "\n",
       "    .dataframe thead th {\n",
       "        text-align: right;\n",
       "    }\n",
       "</style>\n",
       "<table border=\"1\" class=\"dataframe\">\n",
       "  <thead>\n",
       "    <tr style=\"text-align: right;\">\n",
       "      <th></th>\n",
       "      <th>id</th>\n",
       "      <th>sale_date</th>\n",
       "      <th>zip_code</th>\n",
       "      <th>waterfront</th>\n",
       "      <th>view</th>\n",
       "      <th>floors</th>\n",
       "      <th>bedrooms</th>\n",
       "      <th>bathrooms</th>\n",
       "      <th>condition</th>\n",
       "      <th>grade</th>\n",
       "      <th>...</th>\n",
       "      <th>yr_renovated</th>\n",
       "      <th>sqft_above</th>\n",
       "      <th>sqft_living</th>\n",
       "      <th>sqft_basement</th>\n",
       "      <th>sqft_living15</th>\n",
       "      <th>sqft_lot</th>\n",
       "      <th>sqft_lot15</th>\n",
       "      <th>lat</th>\n",
       "      <th>long</th>\n",
       "      <th>price</th>\n",
       "    </tr>\n",
       "  </thead>\n",
       "  <tbody>\n",
       "    <tr>\n",
       "      <th>0</th>\n",
       "      <td>7129300520</td>\n",
       "      <td>20141013T000000</td>\n",
       "      <td>98178</td>\n",
       "      <td>0</td>\n",
       "      <td>0</td>\n",
       "      <td>1.0</td>\n",
       "      <td>3</td>\n",
       "      <td>1.00</td>\n",
       "      <td>3</td>\n",
       "      <td>7</td>\n",
       "      <td>...</td>\n",
       "      <td>0</td>\n",
       "      <td>1180</td>\n",
       "      <td>1180</td>\n",
       "      <td>0</td>\n",
       "      <td>1340</td>\n",
       "      <td>5650</td>\n",
       "      <td>5650</td>\n",
       "      <td>47.5112</td>\n",
       "      <td>-122.257</td>\n",
       "      <td>221900</td>\n",
       "    </tr>\n",
       "    <tr>\n",
       "      <th>1</th>\n",
       "      <td>6414100192</td>\n",
       "      <td>20141209T000000</td>\n",
       "      <td>98125</td>\n",
       "      <td>0</td>\n",
       "      <td>0</td>\n",
       "      <td>2.0</td>\n",
       "      <td>3</td>\n",
       "      <td>2.25</td>\n",
       "      <td>3</td>\n",
       "      <td>7</td>\n",
       "      <td>...</td>\n",
       "      <td>1991</td>\n",
       "      <td>2170</td>\n",
       "      <td>2570</td>\n",
       "      <td>400</td>\n",
       "      <td>1690</td>\n",
       "      <td>7242</td>\n",
       "      <td>7639</td>\n",
       "      <td>47.7210</td>\n",
       "      <td>-122.319</td>\n",
       "      <td>538000</td>\n",
       "    </tr>\n",
       "    <tr>\n",
       "      <th>2</th>\n",
       "      <td>5631500400</td>\n",
       "      <td>20150225T000000</td>\n",
       "      <td>98028</td>\n",
       "      <td>0</td>\n",
       "      <td>0</td>\n",
       "      <td>1.0</td>\n",
       "      <td>2</td>\n",
       "      <td>1.00</td>\n",
       "      <td>3</td>\n",
       "      <td>6</td>\n",
       "      <td>...</td>\n",
       "      <td>0</td>\n",
       "      <td>770</td>\n",
       "      <td>770</td>\n",
       "      <td>0</td>\n",
       "      <td>2720</td>\n",
       "      <td>10000</td>\n",
       "      <td>8062</td>\n",
       "      <td>47.7379</td>\n",
       "      <td>-122.233</td>\n",
       "      <td>180000</td>\n",
       "    </tr>\n",
       "    <tr>\n",
       "      <th>3</th>\n",
       "      <td>2487200875</td>\n",
       "      <td>20141209T000000</td>\n",
       "      <td>98136</td>\n",
       "      <td>0</td>\n",
       "      <td>0</td>\n",
       "      <td>1.0</td>\n",
       "      <td>4</td>\n",
       "      <td>3.00</td>\n",
       "      <td>5</td>\n",
       "      <td>7</td>\n",
       "      <td>...</td>\n",
       "      <td>0</td>\n",
       "      <td>1050</td>\n",
       "      <td>1960</td>\n",
       "      <td>910</td>\n",
       "      <td>1360</td>\n",
       "      <td>5000</td>\n",
       "      <td>5000</td>\n",
       "      <td>47.5208</td>\n",
       "      <td>-122.393</td>\n",
       "      <td>604000</td>\n",
       "    </tr>\n",
       "    <tr>\n",
       "      <th>4</th>\n",
       "      <td>1954400510</td>\n",
       "      <td>20150218T000000</td>\n",
       "      <td>98074</td>\n",
       "      <td>0</td>\n",
       "      <td>0</td>\n",
       "      <td>1.0</td>\n",
       "      <td>3</td>\n",
       "      <td>2.00</td>\n",
       "      <td>3</td>\n",
       "      <td>8</td>\n",
       "      <td>...</td>\n",
       "      <td>0</td>\n",
       "      <td>1680</td>\n",
       "      <td>1680</td>\n",
       "      <td>0</td>\n",
       "      <td>1800</td>\n",
       "      <td>8080</td>\n",
       "      <td>7503</td>\n",
       "      <td>47.6168</td>\n",
       "      <td>-122.045</td>\n",
       "      <td>510000</td>\n",
       "    </tr>\n",
       "  </tbody>\n",
       "</table>\n",
       "<p>5 rows × 21 columns</p>\n",
       "</div>"
      ],
      "text/plain": [
       "           id        sale_date  zip_code  waterfront  view  floors  bedrooms  \\\n",
       "0  7129300520  20141013T000000     98178           0     0     1.0         3   \n",
       "1  6414100192  20141209T000000     98125           0     0     2.0         3   \n",
       "2  5631500400  20150225T000000     98028           0     0     1.0         2   \n",
       "3  2487200875  20141209T000000     98136           0     0     1.0         4   \n",
       "4  1954400510  20150218T000000     98074           0     0     1.0         3   \n",
       "\n",
       "   bathrooms  condition  grade  ...  yr_renovated  sqft_above  sqft_living  \\\n",
       "0       1.00          3      7  ...             0        1180         1180   \n",
       "1       2.25          3      7  ...          1991        2170         2570   \n",
       "2       1.00          3      6  ...             0         770          770   \n",
       "3       3.00          5      7  ...             0        1050         1960   \n",
       "4       2.00          3      8  ...             0        1680         1680   \n",
       "\n",
       "   sqft_basement  sqft_living15  sqft_lot  sqft_lot15      lat     long  \\\n",
       "0              0           1340      5650        5650  47.5112 -122.257   \n",
       "1            400           1690      7242        7639  47.7210 -122.319   \n",
       "2              0           2720     10000        8062  47.7379 -122.233   \n",
       "3            910           1360      5000        5000  47.5208 -122.393   \n",
       "4              0           1800      8080        7503  47.6168 -122.045   \n",
       "\n",
       "    price  \n",
       "0  221900  \n",
       "1  538000  \n",
       "2  180000  \n",
       "3  604000  \n",
       "4  510000  \n",
       "\n",
       "[5 rows x 21 columns]"
      ]
     },
     "execution_count": 5,
     "metadata": {},
     "output_type": "execute_result"
    }
   ],
   "source": [
    "house_sales_df.head()"
   ]
  },
  {
   "cell_type": "markdown",
   "metadata": {},
   "source": [
    "## Part 2: Feature engineering of _numeric_ attributes\n",
    "\n",
    "Answer the following questions.\n",
    "\n",
    "1. create a new data frame called `my_df_numeric` that only contains the 5 variables in the list `numeric_vars_sub` defined below.\n",
    "\n",
    "2. plot the distribution of these variables using boxplot or histogram. Which of these variables are very skewed (ie. asymmetric)?\n",
    "\n",
    "3. apply min-max normalization **only on** the non-skewed variables; put the result in a new column in `my_df_numeric` called `<var_name>_scaled`\n",
    "\n",
    "4. what are the minimum and maximum values of the variables obtained after the previous step? Use the `describe` method ...\n",
    "\n",
    "5. apply log normalization only on the skewed variables **followed by** the min-max normalization; put the result in a new column in `my_df_numeric` called `<var_name>_log_scaled`.\n",
    "\n",
    "6. plot the distributions of the 5 new variables that you created in the previous steps. You can use either a boxplot or a histogram. **Hint**: use a `for` loop ...\n",
    "\n",
    "7. Based on the plots of the previous step, are all these new variables **symmetric** (non-skewed) and do they all have a similar range of values? Explain."
   ]
  },
  {
   "cell_type": "code",
   "execution_count": 15,
   "metadata": {},
   "outputs": [
    {
     "data": {
      "text/plain": [
       "(21613, 5)"
      ]
     },
     "execution_count": 15,
     "metadata": {},
     "output_type": "execute_result"
    }
   ],
   "source": [
    "#Q1. create a new data frame called `my_df_numeric` that only contains the 5 variables in the list `numeric_vars_sub` defined below.\n",
    "\n",
    "numeric_vars_sub = ['sqft_above', 'sqft_lot', 'lat', 'long', 'price']\n",
    "my_df_numeric = house_sales_df[numeric_vars_sub].copy()\n",
    "my_df_numeric.shape"
   ]
  },
  {
   "cell_type": "code",
   "execution_count": 16,
   "metadata": {},
   "outputs": [
    {
     "data": {
      "image/png": "[encoded data removed]",
      "text/plain": [
       "<Figure size 432x288 with 6 Axes>"
      ]
     },
     "metadata": {
      "needs_background": "light"
     },
     "output_type": "display_data"
    },
    {
     "data": {
      "image/png": "[encoded data removed]",
      "text/plain": [
       "<Figure size 432x288 with 1 Axes>"
      ]
     },
     "metadata": {
      "needs_background": "light"
     },
     "output_type": "display_data"
    },
    {
     "data": {
      "image/png": "[encoded data removed]",
      "text/plain": [
       "<Figure size 432x288 with 1 Axes>"
      ]
     },
     "metadata": {
      "needs_background": "light"
     },
     "output_type": "display_data"
    },
    {
     "data": {
      "image/png": "[encoded data removed]",
      "text/plain": [
       "<Figure size 432x288 with 1 Axes>"
      ]
     },
     "metadata": {
      "needs_background": "light"
     },
     "output_type": "display_data"
    },
    {
     "data": {
      "image/png": "[encoded data removed]",
      "text/plain": [
       "<Figure size 432x288 with 1 Axes>"
      ]
     },
     "metadata": {
      "needs_background": "light"
     },
     "output_type": "display_data"
    },
    {
     "data": {
      "image/png": "[encoded data removed]",
      "text/plain": [
       "<Figure size 432x288 with 1 Axes>"
      ]
     },
     "metadata": {
      "needs_background": "light"
     },
     "output_type": "display_data"
    }
   ],
   "source": [
    "#Q2. plot the distribution of these variables using boxplot or histogram. \n",
    "# Which of these variables are very skewed (ie. asymmetric)?\n",
    "\n",
    "fig1=my_df_numeric.hist()\n",
    "plt.show()\n",
    "\n",
    "for x in my_df_numeric:\n",
    "    my_df_numeric[x].plot.box()\n",
    "    plt.title(x)\n",
    "    plt.show()"
   ]
  },
  {
   "cell_type": "code",
   "execution_count": 17,
   "metadata": {},
   "outputs": [],
   "source": [
    "non_skewed_vars = ['lat']\n",
    "skewed_vars = ['sqft_above', 'sqft_lot', 'long', 'price']"
   ]
  },
  {
   "cell_type": "code",
   "execution_count": 22,
   "metadata": {},
   "outputs": [
    {
     "name": "stdout",
     "output_type": "stream",
     "text": [
      "<class 'numpy.ndarray'> (21613, 1)\n",
      "<class 'numpy.ndarray'> (21613,)\n"
     ]
    }
   ],
   "source": [
    "#Q3. apply min-max normalization **only on** the non-skewed variables; put the result in a new column in `my_df_numeric` called `<var_name>_scaled`\n",
    "\n",
    "from sklearn.preprocessing import MinMaxScaler\n",
    "\n",
    "mmsc = MinMaxScaler()\n",
    "\n",
    "for x in non_skewed_vars:\n",
    "    x_new = x+'_scaled'\n",
    "    u = mmsc.fit_transform(my_df_numeric[[x]])  # this returns a 2D array with one column\n",
    "    print(type(u), u.shape)\n",
    "    u = u.ravel()  # convert to a 1D array\n",
    "    print(type(u), u.shape)\n",
    "    my_df_numeric[x_new] = pd.Series(u)"
   ]
  },
  {
   "cell_type": "code",
   "execution_count": 23,
   "metadata": {},
   "outputs": [
    {
     "data": {
      "text/plain": [
       "(21613, 6)"
      ]
     },
     "execution_count": 23,
     "metadata": {},
     "output_type": "execute_result"
    }
   ],
   "source": [
    "# check shape of new data frame\n",
    "\n",
    "my_df_numeric.shape"
   ]
  },
  {
   "cell_type": "code",
   "execution_count": 24,
   "metadata": {},
   "outputs": [
    {
     "data": {
      "text/html": [
       "<div>\n",
       "<style scoped>\n",
       "    .dataframe tbody tr th:only-of-type {\n",
       "        vertical-align: middle;\n",
       "    }\n",
       "\n",
       "    .dataframe tbody tr th {\n",
       "        vertical-align: top;\n",
       "    }\n",
       "\n",
       "    .dataframe thead th {\n",
       "        text-align: right;\n",
       "    }\n",
       "</style>\n",
       "<table border=\"1\" class=\"dataframe\">\n",
       "  <thead>\n",
       "    <tr style=\"text-align: right;\">\n",
       "      <th></th>\n",
       "      <th>sqft_above</th>\n",
       "      <th>sqft_lot</th>\n",
       "      <th>lat</th>\n",
       "      <th>long</th>\n",
       "      <th>price</th>\n",
       "      <th>lat_scaled</th>\n",
       "    </tr>\n",
       "  </thead>\n",
       "  <tbody>\n",
       "    <tr>\n",
       "      <th>0</th>\n",
       "      <td>1180</td>\n",
       "      <td>5650</td>\n",
       "      <td>47.5112</td>\n",
       "      <td>-122.257</td>\n",
       "      <td>221900</td>\n",
       "      <td>0.571498</td>\n",
       "    </tr>\n",
       "    <tr>\n",
       "      <th>1</th>\n",
       "      <td>2170</td>\n",
       "      <td>7242</td>\n",
       "      <td>47.7210</td>\n",
       "      <td>-122.319</td>\n",
       "      <td>538000</td>\n",
       "      <td>0.908959</td>\n",
       "    </tr>\n",
       "    <tr>\n",
       "      <th>2</th>\n",
       "      <td>770</td>\n",
       "      <td>10000</td>\n",
       "      <td>47.7379</td>\n",
       "      <td>-122.233</td>\n",
       "      <td>180000</td>\n",
       "      <td>0.936143</td>\n",
       "    </tr>\n",
       "    <tr>\n",
       "      <th>3</th>\n",
       "      <td>1050</td>\n",
       "      <td>5000</td>\n",
       "      <td>47.5208</td>\n",
       "      <td>-122.393</td>\n",
       "      <td>604000</td>\n",
       "      <td>0.586939</td>\n",
       "    </tr>\n",
       "    <tr>\n",
       "      <th>4</th>\n",
       "      <td>1680</td>\n",
       "      <td>8080</td>\n",
       "      <td>47.6168</td>\n",
       "      <td>-122.045</td>\n",
       "      <td>510000</td>\n",
       "      <td>0.741354</td>\n",
       "    </tr>\n",
       "  </tbody>\n",
       "</table>\n",
       "</div>"
      ],
      "text/plain": [
       "   sqft_above  sqft_lot      lat     long   price  lat_scaled\n",
       "0        1180      5650  47.5112 -122.257  221900    0.571498\n",
       "1        2170      7242  47.7210 -122.319  538000    0.908959\n",
       "2         770     10000  47.7379 -122.233  180000    0.936143\n",
       "3        1050      5000  47.5208 -122.393  604000    0.586939\n",
       "4        1680      8080  47.6168 -122.045  510000    0.741354"
      ]
     },
     "execution_count": 24,
     "metadata": {},
     "output_type": "execute_result"
    }
   ],
   "source": [
    "# check new data frame\n",
    "\n",
    "my_df_numeric.head()"
   ]
  },
  {
   "cell_type": "code",
   "execution_count": 41,
   "metadata": {},
   "outputs": [
    {
     "data": {
      "text/plain": [
       "0.0"
      ]
     },
     "execution_count": 41,
     "metadata": {},
     "output_type": "execute_result"
    }
   ],
   "source": [
    "#Q4. what are the minimum and maximum values of the variables obtained after the previous step?\n",
    "\n",
    "my_df_numeric.lat_scaled.min()"
   ]
  },
  {
   "cell_type": "code",
   "execution_count": 42,
   "metadata": {},
   "outputs": [
    {
     "data": {
      "text/plain": [
       "1.0"
      ]
     },
     "execution_count": 42,
     "metadata": {},
     "output_type": "execute_result"
    }
   ],
   "source": [
    "my_df_numeric.lat_scaled.max()"
   ]
  },
  {
   "cell_type": "code",
   "execution_count": null,
   "metadata": {},
   "outputs": [],
   "source": [
    "#Q5. apply log normalization only on the skewed variables **followed by** the min-max normalization; put the result in a new column in `my_df_numeric` called `<var_name>_log_scaled`.\n",
    "\n",
    "for x in skewed_vars:\n",
    "    x_new = x+'_log_scaled'\n",
    "    if my_df_numeric[x].min() < 0:\n",
    "        u1 = my_df_numeric[x] - my_df_numeric[x].min() + 1e-6\n",
    "    else:\n",
    "        u1 = my_df_numeric[x]\n",
    "    u = mmsc.fit_transform(pd.DataFrame(np.log(u1))).ravel()\n",
    "    #print(type(u), u.shape)\n",
    "    my_df_numeric[x_new] = pd.Series(u)"
   ]
  },
  {
   "cell_type": "code",
   "execution_count": 43,
   "metadata": {},
   "outputs": [
    {
     "data": {
      "text/plain": [
       "(21613, 10)"
      ]
     },
     "execution_count": 43,
     "metadata": {},
     "output_type": "execute_result"
    }
   ],
   "source": [
    "my_df_numeric.shape"
   ]
  },
  {
   "cell_type": "code",
   "execution_count": 32,
   "metadata": {},
   "outputs": [
    {
     "data": {
      "text/html": [
       "<div>\n",
       "<style scoped>\n",
       "    .dataframe tbody tr th:only-of-type {\n",
       "        vertical-align: middle;\n",
       "    }\n",
       "\n",
       "    .dataframe tbody tr th {\n",
       "        vertical-align: top;\n",
       "    }\n",
       "\n",
       "    .dataframe thead th {\n",
       "        text-align: right;\n",
       "    }\n",
       "</style>\n",
       "<table border=\"1\" class=\"dataframe\">\n",
       "  <thead>\n",
       "    <tr style=\"text-align: right;\">\n",
       "      <th></th>\n",
       "      <th>sqft_above</th>\n",
       "      <th>sqft_lot</th>\n",
       "      <th>lat</th>\n",
       "      <th>long</th>\n",
       "      <th>price</th>\n",
       "      <th>lat_scaled</th>\n",
       "      <th>sqft_above_log_scaled</th>\n",
       "      <th>sqft_lot_log_scaled</th>\n",
       "      <th>long_log_scaled</th>\n",
       "      <th>price_log_scaled</th>\n",
       "    </tr>\n",
       "  </thead>\n",
       "  <tbody>\n",
       "    <tr>\n",
       "      <th>0</th>\n",
       "      <td>1180</td>\n",
       "      <td>5650</td>\n",
       "      <td>47.5112</td>\n",
       "      <td>-122.257</td>\n",
       "      <td>221900</td>\n",
       "      <td>0.571498</td>\n",
       "      <td>0.403314</td>\n",
       "      <td>0.295858</td>\n",
       "      <td>0.891076</td>\n",
       "      <td>0.234210</td>\n",
       "    </tr>\n",
       "    <tr>\n",
       "      <th>1</th>\n",
       "      <td>2170</td>\n",
       "      <td>7242</td>\n",
       "      <td>47.7210</td>\n",
       "      <td>-122.319</td>\n",
       "      <td>538000</td>\n",
       "      <td>0.908959</td>\n",
       "      <td>0.578392</td>\n",
       "      <td>0.326644</td>\n",
       "      <td>0.871790</td>\n",
       "      <td>0.425429</td>\n",
       "    </tr>\n",
       "    <tr>\n",
       "      <th>2</th>\n",
       "      <td>770</td>\n",
       "      <td>10000</td>\n",
       "      <td>47.7379</td>\n",
       "      <td>-122.233</td>\n",
       "      <td>180000</td>\n",
       "      <td>0.936143</td>\n",
       "      <td>0.280635</td>\n",
       "      <td>0.366664</td>\n",
       "      <td>0.897336</td>\n",
       "      <td>0.189025</td>\n",
       "    </tr>\n",
       "    <tr>\n",
       "      <th>3</th>\n",
       "      <td>1050</td>\n",
       "      <td>5000</td>\n",
       "      <td>47.5208</td>\n",
       "      <td>-122.393</td>\n",
       "      <td>604000</td>\n",
       "      <td>0.586939</td>\n",
       "      <td>0.369769</td>\n",
       "      <td>0.280700</td>\n",
       "      <td>0.838791</td>\n",
       "      <td>0.450414</td>\n",
       "    </tr>\n",
       "    <tr>\n",
       "      <th>4</th>\n",
       "      <td>1680</td>\n",
       "      <td>8080</td>\n",
       "      <td>47.6168</td>\n",
       "      <td>-122.045</td>\n",
       "      <td>510000</td>\n",
       "      <td>0.741354</td>\n",
       "      <td>0.504841</td>\n",
       "      <td>0.340224</td>\n",
       "      <td>0.933420</td>\n",
       "      <td>0.413889</td>\n",
       "    </tr>\n",
       "  </tbody>\n",
       "</table>\n",
       "</div>"
      ],
      "text/plain": [
       "   sqft_above  sqft_lot      lat     long   price  lat_scaled  \\\n",
       "0        1180      5650  47.5112 -122.257  221900    0.571498   \n",
       "1        2170      7242  47.7210 -122.319  538000    0.908959   \n",
       "2         770     10000  47.7379 -122.233  180000    0.936143   \n",
       "3        1050      5000  47.5208 -122.393  604000    0.586939   \n",
       "4        1680      8080  47.6168 -122.045  510000    0.741354   \n",
       "\n",
       "   sqft_above_log_scaled  sqft_lot_log_scaled  long_log_scaled  \\\n",
       "0               0.403314             0.295858         0.891076   \n",
       "1               0.578392             0.326644         0.871790   \n",
       "2               0.280635             0.366664         0.897336   \n",
       "3               0.369769             0.280700         0.838791   \n",
       "4               0.504841             0.340224         0.933420   \n",
       "\n",
       "   price_log_scaled  \n",
       "0          0.234210  \n",
       "1          0.425429  \n",
       "2          0.189025  \n",
       "3          0.450414  \n",
       "4          0.413889  "
      ]
     },
     "execution_count": 32,
     "metadata": {},
     "output_type": "execute_result"
    }
   ],
   "source": [
    "my_df_numeric.head()"
   ]
  },
  {
   "cell_type": "code",
   "execution_count": 34,
   "metadata": {},
   "outputs": [
    {
     "data": {
      "text/plain": [
       "['lat_scaled',\n",
       " 'long_log_scaled',\n",
       " 'price_log_scaled',\n",
       " 'sqft_above_log_scaled',\n",
       " 'sqft_lot_log_scaled']"
      ]
     },
     "execution_count": 34,
     "metadata": {},
     "output_type": "execute_result"
    }
   ],
   "source": [
    "#Q6. plot the distributions of the 5 new variables that you created in the previous steps. You can use either a boxplot or a histogram. **Hint**: use a `for` loop ...\n",
    "\n",
    "new_numeric_vars = sorted(list(set(my_df_numeric.columns)-set(numeric_vars_sub)))\n",
    "new_numeric_vars"
   ]
  },
  {
   "cell_type": "code",
   "execution_count": 44,
   "metadata": {},
   "outputs": [
    {
     "data": {
      "text/html": [
       "<div>\n",
       "<style scoped>\n",
       "    .dataframe tbody tr th:only-of-type {\n",
       "        vertical-align: middle;\n",
       "    }\n",
       "\n",
       "    .dataframe tbody tr th {\n",
       "        vertical-align: top;\n",
       "    }\n",
       "\n",
       "    .dataframe thead th {\n",
       "        text-align: right;\n",
       "    }\n",
       "</style>\n",
       "<table border=\"1\" class=\"dataframe\">\n",
       "  <thead>\n",
       "    <tr style=\"text-align: right;\">\n",
       "      <th></th>\n",
       "      <th>sqft_above</th>\n",
       "      <th>sqft_lot</th>\n",
       "      <th>lat</th>\n",
       "      <th>long</th>\n",
       "      <th>price</th>\n",
       "    </tr>\n",
       "  </thead>\n",
       "  <tbody>\n",
       "    <tr>\n",
       "      <th>min</th>\n",
       "      <td>290.0</td>\n",
       "      <td>520.0</td>\n",
       "      <td>47.1559</td>\n",
       "      <td>-122.519</td>\n",
       "      <td>75000.0</td>\n",
       "    </tr>\n",
       "    <tr>\n",
       "      <th>max</th>\n",
       "      <td>9410.0</td>\n",
       "      <td>1651359.0</td>\n",
       "      <td>47.7776</td>\n",
       "      <td>-121.315</td>\n",
       "      <td>7700000.0</td>\n",
       "    </tr>\n",
       "  </tbody>\n",
       "</table>\n",
       "</div>"
      ],
      "text/plain": [
       "     sqft_above   sqft_lot      lat     long      price\n",
       "min       290.0      520.0  47.1559 -122.519    75000.0\n",
       "max      9410.0  1651359.0  47.7776 -121.315  7700000.0"
      ]
     },
     "execution_count": 44,
     "metadata": {},
     "output_type": "execute_result"
    }
   ],
   "source": [
    "my_df_numeric.describe().loc[['min','max'],numeric_vars_sub]"
   ]
  },
  {
   "cell_type": "code",
   "execution_count": 45,
   "metadata": {},
   "outputs": [
    {
     "data": {
      "text/html": [
       "<div>\n",
       "<style scoped>\n",
       "    .dataframe tbody tr th:only-of-type {\n",
       "        vertical-align: middle;\n",
       "    }\n",
       "\n",
       "    .dataframe tbody tr th {\n",
       "        vertical-align: top;\n",
       "    }\n",
       "\n",
       "    .dataframe thead th {\n",
       "        text-align: right;\n",
       "    }\n",
       "</style>\n",
       "<table border=\"1\" class=\"dataframe\">\n",
       "  <thead>\n",
       "    <tr style=\"text-align: right;\">\n",
       "      <th></th>\n",
       "      <th>lat_scaled</th>\n",
       "      <th>long_log_scaled</th>\n",
       "      <th>price_log_scaled</th>\n",
       "      <th>sqft_above_log_scaled</th>\n",
       "      <th>sqft_lot_log_scaled</th>\n",
       "    </tr>\n",
       "  </thead>\n",
       "  <tbody>\n",
       "    <tr>\n",
       "      <th>min</th>\n",
       "      <td>0.0</td>\n",
       "      <td>0.0</td>\n",
       "      <td>0.0</td>\n",
       "      <td>0.0</td>\n",
       "      <td>0.0</td>\n",
       "    </tr>\n",
       "    <tr>\n",
       "      <th>max</th>\n",
       "      <td>1.0</td>\n",
       "      <td>1.0</td>\n",
       "      <td>1.0</td>\n",
       "      <td>1.0</td>\n",
       "      <td>1.0</td>\n",
       "    </tr>\n",
       "  </tbody>\n",
       "</table>\n",
       "</div>"
      ],
      "text/plain": [
       "     lat_scaled  long_log_scaled  price_log_scaled  sqft_above_log_scaled  \\\n",
       "min         0.0              0.0               0.0                    0.0   \n",
       "max         1.0              1.0               1.0                    1.0   \n",
       "\n",
       "     sqft_lot_log_scaled  \n",
       "min                  0.0  \n",
       "max                  1.0  "
      ]
     },
     "execution_count": 45,
     "metadata": {},
     "output_type": "execute_result"
    }
   ],
   "source": [
    "my_df_numeric.describe().loc[['min','max'],new_numeric_vars]"
   ]
  },
  {
   "cell_type": "code",
   "execution_count": 35,
   "metadata": {},
   "outputs": [
    {
     "data": {
      "image/png": "[encoded data removed]",
      "text/plain": [
       "<Figure size 432x288 with 6 Axes>"
      ]
     },
     "metadata": {
      "needs_background": "light"
     },
     "output_type": "display_data"
    },
    {
     "data": {
      "image/png": "[encoded data removed]",
      "text/plain": [
       "<Figure size 432x288 with 1 Axes>"
      ]
     },
     "metadata": {
      "needs_background": "light"
     },
     "output_type": "display_data"
    },
    {
     "data": {
      "image/png": "[encoded data removed]",
      "text/plain": [
       "<Figure size 432x288 with 1 Axes>"
      ]
     },
     "metadata": {
      "needs_background": "light"
     },
     "output_type": "display_data"
    },
    {
     "data": {
      "image/png": "[encoded data removed]",
      "text/plain": [
       "<Figure size 432x288 with 1 Axes>"
      ]
     },
     "metadata": {
      "needs_background": "light"
     },
     "output_type": "display_data"
    },
    {
     "data": {
      "image/png": "[encoded data removed]",
      "text/plain": [
       "<Figure size 432x288 with 1 Axes>"
      ]
     },
     "metadata": {
      "needs_background": "light"
     },
     "output_type": "display_data"
    },
    {
     "data": {
      "image/png": "[encoded data removed]",
      "text/plain": [
       "<Figure size 432x288 with 1 Axes>"
      ]
     },
     "metadata": {
      "needs_background": "light"
     },
     "output_type": "display_data"
    }
   ],
   "source": [
    "my_df_numeric[new_numeric_vars].hist()\n",
    "plt.show()\n",
    "for x in new_numeric_vars:\n",
    "    my_df_numeric[x].plot.box()\n",
    "    plt.show()"
   ]
  },
  {
   "cell_type": "markdown",
   "metadata": {},
   "source": [
    "**Q7.** Based on the plots of the previous step, are all these new variables **symmetric** (non-skewed) and do they all have a similar range of values? Explain.\n",
    "\n",
    "**Answer**: yes they have similar range of values, and are symmetric *except* `long_log_scaled` and `sqft_lot_scaled`."
   ]
  },
  {
   "cell_type": "code",
   "execution_count": null,
   "metadata": {},
   "outputs": [],
   "source": []
  },
  {
   "cell_type": "markdown",
   "metadata": {},
   "source": [
    "## Part 3: Feature engineering of _categorical_ attributes\n",
    "\n",
    "The following questions are about the `view` variable which is *categorical* (see the data summary at the top of this file).\n",
    "\n",
    "1. What are the two least frequent categories in this variable?  *Hint*: call the `value_counts` method ...\n",
    "\n",
    "2. Plot the distribution of this variable as a **bar plot**.  *But be careful*: you should first call `value_counts` before calling `plot` ...\n",
    "\n",
    "3. Combine the two smallest categories into a single category having value 6. Put the result in the same column (that is, do not create a new column). You can verify your result by calling the `value_counts` method again ...\n",
    "\n",
    "4. Apply **one-hot encoding** on this attribute. Put the result in a new data frame called `view_one_hot_df`.\n",
    "\n",
    "5. Verify the shape of this new data frame.\n",
    "\n",
    "6. Verify the contents of this new data frame by calling `describe`."
   ]
  },
  {
   "cell_type": "code",
   "execution_count": 46,
   "metadata": {},
   "outputs": [
    {
     "data": {
      "text/plain": [
       "0    19489\n",
       "2      963\n",
       "3      510\n",
       "1      332\n",
       "4      319\n",
       "Name: view, dtype: int64"
      ]
     },
     "execution_count": 46,
     "metadata": {},
     "output_type": "execute_result"
    }
   ],
   "source": [
    "#Q1. What are the two least frequent categories in this variable?\n",
    "\n",
    "house_sales_df.view.value_counts()"
   ]
  },
  {
   "cell_type": "markdown",
   "metadata": {},
   "source": [
    "**Answer:** The two least frequent categories are 1 and 4."
   ]
  },
  {
   "cell_type": "code",
   "execution_count": 47,
   "metadata": {},
   "outputs": [
    {
     "data": {
      "text/plain": [
       "<matplotlib.axes._subplots.AxesSubplot at 0x1ea8e92d160>"
      ]
     },
     "execution_count": 47,
     "metadata": {},
     "output_type": "execute_result"
    },
    {
     "data": {
      "image/png": "[encoded data removed]",
      "text/plain": [
       "<Figure size 432x288 with 1 Axes>"
      ]
     },
     "metadata": {
      "needs_background": "light"
     },
     "output_type": "display_data"
    }
   ],
   "source": [
    "#Q2. Plot the distribution of this variable as a **bar plot**. \n",
    "\n",
    "house_sales_df.view.value_counts().plot.bar()"
   ]
  },
  {
   "cell_type": "code",
   "execution_count": 48,
   "metadata": {},
   "outputs": [
    {
     "data": {
      "text/plain": [
       "0    19489\n",
       "2      963\n",
       "3      510\n",
       "1      332\n",
       "4      319\n",
       "Name: view, dtype: int64"
      ]
     },
     "execution_count": 48,
     "metadata": {},
     "output_type": "execute_result"
    }
   ],
   "source": [
    "#Q3. Combine the two smallest categories into a single category having value 6. Put the result in the same column (that is, do not create a new column). \n",
    "\n",
    "u = house_sales_df.view.value_counts()\n",
    "u"
   ]
  },
  {
   "cell_type": "code",
   "execution_count": 49,
   "metadata": {},
   "outputs": [
    {
     "data": {
      "text/plain": [
       "Int64Index([1, 4], dtype='int64')"
      ]
     },
     "execution_count": 49,
     "metadata": {},
     "output_type": "execute_result"
    }
   ],
   "source": [
    "u.tail(2).index"
   ]
  },
  {
   "cell_type": "code",
   "execution_count": 50,
   "metadata": {},
   "outputs": [
    {
     "data": {
      "text/plain": [
       "0    19489\n",
       "2      963\n",
       "6      651\n",
       "3      510\n",
       "Name: view, dtype: int64"
      ]
     },
     "execution_count": 50,
     "metadata": {},
     "output_type": "execute_result"
    }
   ],
   "source": [
    "idx = house_sales_df.view.isin(u.tail(2).index)\n",
    "house_sales_df.loc[idx,'view'] = 6\n",
    "\n",
    "house_sales_df.view.value_counts()"
   ]
  },
  {
   "cell_type": "code",
   "execution_count": 51,
   "metadata": {},
   "outputs": [
    {
     "data": {
      "text/plain": [
       "(21613, 4)"
      ]
     },
     "execution_count": 51,
     "metadata": {},
     "output_type": "execute_result"
    }
   ],
   "source": [
    "#Q4. Apply **one-hot encoding** on this attribute. Put the result in a new data frame called `view_one_hot_df`.\n",
    "\n",
    "view_one_hot_df = pd.get_dummies(house_sales_df.view)"
   ]
  },
  {
   "cell_type": "code",
   "execution_count": 52,
   "metadata": {},
   "outputs": [
    {
     "data": {
      "text/html": [
       "<div>\n",
       "<style scoped>\n",
       "    .dataframe tbody tr th:only-of-type {\n",
       "        vertical-align: middle;\n",
       "    }\n",
       "\n",
       "    .dataframe tbody tr th {\n",
       "        vertical-align: top;\n",
       "    }\n",
       "\n",
       "    .dataframe thead th {\n",
       "        text-align: right;\n",
       "    }\n",
       "</style>\n",
       "<table border=\"1\" class=\"dataframe\">\n",
       "  <thead>\n",
       "    <tr style=\"text-align: right;\">\n",
       "      <th></th>\n",
       "      <th>0</th>\n",
       "      <th>2</th>\n",
       "      <th>3</th>\n",
       "      <th>6</th>\n",
       "    </tr>\n",
       "  </thead>\n",
       "  <tbody>\n",
       "    <tr>\n",
       "      <th>0</th>\n",
       "      <td>1</td>\n",
       "      <td>0</td>\n",
       "      <td>0</td>\n",
       "      <td>0</td>\n",
       "    </tr>\n",
       "    <tr>\n",
       "      <th>1</th>\n",
       "      <td>1</td>\n",
       "      <td>0</td>\n",
       "      <td>0</td>\n",
       "      <td>0</td>\n",
       "    </tr>\n",
       "    <tr>\n",
       "      <th>2</th>\n",
       "      <td>1</td>\n",
       "      <td>0</td>\n",
       "      <td>0</td>\n",
       "      <td>0</td>\n",
       "    </tr>\n",
       "    <tr>\n",
       "      <th>3</th>\n",
       "      <td>1</td>\n",
       "      <td>0</td>\n",
       "      <td>0</td>\n",
       "      <td>0</td>\n",
       "    </tr>\n",
       "    <tr>\n",
       "      <th>4</th>\n",
       "      <td>1</td>\n",
       "      <td>0</td>\n",
       "      <td>0</td>\n",
       "      <td>0</td>\n",
       "    </tr>\n",
       "  </tbody>\n",
       "</table>\n",
       "</div>"
      ],
      "text/plain": [
       "   0  2  3  6\n",
       "0  1  0  0  0\n",
       "1  1  0  0  0\n",
       "2  1  0  0  0\n",
       "3  1  0  0  0\n",
       "4  1  0  0  0"
      ]
     },
     "execution_count": 52,
     "metadata": {},
     "output_type": "execute_result"
    }
   ],
   "source": [
    "view_one_hot_df.head()"
   ]
  },
  {
   "cell_type": "code",
   "execution_count": null,
   "metadata": {},
   "outputs": [],
   "source": [
    "#Q5. Verify the shape of this new data frame.\n",
    "\n",
    "view_one_hot_df.shape"
   ]
  },
  {
   "cell_type": "code",
   "execution_count": 53,
   "metadata": {},
   "outputs": [
    {
     "data": {
      "text/html": [
       "<div>\n",
       "<style scoped>\n",
       "    .dataframe tbody tr th:only-of-type {\n",
       "        vertical-align: middle;\n",
       "    }\n",
       "\n",
       "    .dataframe tbody tr th {\n",
       "        vertical-align: top;\n",
       "    }\n",
       "\n",
       "    .dataframe thead th {\n",
       "        text-align: right;\n",
       "    }\n",
       "</style>\n",
       "<table border=\"1\" class=\"dataframe\">\n",
       "  <thead>\n",
       "    <tr style=\"text-align: right;\">\n",
       "      <th></th>\n",
       "      <th>0</th>\n",
       "      <th>2</th>\n",
       "      <th>3</th>\n",
       "      <th>6</th>\n",
       "    </tr>\n",
       "  </thead>\n",
       "  <tbody>\n",
       "    <tr>\n",
       "      <th>count</th>\n",
       "      <td>21613.000000</td>\n",
       "      <td>21613.000000</td>\n",
       "      <td>21613.000000</td>\n",
       "      <td>21613.000000</td>\n",
       "    </tr>\n",
       "    <tr>\n",
       "      <th>mean</th>\n",
       "      <td>0.901726</td>\n",
       "      <td>0.044557</td>\n",
       "      <td>0.023597</td>\n",
       "      <td>0.030121</td>\n",
       "    </tr>\n",
       "    <tr>\n",
       "      <th>std</th>\n",
       "      <td>0.297692</td>\n",
       "      <td>0.206333</td>\n",
       "      <td>0.151793</td>\n",
       "      <td>0.170924</td>\n",
       "    </tr>\n",
       "    <tr>\n",
       "      <th>min</th>\n",
       "      <td>0.000000</td>\n",
       "      <td>0.000000</td>\n",
       "      <td>0.000000</td>\n",
       "      <td>0.000000</td>\n",
       "    </tr>\n",
       "    <tr>\n",
       "      <th>25%</th>\n",
       "      <td>1.000000</td>\n",
       "      <td>0.000000</td>\n",
       "      <td>0.000000</td>\n",
       "      <td>0.000000</td>\n",
       "    </tr>\n",
       "    <tr>\n",
       "      <th>50%</th>\n",
       "      <td>1.000000</td>\n",
       "      <td>0.000000</td>\n",
       "      <td>0.000000</td>\n",
       "      <td>0.000000</td>\n",
       "    </tr>\n",
       "    <tr>\n",
       "      <th>75%</th>\n",
       "      <td>1.000000</td>\n",
       "      <td>0.000000</td>\n",
       "      <td>0.000000</td>\n",
       "      <td>0.000000</td>\n",
       "    </tr>\n",
       "    <tr>\n",
       "      <th>max</th>\n",
       "      <td>1.000000</td>\n",
       "      <td>1.000000</td>\n",
       "      <td>1.000000</td>\n",
       "      <td>1.000000</td>\n",
       "    </tr>\n",
       "  </tbody>\n",
       "</table>\n",
       "</div>"
      ],
      "text/plain": [
       "                  0             2             3             6\n",
       "count  21613.000000  21613.000000  21613.000000  21613.000000\n",
       "mean       0.901726      0.044557      0.023597      0.030121\n",
       "std        0.297692      0.206333      0.151793      0.170924\n",
       "min        0.000000      0.000000      0.000000      0.000000\n",
       "25%        1.000000      0.000000      0.000000      0.000000\n",
       "50%        1.000000      0.000000      0.000000      0.000000\n",
       "75%        1.000000      0.000000      0.000000      0.000000\n",
       "max        1.000000      1.000000      1.000000      1.000000"
      ]
     },
     "execution_count": 53,
     "metadata": {},
     "output_type": "execute_result"
    }
   ],
   "source": [
    "#Q6. Verify the contents of this new data frame by calling `describe`.\n",
    "\n",
    "view_one_hot_df.describe()"
   ]
  },
  {
   "cell_type": "markdown",
   "metadata": {},
   "source": [
    "## Part 4: Converting dates  [BONUS]\n",
    "\n",
    "Transform the `sale_date` variable into 3 new variables `year`, `month`, `day`. Put the result in a new data frame called `sale_date_df`. *Hint*: you can use regular expressions, but you really don't have to; there is a much simpler method using `split` method."
   ]
  },
  {
   "cell_type": "code",
   "execution_count": 54,
   "metadata": {},
   "outputs": [
    {
     "data": {
      "text/plain": [
       "0    20141013T000000\n",
       "1    20141209T000000\n",
       "2    20150225T000000\n",
       "3    20141209T000000\n",
       "4    20150218T000000\n",
       "Name: sale_date, dtype: object"
      ]
     },
     "execution_count": 54,
     "metadata": {},
     "output_type": "execute_result"
    }
   ],
   "source": [
    "house_sales_df.sale_date.head()"
   ]
  },
  {
   "cell_type": "code",
   "execution_count": 63,
   "metadata": {},
   "outputs": [
    {
     "data": {
      "text/plain": [
       "pandas.core.series.Series"
      ]
     },
     "execution_count": 63,
     "metadata": {},
     "output_type": "execute_result"
    }
   ],
   "source": [
    "u = house_sales_df.sale_date.map(lambda x: (x[0:4],x[4:6],x[6:8]))\n",
    "type(u)"
   ]
  },
  {
   "cell_type": "code",
   "execution_count": 64,
   "metadata": {},
   "outputs": [
    {
     "data": {
      "text/plain": [
       "0    (2014, 10, 13)\n",
       "1    (2014, 12, 09)\n",
       "2    (2015, 02, 25)\n",
       "3    (2014, 12, 09)\n",
       "4    (2015, 02, 18)\n",
       "Name: sale_date, dtype: object"
      ]
     },
     "execution_count": 64,
     "metadata": {},
     "output_type": "execute_result"
    }
   ],
   "source": [
    "u.head()"
   ]
  },
  {
   "cell_type": "code",
   "execution_count": 62,
   "metadata": {},
   "outputs": [
    {
     "data": {
      "text/html": [
       "<div>\n",
       "<style scoped>\n",
       "    .dataframe tbody tr th:only-of-type {\n",
       "        vertical-align: middle;\n",
       "    }\n",
       "\n",
       "    .dataframe tbody tr th {\n",
       "        vertical-align: top;\n",
       "    }\n",
       "\n",
       "    .dataframe thead th {\n",
       "        text-align: right;\n",
       "    }\n",
       "</style>\n",
       "<table border=\"1\" class=\"dataframe\">\n",
       "  <thead>\n",
       "    <tr style=\"text-align: right;\">\n",
       "      <th></th>\n",
       "      <th>year</th>\n",
       "      <th>month</th>\n",
       "      <th>day</th>\n",
       "    </tr>\n",
       "  </thead>\n",
       "  <tbody>\n",
       "    <tr>\n",
       "      <th>0</th>\n",
       "      <td>2014</td>\n",
       "      <td>10</td>\n",
       "      <td>13</td>\n",
       "    </tr>\n",
       "    <tr>\n",
       "      <th>1</th>\n",
       "      <td>2014</td>\n",
       "      <td>12</td>\n",
       "      <td>09</td>\n",
       "    </tr>\n",
       "    <tr>\n",
       "      <th>2</th>\n",
       "      <td>2015</td>\n",
       "      <td>02</td>\n",
       "      <td>25</td>\n",
       "    </tr>\n",
       "    <tr>\n",
       "      <th>3</th>\n",
       "      <td>2014</td>\n",
       "      <td>12</td>\n",
       "      <td>09</td>\n",
       "    </tr>\n",
       "    <tr>\n",
       "      <th>4</th>\n",
       "      <td>2015</td>\n",
       "      <td>02</td>\n",
       "      <td>18</td>\n",
       "    </tr>\n",
       "  </tbody>\n",
       "</table>\n",
       "</div>"
      ],
      "text/plain": [
       "   year month day\n",
       "0  2014    10  13\n",
       "1  2014    12  09\n",
       "2  2015    02  25\n",
       "3  2014    12  09\n",
       "4  2015    02  18"
      ]
     },
     "execution_count": 62,
     "metadata": {},
     "output_type": "execute_result"
    }
   ],
   "source": [
    "sale_date_df = pd.DataFrame(u.tolist())\n",
    "sale_date_df.columns = ['year','month','day']\n",
    "sale_date_df.head()"
   ]
  },
  {
   "cell_type": "code",
   "execution_count": null,
   "metadata": {},
   "outputs": [],
   "source": []
  },
  {
   "cell_type": "code",
   "execution_count": null,
   "metadata": {},
   "outputs": [],
   "source": []
  },
  {
   "cell_type": "markdown",
   "metadata": {},
   "source": [
    "*****"
   ]
  }
 ],
 "metadata": {
  "kernelspec": {
   "display_name": "Python 3",
   "language": "python",
   "name": "python3"
  },
  "language_info": {
   "codemirror_mode": {
    "name": "ipython",
    "version": 3
   },
   "file_extension": ".py",
   "mimetype": "text/x-python",
   "name": "python",
   "nbconvert_exporter": "python",
   "pygments_lexer": "ipython3",
   "version": "3.6.8"
  }
 },
 "nbformat": 4,
 "nbformat_minor": 2
}
