{
 "cells": [
  {
   "cell_type": "markdown",
   "metadata": {},
   "source": [
    "Sep. 26, 2019"
   ]
  },
  {
   "cell_type": "markdown",
   "metadata": {},
   "source": [
    "**Write your names in the cell below**"
   ]
  },
  {
   "cell_type": "code",
   "execution_count": null,
   "metadata": {},
   "outputs": [],
   "source": []
  },
  {
   "cell_type": "markdown",
   "metadata": {},
   "source": [
    "**Write names of the 4 variables assigned to your group** (based on file variable_assignments.txt)"
   ]
  },
  {
   "cell_type": "code",
   "execution_count": null,
   "metadata": {},
   "outputs": [],
   "source": [
    "smokday2,chccopd1,menthlth,height3"
   ]
  },
  {
   "cell_type": "markdown",
   "metadata": {},
   "source": [
    "****"
   ]
  },
  {
   "cell_type": "markdown",
   "metadata": {},
   "source": [
    "## Overview of the Data"
   ]
  },
  {
   "cell_type": "markdown",
   "metadata": {},
   "source": [
    "The BRFSS (Behavioral Risk Factor Surveillance System) data was collected during the period 2013-2014 via monthly telephone-based surveys of randomly selected persons in the US. The rows in this data represent unique persons and the columns represent various demographic, life style, behavioral and health-related information about the interviewed persons.  Data website: https://www.cdc.gov/brfss/annual_data/annual_2013.html\n",
    "\n",
    "All variables in this dataset are coded (represented) with numeric values, but many of them are truly categorical."
   ]
  },
  {
   "cell_type": "markdown",
   "metadata": {},
   "source": [
    "****"
   ]
  },
  {
   "cell_type": "markdown",
   "metadata": {},
   "source": [
    "<font color='red'> **Files you will need ** </font> \n",
    "\n",
    "- File `brfss2013_sub.csv` : contains the data.\n",
    "- File `data_codebook.html` : contains information about the data variables.\n",
    "- File `variable_assignments_ISID.txt` : contains names of variables assigned to each group.\n",
    "- File `TP2_Data_Cleaning.ipynb` : contains source code."
   ]
  },
  {
   "cell_type": "markdown",
   "metadata": {},
   "source": [
    "<font color='red'> **What you will do** </font> \n",
    "\n",
    "- Follow the instructions below and answer the questions.\n",
    "\n",
    "- Your answers will generally consist of a mix of code and explanations.\n",
    "\n",
    "- Feel free to create new cells to write your answers.\n",
    "\n",
    "- Submit your modified .ipynb file containing your answers to the questions below."
   ]
  },
  {
   "cell_type": "markdown",
   "metadata": {},
   "source": [
    "******"
   ]
  },
  {
   "cell_type": "markdown",
   "metadata": {},
   "source": [
    "## Useful functions and methods"
   ]
  },
  {
   "cell_type": "markdown",
   "metadata": {},
   "source": [
    "\n",
    "**Data exploration**\n",
    "\n",
    "- head, shape, columns, describe, value_counts, unique, nunique, plot\n",
    "\n",
    "**Data type conversions**\n",
    "\n",
    "- `pd.to_numeric` (Pandas function)\n",
    "- `astype` (Pandas method)\n",
    "\n",
    "**Dealing with missing values**\n",
    "- `isna` (Pandas method)\n",
    "- `fillna` (Pandas method)\n",
    "- `dropna` (Pandas method)"
   ]
  },
  {
   "cell_type": "markdown",
   "metadata": {},
   "source": [
    "*****"
   ]
  },
  {
   "cell_type": "markdown",
   "metadata": {},
   "source": [
    "- to execute a cell, <font color='red'>shift+enter</font>\n",
    "- to insert a new cell, press the <font color='red'>**+** button</font> in the top menu\n",
    "- to obtain <font color='red'>help</font> about any method or function use ?\n",
    "\n",
    "?pd.read_csv\n",
    "\n",
    "?df.idate.isnull"
   ]
  },
  {
   "cell_type": "markdown",
   "metadata": {},
   "source": [
    "## Part 1: Read the Data\n",
    "\n",
    "Answer the following questions.  You need to write python code for some questions.\n",
    "\n",
    "1. Read the data in file `brfss2013_sub.csv` and store it in a data frame called `df`\n",
    "2. How many rows and columns are in this data frame?\n",
    "3. What are the names and true types of the first 5 columns?\n",
    "4. Are any of these first 5 columns useful for data mining? Explain."
   ]
  },
  {
   "cell_type": "code",
   "execution_count": 1,
   "metadata": {},
   "outputs": [],
   "source": [
    "import numpy as np\n",
    "import pandas as pd"
   ]
  },
  {
   "cell_type": "code",
   "execution_count": 2,
   "metadata": {},
   "outputs": [],
   "source": [
    "from matplotlib import pyplot as plt\n",
    "%matplotlib inline"
   ]
  },
  {
   "cell_type": "code",
   "execution_count": 8,
   "metadata": {},
   "outputs": [],
   "source": [
    "df=pd.read_csv('brfss2013_SUB.csv')"
   ]
  },
  {
   "cell_type": "code",
   "execution_count": 9,
   "metadata": {},
   "outputs": [
    {
     "data": {
      "text/plain": [
       "(100000, 91)"
      ]
     },
     "execution_count": 9,
     "metadata": {},
     "output_type": "execute_result"
    }
   ],
   "source": [
    "df.shape"
   ]
  },
  {
   "cell_type": "code",
   "execution_count": 10,
   "metadata": {},
   "outputs": [
    {
     "data": {
      "text/html": [
       "<div>\n",
       "<style scoped>\n",
       "    .dataframe tbody tr th:only-of-type {\n",
       "        vertical-align: middle;\n",
       "    }\n",
       "\n",
       "    .dataframe tbody tr th {\n",
       "        vertical-align: top;\n",
       "    }\n",
       "\n",
       "    .dataframe thead th {\n",
       "        text-align: right;\n",
       "    }\n",
       "</style>\n",
       "<table border=\"1\" class=\"dataframe\">\n",
       "  <thead>\n",
       "    <tr style=\"text-align: right;\">\n",
       "      <th></th>\n",
       "      <th>idate</th>\n",
       "      <th>imonth</th>\n",
       "      <th>iday</th>\n",
       "      <th>iyear</th>\n",
       "      <th>dispcode</th>\n",
       "      <th>seqno</th>\n",
       "      <th>ladult</th>\n",
       "      <th>numadult</th>\n",
       "      <th>nummen</th>\n",
       "      <th>numwomen</th>\n",
       "      <th>...</th>\n",
       "      <th>seatbelt</th>\n",
       "      <th>flushot6</th>\n",
       "      <th>flshtmy2</th>\n",
       "      <th>tetanus</th>\n",
       "      <th>pneuvac3</th>\n",
       "      <th>hivtst6</th>\n",
       "      <th>hivtstd3</th>\n",
       "      <th>whrtst10</th>\n",
       "      <th>x.imprace</th>\n",
       "      <th>x.age.g</th>\n",
       "    </tr>\n",
       "  </thead>\n",
       "  <tbody>\n",
       "    <tr>\n",
       "      <th>0</th>\n",
       "      <td>4302013</td>\n",
       "      <td>4</td>\n",
       "      <td>30</td>\n",
       "      <td>2013</td>\n",
       "      <td>1100</td>\n",
       "      <td>2013009711</td>\n",
       "      <td>NaN</td>\n",
       "      <td>1.0</td>\n",
       "      <td>0.0</td>\n",
       "      <td>1.0</td>\n",
       "      <td>...</td>\n",
       "      <td>1.0</td>\n",
       "      <td>1.0</td>\n",
       "      <td>102012.0</td>\n",
       "      <td>1.0</td>\n",
       "      <td>1.0</td>\n",
       "      <td>1.0</td>\n",
       "      <td>82012.0</td>\n",
       "      <td>4.0</td>\n",
       "      <td>1</td>\n",
       "      <td>5</td>\n",
       "    </tr>\n",
       "    <tr>\n",
       "      <th>1</th>\n",
       "      <td>4242013</td>\n",
       "      <td>4</td>\n",
       "      <td>24</td>\n",
       "      <td>2013</td>\n",
       "      <td>1100</td>\n",
       "      <td>2013003472</td>\n",
       "      <td>NaN</td>\n",
       "      <td>1.0</td>\n",
       "      <td>1.0</td>\n",
       "      <td>0.0</td>\n",
       "      <td>...</td>\n",
       "      <td>1.0</td>\n",
       "      <td>1.0</td>\n",
       "      <td>92012.0</td>\n",
       "      <td>4.0</td>\n",
       "      <td>1.0</td>\n",
       "      <td>2.0</td>\n",
       "      <td>NaN</td>\n",
       "      <td>NaN</td>\n",
       "      <td>1</td>\n",
       "      <td>5</td>\n",
       "    </tr>\n",
       "    <tr>\n",
       "      <th>2</th>\n",
       "      <td>10232013</td>\n",
       "      <td>10</td>\n",
       "      <td>23</td>\n",
       "      <td>2013</td>\n",
       "      <td>1100</td>\n",
       "      <td>2013006428</td>\n",
       "      <td>NaN</td>\n",
       "      <td>1.0</td>\n",
       "      <td>0.0</td>\n",
       "      <td>1.0</td>\n",
       "      <td>...</td>\n",
       "      <td>1.0</td>\n",
       "      <td>1.0</td>\n",
       "      <td>102013.0</td>\n",
       "      <td>4.0</td>\n",
       "      <td>1.0</td>\n",
       "      <td>2.0</td>\n",
       "      <td>NaN</td>\n",
       "      <td>NaN</td>\n",
       "      <td>1</td>\n",
       "      <td>6</td>\n",
       "    </tr>\n",
       "    <tr>\n",
       "      <th>3</th>\n",
       "      <td>1192013</td>\n",
       "      <td>1</td>\n",
       "      <td>19</td>\n",
       "      <td>2013</td>\n",
       "      <td>1100</td>\n",
       "      <td>2013000091</td>\n",
       "      <td>NaN</td>\n",
       "      <td>1.0</td>\n",
       "      <td>0.0</td>\n",
       "      <td>1.0</td>\n",
       "      <td>...</td>\n",
       "      <td>1.0</td>\n",
       "      <td>2.0</td>\n",
       "      <td>NaN</td>\n",
       "      <td>4.0</td>\n",
       "      <td>2.0</td>\n",
       "      <td>2.0</td>\n",
       "      <td>NaN</td>\n",
       "      <td>NaN</td>\n",
       "      <td>6</td>\n",
       "      <td>6</td>\n",
       "    </tr>\n",
       "    <tr>\n",
       "      <th>4</th>\n",
       "      <td>12052013</td>\n",
       "      <td>12</td>\n",
       "      <td>5</td>\n",
       "      <td>2013</td>\n",
       "      <td>1100</td>\n",
       "      <td>2013004518</td>\n",
       "      <td>NaN</td>\n",
       "      <td>1.0</td>\n",
       "      <td>0.0</td>\n",
       "      <td>1.0</td>\n",
       "      <td>...</td>\n",
       "      <td>1.0</td>\n",
       "      <td>2.0</td>\n",
       "      <td>NaN</td>\n",
       "      <td>4.0</td>\n",
       "      <td>2.0</td>\n",
       "      <td>2.0</td>\n",
       "      <td>NaN</td>\n",
       "      <td>NaN</td>\n",
       "      <td>1</td>\n",
       "      <td>6</td>\n",
       "    </tr>\n",
       "  </tbody>\n",
       "</table>\n",
       "<p>5 rows × 91 columns</p>\n",
       "</div>"
      ],
      "text/plain": [
       "      idate  imonth  iday  iyear  dispcode       seqno  ladult  numadult  \\\n",
       "0   4302013       4    30   2013      1100  2013009711     NaN       1.0   \n",
       "1   4242013       4    24   2013      1100  2013003472     NaN       1.0   \n",
       "2  10232013      10    23   2013      1100  2013006428     NaN       1.0   \n",
       "3   1192013       1    19   2013      1100  2013000091     NaN       1.0   \n",
       "4  12052013      12     5   2013      1100  2013004518     NaN       1.0   \n",
       "\n",
       "   nummen  numwomen  ...  seatbelt  flushot6  flshtmy2  tetanus  pneuvac3  \\\n",
       "0     0.0       1.0  ...       1.0       1.0  102012.0      1.0       1.0   \n",
       "1     1.0       0.0  ...       1.0       1.0   92012.0      4.0       1.0   \n",
       "2     0.0       1.0  ...       1.0       1.0  102013.0      4.0       1.0   \n",
       "3     0.0       1.0  ...       1.0       2.0       NaN      4.0       2.0   \n",
       "4     0.0       1.0  ...       1.0       2.0       NaN      4.0       2.0   \n",
       "\n",
       "   hivtst6  hivtstd3  whrtst10  x.imprace  x.age.g  \n",
       "0      1.0   82012.0       4.0          1        5  \n",
       "1      2.0       NaN       NaN          1        5  \n",
       "2      2.0       NaN       NaN          1        6  \n",
       "3      2.0       NaN       NaN          6        6  \n",
       "4      2.0       NaN       NaN          1        6  \n",
       "\n",
       "[5 rows x 91 columns]"
      ]
     },
     "execution_count": 10,
     "metadata": {},
     "output_type": "execute_result"
    }
   ],
   "source": [
    "df.head()"
   ]
  },
  {
   "cell_type": "code",
   "execution_count": 11,
   "metadata": {},
   "outputs": [
    {
     "data": {
      "text/plain": [
       "idate          int64\n",
       "imonth         int64\n",
       "iday           int64\n",
       "iyear          int64\n",
       "dispcode       int64\n",
       "seqno          int64\n",
       "ladult       float64\n",
       "numadult     float64\n",
       "nummen       float64\n",
       "numwomen     float64\n",
       "genhlth      float64\n",
       "physhlth     float64\n",
       "menthlth     float64\n",
       "poorhlth     float64\n",
       "hlthpln1       int64\n",
       "persdoc2       int64\n",
       "medcost        int64\n",
       "checkup1       int64\n",
       "sleptim1       int64\n",
       "bphigh4      float64\n",
       "bpmeds       float64\n",
       "bloodcho       int64\n",
       "cholchk      float64\n",
       "toldhi2      float64\n",
       "cvdinfr4     float64\n",
       "cvdcrhd4       int64\n",
       "cvdstrk3       int64\n",
       "asthma3        int64\n",
       "asthnow      float64\n",
       "chcscncr       int64\n",
       "              ...   \n",
       "drnk3ge5     float64\n",
       "maxdrnks     float64\n",
       "fruitju1     float64\n",
       "fruit1       float64\n",
       "fvbeans      float64\n",
       "fvgreen      float64\n",
       "fvorang      float64\n",
       "vegetab1     float64\n",
       "exerany2     float64\n",
       "exract11     float64\n",
       "exeroft1     float64\n",
       "exerhmm1     float64\n",
       "exract21     float64\n",
       "exeroft2     float64\n",
       "exerhmm2     float64\n",
       "strength     float64\n",
       "lmtjoin3     float64\n",
       "arthdis2     float64\n",
       "arthsocl     float64\n",
       "joinpain     float64\n",
       "seatbelt     float64\n",
       "flushot6     float64\n",
       "flshtmy2     float64\n",
       "tetanus      float64\n",
       "pneuvac3     float64\n",
       "hivtst6      float64\n",
       "hivtstd3     float64\n",
       "whrtst10     float64\n",
       "x.imprace      int64\n",
       "x.age.g        int64\n",
       "Length: 91, dtype: object"
      ]
     },
     "execution_count": 11,
     "metadata": {},
     "output_type": "execute_result"
    }
   ],
   "source": [
    "df.dtypes"
   ]
  },
  {
   "cell_type": "code",
   "execution_count": null,
   "metadata": {},
   "outputs": [],
   "source": []
  },
  {
   "cell_type": "code",
   "execution_count": null,
   "metadata": {},
   "outputs": [],
   "source": []
  },
  {
   "cell_type": "code",
   "execution_count": null,
   "metadata": {},
   "outputs": [],
   "source": []
  },
  {
   "cell_type": "markdown",
   "metadata": {},
   "source": [
    "******"
   ]
  },
  {
   "cell_type": "markdown",
   "metadata": {},
   "source": [
    "## Part 2: Data Exploration and Cleaning\n",
    "\n",
    "Answer the questions below.\n",
    "\n",
    "1. Create a list called `my_vars_names` containing the names of the 4 variables that were assigned to your group.\n",
    "\n",
    "2. Create a new data frame called `my_df` as a subset of `df` containing only the columns in `my_vars_names`.\n",
    "\n",
    "3. Verify the shape of this new data frame; Make sure its number of rows is the same as in `df`.\n",
    "\n",
    "4. Determine the **true** type of each variable based on its description in file `data_codebook.html`; is it *categorical*, *discrete*, *continuous*, or **other** ?\n",
    "\n",
    "5. For each truly *categorical* variable, convert it to the *category* type by calling the `astype` method ...\n",
    "\n",
    "6. For each numeric variable, determine the unit(s) of measurement of its values based on the description in file `data_codebook.html`. For example: number of times per week; kilograms, etc.  **Be careful**: some variables contain values with different measurement units. For example, the **weight2** variable contains both values in *pounds* and values in *kilograms*! ...\n",
    "\n",
    "7. For each numeric variable, determine whether it contains any invalid values; that is, values that are inconsistent with the variable's description in file `data_codebook.html`. **Hint**: the `describe` and `unique` methods are helpful ...\n",
    "\n",
    "8. For each numeric variable, determine whether it contains outliers. **Hint1**: start by visualizing the distribution of the variable using a boxplot or histogram.  **Hint2**: if your variable has multiple units of measurement, use different plots for different units ...\n",
    "\n",
    "9. For each categorical variable, how many categories does it have? **Hint**: call the `nunique` and/or `value_counts` methods ...\n",
    "\n",
    "10. For each variable, if it contains **implicitly** encoded missing values, then replace those values with the explicit NAN value `np.nan`\n",
    "\n",
    "11. How many missing values does each variable contain? **Hint**: call the `isnull` method followed by the `sum` method ...\n",
    "\n",
    "12. Which variables should be removed because they contain too many missing values (more than 30%)?  **Hint**: call `isnull` followed by `mean` in order to obtain the fraction of missing values for each variable.\n",
    "\n",
    "13. Remove all variables from `my_df` that contain more than 30% missing values. Put the result in a new data frame called `my_df_without_noisy_variables`. Display the shape of this data frame.\n",
    "\n",
    "14. Remove all rows from `my_df` that contain missing values by calling the `dropna` method. Put the result in a new data frame called `my_df_without_missing`.  Display the shape of this new data frame.  **Hint**: carefully read the documentation of the `dropna` method using the command `?my_df.dropna`.\n",
    "\n",
    "15. Based on the result of the previous question, do you think it's a good idea to handle missing values by removing the entire row? Explain.\n",
    "\n",
    "16. For each numeric variable that has less than 30% missing values, replace its missing values with its *median* value, and put the result in the SAME data frame `my_df`. You should call the `fillna` method SEPARATELY on each variable, with the parameter `inplace=True`.\n",
    "\n",
    "17. For each categorical variable that has less than 30% missing values, replace its missing values with the *most frequent* value and put the result in the SAME data frame `my_df`, by calling the `fillna` method SEPARATELY on each variable, with `inplace=True`."
   ]
  },
  {
   "cell_type": "code",
   "execution_count": 12,
   "metadata": {},
   "outputs": [],
   "source": [
    "my_vars_names=['smokday2','chccopd1','menthlth','height3']"
   ]
  },
  {
   "cell_type": "code",
   "execution_count": 13,
   "metadata": {},
   "outputs": [],
   "source": [
    "my_df=df[my_vars_names]"
   ]
  },
  {
   "cell_type": "code",
   "execution_count": 14,
   "metadata": {},
   "outputs": [
    {
     "data": {
      "text/plain": [
       "(100000, 4)"
      ]
     },
     "execution_count": 14,
     "metadata": {},
     "output_type": "execute_result"
    }
   ],
   "source": [
    "my_df.shape"
   ]
  },
  {
   "cell_type": "code",
   "execution_count": 15,
   "metadata": {},
   "outputs": [
    {
     "data": {
      "text/html": [
       "<div>\n",
       "<style scoped>\n",
       "    .dataframe tbody tr th:only-of-type {\n",
       "        vertical-align: middle;\n",
       "    }\n",
       "\n",
       "    .dataframe tbody tr th {\n",
       "        vertical-align: top;\n",
       "    }\n",
       "\n",
       "    .dataframe thead th {\n",
       "        text-align: right;\n",
       "    }\n",
       "</style>\n",
       "<table border=\"1\" class=\"dataframe\">\n",
       "  <thead>\n",
       "    <tr style=\"text-align: right;\">\n",
       "      <th></th>\n",
       "      <th>smokday2</th>\n",
       "      <th>chccopd1</th>\n",
       "      <th>menthlth</th>\n",
       "      <th>height3</th>\n",
       "    </tr>\n",
       "  </thead>\n",
       "  <tbody>\n",
       "    <tr>\n",
       "      <th>0</th>\n",
       "      <td>2.0</td>\n",
       "      <td>2.0</td>\n",
       "      <td>1.0</td>\n",
       "      <td>501.0</td>\n",
       "    </tr>\n",
       "    <tr>\n",
       "      <th>1</th>\n",
       "      <td>2.0</td>\n",
       "      <td>2.0</td>\n",
       "      <td>88.0</td>\n",
       "      <td>602.0</td>\n",
       "    </tr>\n",
       "    <tr>\n",
       "      <th>2</th>\n",
       "      <td>3.0</td>\n",
       "      <td>2.0</td>\n",
       "      <td>88.0</td>\n",
       "      <td>503.0</td>\n",
       "    </tr>\n",
       "    <tr>\n",
       "      <th>3</th>\n",
       "      <td>3.0</td>\n",
       "      <td>2.0</td>\n",
       "      <td>88.0</td>\n",
       "      <td>500.0</td>\n",
       "    </tr>\n",
       "    <tr>\n",
       "      <th>4</th>\n",
       "      <td>NaN</td>\n",
       "      <td>2.0</td>\n",
       "      <td>15.0</td>\n",
       "      <td>503.0</td>\n",
       "    </tr>\n",
       "  </tbody>\n",
       "</table>\n",
       "</div>"
      ],
      "text/plain": [
       "   smokday2  chccopd1  menthlth  height3\n",
       "0       2.0       2.0       1.0    501.0\n",
       "1       2.0       2.0      88.0    602.0\n",
       "2       3.0       2.0      88.0    503.0\n",
       "3       3.0       2.0      88.0    500.0\n",
       "4       NaN       2.0      15.0    503.0"
      ]
     },
     "execution_count": 15,
     "metadata": {},
     "output_type": "execute_result"
    }
   ],
   "source": [
    "my_df.head()"
   ]
  },
  {
   "cell_type": "code",
   "execution_count": 16,
   "metadata": {},
   "outputs": [
    {
     "data": {
      "text/plain": [
       "smokday2    float64\n",
       "chccopd1    float64\n",
       "menthlth    float64\n",
       "height3     float64\n",
       "dtype: object"
      ]
     },
     "execution_count": 16,
     "metadata": {},
     "output_type": "execute_result"
    }
   ],
   "source": [
    "my_df.dtypes"
   ]
  },
  {
   "cell_type": "code",
   "execution_count": 17,
   "metadata": {},
   "outputs": [
    {
     "name": "stderr",
     "output_type": "stream",
     "text": [
      "/home/ubuntu/anaconda3/lib/python3.6/site-packages/ipykernel_launcher.py:1: SettingWithCopyWarning: \n",
      "A value is trying to be set on a copy of a slice from a DataFrame.\n",
      "Try using .loc[row_indexer,col_indexer] = value instead\n",
      "\n",
      "See the caveats in the documentation: http://pandas.pydata.org/pandas-docs/stable/indexing.html#indexing-view-versus-copy\n",
      "  \"\"\"Entry point for launching an IPython kernel.\n",
      "/home/ubuntu/anaconda3/lib/python3.6/site-packages/ipykernel_launcher.py:2: SettingWithCopyWarning: \n",
      "A value is trying to be set on a copy of a slice from a DataFrame.\n",
      "Try using .loc[row_indexer,col_indexer] = value instead\n",
      "\n",
      "See the caveats in the documentation: http://pandas.pydata.org/pandas-docs/stable/indexing.html#indexing-view-versus-copy\n",
      "  \n"
     ]
    }
   ],
   "source": [
    "my_df['smokday2']=my_df['smokday2'].astype('category')\n",
    "my_df['chccopd1']=my_df['chccopd1'].astype('category')"
   ]
  },
  {
   "cell_type": "code",
   "execution_count": null,
   "metadata": {},
   "outputs": [],
   "source": []
  },
  {
   "cell_type": "code",
   "execution_count": null,
   "metadata": {},
   "outputs": [],
   "source": []
  },
  {
   "cell_type": "code",
   "execution_count": null,
   "metadata": {},
   "outputs": [],
   "source": []
  },
  {
   "cell_type": "code",
   "execution_count": null,
   "metadata": {},
   "outputs": [],
   "source": []
  },
  {
   "cell_type": "markdown",
   "metadata": {},
   "source": [
    "*****"
   ]
  }
 ],
 "metadata": {
  "kernelspec": {
   "display_name": "Python 3",
   "language": "python",
   "name": "python3"
  },
  "language_info": {
   "codemirror_mode": {
    "name": "ipython",
    "version": 3
   },
   "file_extension": ".py",
   "mimetype": "text/x-python",
   "name": "python",
   "nbconvert_exporter": "python",
   "pygments_lexer": "ipython3",
   "version": "3.6.8"
  }
 },
 "nbformat": 4,
 "nbformat_minor": 2
}
