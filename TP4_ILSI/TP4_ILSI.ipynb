{
 "cells": [
  {
   "cell_type": "markdown",
   "metadata": {},
   "source": [
    "Write your names below:"
   ]
  },
  {
   "cell_type": "code",
   "execution_count": null,
   "metadata": {},
   "outputs": [],
   "source": []
  },
  {
   "cell_type": "markdown",
   "metadata": {},
   "source": [
    "<font color='red'> Important Note: Some questions are already answered for you! </red>"
   ]
  },
  {
   "cell_type": "markdown",
   "metadata": {},
   "source": [
    "*****"
   ]
  },
  {
   "cell_type": "code",
   "execution_count": 3,
   "metadata": {},
   "outputs": [],
   "source": [
    "import numpy as np\n",
    "import pandas as pd"
   ]
  },
  {
   "cell_type": "code",
   "execution_count": 4,
   "metadata": {},
   "outputs": [],
   "source": [
    "from matplotlib import pyplot as plt\n",
    "%matplotlib inline"
   ]
  },
  {
   "cell_type": "markdown",
   "metadata": {},
   "source": [
    "### Read the data"
   ]
  },
  {
   "cell_type": "code",
   "execution_count": 5,
   "metadata": {},
   "outputs": [
    {
     "data": {
      "text/plain": [
       "(80332, 11)"
      ]
     },
     "execution_count": 5,
     "metadata": {},
     "output_type": "execute_result"
    }
   ],
   "source": [
    "ufo_df = pd.read_csv ('./ufo_sightings.csv', header=None,low_memory=False)\n",
    "ufo_df.shape"
   ]
  },
  {
   "cell_type": "code",
   "execution_count": 6,
   "metadata": {},
   "outputs": [],
   "source": [
    "ufo_df.columns = ['datetime_sighted', 'city', 'state', 'country', 'ushape', 'duration_seconds', 'duration_text', 'description_text', 'date_recorded', 'lat', 'long']"
   ]
  },
  {
   "cell_type": "code",
   "execution_count": 7,
   "metadata": {},
   "outputs": [
    {
     "data": {
      "text/html": [
       "<div>\n",
       "<style scoped>\n",
       "    .dataframe tbody tr th:only-of-type {\n",
       "        vertical-align: middle;\n",
       "    }\n",
       "\n",
       "    .dataframe tbody tr th {\n",
       "        vertical-align: top;\n",
       "    }\n",
       "\n",
       "    .dataframe thead th {\n",
       "        text-align: right;\n",
       "    }\n",
       "</style>\n",
       "<table border=\"1\" class=\"dataframe\">\n",
       "  <thead>\n",
       "    <tr style=\"text-align: right;\">\n",
       "      <th></th>\n",
       "      <th>datetime_sighted</th>\n",
       "      <th>city</th>\n",
       "      <th>state</th>\n",
       "      <th>country</th>\n",
       "      <th>ushape</th>\n",
       "      <th>duration_seconds</th>\n",
       "      <th>duration_text</th>\n",
       "      <th>description_text</th>\n",
       "      <th>date_recorded</th>\n",
       "      <th>lat</th>\n",
       "      <th>long</th>\n",
       "    </tr>\n",
       "  </thead>\n",
       "  <tbody>\n",
       "    <tr>\n",
       "      <th>0</th>\n",
       "      <td>10/10/1949 20:30</td>\n",
       "      <td>san marcos</td>\n",
       "      <td>tx</td>\n",
       "      <td>us</td>\n",
       "      <td>cylinder</td>\n",
       "      <td>2700</td>\n",
       "      <td>45 minutes</td>\n",
       "      <td>This event took place in early fall around 194...</td>\n",
       "      <td>4/27/2004</td>\n",
       "      <td>29.8830556</td>\n",
       "      <td>-97.941111</td>\n",
       "    </tr>\n",
       "    <tr>\n",
       "      <th>1</th>\n",
       "      <td>10/10/1949 21:00</td>\n",
       "      <td>lackland afb</td>\n",
       "      <td>tx</td>\n",
       "      <td>NaN</td>\n",
       "      <td>light</td>\n",
       "      <td>7200</td>\n",
       "      <td>1-2 hrs</td>\n",
       "      <td>1949 Lackland AFB&amp;#44 TX.  Lights racing acros...</td>\n",
       "      <td>12/16/2005</td>\n",
       "      <td>29.38421</td>\n",
       "      <td>-98.581082</td>\n",
       "    </tr>\n",
       "    <tr>\n",
       "      <th>2</th>\n",
       "      <td>10/10/1955 17:00</td>\n",
       "      <td>chester (uk/england)</td>\n",
       "      <td>NaN</td>\n",
       "      <td>gb</td>\n",
       "      <td>circle</td>\n",
       "      <td>20</td>\n",
       "      <td>20 seconds</td>\n",
       "      <td>Green/Orange circular disc over Chester&amp;#44 En...</td>\n",
       "      <td>1/21/2008</td>\n",
       "      <td>53.2</td>\n",
       "      <td>-2.916667</td>\n",
       "    </tr>\n",
       "    <tr>\n",
       "      <th>3</th>\n",
       "      <td>10/10/1956 21:00</td>\n",
       "      <td>edna</td>\n",
       "      <td>tx</td>\n",
       "      <td>us</td>\n",
       "      <td>circle</td>\n",
       "      <td>20</td>\n",
       "      <td>1/2 hour</td>\n",
       "      <td>My older brother and twin sister were leaving ...</td>\n",
       "      <td>1/17/2004</td>\n",
       "      <td>28.9783333</td>\n",
       "      <td>-96.645833</td>\n",
       "    </tr>\n",
       "    <tr>\n",
       "      <th>4</th>\n",
       "      <td>10/10/1960 20:00</td>\n",
       "      <td>kaneohe</td>\n",
       "      <td>hi</td>\n",
       "      <td>us</td>\n",
       "      <td>light</td>\n",
       "      <td>900</td>\n",
       "      <td>15 minutes</td>\n",
       "      <td>AS a Marine 1st Lt. flying an FJ4B fighter/att...</td>\n",
       "      <td>1/22/2004</td>\n",
       "      <td>21.4180556</td>\n",
       "      <td>-157.803611</td>\n",
       "    </tr>\n",
       "  </tbody>\n",
       "</table>\n",
       "</div>"
      ],
      "text/plain": [
       "   datetime_sighted                  city state country    ushape  \\\n",
       "0  10/10/1949 20:30            san marcos    tx      us  cylinder   \n",
       "1  10/10/1949 21:00          lackland afb    tx     NaN     light   \n",
       "2  10/10/1955 17:00  chester (uk/england)   NaN      gb    circle   \n",
       "3  10/10/1956 21:00                  edna    tx      us    circle   \n",
       "4  10/10/1960 20:00               kaneohe    hi      us     light   \n",
       "\n",
       "  duration_seconds duration_text  \\\n",
       "0             2700    45 minutes   \n",
       "1             7200       1-2 hrs   \n",
       "2               20    20 seconds   \n",
       "3               20      1/2 hour   \n",
       "4              900    15 minutes   \n",
       "\n",
       "                                    description_text date_recorded  \\\n",
       "0  This event took place in early fall around 194...     4/27/2004   \n",
       "1  1949 Lackland AFB&#44 TX.  Lights racing acros...    12/16/2005   \n",
       "2  Green/Orange circular disc over Chester&#44 En...     1/21/2008   \n",
       "3  My older brother and twin sister were leaving ...     1/17/2004   \n",
       "4  AS a Marine 1st Lt. flying an FJ4B fighter/att...     1/22/2004   \n",
       "\n",
       "          lat        long  \n",
       "0  29.8830556  -97.941111  \n",
       "1    29.38421  -98.581082  \n",
       "2        53.2   -2.916667  \n",
       "3  28.9783333  -96.645833  \n",
       "4  21.4180556 -157.803611  "
      ]
     },
     "execution_count": 7,
     "metadata": {},
     "output_type": "execute_result"
    }
   ],
   "source": [
    "ufo_df.head()"
   ]
  },
  {
   "cell_type": "code",
   "execution_count": 8,
   "metadata": {},
   "outputs": [
    {
     "name": "stdout",
     "output_type": "stream",
     "text": [
      "<class 'pandas.core.frame.DataFrame'>\n",
      "RangeIndex: 80332 entries, 0 to 80331\n",
      "Data columns (total 11 columns):\n",
      "datetime_sighted    80332 non-null object\n",
      "city                80332 non-null object\n",
      "state               74535 non-null object\n",
      "country             70662 non-null object\n",
      "ushape              78400 non-null object\n",
      "duration_seconds    80332 non-null object\n",
      "duration_text       80332 non-null object\n",
      "description_text    80317 non-null object\n",
      "date_recorded       80332 non-null object\n",
      "lat                 80332 non-null object\n",
      "long                80332 non-null float64\n",
      "dtypes: float64(1), object(10)\n",
      "memory usage: 6.7+ MB\n"
     ]
    }
   ],
   "source": [
    "ufo_df.info()"
   ]
  },
  {
   "cell_type": "markdown",
   "metadata": {},
   "source": [
    "## Understanding the problem"
   ]
  },
  {
   "cell_type": "markdown",
   "metadata": {},
   "source": [
    "**Description of the problem**\n",
    "\n",
    "We would like to build a model to predict the geographic location: UFO sighting from its other characteristics. But this data set contains 5 variables that represent location: city, state, country, latitude, and longitude. Therefore we need to choose one of them as the target variable, and remove the other 4 variables.  We choose to predict *country*.\n",
    "\n",
    "Thus our goal is to build a model for predicting *country* from other non-location variables."
   ]
  },
  {
   "cell_type": "markdown",
   "metadata": {},
   "source": [
    "**Questions**:  answer the following question based on the information given above.\n",
    "\n",
    "1. What is the **target** attribute?\n",
    "2. What are the **predictor** attributes?\n",
    "3. Is this a **classification** task or a **regression** task? Explain."
   ]
  },
  {
   "cell_type": "code",
   "execution_count": 9,
   "metadata": {},
   "outputs": [
    {
     "data": {
      "text/plain": [
       "5"
      ]
     },
     "execution_count": 9,
     "metadata": {},
     "output_type": "execute_result"
    }
   ],
   "source": [
    "ufo_df.country.nunique()"
   ]
  },
  {
   "cell_type": "code",
   "execution_count": 10,
   "metadata": {},
   "outputs": [
    {
     "data": {
      "text/plain": [
       "array(['us', nan, 'gb', 'ca', 'au', 'de'], dtype=object)"
      ]
     },
     "execution_count": 10,
     "metadata": {},
     "output_type": "execute_result"
    }
   ],
   "source": [
    "ufo_df.country.unique()"
   ]
  },
  {
   "cell_type": "code",
   "execution_count": 11,
   "metadata": {},
   "outputs": [
    {
     "data": {
      "text/plain": [
       "us    65114\n",
       "ca     3000\n",
       "gb     1905\n",
       "au      538\n",
       "de      105\n",
       "Name: country, dtype: int64"
      ]
     },
     "execution_count": 11,
     "metadata": {},
     "output_type": "execute_result"
    }
   ],
   "source": [
    "ufo_df.country.value_counts()"
   ]
  },
  {
   "cell_type": "markdown",
   "metadata": {},
   "source": [
    "****"
   ]
  },
  {
   "cell_type": "markdown",
   "metadata": {},
   "source": [
    "## Understanding the data"
   ]
  },
  {
   "cell_type": "markdown",
   "metadata": {},
   "source": [
    "**Questions**:\n",
    "\n",
    "1. Based on the descriptions given in the data dictionary, what is the **_true_** data type of each column?\n",
    "2. In how many countries do these UFO sightings occur? What are those countries?\n",
    "3. What is the common denominator among these countries?"
   ]
  },
  {
   "cell_type": "code",
   "execution_count": 12,
   "metadata": {},
   "outputs": [
    {
     "data": {
      "text/plain": [
       "5"
      ]
     },
     "execution_count": 12,
     "metadata": {},
     "output_type": "execute_result"
    }
   ],
   "source": [
    "ufo_df.country.nunique()"
   ]
  },
  {
   "cell_type": "code",
   "execution_count": 13,
   "metadata": {},
   "outputs": [
    {
     "data": {
      "text/plain": [
       "array(['us', nan, 'gb', 'ca', 'au', 'de'], dtype=object)"
      ]
     },
     "execution_count": 13,
     "metadata": {},
     "output_type": "execute_result"
    }
   ],
   "source": [
    "ufo_df.country.unique()"
   ]
  },
  {
   "cell_type": "code",
   "execution_count": 14,
   "metadata": {},
   "outputs": [
    {
     "data": {
      "text/plain": [
       "us    65114\n",
       "ca     3000\n",
       "gb     1905\n",
       "au      538\n",
       "de      105\n",
       "Name: country, dtype: int64"
      ]
     },
     "execution_count": 14,
     "metadata": {},
     "output_type": "execute_result"
    }
   ],
   "source": [
    "ufo_df.country.value_counts()"
   ]
  },
  {
   "cell_type": "markdown",
   "metadata": {},
   "source": [
    "***"
   ]
  },
  {
   "cell_type": "markdown",
   "metadata": {},
   "source": [
    "## Data cleaning"
   ]
  },
  {
   "cell_type": "markdown",
   "metadata": {},
   "source": [
    "### Manual feature selection\n",
    "\n",
    "Below you will remove attributes that are redundant/duplicate or useless for building the model for predicting *country* from other non-location variables.\n",
    "\n",
    "Remember that manual feature selection is done **based only** on descriptions of the variables and understanding of the probem. No programming is required."
   ]
  },
  {
   "cell_type": "markdown",
   "metadata": {},
   "source": [
    "**Questions**:\n",
    "\n",
    "1. Create a new data frame called `ufo_df_sub` that is a copy of `ufo_df`; use the `copy` method.\n",
    "\n",
    "2. Remove all location columns from `ufo_df_sub` except country (i.e. city, state, lat, and long). Use the `drop` method.\n",
    "\n",
    "3. Which of the remaining variables in `ufo_df_sub` should be removed because they are **redundant** or **duplicate** of another variable? Explain.\n",
    "\n",
    "4. Which of the remaining variables in `ufo_df_sub` should be removed because they are **useless**: totally unrelated to the target variable?  *Hint*: unstructured variables are *not* useless; they just need to be transformed ...\n",
    "\n",
    "5. Modify `ufo_df_sub` by removing the columns that you identified in the previous two questions."
   ]
  },
  {
   "cell_type": "code",
   "execution_count": 15,
   "metadata": {},
   "outputs": [
    {
     "data": {
      "text/plain": [
       "(80332, 11)"
      ]
     },
     "execution_count": 15,
     "metadata": {},
     "output_type": "execute_result"
    }
   ],
   "source": [
    "# Q.1  THIS IS ALREADY DONE FOR YOU\n",
    "ufo_df_sub = ufo_df.copy()\n",
    "ufo_df_sub.shape"
   ]
  },
  {
   "cell_type": "code",
   "execution_count": 16,
   "metadata": {},
   "outputs": [],
   "source": [
    "# read documentation of drop() method\n",
    "# ?ufo_df.drop"
   ]
  },
  {
   "cell_type": "code",
   "execution_count": 17,
   "metadata": {},
   "outputs": [
    {
     "data": {
      "text/plain": [
       "(80332, 7)"
      ]
     },
     "execution_count": 17,
     "metadata": {},
     "output_type": "execute_result"
    }
   ],
   "source": [
    "# Q.2  THIS IS ALREADY DONE FOR YOU\n",
    "ufo_df_sub = ufo_df_sub.drop(columns=['city', 'state', 'lat', 'long'], axis=1)\n",
    "ufo_df_sub.shape                           "
   ]
  },
  {
   "cell_type": "code",
   "execution_count": 18,
   "metadata": {},
   "outputs": [
    {
     "data": {
      "text/html": [
       "<div>\n",
       "<style scoped>\n",
       "    .dataframe tbody tr th:only-of-type {\n",
       "        vertical-align: middle;\n",
       "    }\n",
       "\n",
       "    .dataframe tbody tr th {\n",
       "        vertical-align: top;\n",
       "    }\n",
       "\n",
       "    .dataframe thead th {\n",
       "        text-align: right;\n",
       "    }\n",
       "</style>\n",
       "<table border=\"1\" class=\"dataframe\">\n",
       "  <thead>\n",
       "    <tr style=\"text-align: right;\">\n",
       "      <th></th>\n",
       "      <th>datetime_sighted</th>\n",
       "      <th>country</th>\n",
       "      <th>ushape</th>\n",
       "      <th>duration_seconds</th>\n",
       "      <th>duration_text</th>\n",
       "      <th>description_text</th>\n",
       "      <th>date_recorded</th>\n",
       "    </tr>\n",
       "  </thead>\n",
       "  <tbody>\n",
       "    <tr>\n",
       "      <th>0</th>\n",
       "      <td>10/10/1949 20:30</td>\n",
       "      <td>us</td>\n",
       "      <td>cylinder</td>\n",
       "      <td>2700</td>\n",
       "      <td>45 minutes</td>\n",
       "      <td>This event took place in early fall around 194...</td>\n",
       "      <td>4/27/2004</td>\n",
       "    </tr>\n",
       "    <tr>\n",
       "      <th>1</th>\n",
       "      <td>10/10/1949 21:00</td>\n",
       "      <td>NaN</td>\n",
       "      <td>light</td>\n",
       "      <td>7200</td>\n",
       "      <td>1-2 hrs</td>\n",
       "      <td>1949 Lackland AFB&amp;#44 TX.  Lights racing acros...</td>\n",
       "      <td>12/16/2005</td>\n",
       "    </tr>\n",
       "    <tr>\n",
       "      <th>2</th>\n",
       "      <td>10/10/1955 17:00</td>\n",
       "      <td>gb</td>\n",
       "      <td>circle</td>\n",
       "      <td>20</td>\n",
       "      <td>20 seconds</td>\n",
       "      <td>Green/Orange circular disc over Chester&amp;#44 En...</td>\n",
       "      <td>1/21/2008</td>\n",
       "    </tr>\n",
       "    <tr>\n",
       "      <th>3</th>\n",
       "      <td>10/10/1956 21:00</td>\n",
       "      <td>us</td>\n",
       "      <td>circle</td>\n",
       "      <td>20</td>\n",
       "      <td>1/2 hour</td>\n",
       "      <td>My older brother and twin sister were leaving ...</td>\n",
       "      <td>1/17/2004</td>\n",
       "    </tr>\n",
       "    <tr>\n",
       "      <th>4</th>\n",
       "      <td>10/10/1960 20:00</td>\n",
       "      <td>us</td>\n",
       "      <td>light</td>\n",
       "      <td>900</td>\n",
       "      <td>15 minutes</td>\n",
       "      <td>AS a Marine 1st Lt. flying an FJ4B fighter/att...</td>\n",
       "      <td>1/22/2004</td>\n",
       "    </tr>\n",
       "    <tr>\n",
       "      <th>5</th>\n",
       "      <td>10/10/1961 19:00</td>\n",
       "      <td>us</td>\n",
       "      <td>sphere</td>\n",
       "      <td>300</td>\n",
       "      <td>5 minutes</td>\n",
       "      <td>My father is now 89 my brother 52 the girl wit...</td>\n",
       "      <td>4/27/2007</td>\n",
       "    </tr>\n",
       "    <tr>\n",
       "      <th>6</th>\n",
       "      <td>10/10/1965 21:00</td>\n",
       "      <td>gb</td>\n",
       "      <td>circle</td>\n",
       "      <td>180</td>\n",
       "      <td>about 3 mins</td>\n",
       "      <td>penarth uk  circle  3mins  stayed 30ft above m...</td>\n",
       "      <td>2/14/2006</td>\n",
       "    </tr>\n",
       "    <tr>\n",
       "      <th>7</th>\n",
       "      <td>10/10/1965 23:45</td>\n",
       "      <td>us</td>\n",
       "      <td>disk</td>\n",
       "      <td>1200</td>\n",
       "      <td>20 minutes</td>\n",
       "      <td>A bright orange color changing to reddish colo...</td>\n",
       "      <td>10/2/1999</td>\n",
       "    </tr>\n",
       "    <tr>\n",
       "      <th>8</th>\n",
       "      <td>10/10/1966 20:00</td>\n",
       "      <td>us</td>\n",
       "      <td>disk</td>\n",
       "      <td>180</td>\n",
       "      <td>3  minutes</td>\n",
       "      <td>Strobe Lighted disk shape object observed clos...</td>\n",
       "      <td>3/19/2009</td>\n",
       "    </tr>\n",
       "    <tr>\n",
       "      <th>9</th>\n",
       "      <td>10/10/1966 21:00</td>\n",
       "      <td>us</td>\n",
       "      <td>disk</td>\n",
       "      <td>120</td>\n",
       "      <td>several minutes</td>\n",
       "      <td>Saucer zaps energy from powerline as my pregna...</td>\n",
       "      <td>5/11/2005</td>\n",
       "    </tr>\n",
       "    <tr>\n",
       "      <th>10</th>\n",
       "      <td>10/10/1968 13:00</td>\n",
       "      <td>us</td>\n",
       "      <td>circle</td>\n",
       "      <td>300</td>\n",
       "      <td>5 min.</td>\n",
       "      <td>ROUND &amp;#44 ORANGE &amp;#44 WITH WHAT I WOULD SAY W...</td>\n",
       "      <td>10/31/2003</td>\n",
       "    </tr>\n",
       "    <tr>\n",
       "      <th>11</th>\n",
       "      <td>10/10/1968 19:00</td>\n",
       "      <td>us</td>\n",
       "      <td>fireball</td>\n",
       "      <td>180</td>\n",
       "      <td>3 minutes</td>\n",
       "      <td>silent red /orange mass of energy floated by t...</td>\n",
       "      <td>6/12/2008</td>\n",
       "    </tr>\n",
       "    <tr>\n",
       "      <th>12</th>\n",
       "      <td>10/10/1970 16:00</td>\n",
       "      <td>us</td>\n",
       "      <td>disk</td>\n",
       "      <td>1800</td>\n",
       "      <td>30 min.</td>\n",
       "      <td>silver disc seen by family and neighbors</td>\n",
       "      <td>5/11/2000</td>\n",
       "    </tr>\n",
       "    <tr>\n",
       "      <th>13</th>\n",
       "      <td>10/10/1970 19:00</td>\n",
       "      <td>us</td>\n",
       "      <td>unknown</td>\n",
       "      <td>180</td>\n",
       "      <td>3 minutes</td>\n",
       "      <td>Slow moving&amp;#44 silent craft accelerated at an...</td>\n",
       "      <td>2/14/2008</td>\n",
       "    </tr>\n",
       "    <tr>\n",
       "      <th>14</th>\n",
       "      <td>10/10/1971 21:00</td>\n",
       "      <td>us</td>\n",
       "      <td>oval</td>\n",
       "      <td>30</td>\n",
       "      <td>30 seconds</td>\n",
       "      <td>green oval shaped light over my local church&amp;#...</td>\n",
       "      <td>2/14/2010</td>\n",
       "    </tr>\n",
       "    <tr>\n",
       "      <th>15</th>\n",
       "      <td>10/10/1972 19:00</td>\n",
       "      <td>us</td>\n",
       "      <td>circle</td>\n",
       "      <td>1200</td>\n",
       "      <td>20minutes</td>\n",
       "      <td>On october 10&amp;#44 1972 myself&amp;#44my 5yrs.daugh...</td>\n",
       "      <td>9/15/2005</td>\n",
       "    </tr>\n",
       "    <tr>\n",
       "      <th>16</th>\n",
       "      <td>10/10/1972 22:30</td>\n",
       "      <td>us</td>\n",
       "      <td>disk</td>\n",
       "      <td>120</td>\n",
       "      <td>2 minutes</td>\n",
       "      <td>The UFO was so close&amp;#44 my battery in the car...</td>\n",
       "      <td>8/14/2007</td>\n",
       "    </tr>\n",
       "    <tr>\n",
       "      <th>17</th>\n",
       "      <td>10/10/1973 19:00</td>\n",
       "      <td>us</td>\n",
       "      <td>disk</td>\n",
       "      <td>1800</td>\n",
       "      <td>20-30 min</td>\n",
       "      <td>Oh&amp;#44 what a night &amp;#33  Two (2) saucer-shape...</td>\n",
       "      <td>9/24/2003</td>\n",
       "    </tr>\n",
       "    <tr>\n",
       "      <th>18</th>\n",
       "      <td>10/10/1973 23:00</td>\n",
       "      <td>NaN</td>\n",
       "      <td>light</td>\n",
       "      <td>20</td>\n",
       "      <td>20 sec.</td>\n",
       "      <td>saw fast moving blip on the radar scope thin w...</td>\n",
       "      <td>1/11/2002</td>\n",
       "    </tr>\n",
       "    <tr>\n",
       "      <th>19</th>\n",
       "      <td>10/10/1974 19:30</td>\n",
       "      <td>us</td>\n",
       "      <td>other</td>\n",
       "      <td>2700</td>\n",
       "      <td>45 minutes</td>\n",
       "      <td>Not sure of the eact month or year of this sig...</td>\n",
       "      <td>8/10/1999</td>\n",
       "    </tr>\n",
       "    <tr>\n",
       "      <th>20</th>\n",
       "      <td>10/10/1974 21:30</td>\n",
       "      <td>gb</td>\n",
       "      <td>disk</td>\n",
       "      <td>1200</td>\n",
       "      <td>20 minutes</td>\n",
       "      <td>back in 1974 I was 19 at the time and  lived i...</td>\n",
       "      <td>2/1/2007</td>\n",
       "    </tr>\n",
       "    <tr>\n",
       "      <th>21</th>\n",
       "      <td>10/10/1974 23:00</td>\n",
       "      <td>us</td>\n",
       "      <td>light</td>\n",
       "      <td>1200</td>\n",
       "      <td>one hour?</td>\n",
       "      <td>The light chased us.</td>\n",
       "      <td>7/25/2004</td>\n",
       "    </tr>\n",
       "    <tr>\n",
       "      <th>22</th>\n",
       "      <td>10/10/1975 17:00</td>\n",
       "      <td>us</td>\n",
       "      <td>light</td>\n",
       "      <td>360</td>\n",
       "      <td>5-6 minutes</td>\n",
       "      <td>Several Flashing UFO lights over Charleston Na...</td>\n",
       "      <td>2/14/2008</td>\n",
       "    </tr>\n",
       "    <tr>\n",
       "      <th>23</th>\n",
       "      <td>10/10/1976 20:30</td>\n",
       "      <td>us</td>\n",
       "      <td>oval</td>\n",
       "      <td>60</td>\n",
       "      <td>1 minute</td>\n",
       "      <td>Three extremely large lights hanging above nea...</td>\n",
       "      <td>2/7/2014</td>\n",
       "    </tr>\n",
       "    <tr>\n",
       "      <th>24</th>\n",
       "      <td>10/10/1976 22:00</td>\n",
       "      <td>gb</td>\n",
       "      <td>cigar</td>\n",
       "      <td>3</td>\n",
       "      <td>3 seconds</td>\n",
       "      <td>White object over Buckinghamshire UK.</td>\n",
       "      <td>12/12/2009</td>\n",
       "    </tr>\n",
       "    <tr>\n",
       "      <th>25</th>\n",
       "      <td>10/10/1977 12:00</td>\n",
       "      <td>us</td>\n",
       "      <td>other</td>\n",
       "      <td>30</td>\n",
       "      <td>30 seconds</td>\n",
       "      <td>i was about six or seven and my family and me ...</td>\n",
       "      <td>2/24/2005</td>\n",
       "    </tr>\n",
       "    <tr>\n",
       "      <th>26</th>\n",
       "      <td>10/10/1977 22:00</td>\n",
       "      <td>us</td>\n",
       "      <td>light</td>\n",
       "      <td>30</td>\n",
       "      <td>approx: 30 seconds</td>\n",
       "      <td>HBCCUFO CANADIAN REPORT:  Pilot Sighting Of Un...</td>\n",
       "      <td>3/17/2004</td>\n",
       "    </tr>\n",
       "    <tr>\n",
       "      <th>27</th>\n",
       "      <td>10/10/1978 02:00</td>\n",
       "      <td>us</td>\n",
       "      <td>rectangle</td>\n",
       "      <td>300</td>\n",
       "      <td>5min</td>\n",
       "      <td>A memory I will never forget that happened men...</td>\n",
       "      <td>2/1/2007</td>\n",
       "    </tr>\n",
       "    <tr>\n",
       "      <th>28</th>\n",
       "      <td>10/10/1979 00:00</td>\n",
       "      <td>us</td>\n",
       "      <td>chevron</td>\n",
       "      <td>900</td>\n",
       "      <td>15 minutes</td>\n",
       "      <td>1/4 moon-like&amp;#44  its &amp;#39chord&amp;#39 or flat s...</td>\n",
       "      <td>4/16/2005</td>\n",
       "    </tr>\n",
       "    <tr>\n",
       "      <th>29</th>\n",
       "      <td>10/10/1979 22:00</td>\n",
       "      <td>NaN</td>\n",
       "      <td>triangle</td>\n",
       "      <td>270</td>\n",
       "      <td>4.5 or more min.</td>\n",
       "      <td>Lights far above&amp;#44  that glance; then flee f...</td>\n",
       "      <td>1/19/2005</td>\n",
       "    </tr>\n",
       "    <tr>\n",
       "      <th>...</th>\n",
       "      <td>...</td>\n",
       "      <td>...</td>\n",
       "      <td>...</td>\n",
       "      <td>...</td>\n",
       "      <td>...</td>\n",
       "      <td>...</td>\n",
       "      <td>...</td>\n",
       "    </tr>\n",
       "    <tr>\n",
       "      <th>80302</th>\n",
       "      <td>9/9/2012 20:00</td>\n",
       "      <td>us</td>\n",
       "      <td>light</td>\n",
       "      <td>10800</td>\n",
       "      <td>3 hours</td>\n",
       "      <td>Bright orb being chased by a jet along with se...</td>\n",
       "      <td>9/24/2012</td>\n",
       "    </tr>\n",
       "    <tr>\n",
       "      <th>80303</th>\n",
       "      <td>9/9/2012 20:10</td>\n",
       "      <td>us</td>\n",
       "      <td>circle</td>\n",
       "      <td>600</td>\n",
       "      <td>10 minutes</td>\n",
       "      <td>Orange lights seen in Elmont&amp;#44 Long Island&amp;#...</td>\n",
       "      <td>9/24/2012</td>\n",
       "    </tr>\n",
       "    <tr>\n",
       "      <th>80304</th>\n",
       "      <td>9/9/2012 20:30</td>\n",
       "      <td>us</td>\n",
       "      <td>light</td>\n",
       "      <td>120</td>\n",
       "      <td>2 minutes</td>\n",
       "      <td>Bright white light moving slowly across sky wi...</td>\n",
       "      <td>9/24/2012</td>\n",
       "    </tr>\n",
       "    <tr>\n",
       "      <th>80305</th>\n",
       "      <td>9/9/2012 20:30</td>\n",
       "      <td>us</td>\n",
       "      <td>chevron</td>\n",
       "      <td>900</td>\n",
       "      <td>15 minutes</td>\n",
       "      <td>Beautiful bright blue delta shaped aerobatics.</td>\n",
       "      <td>9/24/2012</td>\n",
       "    </tr>\n",
       "    <tr>\n",
       "      <th>80306</th>\n",
       "      <td>9/9/2012 20:52</td>\n",
       "      <td>us</td>\n",
       "      <td>circle</td>\n",
       "      <td>10</td>\n",
       "      <td>10 seconds</td>\n",
       "      <td>Circular disk with blinking lights scares two ...</td>\n",
       "      <td>9/24/2012</td>\n",
       "    </tr>\n",
       "    <tr>\n",
       "      <th>80307</th>\n",
       "      <td>9/9/2012 21:00</td>\n",
       "      <td>us</td>\n",
       "      <td>oval</td>\n",
       "      <td>600</td>\n",
       "      <td>10 minutes</td>\n",
       "      <td>It was the night of sept 9 between 9 and 10 pm...</td>\n",
       "      <td>9/24/2012</td>\n",
       "    </tr>\n",
       "    <tr>\n",
       "      <th>80308</th>\n",
       "      <td>9/9/2012 21:00</td>\n",
       "      <td>us</td>\n",
       "      <td>light</td>\n",
       "      <td>1290</td>\n",
       "      <td>21:30</td>\n",
       "      <td>Glowing&amp;#44 circular lights visible in the clo...</td>\n",
       "      <td>9/24/2012</td>\n",
       "    </tr>\n",
       "    <tr>\n",
       "      <th>80309</th>\n",
       "      <td>9/9/2012 21:00</td>\n",
       "      <td>us</td>\n",
       "      <td>oval</td>\n",
       "      <td>60</td>\n",
       "      <td>less than a minute</td>\n",
       "      <td>One large bright orange flanked by three small...</td>\n",
       "      <td>9/24/2012</td>\n",
       "    </tr>\n",
       "    <tr>\n",
       "      <th>80310</th>\n",
       "      <td>9/9/2012 21:00</td>\n",
       "      <td>us</td>\n",
       "      <td>circle</td>\n",
       "      <td>300</td>\n",
       "      <td>5 minutes</td>\n",
       "      <td>Bright Blue Object seen floating in sky near C...</td>\n",
       "      <td>9/24/2012</td>\n",
       "    </tr>\n",
       "    <tr>\n",
       "      <th>80311</th>\n",
       "      <td>9/9/2012 21:55</td>\n",
       "      <td>us</td>\n",
       "      <td>flash</td>\n",
       "      <td>900</td>\n",
       "      <td>15 minutes</td>\n",
       "      <td>Orb of light flashing reds and blues&amp;#44 stati...</td>\n",
       "      <td>9/24/2012</td>\n",
       "    </tr>\n",
       "    <tr>\n",
       "      <th>80312</th>\n",
       "      <td>9/9/2012 23:00</td>\n",
       "      <td>us</td>\n",
       "      <td>light</td>\n",
       "      <td>5</td>\n",
       "      <td>5 seconds</td>\n",
       "      <td>Ball of light</td>\n",
       "      <td>9/24/2012</td>\n",
       "    </tr>\n",
       "    <tr>\n",
       "      <th>80313</th>\n",
       "      <td>9/9/2013 00:15</td>\n",
       "      <td>us</td>\n",
       "      <td>unknown</td>\n",
       "      <td>1</td>\n",
       "      <td>split second</td>\n",
       "      <td>Two or three lights shoot across sky over nava...</td>\n",
       "      <td>9/30/2013</td>\n",
       "    </tr>\n",
       "    <tr>\n",
       "      <th>80314</th>\n",
       "      <td>9/9/2013 01:50</td>\n",
       "      <td>us</td>\n",
       "      <td>triangle</td>\n",
       "      <td>180</td>\n",
       "      <td>3 minutes</td>\n",
       "      <td>Massive Flat Black triangle  with 3 red lights.</td>\n",
       "      <td>9/30/2013</td>\n",
       "    </tr>\n",
       "    <tr>\n",
       "      <th>80315</th>\n",
       "      <td>9/9/2013 03:00</td>\n",
       "      <td>us</td>\n",
       "      <td>unknown</td>\n",
       "      <td>120</td>\n",
       "      <td>2 minutes</td>\n",
       "      <td>I saw a routaing line of stares that seemed to...</td>\n",
       "      <td>9/9/2013</td>\n",
       "    </tr>\n",
       "    <tr>\n",
       "      <th>80316</th>\n",
       "      <td>9/9/2013 09:51</td>\n",
       "      <td>us</td>\n",
       "      <td>light</td>\n",
       "      <td>4</td>\n",
       "      <td>~4 seconds</td>\n",
       "      <td>2 white lights zig-zag over Qualcomm Stadium (...</td>\n",
       "      <td>9/30/2013</td>\n",
       "    </tr>\n",
       "    <tr>\n",
       "      <th>80317</th>\n",
       "      <td>9/9/2013 12:34</td>\n",
       "      <td>us</td>\n",
       "      <td>cigar</td>\n",
       "      <td>8</td>\n",
       "      <td>5-8 seconds</td>\n",
       "      <td>Cigar Shaped Object Descending in the Directio...</td>\n",
       "      <td>9/9/2013</td>\n",
       "    </tr>\n",
       "    <tr>\n",
       "      <th>80318</th>\n",
       "      <td>9/9/2013 13:10</td>\n",
       "      <td>ca</td>\n",
       "      <td>unknown</td>\n",
       "      <td>90</td>\n",
       "      <td>45-90 seconds</td>\n",
       "      <td>Fastest dot I have ever seen in the sky&amp;#33</td>\n",
       "      <td>9/9/2013</td>\n",
       "    </tr>\n",
       "    <tr>\n",
       "      <th>80319</th>\n",
       "      <td>9/9/2013 20:15</td>\n",
       "      <td>NaN</td>\n",
       "      <td>other</td>\n",
       "      <td>3600</td>\n",
       "      <td>~1hr+</td>\n",
       "      <td>Luminous line seen in New Jersey sky.</td>\n",
       "      <td>9/30/2013</td>\n",
       "    </tr>\n",
       "    <tr>\n",
       "      <th>80320</th>\n",
       "      <td>9/9/2013 20:20</td>\n",
       "      <td>us</td>\n",
       "      <td>fireball</td>\n",
       "      <td>60</td>\n",
       "      <td>1:00</td>\n",
       "      <td>White/green object much larger than &amp;quot;shoo...</td>\n",
       "      <td>9/30/2013</td>\n",
       "    </tr>\n",
       "    <tr>\n",
       "      <th>80321</th>\n",
       "      <td>9/9/2013 20:21</td>\n",
       "      <td>us</td>\n",
       "      <td>fireball</td>\n",
       "      <td>3</td>\n",
       "      <td>3 seconds</td>\n",
       "      <td>Green fireball like object shooting across the...</td>\n",
       "      <td>9/30/2013</td>\n",
       "    </tr>\n",
       "    <tr>\n",
       "      <th>80322</th>\n",
       "      <td>9/9/2013 21:00</td>\n",
       "      <td>NaN</td>\n",
       "      <td>light</td>\n",
       "      <td>15</td>\n",
       "      <td>15 seconds</td>\n",
       "      <td>Two points of light following one another in a...</td>\n",
       "      <td>9/30/2013</td>\n",
       "    </tr>\n",
       "    <tr>\n",
       "      <th>80323</th>\n",
       "      <td>9/9/2013 21:00</td>\n",
       "      <td>us</td>\n",
       "      <td>triangle</td>\n",
       "      <td>60</td>\n",
       "      <td>1 minute</td>\n",
       "      <td>Three lights in the sky that didn&amp;#39t look li...</td>\n",
       "      <td>9/30/2013</td>\n",
       "    </tr>\n",
       "    <tr>\n",
       "      <th>80324</th>\n",
       "      <td>9/9/2013 21:00</td>\n",
       "      <td>NaN</td>\n",
       "      <td>light</td>\n",
       "      <td>120</td>\n",
       "      <td>2 minutes</td>\n",
       "      <td>8 to ten lights bright orange in color large t...</td>\n",
       "      <td>9/30/2013</td>\n",
       "    </tr>\n",
       "    <tr>\n",
       "      <th>80325</th>\n",
       "      <td>9/9/2013 21:00</td>\n",
       "      <td>ca</td>\n",
       "      <td>fireball</td>\n",
       "      <td>180</td>\n",
       "      <td>3 minutes</td>\n",
       "      <td>Massive Bright Orange Fireball in Sky</td>\n",
       "      <td>9/30/2013</td>\n",
       "    </tr>\n",
       "    <tr>\n",
       "      <th>80326</th>\n",
       "      <td>9/9/2013 21:00</td>\n",
       "      <td>us</td>\n",
       "      <td>sphere</td>\n",
       "      <td>20</td>\n",
       "      <td>20 seconds</td>\n",
       "      <td>Driving 575 at 21:00 hrs saw a white and green...</td>\n",
       "      <td>9/30/2013</td>\n",
       "    </tr>\n",
       "    <tr>\n",
       "      <th>80327</th>\n",
       "      <td>9/9/2013 21:15</td>\n",
       "      <td>us</td>\n",
       "      <td>light</td>\n",
       "      <td>600</td>\n",
       "      <td>10 minutes</td>\n",
       "      <td>Round from the distance/slowly changing colors...</td>\n",
       "      <td>9/30/2013</td>\n",
       "    </tr>\n",
       "    <tr>\n",
       "      <th>80328</th>\n",
       "      <td>9/9/2013 22:00</td>\n",
       "      <td>us</td>\n",
       "      <td>circle</td>\n",
       "      <td>1200</td>\n",
       "      <td>20 minutes</td>\n",
       "      <td>Boise&amp;#44 ID&amp;#44 spherical&amp;#44 20 min&amp;#44 10 r...</td>\n",
       "      <td>9/30/2013</td>\n",
       "    </tr>\n",
       "    <tr>\n",
       "      <th>80329</th>\n",
       "      <td>9/9/2013 22:00</td>\n",
       "      <td>us</td>\n",
       "      <td>other</td>\n",
       "      <td>1200</td>\n",
       "      <td>hour</td>\n",
       "      <td>Napa UFO&amp;#44</td>\n",
       "      <td>9/30/2013</td>\n",
       "    </tr>\n",
       "    <tr>\n",
       "      <th>80330</th>\n",
       "      <td>9/9/2013 22:20</td>\n",
       "      <td>us</td>\n",
       "      <td>circle</td>\n",
       "      <td>5</td>\n",
       "      <td>5 seconds</td>\n",
       "      <td>Saw a five gold lit cicular craft moving fastl...</td>\n",
       "      <td>9/30/2013</td>\n",
       "    </tr>\n",
       "    <tr>\n",
       "      <th>80331</th>\n",
       "      <td>9/9/2013 23:00</td>\n",
       "      <td>us</td>\n",
       "      <td>cigar</td>\n",
       "      <td>1020</td>\n",
       "      <td>17 minutes</td>\n",
       "      <td>2 witnesses 2  miles apart&amp;#44 Red &amp;amp; White...</td>\n",
       "      <td>9/30/2013</td>\n",
       "    </tr>\n",
       "  </tbody>\n",
       "</table>\n",
       "<p>80332 rows × 7 columns</p>\n",
       "</div>"
      ],
      "text/plain": [
       "       datetime_sighted country     ushape duration_seconds  \\\n",
       "0      10/10/1949 20:30      us   cylinder             2700   \n",
       "1      10/10/1949 21:00     NaN      light             7200   \n",
       "2      10/10/1955 17:00      gb     circle               20   \n",
       "3      10/10/1956 21:00      us     circle               20   \n",
       "4      10/10/1960 20:00      us      light              900   \n",
       "5      10/10/1961 19:00      us     sphere              300   \n",
       "6      10/10/1965 21:00      gb     circle              180   \n",
       "7      10/10/1965 23:45      us       disk             1200   \n",
       "8      10/10/1966 20:00      us       disk              180   \n",
       "9      10/10/1966 21:00      us       disk              120   \n",
       "10     10/10/1968 13:00      us     circle              300   \n",
       "11     10/10/1968 19:00      us   fireball              180   \n",
       "12     10/10/1970 16:00      us       disk             1800   \n",
       "13     10/10/1970 19:00      us    unknown              180   \n",
       "14     10/10/1971 21:00      us       oval               30   \n",
       "15     10/10/1972 19:00      us     circle             1200   \n",
       "16     10/10/1972 22:30      us       disk              120   \n",
       "17     10/10/1973 19:00      us       disk             1800   \n",
       "18     10/10/1973 23:00     NaN      light               20   \n",
       "19     10/10/1974 19:30      us      other             2700   \n",
       "20     10/10/1974 21:30      gb       disk             1200   \n",
       "21     10/10/1974 23:00      us      light             1200   \n",
       "22     10/10/1975 17:00      us      light              360   \n",
       "23     10/10/1976 20:30      us       oval               60   \n",
       "24     10/10/1976 22:00      gb      cigar                3   \n",
       "25     10/10/1977 12:00      us      other               30   \n",
       "26     10/10/1977 22:00      us      light               30   \n",
       "27     10/10/1978 02:00      us  rectangle              300   \n",
       "28     10/10/1979 00:00      us    chevron              900   \n",
       "29     10/10/1979 22:00     NaN   triangle              270   \n",
       "...                 ...     ...        ...              ...   \n",
       "80302    9/9/2012 20:00      us      light            10800   \n",
       "80303    9/9/2012 20:10      us     circle              600   \n",
       "80304    9/9/2012 20:30      us      light              120   \n",
       "80305    9/9/2012 20:30      us    chevron              900   \n",
       "80306    9/9/2012 20:52      us     circle               10   \n",
       "80307    9/9/2012 21:00      us       oval              600   \n",
       "80308    9/9/2012 21:00      us      light             1290   \n",
       "80309    9/9/2012 21:00      us       oval               60   \n",
       "80310    9/9/2012 21:00      us     circle              300   \n",
       "80311    9/9/2012 21:55      us      flash              900   \n",
       "80312    9/9/2012 23:00      us      light                5   \n",
       "80313    9/9/2013 00:15      us    unknown                1   \n",
       "80314    9/9/2013 01:50      us   triangle              180   \n",
       "80315    9/9/2013 03:00      us    unknown              120   \n",
       "80316    9/9/2013 09:51      us      light                4   \n",
       "80317    9/9/2013 12:34      us      cigar                8   \n",
       "80318    9/9/2013 13:10      ca    unknown               90   \n",
       "80319    9/9/2013 20:15     NaN      other             3600   \n",
       "80320    9/9/2013 20:20      us   fireball               60   \n",
       "80321    9/9/2013 20:21      us   fireball                3   \n",
       "80322    9/9/2013 21:00     NaN      light               15   \n",
       "80323    9/9/2013 21:00      us   triangle               60   \n",
       "80324    9/9/2013 21:00     NaN      light              120   \n",
       "80325    9/9/2013 21:00      ca   fireball              180   \n",
       "80326    9/9/2013 21:00      us     sphere               20   \n",
       "80327    9/9/2013 21:15      us      light              600   \n",
       "80328    9/9/2013 22:00      us     circle             1200   \n",
       "80329    9/9/2013 22:00      us      other             1200   \n",
       "80330    9/9/2013 22:20      us     circle                5   \n",
       "80331    9/9/2013 23:00      us      cigar             1020   \n",
       "\n",
       "            duration_text                                   description_text  \\\n",
       "0              45 minutes  This event took place in early fall around 194...   \n",
       "1                 1-2 hrs  1949 Lackland AFB&#44 TX.  Lights racing acros...   \n",
       "2              20 seconds  Green/Orange circular disc over Chester&#44 En...   \n",
       "3                1/2 hour  My older brother and twin sister were leaving ...   \n",
       "4              15 minutes  AS a Marine 1st Lt. flying an FJ4B fighter/att...   \n",
       "5               5 minutes  My father is now 89 my brother 52 the girl wit...   \n",
       "6            about 3 mins  penarth uk  circle  3mins  stayed 30ft above m...   \n",
       "7              20 minutes  A bright orange color changing to reddish colo...   \n",
       "8              3  minutes  Strobe Lighted disk shape object observed clos...   \n",
       "9         several minutes  Saucer zaps energy from powerline as my pregna...   \n",
       "10                 5 min.  ROUND &#44 ORANGE &#44 WITH WHAT I WOULD SAY W...   \n",
       "11              3 minutes  silent red /orange mass of energy floated by t...   \n",
       "12                30 min.           silver disc seen by family and neighbors   \n",
       "13              3 minutes  Slow moving&#44 silent craft accelerated at an...   \n",
       "14             30 seconds  green oval shaped light over my local church&#...   \n",
       "15              20minutes  On october 10&#44 1972 myself&#44my 5yrs.daugh...   \n",
       "16              2 minutes  The UFO was so close&#44 my battery in the car...   \n",
       "17              20-30 min  Oh&#44 what a night &#33  Two (2) saucer-shape...   \n",
       "18                20 sec.  saw fast moving blip on the radar scope thin w...   \n",
       "19             45 minutes  Not sure of the eact month or year of this sig...   \n",
       "20             20 minutes  back in 1974 I was 19 at the time and  lived i...   \n",
       "21              one hour?                               The light chased us.   \n",
       "22            5-6 minutes  Several Flashing UFO lights over Charleston Na...   \n",
       "23               1 minute  Three extremely large lights hanging above nea...   \n",
       "24              3 seconds              White object over Buckinghamshire UK.   \n",
       "25             30 seconds  i was about six or seven and my family and me ...   \n",
       "26     approx: 30 seconds  HBCCUFO CANADIAN REPORT:  Pilot Sighting Of Un...   \n",
       "27                   5min  A memory I will never forget that happened men...   \n",
       "28             15 minutes  1/4 moon-like&#44  its &#39chord&#39 or flat s...   \n",
       "29       4.5 or more min.  Lights far above&#44  that glance; then flee f...   \n",
       "...                   ...                                                ...   \n",
       "80302             3 hours  Bright orb being chased by a jet along with se...   \n",
       "80303          10 minutes  Orange lights seen in Elmont&#44 Long Island&#...   \n",
       "80304           2 minutes  Bright white light moving slowly across sky wi...   \n",
       "80305          15 minutes     Beautiful bright blue delta shaped aerobatics.   \n",
       "80306          10 seconds  Circular disk with blinking lights scares two ...   \n",
       "80307          10 minutes  It was the night of sept 9 between 9 and 10 pm...   \n",
       "80308               21:30  Glowing&#44 circular lights visible in the clo...   \n",
       "80309  less than a minute  One large bright orange flanked by three small...   \n",
       "80310           5 minutes  Bright Blue Object seen floating in sky near C...   \n",
       "80311          15 minutes  Orb of light flashing reds and blues&#44 stati...   \n",
       "80312           5 seconds                                      Ball of light   \n",
       "80313        split second  Two or three lights shoot across sky over nava...   \n",
       "80314           3 minutes    Massive Flat Black triangle  with 3 red lights.   \n",
       "80315           2 minutes  I saw a routaing line of stares that seemed to...   \n",
       "80316          ~4 seconds  2 white lights zig-zag over Qualcomm Stadium (...   \n",
       "80317         5-8 seconds  Cigar Shaped Object Descending in the Directio...   \n",
       "80318       45-90 seconds        Fastest dot I have ever seen in the sky&#33   \n",
       "80319               ~1hr+              Luminous line seen in New Jersey sky.   \n",
       "80320                1:00  White/green object much larger than &quot;shoo...   \n",
       "80321           3 seconds  Green fireball like object shooting across the...   \n",
       "80322          15 seconds  Two points of light following one another in a...   \n",
       "80323            1 minute  Three lights in the sky that didn&#39t look li...   \n",
       "80324           2 minutes  8 to ten lights bright orange in color large t...   \n",
       "80325           3 minutes              Massive Bright Orange Fireball in Sky   \n",
       "80326          20 seconds  Driving 575 at 21:00 hrs saw a white and green...   \n",
       "80327          10 minutes  Round from the distance/slowly changing colors...   \n",
       "80328          20 minutes  Boise&#44 ID&#44 spherical&#44 20 min&#44 10 r...   \n",
       "80329                hour                                       Napa UFO&#44   \n",
       "80330           5 seconds  Saw a five gold lit cicular craft moving fastl...   \n",
       "80331          17 minutes  2 witnesses 2  miles apart&#44 Red &amp; White...   \n",
       "\n",
       "      date_recorded  \n",
       "0         4/27/2004  \n",
       "1        12/16/2005  \n",
       "2         1/21/2008  \n",
       "3         1/17/2004  \n",
       "4         1/22/2004  \n",
       "5         4/27/2007  \n",
       "6         2/14/2006  \n",
       "7         10/2/1999  \n",
       "8         3/19/2009  \n",
       "9         5/11/2005  \n",
       "10       10/31/2003  \n",
       "11        6/12/2008  \n",
       "12        5/11/2000  \n",
       "13        2/14/2008  \n",
       "14        2/14/2010  \n",
       "15        9/15/2005  \n",
       "16        8/14/2007  \n",
       "17        9/24/2003  \n",
       "18        1/11/2002  \n",
       "19        8/10/1999  \n",
       "20         2/1/2007  \n",
       "21        7/25/2004  \n",
       "22        2/14/2008  \n",
       "23         2/7/2014  \n",
       "24       12/12/2009  \n",
       "25        2/24/2005  \n",
       "26        3/17/2004  \n",
       "27         2/1/2007  \n",
       "28        4/16/2005  \n",
       "29        1/19/2005  \n",
       "...             ...  \n",
       "80302     9/24/2012  \n",
       "80303     9/24/2012  \n",
       "80304     9/24/2012  \n",
       "80305     9/24/2012  \n",
       "80306     9/24/2012  \n",
       "80307     9/24/2012  \n",
       "80308     9/24/2012  \n",
       "80309     9/24/2012  \n",
       "80310     9/24/2012  \n",
       "80311     9/24/2012  \n",
       "80312     9/24/2012  \n",
       "80313     9/30/2013  \n",
       "80314     9/30/2013  \n",
       "80315      9/9/2013  \n",
       "80316     9/30/2013  \n",
       "80317      9/9/2013  \n",
       "80318      9/9/2013  \n",
       "80319     9/30/2013  \n",
       "80320     9/30/2013  \n",
       "80321     9/30/2013  \n",
       "80322     9/30/2013  \n",
       "80323     9/30/2013  \n",
       "80324     9/30/2013  \n",
       "80325     9/30/2013  \n",
       "80326     9/30/2013  \n",
       "80327     9/30/2013  \n",
       "80328     9/30/2013  \n",
       "80329     9/30/2013  \n",
       "80330     9/30/2013  \n",
       "80331     9/30/2013  \n",
       "\n",
       "[80332 rows x 7 columns]"
      ]
     },
     "execution_count": 18,
     "metadata": {},
     "output_type": "execute_result"
    }
   ],
   "source": [
    "ufo_df_sub"
   ]
  },
  {
   "cell_type": "code",
   "execution_count": 19,
   "metadata": {},
   "outputs": [
    {
     "data": {
      "text/plain": [
       "Index(['datetime_sighted', 'country', 'ushape', 'duration_seconds',\n",
       "       'duration_text', 'description_text', 'date_recorded'],\n",
       "      dtype='object')"
      ]
     },
     "execution_count": 19,
     "metadata": {},
     "output_type": "execute_result"
    }
   ],
   "source": [
    "ufo_df_sub.columns"
   ]
  },
  {
   "cell_type": "code",
   "execution_count": 20,
   "metadata": {},
   "outputs": [],
   "source": [
    "ufo_df_sub=ufo_df_sub.drop(columns=['duration_text','date_recorded'],axis=1)"
   ]
  },
  {
   "cell_type": "code",
   "execution_count": 21,
   "metadata": {},
   "outputs": [
    {
     "data": {
      "text/plain": [
       "(80332, 5)"
      ]
     },
     "execution_count": 21,
     "metadata": {},
     "output_type": "execute_result"
    }
   ],
   "source": [
    "ufo_df_sub.shape"
   ]
  },
  {
   "cell_type": "code",
   "execution_count": 22,
   "metadata": {},
   "outputs": [
    {
     "data": {
      "text/html": [
       "<div>\n",
       "<style scoped>\n",
       "    .dataframe tbody tr th:only-of-type {\n",
       "        vertical-align: middle;\n",
       "    }\n",
       "\n",
       "    .dataframe tbody tr th {\n",
       "        vertical-align: top;\n",
       "    }\n",
       "\n",
       "    .dataframe thead th {\n",
       "        text-align: right;\n",
       "    }\n",
       "</style>\n",
       "<table border=\"1\" class=\"dataframe\">\n",
       "  <thead>\n",
       "    <tr style=\"text-align: right;\">\n",
       "      <th></th>\n",
       "      <th>datetime_sighted</th>\n",
       "      <th>country</th>\n",
       "      <th>ushape</th>\n",
       "      <th>duration_seconds</th>\n",
       "      <th>description_text</th>\n",
       "    </tr>\n",
       "  </thead>\n",
       "  <tbody>\n",
       "    <tr>\n",
       "      <th>0</th>\n",
       "      <td>10/10/1949 20:30</td>\n",
       "      <td>us</td>\n",
       "      <td>cylinder</td>\n",
       "      <td>2700</td>\n",
       "      <td>This event took place in early fall around 194...</td>\n",
       "    </tr>\n",
       "    <tr>\n",
       "      <th>1</th>\n",
       "      <td>10/10/1949 21:00</td>\n",
       "      <td>NaN</td>\n",
       "      <td>light</td>\n",
       "      <td>7200</td>\n",
       "      <td>1949 Lackland AFB&amp;#44 TX.  Lights racing acros...</td>\n",
       "    </tr>\n",
       "    <tr>\n",
       "      <th>2</th>\n",
       "      <td>10/10/1955 17:00</td>\n",
       "      <td>gb</td>\n",
       "      <td>circle</td>\n",
       "      <td>20</td>\n",
       "      <td>Green/Orange circular disc over Chester&amp;#44 En...</td>\n",
       "    </tr>\n",
       "    <tr>\n",
       "      <th>3</th>\n",
       "      <td>10/10/1956 21:00</td>\n",
       "      <td>us</td>\n",
       "      <td>circle</td>\n",
       "      <td>20</td>\n",
       "      <td>My older brother and twin sister were leaving ...</td>\n",
       "    </tr>\n",
       "    <tr>\n",
       "      <th>4</th>\n",
       "      <td>10/10/1960 20:00</td>\n",
       "      <td>us</td>\n",
       "      <td>light</td>\n",
       "      <td>900</td>\n",
       "      <td>AS a Marine 1st Lt. flying an FJ4B fighter/att...</td>\n",
       "    </tr>\n",
       "  </tbody>\n",
       "</table>\n",
       "</div>"
      ],
      "text/plain": [
       "   datetime_sighted country    ushape duration_seconds  \\\n",
       "0  10/10/1949 20:30      us  cylinder             2700   \n",
       "1  10/10/1949 21:00     NaN     light             7200   \n",
       "2  10/10/1955 17:00      gb    circle               20   \n",
       "3  10/10/1956 21:00      us    circle               20   \n",
       "4  10/10/1960 20:00      us     light              900   \n",
       "\n",
       "                                    description_text  \n",
       "0  This event took place in early fall around 194...  \n",
       "1  1949 Lackland AFB&#44 TX.  Lights racing acros...  \n",
       "2  Green/Orange circular disc over Chester&#44 En...  \n",
       "3  My older brother and twin sister were leaving ...  \n",
       "4  AS a Marine 1st Lt. flying an FJ4B fighter/att...  "
      ]
     },
     "execution_count": 22,
     "metadata": {},
     "output_type": "execute_result"
    }
   ],
   "source": [
    "ufo_df_sub.head()"
   ]
  },
  {
   "cell_type": "markdown",
   "metadata": {},
   "source": [
    "### Drop missing data\n",
    "\n",
    "Let's remove some of the rows where certain columns have missing values. We're going to look at the length_of_time column, the state column, and the type column. If any of the values in these columns are missing, we're going to drop the rows."
   ]
  },
  {
   "cell_type": "markdown",
   "metadata": {},
   "source": [
    "**Questions**:  (use data in `ufo_df_sub`)\n",
    "\n",
    "1. how many values are missing in each column?\n",
    "2. Remove all rows that contain any missing values by calling the `dropna` method.\n",
    "3. What is the shape of the new data frame? How many rows were removed?"
   ]
  },
  {
   "cell_type": "code",
   "execution_count": 23,
   "metadata": {},
   "outputs": [
    {
     "data": {
      "text/plain": [
       "datetime_sighted       0\n",
       "country             9670\n",
       "ushape              1932\n",
       "duration_seconds       0\n",
       "description_text      15\n",
       "dtype: int64"
      ]
     },
     "execution_count": 23,
     "metadata": {},
     "output_type": "execute_result"
    }
   ],
   "source": [
    "#Q1\n",
    "\n",
    "ufo_df_sub.isna().sum()"
   ]
  },
  {
   "cell_type": "code",
   "execution_count": 24,
   "metadata": {},
   "outputs": [
    {
     "data": {
      "text/plain": [
       "datetime_sighted       0\n",
       "country             9670\n",
       "ushape              1932\n",
       "duration_seconds       0\n",
       "description_text      15\n",
       "dtype: int64"
      ]
     },
     "execution_count": 24,
     "metadata": {},
     "output_type": "execute_result"
    }
   ],
   "source": [
    "ufo_df_sub.isnull().sum()"
   ]
  },
  {
   "cell_type": "code",
   "execution_count": 25,
   "metadata": {},
   "outputs": [],
   "source": [
    "# read documentation of dropna method\n",
    "?ufo_df_sub.dropna"
   ]
  },
  {
   "cell_type": "code",
   "execution_count": 26,
   "metadata": {},
   "outputs": [
    {
     "name": "stdout",
     "output_type": "stream",
     "text": [
      "(80332, 5)\n",
      "(68993, 5)\n"
     ]
    }
   ],
   "source": [
    "#Q2\n",
    "\n",
    "print(ufo_df_sub.shape)\n",
    "ufo_df_sub.dropna(how='any', inplace=True)\n",
    "print(ufo_df_sub.shape)"
   ]
  },
  {
   "cell_type": "code",
   "execution_count": null,
   "metadata": {},
   "outputs": [],
   "source": []
  },
  {
   "cell_type": "code",
   "execution_count": 27,
   "metadata": {},
   "outputs": [
    {
     "data": {
      "text/plain": [
       "datetime_sighted    object\n",
       "country             object\n",
       "ushape              object\n",
       "duration_seconds    object\n",
       "description_text    object\n",
       "dtype: object"
      ]
     },
     "execution_count": 27,
     "metadata": {},
     "output_type": "execute_result"
    }
   ],
   "source": [
    "ufo_df_sub.dtypes"
   ]
  },
  {
   "cell_type": "markdown",
   "metadata": {},
   "source": [
    "### Data type conversions\n",
    "\n",
    "The dtype of all columns is `object`, which means they are encoded as text. Therefore some type conversions are necessary."
   ]
  },
  {
   "cell_type": "markdown",
   "metadata": {},
   "source": [
    "**Questions**: (use data in `ufo_df_sub`)\n",
    "\n",
    "1. Change the type of the numeric variables to float by calling `astype()` method. Put the result in the **same** column in `ufo_df_sub`.\n",
    "2. For the sake of simplicity, DO NOT modify the type of categorical variables to `cateory`.\n",
    "3. Change the type of date/time variables using `pd.to_datetime()` function.\n",
    "4. Verify your results by displaying `ufo_df_sub.dtypes`"
   ]
  },
  {
   "cell_type": "code",
   "execution_count": 28,
   "metadata": {},
   "outputs": [],
   "source": [
    "#Q1\n",
    "ufo_df_sub['duration_seconds']=ufo_df_sub.duration_seconds.astype('float')"
   ]
  },
  {
   "cell_type": "code",
   "execution_count": null,
   "metadata": {},
   "outputs": [],
   "source": []
  },
  {
   "cell_type": "code",
   "execution_count": 29,
   "metadata": {},
   "outputs": [],
   "source": [
    "#Q3"
   ]
  },
  {
   "cell_type": "code",
   "execution_count": 30,
   "metadata": {},
   "outputs": [],
   "source": [
    "#?pd.to_datetime"
   ]
  },
  {
   "cell_type": "code",
   "execution_count": 31,
   "metadata": {},
   "outputs": [],
   "source": [
    "# THIS IS ALREADY DONE FOR YOU!\n",
    "if \"datetime_sighted\" in ufo_df_sub.columns:\n",
    "    ufo_df_sub[\"datetime_sighted\"] = pd.to_datetime(ufo_df_sub.datetime_sighted, errors='coerce')"
   ]
  },
  {
   "cell_type": "code",
   "execution_count": null,
   "metadata": {},
   "outputs": [],
   "source": []
  },
  {
   "cell_type": "code",
   "execution_count": null,
   "metadata": {},
   "outputs": [],
   "source": []
  },
  {
   "cell_type": "code",
   "execution_count": 32,
   "metadata": {},
   "outputs": [
    {
     "data": {
      "text/plain": [
       "datetime_sighted    datetime64[ns]\n",
       "country                     object\n",
       "ushape                      object\n",
       "duration_seconds           float64\n",
       "description_text            object\n",
       "dtype: object"
      ]
     },
     "execution_count": 32,
     "metadata": {},
     "output_type": "execute_result"
    }
   ],
   "source": [
    "#Q4  Verify your results\n",
    "ufo_df_sub.dtypes"
   ]
  },
  {
   "cell_type": "markdown",
   "metadata": {},
   "source": [
    "## Feature engineering"
   ]
  },
  {
   "cell_type": "markdown",
   "metadata": {},
   "source": [
    "### Feature engineering of numeric columns\n",
    "\n",
    "In this section, you'll investigate the useful numeric variables in this dataset and determine whether they should be scaled and/or log-normalized."
   ]
  },
  {
   "cell_type": "markdown",
   "metadata": {},
   "source": [
    "**Questions**:   (use data in `ufo_df_sub`)\n",
    "\n",
    "1. Plot the distribution of the duratin_seconds columns using a histogram and/or boxplot.\n",
    "2. Using `np.log` function perform log normalization on the `duration_seconds` column (because it is very skewed). Put the result in a new column in `ufo_df_sub` called `duration_sec_lg`.\n",
    "3. Using the `StandardScaler` class perform standard scaling on the `duration_sec_lg` variable. Store the result in a new column in `ufo_df_sub` called `duration_sec_lg_scaled`.\n",
    "4. Plot the distribution of the new columns. Is its distribution near symmetric?"
   ]
  },
  {
   "cell_type": "code",
   "execution_count": 33,
   "metadata": {},
   "outputs": [
    {
     "data": {
      "text/plain": [
       "<matplotlib.axes._subplots.AxesSubplot at 0x7f710fac8860>"
      ]
     },
     "execution_count": 33,
     "metadata": {},
     "output_type": "execute_result"
    },
    {
     "data": {
      "image/png": "[encoded data removed]",
      "text/plain": [
       "<Figure size 432x288 with 1 Axes>"
      ]
     },
     "metadata": {
      "needs_background": "light"
     },
     "output_type": "display_data"
    }
   ],
   "source": [
    "# Plot distribution\n",
    "ufo_df_sub.duration_seconds.plot.hist()"
   ]
  },
  {
   "cell_type": "code",
   "execution_count": 35,
   "metadata": {},
   "outputs": [
    {
     "data": {
      "text/plain": [
       "<matplotlib.axes._subplots.AxesSubplot at 0x7f710fb21b70>"
      ]
     },
     "execution_count": 35,
     "metadata": {},
     "output_type": "execute_result"
    },
    {
     "data": {
      "image/png": "[encoded data removed]",
      "text/plain": [
       "<Figure size 432x288 with 1 Axes>"
      ]
     },
     "metadata": {
      "needs_background": "light"
     },
     "output_type": "display_data"
    }
   ],
   "source": [
    "ufo_df_sub.duration_seconds.plot.box()"
   ]
  },
  {
   "cell_type": "code",
   "execution_count": 39,
   "metadata": {},
   "outputs": [],
   "source": [
    "# Log normalization\n",
    "ufo_df_sub['duration_sec_lg_scaled']=np.log(ufo_df_sub.duration_seconds)"
   ]
  },
  {
   "cell_type": "code",
   "execution_count": 42,
   "metadata": {},
   "outputs": [
    {
     "data": {
      "text/html": [
       "<div>\n",
       "<style scoped>\n",
       "    .dataframe tbody tr th:only-of-type {\n",
       "        vertical-align: middle;\n",
       "    }\n",
       "\n",
       "    .dataframe tbody tr th {\n",
       "        vertical-align: top;\n",
       "    }\n",
       "\n",
       "    .dataframe thead th {\n",
       "        text-align: right;\n",
       "    }\n",
       "</style>\n",
       "<table border=\"1\" class=\"dataframe\">\n",
       "  <thead>\n",
       "    <tr style=\"text-align: right;\">\n",
       "      <th></th>\n",
       "      <th>duration_seconds</th>\n",
       "      <th>duration_sec_lg_scaled</th>\n",
       "    </tr>\n",
       "  </thead>\n",
       "  <tbody>\n",
       "    <tr>\n",
       "      <th>0</th>\n",
       "      <td>2700.0</td>\n",
       "      <td>7.901007</td>\n",
       "    </tr>\n",
       "    <tr>\n",
       "      <th>2</th>\n",
       "      <td>20.0</td>\n",
       "      <td>2.995732</td>\n",
       "    </tr>\n",
       "    <tr>\n",
       "      <th>3</th>\n",
       "      <td>20.0</td>\n",
       "      <td>2.995732</td>\n",
       "    </tr>\n",
       "    <tr>\n",
       "      <th>4</th>\n",
       "      <td>900.0</td>\n",
       "      <td>6.802395</td>\n",
       "    </tr>\n",
       "    <tr>\n",
       "      <th>5</th>\n",
       "      <td>300.0</td>\n",
       "      <td>5.703782</td>\n",
       "    </tr>\n",
       "  </tbody>\n",
       "</table>\n",
       "</div>"
      ],
      "text/plain": [
       "   duration_seconds  duration_sec_lg_scaled\n",
       "0            2700.0                7.901007\n",
       "2              20.0                2.995732\n",
       "3              20.0                2.995732\n",
       "4             900.0                6.802395\n",
       "5             300.0                5.703782"
      ]
     },
     "execution_count": 42,
     "metadata": {},
     "output_type": "execute_result"
    }
   ],
   "source": [
    "ufo_df_sub[['duration_seconds','duration_sec_lg_scaled']].head()"
   ]
  },
  {
   "cell_type": "code",
   "execution_count": 43,
   "metadata": {},
   "outputs": [],
   "source": [
    "# Standard scaling\n",
    "\n",
    "from sklearn.preprocessing import StandardScaler\n",
    "\n",
    "sc = StandardScaler()\n"
   ]
  },
  {
   "cell_type": "code",
   "execution_count": 44,
   "metadata": {},
   "outputs": [
    {
     "ename": "KeyError",
     "evalue": "\"None of [Index(['duration_seconds_lg_scaled'], dtype='object')] are in the [columns]\"",
     "output_type": "error",
     "traceback": [
      "\u001b[0;31m---------------------------------------------------------------------------\u001b[0m",
      "\u001b[0;31mKeyError\u001b[0m                                  Traceback (most recent call last)",
      "\u001b[0;32m<ipython-input-44-b0ebaf0acd60>\u001b[0m in \u001b[0;36m<module>\u001b[0;34m\u001b[0m\n\u001b[0;32m----> 1\u001b[0;31m \u001b[0mufo_df_sub\u001b[0m\u001b[0;34m[\u001b[0m\u001b[0;34m'duration_seconds_lg'\u001b[0m\u001b[0;34m]\u001b[0m \u001b[0;34m=\u001b[0m \u001b[0msc\u001b[0m\u001b[0;34m.\u001b[0m\u001b[0mfit_transform\u001b[0m\u001b[0;34m(\u001b[0m\u001b[0mufo_df_sub\u001b[0m\u001b[0;34m[\u001b[0m\u001b[0;34m[\u001b[0m\u001b[0;34m'duration_seconds_lg_scaled'\u001b[0m\u001b[0;34m]\u001b[0m\u001b[0;34m]\u001b[0m\u001b[0;34m)\u001b[0m\u001b[0;34m.\u001b[0m\u001b[0mravel\u001b[0m\u001b[0;34m(\u001b[0m\u001b[0;34m)\u001b[0m\u001b[0;34m\u001b[0m\u001b[0;34m\u001b[0m\u001b[0m\n\u001b[0m\u001b[1;32m      2\u001b[0m \u001b[0mufo_df_sub\u001b[0m\u001b[0;34m[\u001b[0m\u001b[0;34m[\u001b[0m\u001b[0;34m'duration_seconds_lg'\u001b[0m\u001b[0;34m,\u001b[0m\u001b[0;34m'duration_seconds_lg_scaled'\u001b[0m\u001b[0;34m]\u001b[0m\u001b[0;34m]\u001b[0m\u001b[0;34m.\u001b[0m\u001b[0mhead\u001b[0m\u001b[0;34m(\u001b[0m\u001b[0;34m)\u001b[0m\u001b[0;34m\u001b[0m\u001b[0;34m\u001b[0m\u001b[0m\n",
      "\u001b[0;32m~/anaconda3/lib/python3.6/site-packages/pandas/core/frame.py\u001b[0m in \u001b[0;36m__getitem__\u001b[0;34m(self, key)\u001b[0m\n\u001b[1;32m   2932\u001b[0m                 \u001b[0mkey\u001b[0m \u001b[0;34m=\u001b[0m \u001b[0mlist\u001b[0m\u001b[0;34m(\u001b[0m\u001b[0mkey\u001b[0m\u001b[0;34m)\u001b[0m\u001b[0;34m\u001b[0m\u001b[0;34m\u001b[0m\u001b[0m\n\u001b[1;32m   2933\u001b[0m             indexer = self.loc._convert_to_indexer(key, axis=1,\n\u001b[0;32m-> 2934\u001b[0;31m                                                    raise_missing=True)\n\u001b[0m\u001b[1;32m   2935\u001b[0m \u001b[0;34m\u001b[0m\u001b[0m\n\u001b[1;32m   2936\u001b[0m         \u001b[0;31m# take() does not accept boolean indexers\u001b[0m\u001b[0;34m\u001b[0m\u001b[0;34m\u001b[0m\u001b[0;34m\u001b[0m\u001b[0m\n",
      "\u001b[0;32m~/anaconda3/lib/python3.6/site-packages/pandas/core/indexing.py\u001b[0m in \u001b[0;36m_convert_to_indexer\u001b[0;34m(self, obj, axis, is_setter, raise_missing)\u001b[0m\n\u001b[1;32m   1352\u001b[0m                 kwargs = {'raise_missing': True if is_setter else\n\u001b[1;32m   1353\u001b[0m                           raise_missing}\n\u001b[0;32m-> 1354\u001b[0;31m                 \u001b[0;32mreturn\u001b[0m \u001b[0mself\u001b[0m\u001b[0;34m.\u001b[0m\u001b[0m_get_listlike_indexer\u001b[0m\u001b[0;34m(\u001b[0m\u001b[0mobj\u001b[0m\u001b[0;34m,\u001b[0m \u001b[0maxis\u001b[0m\u001b[0;34m,\u001b[0m \u001b[0;34m**\u001b[0m\u001b[0mkwargs\u001b[0m\u001b[0;34m)\u001b[0m\u001b[0;34m[\u001b[0m\u001b[0;36m1\u001b[0m\u001b[0;34m]\u001b[0m\u001b[0;34m\u001b[0m\u001b[0;34m\u001b[0m\u001b[0m\n\u001b[0m\u001b[1;32m   1355\u001b[0m         \u001b[0;32melse\u001b[0m\u001b[0;34m:\u001b[0m\u001b[0;34m\u001b[0m\u001b[0;34m\u001b[0m\u001b[0m\n\u001b[1;32m   1356\u001b[0m             \u001b[0;32mtry\u001b[0m\u001b[0;34m:\u001b[0m\u001b[0;34m\u001b[0m\u001b[0;34m\u001b[0m\u001b[0m\n",
      "\u001b[0;32m~/anaconda3/lib/python3.6/site-packages/pandas/core/indexing.py\u001b[0m in \u001b[0;36m_get_listlike_indexer\u001b[0;34m(self, key, axis, raise_missing)\u001b[0m\n\u001b[1;32m   1159\u001b[0m         self._validate_read_indexer(keyarr, indexer,\n\u001b[1;32m   1160\u001b[0m                                     \u001b[0mo\u001b[0m\u001b[0;34m.\u001b[0m\u001b[0m_get_axis_number\u001b[0m\u001b[0;34m(\u001b[0m\u001b[0maxis\u001b[0m\u001b[0;34m)\u001b[0m\u001b[0;34m,\u001b[0m\u001b[0;34m\u001b[0m\u001b[0;34m\u001b[0m\u001b[0m\n\u001b[0;32m-> 1161\u001b[0;31m                                     raise_missing=raise_missing)\n\u001b[0m\u001b[1;32m   1162\u001b[0m         \u001b[0;32mreturn\u001b[0m \u001b[0mkeyarr\u001b[0m\u001b[0;34m,\u001b[0m \u001b[0mindexer\u001b[0m\u001b[0;34m\u001b[0m\u001b[0;34m\u001b[0m\u001b[0m\n\u001b[1;32m   1163\u001b[0m \u001b[0;34m\u001b[0m\u001b[0m\n",
      "\u001b[0;32m~/anaconda3/lib/python3.6/site-packages/pandas/core/indexing.py\u001b[0m in \u001b[0;36m_validate_read_indexer\u001b[0;34m(self, key, indexer, axis, raise_missing)\u001b[0m\n\u001b[1;32m   1244\u001b[0m                 raise KeyError(\n\u001b[1;32m   1245\u001b[0m                     u\"None of [{key}] are in the [{axis}]\".format(\n\u001b[0;32m-> 1246\u001b[0;31m                         key=key, axis=self.obj._get_axis_name(axis)))\n\u001b[0m\u001b[1;32m   1247\u001b[0m \u001b[0;34m\u001b[0m\u001b[0m\n\u001b[1;32m   1248\u001b[0m             \u001b[0;31m# We (temporarily) allow for some missing keys with .loc, except in\u001b[0m\u001b[0;34m\u001b[0m\u001b[0;34m\u001b[0m\u001b[0;34m\u001b[0m\u001b[0m\n",
      "\u001b[0;31mKeyError\u001b[0m: \"None of [Index(['duration_seconds_lg_scaled'], dtype='object')] are in the [columns]\""
     ]
    }
   ],
   "source": [
    "ufo_df_sub['duration_seconds_lg'] = sc.fit_transform(ufo_df_sub[['duration_seconds_lg_scaled']]).ravel()\n",
    "ufo_df_sub[['duration_seconds_lg','duration_seconds_lg_scaled']].head()"
   ]
  },
  {
   "cell_type": "code",
   "execution_count": null,
   "metadata": {},
   "outputs": [],
   "source": [
    "# Plot the distribution of the NEW column\n"
   ]
  },
  {
   "cell_type": "code",
   "execution_count": null,
   "metadata": {},
   "outputs": [],
   "source": []
  },
  {
   "cell_type": "markdown",
   "metadata": {},
   "source": [
    "### Feature engineering of categorical columns"
   ]
  },
  {
   "cell_type": "markdown",
   "metadata": {},
   "source": [
    "**Questions**:   (use data in `ufo_df_sub`)\n",
    "\n",
    "1. How many categories does the `ushape` column have?\n",
    "2. Modify the `ushape` column by combining all the sparse categories (those that occur less than 50 times) into a single category called `other`.\n",
    "3. How many categories does the `ushape` column now contain?\n",
    "4. Using the `pd.get_dummies` function, apply one-hot encoding on the `ushape` column. Store the result in a new data frame called `ushape_hot`.\n",
    "5. What is the size of the new data frame? is it correct?"
   ]
  },
  {
   "cell_type": "code",
   "execution_count": null,
   "metadata": {},
   "outputs": [],
   "source": []
  },
  {
   "cell_type": "code",
   "execution_count": null,
   "metadata": {},
   "outputs": [],
   "source": []
  },
  {
   "cell_type": "code",
   "execution_count": null,
   "metadata": {},
   "outputs": [],
   "source": []
  },
  {
   "cell_type": "code",
   "execution_count": null,
   "metadata": {},
   "outputs": [],
   "source": []
  },
  {
   "cell_type": "markdown",
   "metadata": {},
   "source": [
    "### Feature engineering of unstructured columns"
   ]
  },
  {
   "cell_type": "markdown",
   "metadata": {},
   "source": [
    "#### Time/date columns"
   ]
  },
  {
   "cell_type": "markdown",
   "metadata": {},
   "source": [
    "**Questions**:   (use data in `ufo_df_sub`)\n",
    "\n",
    "Answer the following questions ONLY IF you have selected the date attributes as being useful.\n",
    "\n",
    "1. Create two new variables that contain the month and year of the `datetime_sighted` column.\n",
    "2. Create two new variables that contain the month and year of the `date_recorded` column."
   ]
  },
  {
   "cell_type": "code",
   "execution_count": null,
   "metadata": {},
   "outputs": [],
   "source": [
    "# Q. 1   THIS IS ALREADY DONE FOR YOU. JUST EXECUTE THIS CELL\n",
    "\n",
    "# Extract the month from the date column\n",
    "ufo_df_sub[\"month_sighted\"] = ufo_df_sub[\"datetime_sighted\"].map(lambda row: row.month)\n",
    "\n",
    "# Extract the year from the date column\n",
    "ufo_df_sub[\"year_sighted\"] = ufo_df_sub[\"datetime_sighted\"].map(lambda row: row.year)\n",
    "\n",
    "# Take a look at the new columns to make sure everything is okay\n",
    "ufo_df_sub[[\"datetime_sighted\", \"month_sighted\", \"year_sighted\"]].head()"
   ]
  },
  {
   "cell_type": "code",
   "execution_count": null,
   "metadata": {},
   "outputs": [],
   "source": [
    "# Q. 2  SEE THE PREVIOUS CELL FOR INSPIRATION!\n",
    "\n"
   ]
  },
  {
   "cell_type": "markdown",
   "metadata": {},
   "source": [
    "#### Text columns\n",
    "Let's transform the `description_text` column in the UFO dataset into tf/idf vectors, since there's likely something we can learn from this field."
   ]
  },
  {
   "cell_type": "markdown",
   "metadata": {},
   "source": [
    "**Questions**:\n",
    "\n",
    "1. Execute the cells below\n",
    "2. How many columns are there in the result matrix?\n",
    "3. What does the first column in this matrix represent?"
   ]
  },
  {
   "cell_type": "code",
   "execution_count": 45,
   "metadata": {},
   "outputs": [
    {
     "data": {
      "text/plain": [
       "0    This event took place in early fall around 194...\n",
       "2    Green/Orange circular disc over Chester&#44 En...\n",
       "3    My older brother and twin sister were leaving ...\n",
       "4    AS a Marine 1st Lt. flying an FJ4B fighter/att...\n",
       "5    My father is now 89 my brother 52 the girl wit...\n",
       "Name: description_text, dtype: object"
      ]
     },
     "execution_count": 45,
     "metadata": {},
     "output_type": "execute_result"
    }
   ],
   "source": [
    "## Let's first take a look at the head of the description field\n",
    "ufo_df_sub.description_text.head()"
   ]
  },
  {
   "cell_type": "code",
   "execution_count": 46,
   "metadata": {},
   "outputs": [],
   "source": [
    "from sklearn.feature_extraction.text import TfidfVectorizer\n",
    "\n",
    "# Create an instance of the TfidfVectorizer class\n",
    "vec = TfidfVectorizer(max_df=0.8,min_df=10,max_features=50,stop_words='english')\n",
    "\n",
    "# transform each description to a vector of numeric attributes using the vec object\n",
    "# we obtain a nxm matrix , where each column corresponds \n",
    "desc_tfidf = vec.fit_transform(ufo_df_sub.description_text)"
   ]
  },
  {
   "cell_type": "code",
   "execution_count": 47,
   "metadata": {},
   "outputs": [
    {
     "data": {
      "text/plain": [
       "scipy.sparse.csr.csr_matrix"
      ]
     },
     "execution_count": 47,
     "metadata": {},
     "output_type": "execute_result"
    }
   ],
   "source": [
    "type(desc_tfidf)"
   ]
  },
  {
   "cell_type": "code",
   "execution_count": 48,
   "metadata": {},
   "outputs": [
    {
     "data": {
      "text/plain": [
       "(68993, 50)"
      ]
     },
     "execution_count": 48,
     "metadata": {},
     "output_type": "execute_result"
    }
   ],
   "source": [
    "desc_tfidf.shape"
   ]
  },
  {
   "cell_type": "code",
   "execution_count": 50,
   "metadata": {},
   "outputs": [
    {
     "data": {
      "text/plain": [
       "50"
      ]
     },
     "execution_count": 50,
     "metadata": {},
     "output_type": "execute_result"
    }
   ],
   "source": [
    "# The vocabulary words corresponding to each column in desc_tfidf  \n",
    "len(vec.get_feature_names())"
   ]
  },
  {
   "cell_type": "markdown",
   "metadata": {},
   "source": [
    "****"
   ]
  },
  {
   "cell_type": "markdown",
   "metadata": {},
   "source": [
    "## Put final set of attributes in new data frame (TP5)\n",
    "\n",
    "We are going to combine all the attributes that we selected into one data frame."
   ]
  },
  {
   "cell_type": "code",
   "execution_count": null,
   "metadata": {},
   "outputs": [],
   "source": []
  },
  {
   "cell_type": "code",
   "execution_count": null,
   "metadata": {},
   "outputs": [],
   "source": []
  },
  {
   "cell_type": "markdown",
   "metadata": {},
   "source": [
    "## Build prediction model (TP5)"
   ]
  },
  {
   "cell_type": "code",
   "execution_count": null,
   "metadata": {},
   "outputs": [],
   "source": []
  },
  {
   "cell_type": "code",
   "execution_count": null,
   "metadata": {},
   "outputs": [],
   "source": []
  },
  {
   "cell_type": "code",
   "execution_count": null,
   "metadata": {},
   "outputs": [],
   "source": []
  }
 ],
 "metadata": {
  "kernelspec": {
   "display_name": "Python 3",
   "language": "python",
   "name": "python3"
  }
 },
 "nbformat": 4,
 "nbformat_minor": 2
}
