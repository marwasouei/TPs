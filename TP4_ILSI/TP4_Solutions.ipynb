{
 "cells": [
  {
   "cell_type": "code",
   "execution_count": 1,
   "metadata": {},
   "outputs": [],
   "source": [
    "import numpy as np\n",
    "import pandas as pd"
   ]
  },
  {
   "cell_type": "code",
   "execution_count": 2,
   "metadata": {},
   "outputs": [],
   "source": [
    "from matplotlib import pyplot as plt\n",
    "%matplotlib inline"
   ]
  },
  {
   "cell_type": "markdown",
   "metadata": {},
   "source": [
    "### Read the data"
   ]
  },
  {
   "cell_type": "code",
   "execution_count": 3,
   "metadata": {},
   "outputs": [
    {
     "data": {
      "text/plain": [
       "(80332, 11)"
      ]
     },
     "execution_count": 3,
     "metadata": {},
     "output_type": "execute_result"
    }
   ],
   "source": [
    "ufo_df = pd.read_csv ('./ufo_sightings.csv', header=None,low_memory=False)\n",
    "ufo_df.shape"
   ]
  },
  {
   "cell_type": "code",
   "execution_count": 4,
   "metadata": {},
   "outputs": [],
   "source": [
    "ufo_df.columns = ['datetime_sighted', 'city', 'state', 'country', 'ushape', 'duration_seconds', 'duration_text', 'description_text', 'date_recorded', 'lat', 'long']"
   ]
  },
  {
   "cell_type": "code",
   "execution_count": 5,
   "metadata": {},
   "outputs": [
    {
     "data": {
      "text/html": [
       "<div>\n",
       "<style scoped>\n",
       "    .dataframe tbody tr th:only-of-type {\n",
       "        vertical-align: middle;\n",
       "    }\n",
       "\n",
       "    .dataframe tbody tr th {\n",
       "        vertical-align: top;\n",
       "    }\n",
       "\n",
       "    .dataframe thead th {\n",
       "        text-align: right;\n",
       "    }\n",
       "</style>\n",
       "<table border=\"1\" class=\"dataframe\">\n",
       "  <thead>\n",
       "    <tr style=\"text-align: right;\">\n",
       "      <th></th>\n",
       "      <th>datetime_sighted</th>\n",
       "      <th>city</th>\n",
       "      <th>state</th>\n",
       "      <th>country</th>\n",
       "      <th>ushape</th>\n",
       "      <th>duration_seconds</th>\n",
       "      <th>duration_text</th>\n",
       "      <th>description_text</th>\n",
       "      <th>date_recorded</th>\n",
       "      <th>lat</th>\n",
       "      <th>long</th>\n",
       "    </tr>\n",
       "  </thead>\n",
       "  <tbody>\n",
       "    <tr>\n",
       "      <th>0</th>\n",
       "      <td>10/10/1949 20:30</td>\n",
       "      <td>san marcos</td>\n",
       "      <td>tx</td>\n",
       "      <td>us</td>\n",
       "      <td>cylinder</td>\n",
       "      <td>2700</td>\n",
       "      <td>45 minutes</td>\n",
       "      <td>This event took place in early fall around 194...</td>\n",
       "      <td>4/27/2004</td>\n",
       "      <td>29.8830556</td>\n",
       "      <td>-97.941111</td>\n",
       "    </tr>\n",
       "    <tr>\n",
       "      <th>1</th>\n",
       "      <td>10/10/1949 21:00</td>\n",
       "      <td>lackland afb</td>\n",
       "      <td>tx</td>\n",
       "      <td>NaN</td>\n",
       "      <td>light</td>\n",
       "      <td>7200</td>\n",
       "      <td>1-2 hrs</td>\n",
       "      <td>1949 Lackland AFB&amp;#44 TX.  Lights racing acros...</td>\n",
       "      <td>12/16/2005</td>\n",
       "      <td>29.38421</td>\n",
       "      <td>-98.581082</td>\n",
       "    </tr>\n",
       "    <tr>\n",
       "      <th>2</th>\n",
       "      <td>10/10/1955 17:00</td>\n",
       "      <td>chester (uk/england)</td>\n",
       "      <td>NaN</td>\n",
       "      <td>gb</td>\n",
       "      <td>circle</td>\n",
       "      <td>20</td>\n",
       "      <td>20 seconds</td>\n",
       "      <td>Green/Orange circular disc over Chester&amp;#44 En...</td>\n",
       "      <td>1/21/2008</td>\n",
       "      <td>53.2</td>\n",
       "      <td>-2.916667</td>\n",
       "    </tr>\n",
       "    <tr>\n",
       "      <th>3</th>\n",
       "      <td>10/10/1956 21:00</td>\n",
       "      <td>edna</td>\n",
       "      <td>tx</td>\n",
       "      <td>us</td>\n",
       "      <td>circle</td>\n",
       "      <td>20</td>\n",
       "      <td>1/2 hour</td>\n",
       "      <td>My older brother and twin sister were leaving ...</td>\n",
       "      <td>1/17/2004</td>\n",
       "      <td>28.9783333</td>\n",
       "      <td>-96.645833</td>\n",
       "    </tr>\n",
       "    <tr>\n",
       "      <th>4</th>\n",
       "      <td>10/10/1960 20:00</td>\n",
       "      <td>kaneohe</td>\n",
       "      <td>hi</td>\n",
       "      <td>us</td>\n",
       "      <td>light</td>\n",
       "      <td>900</td>\n",
       "      <td>15 minutes</td>\n",
       "      <td>AS a Marine 1st Lt. flying an FJ4B fighter/att...</td>\n",
       "      <td>1/22/2004</td>\n",
       "      <td>21.4180556</td>\n",
       "      <td>-157.803611</td>\n",
       "    </tr>\n",
       "  </tbody>\n",
       "</table>\n",
       "</div>"
      ],
      "text/plain": [
       "   datetime_sighted                  city state country    ushape  \\\n",
       "0  10/10/1949 20:30            san marcos    tx      us  cylinder   \n",
       "1  10/10/1949 21:00          lackland afb    tx     NaN     light   \n",
       "2  10/10/1955 17:00  chester (uk/england)   NaN      gb    circle   \n",
       "3  10/10/1956 21:00                  edna    tx      us    circle   \n",
       "4  10/10/1960 20:00               kaneohe    hi      us     light   \n",
       "\n",
       "  duration_seconds duration_text  \\\n",
       "0             2700    45 minutes   \n",
       "1             7200       1-2 hrs   \n",
       "2               20    20 seconds   \n",
       "3               20      1/2 hour   \n",
       "4              900    15 minutes   \n",
       "\n",
       "                                    description_text date_recorded  \\\n",
       "0  This event took place in early fall around 194...     4/27/2004   \n",
       "1  1949 Lackland AFB&#44 TX.  Lights racing acros...    12/16/2005   \n",
       "2  Green/Orange circular disc over Chester&#44 En...     1/21/2008   \n",
       "3  My older brother and twin sister were leaving ...     1/17/2004   \n",
       "4  AS a Marine 1st Lt. flying an FJ4B fighter/att...     1/22/2004   \n",
       "\n",
       "          lat        long  \n",
       "0  29.8830556  -97.941111  \n",
       "1    29.38421  -98.581082  \n",
       "2        53.2   -2.916667  \n",
       "3  28.9783333  -96.645833  \n",
       "4  21.4180556 -157.803611  "
      ]
     },
     "execution_count": 5,
     "metadata": {},
     "output_type": "execute_result"
    }
   ],
   "source": [
    "ufo_df.head()"
   ]
  },
  {
   "cell_type": "code",
   "execution_count": 6,
   "metadata": {},
   "outputs": [
    {
     "name": "stdout",
     "output_type": "stream",
     "text": [
      "<class 'pandas.core.frame.DataFrame'>\n",
      "RangeIndex: 80332 entries, 0 to 80331\n",
      "Data columns (total 11 columns):\n",
      "datetime_sighted    80332 non-null object\n",
      "city                80332 non-null object\n",
      "state               74535 non-null object\n",
      "country             70662 non-null object\n",
      "ushape              78400 non-null object\n",
      "duration_seconds    80332 non-null object\n",
      "duration_text       80332 non-null object\n",
      "description_text    80317 non-null object\n",
      "date_recorded       80332 non-null object\n",
      "lat                 80332 non-null object\n",
      "long                80332 non-null float64\n",
      "dtypes: float64(1), object(10)\n",
      "memory usage: 6.7+ MB\n"
     ]
    }
   ],
   "source": [
    "ufo_df.info()"
   ]
  },
  {
   "cell_type": "markdown",
   "metadata": {},
   "source": [
    "## Understanding the problem"
   ]
  },
  {
   "cell_type": "markdown",
   "metadata": {},
   "source": [
    "**Description of the problem**\n",
    "\n",
    "We would like to build a model to predict the geographic location: UFO sighting from its other characteristics. But this data set contains 5 variables that represent location: city, state, country, latitude, and longitude. Therefore we need to choose one of them as the target variable, and remove the other 4 variables.  We choose to predict *country*.\n",
    "\n",
    "Thus our goal is to build a model for predicting *country* from other non-location variables."
   ]
  },
  {
   "cell_type": "markdown",
   "metadata": {},
   "source": [
    "**Questions**:  answer the following question based on the information given above.\n",
    "\n",
    "1. What is the **target** attribute?\n",
    "2. What are the **predictor** attributes?\n",
    "3. Is this a **classification** task or a **regression** task? Explain."
   ]
  },
  {
   "cell_type": "markdown",
   "metadata": {},
   "source": [
    "<font color='red'> Answers </font>\n",
    "\n",
    "Q1.  The target attribute is `country`\n",
    "\n",
    "Q2.  The predictor attributes are all the non-location attributes: \n",
    "\n",
    "     date_recorded, datetime_sighted, description_text, duration_seconds, duration_text, ushape\n",
    "\n",
    "Q3. This is a **classification** task because `country` is a **categorical** attribute."
   ]
  },
  {
   "cell_type": "code",
   "execution_count": 7,
   "metadata": {},
   "outputs": [
    {
     "data": {
      "text/plain": [
       "{'date_recorded',\n",
       " 'datetime_sighted',\n",
       " 'description_text',\n",
       " 'duration_seconds',\n",
       " 'duration_text',\n",
       " 'ushape'}"
      ]
     },
     "execution_count": 7,
     "metadata": {},
     "output_type": "execute_result"
    }
   ],
   "source": [
    "set(ufo_df.columns) - {'lat','long','city','state','country'}"
   ]
  },
  {
   "cell_type": "markdown",
   "metadata": {},
   "source": [
    "****"
   ]
  },
  {
   "cell_type": "markdown",
   "metadata": {},
   "source": [
    "## Understanding the data"
   ]
  },
  {
   "cell_type": "markdown",
   "metadata": {},
   "source": [
    "**Questions**:\n",
    "\n",
    "1. Based on the descriptions given in the data dictionary, what is the **_true_** data type of each column?\n",
    "2. In how many countries do these UFO sightings occur? What are those countries?\n",
    "3. What is the common denominator among these countries?"
   ]
  },
  {
   "cell_type": "markdown",
   "metadata": {},
   "source": [
    "<font color='red'> Answers </font>"
   ]
  },
  {
   "cell_type": "markdown",
   "metadata": {},
   "source": [
    "Q1.\n",
    "\n",
    "    date_recorded:  unstructured\n",
    "    datetime_sighted: unstructured\n",
    "    description_text: unstructured\n",
    "    duration_seconds: numeric continuous\n",
    "    duration_text: unstructured\n",
    "    ushape: categorical"
   ]
  },
  {
   "cell_type": "markdown",
   "metadata": {},
   "source": [
    "Q2.\n",
    "\n",
    "The UFO sightings occur in 5 different countries: USA (us), Great Britain (gb), Canada (ca), Australia (au), and Germany (de)"
   ]
  },
  {
   "cell_type": "markdown",
   "metadata": {},
   "source": [
    "Q3.\n",
    "\n",
    "The common denominator among them is that they are all western/developed and english-speaking countries (except for Germany)."
   ]
  },
  {
   "cell_type": "code",
   "execution_count": 8,
   "metadata": {},
   "outputs": [
    {
     "data": {
      "text/plain": [
       "5"
      ]
     },
     "execution_count": 8,
     "metadata": {},
     "output_type": "execute_result"
    }
   ],
   "source": [
    "ufo_df.country.nunique()"
   ]
  },
  {
   "cell_type": "code",
   "execution_count": 9,
   "metadata": {},
   "outputs": [
    {
     "data": {
      "text/plain": [
       "array(['us', nan, 'gb', 'ca', 'au', 'de'], dtype=object)"
      ]
     },
     "execution_count": 9,
     "metadata": {},
     "output_type": "execute_result"
    }
   ],
   "source": [
    "ufo_df.country.unique()"
   ]
  },
  {
   "cell_type": "code",
   "execution_count": 10,
   "metadata": {},
   "outputs": [
    {
     "data": {
      "text/plain": [
       "us    65114\n",
       "ca     3000\n",
       "gb     1905\n",
       "au      538\n",
       "de      105\n",
       "Name: country, dtype: int64"
      ]
     },
     "execution_count": 10,
     "metadata": {},
     "output_type": "execute_result"
    }
   ],
   "source": [
    "ufo_df.country.value_counts()"
   ]
  },
  {
   "cell_type": "markdown",
   "metadata": {},
   "source": [
    "***"
   ]
  },
  {
   "cell_type": "markdown",
   "metadata": {},
   "source": [
    "## Data cleaning"
   ]
  },
  {
   "cell_type": "markdown",
   "metadata": {},
   "source": [
    "### Manual feature selection\n",
    "\n",
    "Below you will remove attributes that are redundant/duplicate or useless for building the model for predicting *country* from other non-location variables.\n",
    "\n",
    "Remember that manual feature selection is done **based only** on descriptions of the variables and understanding of the probem. No programming is required."
   ]
  },
  {
   "cell_type": "markdown",
   "metadata": {},
   "source": [
    "**Questions**:\n",
    "\n",
    "1. Create a new data frame called `ufo_df_sub` that is a copy of `ufo_df`; use the `copy` method.\n",
    "\n",
    "2. Remove all location columns from `ufo_df_sub` except country (i.e. city, state, lat, and long). Use the `drop` method.\n",
    "\n",
    "3. Which of the remaining variables in `ufo_df_sub` should be removed because they are **redundant** or **duplicate** of another variable? Explain.\n",
    "\n",
    "4. Which of the remaining variables in `ufo_df_sub` should be removed because they are **useless**: totally unrelated to the target variable?  *Hint*: unstructured variables are *not* useless; they just need to be transformed ...\n",
    "\n",
    "5. Modify `ufo_df_sub` by removing the columns that you identified in the previous two questions."
   ]
  },
  {
   "cell_type": "code",
   "execution_count": 11,
   "metadata": {},
   "outputs": [
    {
     "data": {
      "text/plain": [
       "(80332, 11)"
      ]
     },
     "execution_count": 11,
     "metadata": {},
     "output_type": "execute_result"
    }
   ],
   "source": [
    "# Q1.  THIS IS ALREADY DONE FOR YOU\n",
    "ufo_df_sub = ufo_df.copy()\n",
    "ufo_df_sub.shape"
   ]
  },
  {
   "cell_type": "code",
   "execution_count": 12,
   "metadata": {},
   "outputs": [],
   "source": [
    "# read documentation of drop() method\n",
    "# ?ufo_df.drop"
   ]
  },
  {
   "cell_type": "code",
   "execution_count": 13,
   "metadata": {},
   "outputs": [
    {
     "data": {
      "text/plain": [
       "(80332, 7)"
      ]
     },
     "execution_count": 13,
     "metadata": {},
     "output_type": "execute_result"
    }
   ],
   "source": [
    "# Q2.  THIS IS ALREADY DONE FOR YOU\n",
    "ufo_df_sub = ufo_df_sub.drop(columns=['city', 'state', 'lat', 'long'], axis=1)\n",
    "ufo_df_sub.shape                           "
   ]
  },
  {
   "cell_type": "markdown",
   "metadata": {},
   "source": [
    "<font color='red'> Answers </font>"
   ]
  },
  {
   "cell_type": "markdown",
   "metadata": {},
   "source": [
    "Q3.  Which of the remaining variables in `ufo_df_sub` should be removed because they are **redundant** or **duplicate** of another variable? Explain."
   ]
  },
  {
   "cell_type": "markdown",
   "metadata": {},
   "source": [
    "Q4. Which of the remaining variables in `ufo_df_sub` should be removed because they are **useless**: totally unrelated to the target variable?  *Hint*: unstructured variables are *not* useless; they just need to be transformed ...\n",
    "\n",
    "The remaining predictor attributes are:\n",
    "\n",
    "       datetime_sighted: relevant (useful)\n",
    "       ushape: relevant\n",
    "       duration_seconds: relevant\n",
    "       duration_text: redundant\n",
    "       description_text: relevant\n",
    "       date_recorded: useless"
   ]
  },
  {
   "cell_type": "code",
   "execution_count": 14,
   "metadata": {},
   "outputs": [
    {
     "data": {
      "text/plain": [
       "Index(['datetime_sighted', 'country', 'ushape', 'duration_seconds',\n",
       "       'duration_text', 'description_text', 'date_recorded'],\n",
       "      dtype='object')"
      ]
     },
     "execution_count": 14,
     "metadata": {},
     "output_type": "execute_result"
    }
   ],
   "source": [
    "ufo_df_sub.columns"
   ]
  },
  {
   "cell_type": "code",
   "execution_count": 15,
   "metadata": {},
   "outputs": [
    {
     "data": {
      "text/plain": [
       "(80332, 5)"
      ]
     },
     "execution_count": 15,
     "metadata": {},
     "output_type": "execute_result"
    }
   ],
   "source": [
    "#Q5.\n",
    "\n",
    "ufo_df_sub = ufo_df_sub.drop(columns=['date_recorded', 'duration_text'], axis=1)\n",
    "ufo_df_sub.shape "
   ]
  },
  {
   "cell_type": "code",
   "execution_count": 16,
   "metadata": {},
   "outputs": [
    {
     "data": {
      "text/html": [
       "<div>\n",
       "<style scoped>\n",
       "    .dataframe tbody tr th:only-of-type {\n",
       "        vertical-align: middle;\n",
       "    }\n",
       "\n",
       "    .dataframe tbody tr th {\n",
       "        vertical-align: top;\n",
       "    }\n",
       "\n",
       "    .dataframe thead th {\n",
       "        text-align: right;\n",
       "    }\n",
       "</style>\n",
       "<table border=\"1\" class=\"dataframe\">\n",
       "  <thead>\n",
       "    <tr style=\"text-align: right;\">\n",
       "      <th></th>\n",
       "      <th>datetime_sighted</th>\n",
       "      <th>country</th>\n",
       "      <th>ushape</th>\n",
       "      <th>duration_seconds</th>\n",
       "      <th>description_text</th>\n",
       "    </tr>\n",
       "  </thead>\n",
       "  <tbody>\n",
       "    <tr>\n",
       "      <th>0</th>\n",
       "      <td>10/10/1949 20:30</td>\n",
       "      <td>us</td>\n",
       "      <td>cylinder</td>\n",
       "      <td>2700</td>\n",
       "      <td>This event took place in early fall around 194...</td>\n",
       "    </tr>\n",
       "    <tr>\n",
       "      <th>1</th>\n",
       "      <td>10/10/1949 21:00</td>\n",
       "      <td>NaN</td>\n",
       "      <td>light</td>\n",
       "      <td>7200</td>\n",
       "      <td>1949 Lackland AFB&amp;#44 TX.  Lights racing acros...</td>\n",
       "    </tr>\n",
       "    <tr>\n",
       "      <th>2</th>\n",
       "      <td>10/10/1955 17:00</td>\n",
       "      <td>gb</td>\n",
       "      <td>circle</td>\n",
       "      <td>20</td>\n",
       "      <td>Green/Orange circular disc over Chester&amp;#44 En...</td>\n",
       "    </tr>\n",
       "    <tr>\n",
       "      <th>3</th>\n",
       "      <td>10/10/1956 21:00</td>\n",
       "      <td>us</td>\n",
       "      <td>circle</td>\n",
       "      <td>20</td>\n",
       "      <td>My older brother and twin sister were leaving ...</td>\n",
       "    </tr>\n",
       "    <tr>\n",
       "      <th>4</th>\n",
       "      <td>10/10/1960 20:00</td>\n",
       "      <td>us</td>\n",
       "      <td>light</td>\n",
       "      <td>900</td>\n",
       "      <td>AS a Marine 1st Lt. flying an FJ4B fighter/att...</td>\n",
       "    </tr>\n",
       "  </tbody>\n",
       "</table>\n",
       "</div>"
      ],
      "text/plain": [
       "   datetime_sighted country    ushape duration_seconds  \\\n",
       "0  10/10/1949 20:30      us  cylinder             2700   \n",
       "1  10/10/1949 21:00     NaN     light             7200   \n",
       "2  10/10/1955 17:00      gb    circle               20   \n",
       "3  10/10/1956 21:00      us    circle               20   \n",
       "4  10/10/1960 20:00      us     light              900   \n",
       "\n",
       "                                    description_text  \n",
       "0  This event took place in early fall around 194...  \n",
       "1  1949 Lackland AFB&#44 TX.  Lights racing acros...  \n",
       "2  Green/Orange circular disc over Chester&#44 En...  \n",
       "3  My older brother and twin sister were leaving ...  \n",
       "4  AS a Marine 1st Lt. flying an FJ4B fighter/att...  "
      ]
     },
     "execution_count": 16,
     "metadata": {},
     "output_type": "execute_result"
    }
   ],
   "source": [
    "ufo_df_sub.head()"
   ]
  },
  {
   "cell_type": "markdown",
   "metadata": {},
   "source": [
    "### Drop missing data\n",
    "\n",
    "Let's remove some of the rows where certain columns have missing values. We're going to look at the length_of_time column, the state column, and the type column. If any of the values in these columns are missing, we're going to drop the rows."
   ]
  },
  {
   "cell_type": "markdown",
   "metadata": {},
   "source": [
    "**Questions**:  (use data in `ufo_df_sub`)\n",
    "\n",
    "1. how many values are missing in each column?\n",
    "2. Remove all rows that contain any missing values by calling the `dropna` method.\n",
    "3. What is the shape of the new data frame? How many rows were removed?"
   ]
  },
  {
   "cell_type": "markdown",
   "metadata": {},
   "source": [
    "<font color='red'> Answers </font>"
   ]
  },
  {
   "cell_type": "code",
   "execution_count": 17,
   "metadata": {},
   "outputs": [
    {
     "data": {
      "text/plain": [
       "datetime_sighted       0\n",
       "country             9670\n",
       "ushape              1932\n",
       "duration_seconds       0\n",
       "description_text      15\n",
       "dtype: int64"
      ]
     },
     "execution_count": 17,
     "metadata": {},
     "output_type": "execute_result"
    }
   ],
   "source": [
    "## Q1. how many values are missing in each column?\n",
    "\n",
    "ufo_df_sub.isnull().sum()"
   ]
  },
  {
   "cell_type": "code",
   "execution_count": 18,
   "metadata": {},
   "outputs": [],
   "source": [
    "# read documentation of dropna method\n",
    "#?ufo_df_sub.dropna"
   ]
  },
  {
   "cell_type": "code",
   "execution_count": 19,
   "metadata": {},
   "outputs": [
    {
     "name": "stdout",
     "output_type": "stream",
     "text": [
      "(80332, 5)\n",
      "(68993, 5)\n"
     ]
    }
   ],
   "source": [
    "## Q2. Remove all rows that contain any missing values by calling the `dropna` method.\n",
    "\n",
    "print(ufo_df_sub.shape)\n",
    "ufo_df_sub.dropna(how='any', inplace=True)\n",
    "print(ufo_df_sub.shape)"
   ]
  },
  {
   "cell_type": "code",
   "execution_count": 20,
   "metadata": {},
   "outputs": [
    {
     "name": "stdout",
     "output_type": "stream",
     "text": [
      "The shape of the new data frame:\n",
      "(68993, 5)\n",
      "The number of rows that were removed:\n",
      "11339\n"
     ]
    }
   ],
   "source": [
    "## Q3.  What is the shape of the new data frame? How many rows were removed?\n",
    "\n",
    "print('The shape of the new data frame:')\n",
    "print(ufo_df_sub.shape)\n",
    "print()\n",
    "\n",
    "print('The number of rows that were removed:')\n",
    "print(80332 - 68993)"
   ]
  },
  {
   "cell_type": "markdown",
   "metadata": {},
   "source": [
    "***"
   ]
  },
  {
   "cell_type": "markdown",
   "metadata": {},
   "source": [
    "### Data type conversions\n",
    "\n",
    "The dtype of all columns is `object`, which means they are encoded as text. Therefore some type conversions are necessary."
   ]
  },
  {
   "cell_type": "markdown",
   "metadata": {},
   "source": [
    "**Questions**: (use data in `ufo_df_sub`)\n",
    "\n",
    "1. Change the type of the numeric variables to float by calling `astype()` method. Put the result in the **same** column in `ufo_df_sub`.\n",
    "2. For the sake of simplicity, DO NOT modify the type of categorical variables to `cateory`.\n",
    "3. Change the type of date/time variables using `pd.to_datetime()` function.\n",
    "4. Verify your results by displaying `ufo_df_sub.dtypes`"
   ]
  },
  {
   "cell_type": "markdown",
   "metadata": {},
   "source": [
    "<font color='red'> Answers </font>"
   ]
  },
  {
   "cell_type": "code",
   "execution_count": 22,
   "metadata": {},
   "outputs": [
    {
     "data": {
      "text/plain": [
       "datetime_sighted    object\n",
       "country             object\n",
       "ushape              object\n",
       "duration_seconds    object\n",
       "description_text    object\n",
       "dtype: object"
      ]
     },
     "execution_count": 22,
     "metadata": {},
     "output_type": "execute_result"
    }
   ],
   "source": [
    "ufo_df_sub.dtypes"
   ]
  },
  {
   "cell_type": "code",
   "execution_count": 23,
   "metadata": {},
   "outputs": [],
   "source": [
    "## Q1.  Change the type of the numeric variables to float by calling `astype()` method. Put the result in the **same** column in `ufo_df_sub`.\n",
    "\n",
    "ufo_df_sub['duration_seconds'] = pd.to_numeric(ufo_df_sub.duration_seconds, errors='coerce')\n",
    "\n",
    "## ANOTHER METHOD:\n",
    "## ufo_df_sub['duration_seconds'] = ufo_df_sub.duration_seconds.astype(float)"
   ]
  },
  {
   "cell_type": "code",
   "execution_count": 24,
   "metadata": {},
   "outputs": [],
   "source": [
    "## Q2. For the sake of simplicity, DO NOT modify the type of categorical variables to cateory.\n",
    "\n",
    "# NOTHING TO DO HERE!\n"
   ]
  },
  {
   "cell_type": "code",
   "execution_count": 25,
   "metadata": {},
   "outputs": [],
   "source": [
    "## Q3. Change the type of date/time variables using pd.to_datetime() function.\n",
    "\n",
    "# THIS QUESTION IS ALREADY ANSWERED FOR YOU BELOW.\n"
   ]
  },
  {
   "cell_type": "code",
   "execution_count": 26,
   "metadata": {},
   "outputs": [],
   "source": [
    "# READ DOCUMENTATION OF THIS FUNCTION.\n",
    "?pd.to_datetime"
   ]
  },
  {
   "cell_type": "code",
   "execution_count": 27,
   "metadata": {},
   "outputs": [],
   "source": [
    "if \"datetime_sighted\" in ufo_df_sub.columns:\n",
    "    ufo_df_sub[\"datetime_sighted\"] = pd.to_datetime(ufo_df_sub.datetime_sighted, errors='coerce')"
   ]
  },
  {
   "cell_type": "code",
   "execution_count": 28,
   "metadata": {},
   "outputs": [
    {
     "data": {
      "text/plain": [
       "datetime_sighted    datetime64[ns]\n",
       "country                     object\n",
       "ushape                      object\n",
       "duration_seconds           float64\n",
       "description_text            object\n",
       "dtype: object"
      ]
     },
     "execution_count": 28,
     "metadata": {},
     "output_type": "execute_result"
    }
   ],
   "source": [
    "## Q4. Verify the final results.\n",
    "\n",
    "ufo_df_sub.dtypes"
   ]
  },
  {
   "cell_type": "markdown",
   "metadata": {},
   "source": [
    "## Feature engineering"
   ]
  },
  {
   "cell_type": "markdown",
   "metadata": {},
   "source": [
    "### Feature engineering of numeric columns\n",
    "\n",
    "In this section, you'll investigate the useful numeric variables in this dataset and determine whether they should be scaled and/or log-normalized."
   ]
  },
  {
   "cell_type": "markdown",
   "metadata": {},
   "source": [
    "**Questions**:   (use data in `ufo_df_sub`)\n",
    "\n",
    "1. Plot the distribution of the duratin_seconds columns using a histogram and/or boxplot.\n",
    "2. Using `np.log` function perform log normalization on the `duration_seconds` column (because it is very skewed). Put the result in a new column in `ufo_df_sub` called `duration_sec_lg`.\n",
    "3. Using the `StandardScaler` class perform standard scaling on the `duration_sec_lg` variable. Store the result in a new column in `ufo_df_sub` called `duration_sec_lg_scaled`.\n",
    "4. Plot the distribution of the new columns. Is its distribution near symmetric?"
   ]
  },
  {
   "cell_type": "markdown",
   "metadata": {},
   "source": [
    "<font color='red'> Answers </font>"
   ]
  },
  {
   "cell_type": "code",
   "execution_count": 29,
   "metadata": {},
   "outputs": [
    {
     "data": {
      "image/png": "[encoded data removed]",
      "text/plain": [
       "<Figure size 432x288 with 1 Axes>"
      ]
     },
     "metadata": {
      "needs_background": "light"
     },
     "output_type": "display_data"
    },
    {
     "data": {
      "image/png": "[encoded data removed]",
      "text/plain": [
       "<Figure size 432x288 with 1 Axes>"
      ]
     },
     "metadata": {
      "needs_background": "light"
     },
     "output_type": "display_data"
    }
   ],
   "source": [
    "## Q1. Plot the distribution of the duratin_seconds columns using a histogram and/or boxplot.\n",
    "\n",
    "fig1=ufo_df_sub.duration_seconds.plot.box()\n",
    "plt.show()\n",
    "fig2=ufo_df_sub.duration_seconds.plot.hist()"
   ]
  },
  {
   "cell_type": "code",
   "execution_count": 30,
   "metadata": {},
   "outputs": [
    {
     "data": {
      "text/plain": [
       "count    6.899300e+04\n",
       "mean     8.220724e+03\n",
       "std      6.321964e+05\n",
       "min      1.000000e-02\n",
       "25%      3.000000e+01\n",
       "50%      1.800000e+02\n",
       "75%      6.000000e+02\n",
       "max      9.783600e+07\n",
       "Name: duration_seconds, dtype: float64"
      ]
     },
     "execution_count": 30,
     "metadata": {},
     "output_type": "execute_result"
    }
   ],
   "source": [
    "ufo_df_sub.duration_seconds.describe()"
   ]
  },
  {
   "cell_type": "code",
   "execution_count": 31,
   "metadata": {},
   "outputs": [
    {
     "data": {
      "text/html": [
       "<div>\n",
       "<style scoped>\n",
       "    .dataframe tbody tr th:only-of-type {\n",
       "        vertical-align: middle;\n",
       "    }\n",
       "\n",
       "    .dataframe tbody tr th {\n",
       "        vertical-align: top;\n",
       "    }\n",
       "\n",
       "    .dataframe thead th {\n",
       "        text-align: right;\n",
       "    }\n",
       "</style>\n",
       "<table border=\"1\" class=\"dataframe\">\n",
       "  <thead>\n",
       "    <tr style=\"text-align: right;\">\n",
       "      <th></th>\n",
       "      <th>duration_seconds</th>\n",
       "      <th>duration_seconds_lg</th>\n",
       "    </tr>\n",
       "  </thead>\n",
       "  <tbody>\n",
       "    <tr>\n",
       "      <th>0</th>\n",
       "      <td>2700.0</td>\n",
       "      <td>7.901007</td>\n",
       "    </tr>\n",
       "    <tr>\n",
       "      <th>2</th>\n",
       "      <td>20.0</td>\n",
       "      <td>2.995732</td>\n",
       "    </tr>\n",
       "    <tr>\n",
       "      <th>3</th>\n",
       "      <td>20.0</td>\n",
       "      <td>2.995732</td>\n",
       "    </tr>\n",
       "    <tr>\n",
       "      <th>4</th>\n",
       "      <td>900.0</td>\n",
       "      <td>6.802395</td>\n",
       "    </tr>\n",
       "    <tr>\n",
       "      <th>5</th>\n",
       "      <td>300.0</td>\n",
       "      <td>5.703782</td>\n",
       "    </tr>\n",
       "  </tbody>\n",
       "</table>\n",
       "</div>"
      ],
      "text/plain": [
       "   duration_seconds  duration_seconds_lg\n",
       "0            2700.0             7.901007\n",
       "2              20.0             2.995732\n",
       "3              20.0             2.995732\n",
       "4             900.0             6.802395\n",
       "5             300.0             5.703782"
      ]
     },
     "execution_count": 31,
     "metadata": {},
     "output_type": "execute_result"
    }
   ],
   "source": [
    "## Q2. Using `np.log` function perform log normalization on the `duration_seconds` column (because it is very skewed). Put the result in a new column in `ufo_df_sub` called `duration_sec_lg`.\n",
    "\n",
    "# log normalization of variables\n",
    "\n",
    "ufo_df_sub['duration_seconds_lg'] = np.log(ufo_df_sub.duration_seconds)\n",
    "ufo_df_sub[['duration_seconds','duration_seconds_lg']].head()"
   ]
  },
  {
   "cell_type": "code",
   "execution_count": 32,
   "metadata": {},
   "outputs": [],
   "source": [
    "## Q3. Using the `StandardScaler` class perform standard scaling on the `duration_sec_lg` variable. Store the result in a new column in `ufo_df_sub` called `duration_sec_lg_scaled`.\n",
    "\n",
    "# Standard scaling of variables (i.e. z-score normalization)\n",
    "\n",
    "from sklearn.preprocessing import StandardScaler\n",
    "\n",
    "sc = StandardScaler()"
   ]
  },
  {
   "cell_type": "code",
   "execution_count": 33,
   "metadata": {},
   "outputs": [
    {
     "data": {
      "text/html": [
       "<div>\n",
       "<style scoped>\n",
       "    .dataframe tbody tr th:only-of-type {\n",
       "        vertical-align: middle;\n",
       "    }\n",
       "\n",
       "    .dataframe tbody tr th {\n",
       "        vertical-align: top;\n",
       "    }\n",
       "\n",
       "    .dataframe thead th {\n",
       "        text-align: right;\n",
       "    }\n",
       "</style>\n",
       "<table border=\"1\" class=\"dataframe\">\n",
       "  <thead>\n",
       "    <tr style=\"text-align: right;\">\n",
       "      <th></th>\n",
       "      <th>duration_seconds_lg</th>\n",
       "      <th>duration_seconds_lg_scaled</th>\n",
       "    </tr>\n",
       "  </thead>\n",
       "  <tbody>\n",
       "    <tr>\n",
       "      <th>0</th>\n",
       "      <td>7.901007</td>\n",
       "      <td>1.367018</td>\n",
       "    </tr>\n",
       "    <tr>\n",
       "      <th>2</th>\n",
       "      <td>2.995732</td>\n",
       "      <td>-0.900799</td>\n",
       "    </tr>\n",
       "    <tr>\n",
       "      <th>3</th>\n",
       "      <td>2.995732</td>\n",
       "      <td>-0.900799</td>\n",
       "    </tr>\n",
       "    <tr>\n",
       "      <th>4</th>\n",
       "      <td>6.802395</td>\n",
       "      <td>0.859105</td>\n",
       "    </tr>\n",
       "    <tr>\n",
       "      <th>5</th>\n",
       "      <td>5.703782</td>\n",
       "      <td>0.351192</td>\n",
       "    </tr>\n",
       "  </tbody>\n",
       "</table>\n",
       "</div>"
      ],
      "text/plain": [
       "   duration_seconds_lg  duration_seconds_lg_scaled\n",
       "0             7.901007                    1.367018\n",
       "2             2.995732                   -0.900799\n",
       "3             2.995732                   -0.900799\n",
       "4             6.802395                    0.859105\n",
       "5             5.703782                    0.351192"
      ]
     },
     "execution_count": 33,
     "metadata": {},
     "output_type": "execute_result"
    }
   ],
   "source": [
    "ufo_df_sub['duration_seconds_lg_scaled'] = sc.fit_transform(ufo_df_sub[['duration_seconds_lg']]).ravel()\n",
    "ufo_df_sub[['duration_seconds_lg','duration_seconds_lg_scaled']].head()"
   ]
  },
  {
   "cell_type": "code",
   "execution_count": 34,
   "metadata": {},
   "outputs": [
    {
     "data": {
      "image/png": "[encoded data removed]",
      "text/plain": [
       "<Figure size 432x288 with 1 Axes>"
      ]
     },
     "metadata": {
      "needs_background": "light"
     },
     "output_type": "display_data"
    },
    {
     "data": {
      "image/png": "[encoded data removed]",
      "text/plain": [
       "<Figure size 432x288 with 1 Axes>"
      ]
     },
     "metadata": {
      "needs_background": "light"
     },
     "output_type": "display_data"
    }
   ],
   "source": [
    "## Q4. Plot the distribution of the new columns. Is its distribution near symmetric?\n",
    "\n",
    "# Answer: yes, the distribution seems near-symmetric.\n",
    "\n",
    "fig1=ufo_df_sub.duration_seconds_lg_scaled.plot.box()\n",
    "plt.show()\n",
    "fig2=ufo_df_sub.duration_seconds_lg_scaled.plot.hist()"
   ]
  },
  {
   "cell_type": "markdown",
   "metadata": {},
   "source": [
    "*****"
   ]
  },
  {
   "cell_type": "markdown",
   "metadata": {},
   "source": [
    "### Feature engineering of categorical columns"
   ]
  },
  {
   "cell_type": "markdown",
   "metadata": {},
   "source": [
    "**Questions**:   (use data in `ufo_df_sub`)\n",
    "\n",
    "1. How many categories does the `ushape` column have?\n",
    "2. Modify the `ushape` column by combining all the sparse categories (those that occur <font color='red'>less than 300 times</font>) into a single category called `RARE`.\n",
    "3. How many categories does the `ushape` column now contain?\n",
    "4. Using the `pd.get_dummies` function, apply one-hot encoding on the `ushape` column. Store the result in a new data frame called `ushape_hot`.\n",
    "5. What is the size of the new data frame? is it correct?"
   ]
  },
  {
   "cell_type": "markdown",
   "metadata": {},
   "source": [
    "<font color='red'> Answers </font>"
   ]
  },
  {
   "cell_type": "markdown",
   "metadata": {},
   "source": [
    "<font color='blue'>Q1.</font> How many categories does the `ushape` column have?\n",
    "\n",
    "The `ushape` variable contains 28 different categories, as shown in the output below."
   ]
  },
  {
   "cell_type": "code",
   "execution_count": 35,
   "metadata": {},
   "outputs": [
    {
     "data": {
      "text/plain": [
       "28"
      ]
     },
     "execution_count": 35,
     "metadata": {},
     "output_type": "execute_result"
    }
   ],
   "source": [
    "ufo_df_sub.ushape.nunique()"
   ]
  },
  {
   "cell_type": "code",
   "execution_count": 36,
   "metadata": {},
   "outputs": [
    {
     "data": {
      "text/plain": [
       "light        14626\n",
       "triangle      7037\n",
       "circle        6716\n",
       "fireball      5526\n",
       "unknown       4899\n",
       "other         4889\n",
       "sphere        4731\n",
       "disk          4477\n",
       "oval          3283\n",
       "formation     2171\n",
       "cigar         1795\n",
       "changing      1710\n",
       "rectangle     1157\n",
       "flash         1154\n",
       "cylinder      1121\n",
       "diamond       1024\n",
       "chevron        863\n",
       "teardrop       662\n",
       "egg            654\n",
       "cone           276\n",
       "cross          208\n",
       "delta            7\n",
       "round            2\n",
       "pyramid          1\n",
       "hexagon          1\n",
       "changed          1\n",
       "flare            1\n",
       "crescent         1\n",
       "Name: ushape, dtype: int64"
      ]
     },
     "execution_count": 36,
     "metadata": {},
     "output_type": "execute_result"
    }
   ],
   "source": [
    "ufo_df_sub.ushape.value_counts()"
   ]
  },
  {
   "cell_type": "markdown",
   "metadata": {},
   "source": [
    "<font color='blue'>Q2.</font>  Modify the `ushape` column by combining all the sparse categories (those that occur less than 300 times) into a single category called RARE."
   ]
  },
  {
   "cell_type": "code",
   "execution_count": 37,
   "metadata": {},
   "outputs": [],
   "source": [
    "vc = ufo_df_sub.ushape.value_counts()"
   ]
  },
  {
   "cell_type": "code",
   "execution_count": 38,
   "metadata": {},
   "outputs": [
    {
     "data": {
      "text/plain": [
       "delta       7\n",
       "round       2\n",
       "pyramid     1\n",
       "hexagon     1\n",
       "changed     1\n",
       "flare       1\n",
       "crescent    1\n",
       "Name: ushape, dtype: int64"
      ]
     },
     "execution_count": 38,
     "metadata": {},
     "output_type": "execute_result"
    }
   ],
   "source": [
    "vc[vc<50]"
   ]
  },
  {
   "cell_type": "code",
   "execution_count": 39,
   "metadata": {},
   "outputs": [
    {
     "data": {
      "text/plain": [
       "['cone',\n",
       " 'cross',\n",
       " 'delta',\n",
       " 'round',\n",
       " 'pyramid',\n",
       " 'hexagon',\n",
       " 'changed',\n",
       " 'flare',\n",
       " 'crescent']"
      ]
     },
     "execution_count": 39,
     "metadata": {},
     "output_type": "execute_result"
    }
   ],
   "source": [
    "list(vc[vc<300].index)"
   ]
  },
  {
   "cell_type": "code",
   "execution_count": 40,
   "metadata": {},
   "outputs": [],
   "source": [
    "ufo_df_sub.loc[ufo_df_sub.ushape.isin(vc[vc<300].index.tolist()),'ushape'] = 'RARE'"
   ]
  },
  {
   "cell_type": "markdown",
   "metadata": {},
   "source": [
    "<font color='blue'>Q3.</font> How many categories does the `ushape` column now contain?\n",
    "\n",
    "**Answer**: The `ushape` variable now contains 20 categories, as shown in the output below."
   ]
  },
  {
   "cell_type": "code",
   "execution_count": 41,
   "metadata": {},
   "outputs": [
    {
     "data": {
      "text/plain": [
       "20"
      ]
     },
     "execution_count": 41,
     "metadata": {},
     "output_type": "execute_result"
    }
   ],
   "source": [
    "ufo_df_sub.ushape.nunique()"
   ]
  },
  {
   "cell_type": "code",
   "execution_count": 42,
   "metadata": {},
   "outputs": [
    {
     "data": {
      "text/plain": [
       "light        14626\n",
       "triangle      7037\n",
       "circle        6716\n",
       "fireball      5526\n",
       "unknown       4899\n",
       "other         4889\n",
       "sphere        4731\n",
       "disk          4477\n",
       "oval          3283\n",
       "formation     2171\n",
       "cigar         1795\n",
       "changing      1710\n",
       "rectangle     1157\n",
       "flash         1154\n",
       "cylinder      1121\n",
       "diamond       1024\n",
       "chevron        863\n",
       "teardrop       662\n",
       "egg            654\n",
       "RARE           498\n",
       "Name: ushape, dtype: int64"
      ]
     },
     "execution_count": 42,
     "metadata": {},
     "output_type": "execute_result"
    }
   ],
   "source": [
    "ufo_df_sub.ushape.value_counts()"
   ]
  },
  {
   "cell_type": "markdown",
   "metadata": {},
   "source": [
    "<font color='blue'>Q4.</font>  Using the `pd.get_dummies` function, apply one-hot encoding on the `ushape` column. Store the result in a new data frame called `ushape_hot`."
   ]
  },
  {
   "cell_type": "code",
   "execution_count": 43,
   "metadata": {},
   "outputs": [
    {
     "data": {
      "text/plain": [
       "(pandas.core.frame.DataFrame, (68993, 20))"
      ]
     },
     "execution_count": 43,
     "metadata": {},
     "output_type": "execute_result"
    }
   ],
   "source": [
    "ushape_hot_df = pd.get_dummies(ufo_df_sub['ushape'])\n",
    "type(ushape_hot_df),ushape_hot_df.shape"
   ]
  },
  {
   "cell_type": "markdown",
   "metadata": {},
   "source": [
    "<font color='blue'>Q5.</font> What is the size of the new data frame? is it correct?\n",
    "\n",
    "- The size of the new data frame is 68993 rows by 20 columns. \n",
    "- Yes this is correct (see boolean expressions below)."
   ]
  },
  {
   "cell_type": "code",
   "execution_count": 44,
   "metadata": {},
   "outputs": [
    {
     "data": {
      "text/plain": [
       "(68993, 20)"
      ]
     },
     "execution_count": 44,
     "metadata": {},
     "output_type": "execute_result"
    }
   ],
   "source": [
    "ushape_hot_df.shape"
   ]
  },
  {
   "cell_type": "code",
   "execution_count": 45,
   "metadata": {},
   "outputs": [
    {
     "data": {
      "text/plain": [
       "True"
      ]
     },
     "execution_count": 45,
     "metadata": {},
     "output_type": "execute_result"
    }
   ],
   "source": [
    "ushape_hot_df.shape[1] == ufo_df_sub.ushape.nunique()"
   ]
  },
  {
   "cell_type": "code",
   "execution_count": 46,
   "metadata": {},
   "outputs": [
    {
     "data": {
      "text/plain": [
       "True"
      ]
     },
     "execution_count": 46,
     "metadata": {},
     "output_type": "execute_result"
    }
   ],
   "source": [
    "ushape_hot_df.shape[0] == ufo_df_sub.shape[0]"
   ]
  },
  {
   "cell_type": "markdown",
   "metadata": {},
   "source": [
    "### Feature engineering of unstructured columns"
   ]
  },
  {
   "cell_type": "markdown",
   "metadata": {},
   "source": [
    "#### Time/date columns"
   ]
  },
  {
   "cell_type": "markdown",
   "metadata": {},
   "source": [
    "**Questions**:   (use data in `ufo_df_sub`)\n",
    "\n",
    "Answer the following questions ONLY IF you have selected the date attributes as being useful.\n",
    "\n",
    "1. Create two new variables that contain the month and year of the `datetime_sighted` column.\n",
    "2. Create two new variables that contain the month and year of the `date_recorded` column."
   ]
  },
  {
   "cell_type": "markdown",
   "metadata": {},
   "source": [
    "<font color='red'> Answers </font>"
   ]
  },
  {
   "cell_type": "markdown",
   "metadata": {},
   "source": [
    "<font color='blue'> Q1. </font>  Create two new variables that contain the month and year of the `datetime_sighted` column."
   ]
  },
  {
   "cell_type": "code",
   "execution_count": 47,
   "metadata": {},
   "outputs": [
    {
     "data": {
      "text/html": [
       "<div>\n",
       "<style scoped>\n",
       "    .dataframe tbody tr th:only-of-type {\n",
       "        vertical-align: middle;\n",
       "    }\n",
       "\n",
       "    .dataframe tbody tr th {\n",
       "        vertical-align: top;\n",
       "    }\n",
       "\n",
       "    .dataframe thead th {\n",
       "        text-align: right;\n",
       "    }\n",
       "</style>\n",
       "<table border=\"1\" class=\"dataframe\">\n",
       "  <thead>\n",
       "    <tr style=\"text-align: right;\">\n",
       "      <th></th>\n",
       "      <th>datetime_sighted</th>\n",
       "      <th>month_sighted</th>\n",
       "      <th>year_sighted</th>\n",
       "    </tr>\n",
       "  </thead>\n",
       "  <tbody>\n",
       "    <tr>\n",
       "      <th>0</th>\n",
       "      <td>1949-10-10 20:30:00</td>\n",
       "      <td>10.0</td>\n",
       "      <td>1949.0</td>\n",
       "    </tr>\n",
       "    <tr>\n",
       "      <th>2</th>\n",
       "      <td>1955-10-10 17:00:00</td>\n",
       "      <td>10.0</td>\n",
       "      <td>1955.0</td>\n",
       "    </tr>\n",
       "    <tr>\n",
       "      <th>3</th>\n",
       "      <td>1956-10-10 21:00:00</td>\n",
       "      <td>10.0</td>\n",
       "      <td>1956.0</td>\n",
       "    </tr>\n",
       "    <tr>\n",
       "      <th>4</th>\n",
       "      <td>1960-10-10 20:00:00</td>\n",
       "      <td>10.0</td>\n",
       "      <td>1960.0</td>\n",
       "    </tr>\n",
       "    <tr>\n",
       "      <th>5</th>\n",
       "      <td>1961-10-10 19:00:00</td>\n",
       "      <td>10.0</td>\n",
       "      <td>1961.0</td>\n",
       "    </tr>\n",
       "  </tbody>\n",
       "</table>\n",
       "</div>"
      ],
      "text/plain": [
       "     datetime_sighted  month_sighted  year_sighted\n",
       "0 1949-10-10 20:30:00           10.0        1949.0\n",
       "2 1955-10-10 17:00:00           10.0        1955.0\n",
       "3 1956-10-10 21:00:00           10.0        1956.0\n",
       "4 1960-10-10 20:00:00           10.0        1960.0\n",
       "5 1961-10-10 19:00:00           10.0        1961.0"
      ]
     },
     "execution_count": 47,
     "metadata": {},
     "output_type": "execute_result"
    }
   ],
   "source": [
    "# Extract the month from the date column\n",
    "ufo_df_sub[\"month_sighted\"] = ufo_df_sub[\"datetime_sighted\"].map(lambda row: row.month)\n",
    "\n",
    "# Extract the year from the date column\n",
    "ufo_df_sub[\"year_sighted\"] = ufo_df_sub[\"datetime_sighted\"].map(lambda row: row.year)\n",
    "\n",
    "# Take a look at the new columns to make sure everything is okay\n",
    "ufo_df_sub[[\"datetime_sighted\", \"month_sighted\", \"year_sighted\"]].head()"
   ]
  },
  {
   "cell_type": "markdown",
   "metadata": {},
   "source": [
    "<font color='blue'> Q2. </font>  Create two new variables that contain the month and year of the `date_recorded` column.\n",
    "\n",
    "**Answer**: Actually since we have already removed `date_recorded` as a useless variable, we don't need to do anything here!"
   ]
  },
  {
   "cell_type": "markdown",
   "metadata": {},
   "source": [
    "***"
   ]
  },
  {
   "cell_type": "markdown",
   "metadata": {},
   "source": [
    "#### Text columns\n",
    "Let's transform the `description_text` column in the UFO dataset into tf/idf vectors, since there's likely something we can learn from this field."
   ]
  },
  {
   "cell_type": "markdown",
   "metadata": {},
   "source": [
    "**Questions**:\n",
    "\n",
    "1. Execute the cells below.\n",
    "2. How many columns are there in the result matrix?\n",
    "3. What does the first column in this matrix represent?"
   ]
  },
  {
   "cell_type": "markdown",
   "metadata": {},
   "source": [
    "<font color='blue'> Q1. </font>  Execute the cells below."
   ]
  },
  {
   "cell_type": "code",
   "execution_count": 48,
   "metadata": {},
   "outputs": [
    {
     "data": {
      "text/plain": [
       "0    This event took place in early fall around 194...\n",
       "2    Green/Orange circular disc over Chester&#44 En...\n",
       "3    My older brother and twin sister were leaving ...\n",
       "4    AS a Marine 1st Lt. flying an FJ4B fighter/att...\n",
       "5    My father is now 89 my brother 52 the girl wit...\n",
       "Name: description_text, dtype: object"
      ]
     },
     "execution_count": 48,
     "metadata": {},
     "output_type": "execute_result"
    }
   ],
   "source": [
    "## Let's first take a look at the head of the description field\n",
    "ufo_df_sub.description_text.head()"
   ]
  },
  {
   "cell_type": "code",
   "execution_count": 49,
   "metadata": {},
   "outputs": [],
   "source": [
    "from sklearn.feature_extraction.text import TfidfVectorizer\n",
    "\n",
    "# Create an instance of the TfidfVectorizer class\n",
    "vec = TfidfVectorizer(max_df=0.8,min_df=10,max_features=50,stop_words='english')\n",
    "\n",
    "# transform each description to a vector of numeric attributes using the vec object\n",
    "# we obtain a nxm matrix , where each column corresponds \n",
    "desc_tfidf_mat = vec.fit_transform(ufo_df_sub.description_text)"
   ]
  },
  {
   "cell_type": "code",
   "execution_count": 50,
   "metadata": {},
   "outputs": [
    {
     "data": {
      "text/plain": [
       "scipy.sparse.csr.csr_matrix"
      ]
     },
     "execution_count": 50,
     "metadata": {},
     "output_type": "execute_result"
    }
   ],
   "source": [
    "type(desc_tfidf_mat)"
   ]
  },
  {
   "cell_type": "code",
   "execution_count": 51,
   "metadata": {},
   "outputs": [
    {
     "data": {
      "text/plain": [
       "(68993, 50)"
      ]
     },
     "execution_count": 51,
     "metadata": {},
     "output_type": "execute_result"
    }
   ],
   "source": [
    "desc_tfidf_mat.shape"
   ]
  },
  {
   "cell_type": "code",
   "execution_count": 52,
   "metadata": {},
   "outputs": [
    {
     "data": {
      "text/plain": [
       "['33',\n",
       " '44',\n",
       " 'ball',\n",
       " 'blue',\n",
       " 'bright',\n",
       " 'craft',\n",
       " 'east',\n",
       " 'fast',\n",
       " 'fireball',\n",
       " 'flashing',\n",
       " 'flying',\n",
       " 'formation',\n",
       " 'glowing',\n",
       " 'green',\n",
       " 'high',\n",
       " 'hovering',\n",
       " 'large',\n",
       " 'light',\n",
       " 'lights',\n",
       " 'like',\n",
       " 'looked',\n",
       " 'low',\n",
       " 'moved',\n",
       " 'moving',\n",
       " 'night',\n",
       " 'north',\n",
       " 'note',\n",
       " 'nuforc',\n",
       " 'object',\n",
       " 'objects',\n",
       " 'orange',\n",
       " 'pd',\n",
       " 'quot',\n",
       " 'red',\n",
       " 'saw',\n",
       " 'seen',\n",
       " 'shape',\n",
       " 'shaped',\n",
       " 'sighting',\n",
       " 'sky',\n",
       " 'slowly',\n",
       " 'sound',\n",
       " 'south',\n",
       " 'speed',\n",
       " 'star',\n",
       " 'triangle',\n",
       " 'triangular',\n",
       " 'ufo',\n",
       " 'west',\n",
       " 'white']"
      ]
     },
     "execution_count": 52,
     "metadata": {},
     "output_type": "execute_result"
    }
   ],
   "source": [
    "# The vocabulary words corresponding to each column in desc_tfidf  \n",
    "vec.get_feature_names()"
   ]
  },
  {
   "cell_type": "markdown",
   "metadata": {},
   "source": [
    "<font color='red'> Answers </font>"
   ]
  },
  {
   "cell_type": "markdown",
   "metadata": {},
   "source": [
    "<font color='blue'> Q2. </font> How many columns are there in the result matrix?\n",
    "\n",
    "**Answer**: The matrix contains 68993 rows (the same number of rows as `ufo_df_sub`) and 50 columns."
   ]
  },
  {
   "cell_type": "markdown",
   "metadata": {},
   "source": [
    "<font color='blue'> Q3. </font> What does the first column in this matrix represent?\n",
    "\n",
    "**Answer**: The first column represents the first word in the chosen vocabulary, whis is '33'."
   ]
  },
  {
   "cell_type": "markdown",
   "metadata": {},
   "source": [
    "****"
   ]
  }
 ],
 "metadata": {
  "kernelspec": {
   "display_name": "Python 3",
   "language": "python",
   "name": "python3"
  },
  "language_info": {
   "codemirror_mode": {
    "name": "ipython",
    "version": 3
   },
   "file_extension": ".py",
   "mimetype": "text/x-python",
   "name": "python",
   "nbconvert_exporter": "python",
   "pygments_lexer": "ipython3",
   "version": "3.6.8"
  }
 },
 "nbformat": 4,
 "nbformat_minor": 2
}
